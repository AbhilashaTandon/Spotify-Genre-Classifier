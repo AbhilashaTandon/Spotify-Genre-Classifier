{
 "cells": [
  {
   "cell_type": "code",
   "execution_count": 1,
   "metadata": {},
   "outputs": [],
   "source": [
    "import pandas as pd\n",
    "import json\n",
    "from hdbscan import HDBSCAN\n",
    "import umap\n",
    "\n",
    "import numpy as np\n",
    "import plotly.express as px\n",
    "\n",
    "from collections import Counter"
   ]
  },
  {
   "cell_type": "code",
   "execution_count": 2,
   "metadata": {},
   "outputs": [],
   "source": [
    "def get_most_similar(artists, cosine_matrix, artist_to_idx, unique_artists, n):\n",
    "    similarities = np.zeros_like(cosine_matrix[0])\n",
    "\n",
    "    print(similarities.shape)\n",
    "\n",
    "    for artist in artists:\n",
    "        similarities += cosine_matrix[artist_to_idx[artist]]\n",
    "    \n",
    "    print(similarities.shape)\n",
    "\n",
    "    sim_artists = list(sorted(enumerate(similarities), key=lambda x: x[1], reverse=True))\n",
    "    # n+1 to exclude similarity with self\n",
    "\n",
    "    artist_idxs = [artist_to_idx[artist] for artist in artists]\n",
    "\n",
    "    most_sim = [(idx, sim)\n",
    "\n",
    "                for idx,sim in sim_artists if idx not in artist_idxs] \n",
    "\n",
    "    print(\"| Most Similar Artists to \" + ', '.join(artists) + \" | Cosine Similarity |\")\n",
    "\n",
    "    print(\"| --------------- | --------------- |\")\n",
    "\n",
    "    for related_artist, score in most_sim[:n]:\n",
    "\n",
    "        print('| %s | %.3f |' % (unique_artists[related_artist], score))"
   ]
  },
  {
   "cell_type": "code",
   "execution_count": 3,
   "metadata": {},
   "outputs": [
    {
     "name": "stdout",
     "output_type": "stream",
     "text": [
      "6159 unique playlists\n"
     ]
    }
   ],
   "source": [
    "with open('c:/Dev/Programming/python/Spotify Liked Songs/data/output.json', mode='r') as data:\n",
    "    json_obj = json.load(data)\n",
    "\n",
    "# how many times an artist occurs in all songs in data\n",
    "\n",
    "num_playlists = len(json_obj)\n",
    "\n",
    "print(f'{num_playlists} unique playlists')"
   ]
  },
  {
   "cell_type": "code",
   "execution_count": 4,
   "metadata": {},
   "outputs": [],
   "source": [
    "artist_occurences_per_playlist = Counter()\n",
    "        # how many unique playlists an artist occurs in\n",
    "\n",
    "reformatted = []\n",
    "\n",
    "for playlist_id in json_obj:\n",
    "    playlist = json_obj[playlist_id]\n",
    "\n",
    "    reformatted_playlist = []\n",
    "\n",
    "    current_playlist_artists = set()\n",
    "    # all unique artists that occur in this playlist\n",
    "\n",
    "    for song in playlist:\n",
    "        if (song['id'] is None):\n",
    "            continue\n",
    "\n",
    "        artists = [artist for artist in song['artists']\n",
    "                   if not (artist is None or artist == '')]\n",
    "        \n",
    "        reformatted_playlist.append(artists)\n",
    "\n",
    "        if (len(artists) > 0):\n",
    "            current_playlist_artists.add(artists[0])\n",
    "    \n",
    "    reformatted.append(reformatted_playlist)\n",
    "\n",
    "    artist_occurences_per_playlist.update(current_playlist_artists)"
   ]
  },
  {
   "cell_type": "code",
   "execution_count": 5,
   "metadata": {},
   "outputs": [
    {
     "name": "stdout",
     "output_type": "stream",
     "text": [
      "5000 unique artists\n"
     ]
    }
   ],
   "source": [
    "unique_artists = [x[0] for x in artist_occurences_per_playlist.most_common(5000)]\n",
    "\n",
    "num_artists = len(unique_artists)\n",
    "\n",
    "print(f'{num_artists} unique artists')\n",
    "\n",
    "artist_to_idx = {artist: idx for idx,\n",
    "                    artist in enumerate(unique_artists)}"
   ]
  },
  {
   "cell_type": "code",
   "execution_count": 6,
   "metadata": {},
   "outputs": [],
   "source": [
    "term_frequencies = np.zeros((num_playlists, num_artists))\n",
    "document_frequencies = Counter()\n",
    "\n",
    "for idx, playlist in enumerate(reformatted):\n",
    "\n",
    "    for song in playlist:\n",
    "        if (len(song) > 0):\n",
    "            artist = song[0]\n",
    "            if (artist in unique_artists):  # if occurs suitably often\n",
    "                artist_idx = artist_to_idx[artist]\n",
    "\n",
    "                term_frequencies[idx][artist_idx] = 1 #we dont care much abt how many times an artist occurs in the playlist\n",
    "\n",
    "                document_frequencies.update([artist])\n",
    "\n",
    "idf = np.log(num_artists / np.fromiter(document_frequencies.values(), dtype=float))\n",
    "\n",
    "tf_idf = term_frequencies * idf"
   ]
  },
  {
   "cell_type": "code",
   "execution_count": 7,
   "metadata": {},
   "outputs": [],
   "source": [
    "from sklearn.metrics.pairwise import cosine_similarity\n",
    "\n",
    "cosine_sim = cosine_similarity(tf_idf.T)"
   ]
  },
  {
   "cell_type": "code",
   "execution_count": 8,
   "metadata": {},
   "outputs": [
    {
     "name": "stdout",
     "output_type": "stream",
     "text": [
      "(5000,)\n",
      "(5000,)\n",
      "| Most Similar Artists to Taylor Swift | Cosine Similarity |\n",
      "| --------------- | --------------- |\n",
      "| Olivia Rodrigo | 0.334 |\n",
      "| Ariana Grande | 0.310 |\n",
      "| Sabrina Carpenter | 0.284 |\n",
      "| Harry Styles | 0.283 |\n",
      "| Miley Cyrus | 0.282 |\n",
      "\n",
      "(5000,)\n",
      "(5000,)\n",
      "| Most Similar Artists to Queen | Cosine Similarity |\n",
      "| --------------- | --------------- |\n",
      "| AC/DC | 0.329 |\n",
      "| Guns N' Roses | 0.290 |\n",
      "| Bon Jovi | 0.277 |\n",
      "| Journey | 0.265 |\n",
      "| Survivor | 0.255 |\n",
      "\n",
      "(5000,)\n",
      "(5000,)\n",
      "| Most Similar Artists to AJR | Cosine Similarity |\n",
      "| --------------- | --------------- |\n",
      "| BoyWithUke | 0.219 |\n",
      "| Imagine Dragons | 0.216 |\n",
      "| Stellar | 0.208 |\n",
      "| Panic! At The Disco | 0.175 |\n",
      "| Andy Grammer | 0.173 |\n",
      "\n",
      "(5000,)\n",
      "(5000,)\n",
      "| Most Similar Artists to Neutral Milk Hotel | Cosine Similarity |\n",
      "| --------------- | --------------- |\n",
      "| Townes Van Zandt | 0.333 |\n",
      "| Gregory Alan Isakov | 0.226 |\n",
      "| Björk | 0.218 |\n",
      "| Kero Kero Bonito | 0.198 |\n",
      "| Fleet Foxes | 0.198 |\n",
      "\n"
     ]
    }
   ],
   "source": [
    "for artist in [\"Taylor Swift\", \"Queen\", \"AJR\", \"Neutral Milk Hotel\"]:\n",
    "    get_most_similar([artist], cosine_sim,\n",
    "                 artist_to_idx, unique_artists, 5)\n",
    "    print()"
   ]
  },
  {
   "cell_type": "code",
   "execution_count": 62,
   "metadata": {},
   "outputs": [],
   "source": [
    "from sklearn.decomposition import TruncatedSVD\n",
    "\n",
    "from sklearn.metrics import silhouette_score\n",
    "\n",
    "reduced = umap.UMAP(n_neighbors=100, n_components=10,\n",
    "                                    n_jobs=-1, metric='cosine', min_dist=0).fit_transform(tf_idf.T)\n",
    "\n"
   ]
  },
  {
   "cell_type": "code",
   "execution_count": 63,
   "metadata": {},
   "outputs": [],
   "source": [
    "from sklearn.cluster import SpectralClustering\n",
    "\n",
    "labels_numeric = list(\n",
    "\n",
    "    SpectralClustering(n_clusters=10, random_state=5).fit_predict(reduced))\n",
    "\n",
    "labels = list(map(str, labels_numeric))"
   ]
  },
  {
   "cell_type": "code",
   "execution_count": 64,
   "metadata": {},
   "outputs": [
    {
     "name": "stdout",
     "output_type": "stream",
     "text": [
      "1. The Weeknd, Drake, Eminem, Kendrick Lamar, Kanye West, Travis Scott, Tyler, The Creator, Juice WRLD, XXXTENTACION, Lil Uzi Vert\n",
      "\n",
      "2. Queen, Elton John, The Beatles, AC/DC, Michael Jackson, Billy Joel, Bon Jovi, Guns N' Roses, Fleetwood Mac, ABBA\n",
      "\n",
      "3. Taylor Swift, Billie Eilish, Imagine Dragons, Post Malone, Ed Sheeran, Bruno Mars, Rihanna, Coldplay, Maroon 5, Ariana Grande\n",
      "\n",
      "4. Pritam, A.R. Rahman, Vishal-Shekhar, Arijit Singh, Sachin-Jigar, Anirudh Ravichander, Tanishk Bagchi, Atif Aslam, Vishal Mishra, Darshan Raval\n",
      "\n",
      "5. Hillsong UNITED, Elevation Worship, Hillsong Worship, TobyMac, Lauren Daigle, Chris Tomlin, for KING & COUNTRY, Bethel Music, Brandon Lake, Maverick City Music\n",
      "\n",
      "6. Bad Bunny, KAROL G, J Balvin, Daddy Yankee, Eslabon Armado, Don Omar, Luis Fonsi, Becky G, Fuerza Regida, Peso Pluma\n",
      "\n",
      "7. BTS, NewJeans, BLACKPINK, Jung Kook, FIFTY FIFTY, Stray Kids, ENHYPEN, TWICE, TOMORROW X TOGETHER, aespa\n",
      "\n",
      "8. Morgan Wallen, Luke Combs, Zach Bryan, Jason Aldean, Luke Bryan, Rascal Flatts, Johnny Cash, Chris Stapleton, Thomas Rhett, Diplo\n",
      "\n",
      "9. Linkin Park, Nirvana, Green Day, Radiohead, Metallica, Gorillaz, Red Hot Chili Peppers, Paramore, Foo Fighters, The Killers\n",
      "\n",
      "10. Arctic Monkeys, The Neighbourhood, Mitski, TV Girl, Melanie Martinez, Mac DeMarco, Mother Mother, The Living Tombstone, d4vd, Cavetown\n",
      "\n"
     ]
    }
   ],
   "source": [
    "genre_artist_freq = [Counter() for _ in range(np.min(labels_numeric), np.max(\n",
    "    labels_numeric)+1)]  # dict of artists partitioned by genre and their popularity\n",
    "for artist, label in zip(unique_artists, labels_numeric):\n",
    "    genre_artist_freq[label][artist] = artist_occurences_per_playlist[artist]\n",
    "\n",
    "for idx, counter in enumerate(genre_artist_freq):\n",
    "    print(str(idx+1) + '. ' + ', '.join([x[0] for x in counter.most_common(10)]))\n",
    "    print()"
   ]
  },
  {
   "cell_type": "code",
   "execution_count": 65,
   "metadata": {},
   "outputs": [],
   "source": [
    "genres = {0: \"Hip-Hop\", 1: \"Rock\", 2: \"Pop\", 3: \"South Asian\", 4: \"CCM\", 5: \"Spanish\", 6: \"K-Pop\", 7: \"Country\", 8: \"Alt\", 9: \"Indie\"}\n",
    "\n",
    "#make sure to fix this manually each time you run the model\n",
    "\n",
    "named_genres = [genres[x] for x in labels_numeric]\n",
    "\n"
   ]
  },
  {
   "cell_type": "code",
   "execution_count": 66,
   "metadata": {},
   "outputs": [
    {
     "name": "stdout",
     "output_type": "stream",
     "text": [
      "(5000, 2)\n"
     ]
    }
   ],
   "source": [
    "reducer = umap.UMAP(n_neighbors=50, n_components=2,\n",
    "                            n_jobs=-1, metric='cosine', min_dist=0)\n",
    "        # 30 is a good value for this\n",
    "\n",
    "umap_embedded = reducer.fit_transform(tf_idf.T)\n",
    "\n",
    "print(umap_embedded.shape)"
   ]
  },
  {
   "cell_type": "code",
   "execution_count": 67,
   "metadata": {},
   "outputs": [],
   "source": [
    "def show_plot(data):\n",
    "    if ('labels' in data):\n",
    "        fig = px.scatter(data, x='x', y='y',\n",
    "                         color='labels', hover_data='names', width=1000, height=500)\n",
    "    else:\n",
    "        fig = px.scatter(data, x='x', y='y', hover_data='names')\n",
    "\n",
    "    fig.update_layout(title='Spotify Genre Mapping')\n",
    "    fig.write_html(\"interactive_genre_plot.html\")\n",
    "    fig.show()"
   ]
  },
  {
   "cell_type": "code",
   "execution_count": 68,
   "metadata": {},
   "outputs": [
    {
     "data": {
      "application/vnd.plotly.v1+json": {
       "config": {
        "plotlyServerURL": "https://plot.ly"
       },
       "data": [
        {
         "customdata": [
          [
           "The Weeknd"
          ],
          [
           "Drake"
          ],
          [
           "Eminem"
          ],
          [
           "Kendrick Lamar"
          ],
          [
           "Kanye West"
          ],
          [
           "Travis Scott"
          ],
          [
           "Tyler, The Creator"
          ],
          [
           "Juice WRLD"
          ],
          [
           "XXXTENTACION"
          ],
          [
           "Lil Uzi Vert"
          ],
          [
           "J. Cole"
          ],
          [
           "SZA"
          ],
          [
           "Future"
          ],
          [
           "Doja Cat"
          ],
          [
           "21 Savage"
          ],
          [
           "Childish Gambino"
          ],
          [
           "Metro Boomin"
          ],
          [
           "Frank Ocean"
          ],
          [
           "Steve Lacy"
          ],
          [
           "Lil Wayne"
          ],
          [
           "Lil Baby"
          ],
          [
           "The Kid LAROI"
          ],
          [
           "Playboi Carti"
          ],
          [
           "Nicki Minaj"
          ],
          [
           "JAY-Z"
          ],
          [
           "Baby Keem"
          ],
          [
           "Lil Peep"
          ],
          [
           "A$AP Rocky"
          ],
          [
           "A Boogie Wit da Hoodie"
          ],
          [
           "Mac Miller"
          ],
          [
           "Trippie Redd"
          ],
          [
           "USHER"
          ],
          [
           "Lil Tecca"
          ],
          [
           "Kali Uchis"
          ],
          [
           "Chris Brown"
          ],
          [
           "Polo G"
          ],
          [
           "Kid Cudi"
          ],
          [
           "50 Cent"
          ],
          [
           "Gunna"
          ],
          [
           "Pop Smoke"
          ],
          [
           "Yeat"
          ],
          [
           "NLE Choppa"
          ],
          [
           "Tory Lanez"
          ],
          [
           "Jack Harlow"
          ],
          [
           "DJ Khaled"
          ],
          [
           "Don Toliver"
          ],
          [
           "Outkast"
          ],
          [
           "Kodak Black"
          ],
          [
           "$uicideboy$"
          ],
          [
           "PinkPantheress"
          ],
          [
           "The Notorious B.I.G."
          ],
          [
           "Brent Faiyaz"
          ],
          [
           "Lil Tjay"
          ],
          [
           "2Pac"
          ],
          [
           "Rae Sremmurd"
          ],
          [
           "Bryson Tiller"
          ],
          [
           "YNW Melly"
          ],
          [
           "Migos"
          ],
          [
           "Young Thug"
          ],
          [
           "Roddy Ricch"
          ],
          [
           "Lil Durk"
          ],
          [
           "Chief Keef"
          ],
          [
           "Lil Yachty"
          ],
          [
           "Ice Cube"
          ],
          [
           "G-Eazy"
          ],
          [
           "Akon"
          ],
          [
           "Big Sean"
          ],
          [
           "Dr. Dre"
          ],
          [
           "Nelly"
          ],
          [
           "Sleepy Hallow"
          ],
          [
           "Logic"
          ],
          [
           "MF DOOM"
          ],
          [
           "YoungBoy Never Broke Again"
          ],
          [
           "Miguel"
          ],
          [
           "Megan Thee Stallion"
          ],
          [
           "Ski Mask The Slump God"
          ],
          [
           "Gucci Mane"
          ],
          [
           "24kGoldn"
          ],
          [
           "Snoop Dogg"
          ],
          [
           "DaBaby"
          ],
          [
           "PARTYNEXTDOOR"
          ],
          [
           "Daniel Caesar"
          ],
          [
           "Cardi B"
          ],
          [
           "Jeremih"
          ],
          [
           "JID"
          ],
          [
           "Offset"
          ],
          [
           "Meek Mill"
          ],
          [
           "Russ"
          ],
          [
           "Hotel Ugly"
          ],
          [
           "Fetty Wap"
          ],
          [
           "Coolio"
          ],
          [
           "Ne-Yo"
          ],
          [
           "benny blanco"
          ],
          [
           "Mustard"
          ],
          [
           "Joey Bada$$"
          ],
          [
           "Flo Milli"
          ],
          [
           "Jhené Aiko"
          ],
          [
           "Central Cee"
          ],
          [
           "King Von"
          ],
          [
           "Lay Bankz"
          ],
          [
           "Summer Walker"
          ],
          [
           "KYLE"
          ],
          [
           "¥$"
          ],
          [
           "Ice Spice"
          ],
          [
           "T-Pain"
          ],
          [
           "Dave"
          ],
          [
           "Ken Carson"
          ],
          [
           "ScHoolboy Q"
          ],
          [
           "Young Nudy"
          ],
          [
           "Rema"
          ],
          [
           "Lil Darkie"
          ],
          [
           "WILLOW"
          ],
          [
           "Cochise"
          ],
          [
           "French Montana"
          ],
          [
           "Lil Mosey"
          ],
          [
           "Internet Money"
          ],
          [
           "Tee Grizzley"
          ],
          [
           "Tyga"
          ],
          [
           "NAV"
          ],
          [
           "Quality Control"
          ],
          [
           "Aminé"
          ],
          [
           "Lil Skies"
          ],
          [
           "Chance the Rapper"
          ],
          [
           "Bob Marley & The Wailers"
          ],
          [
           "Rod Wave"
          ],
          [
           "Tay-K"
          ],
          [
           "Ty Dolla $ign"
          ],
          [
           "Estelle"
          ],
          [
           "Trey Songz"
          ],
          [
           "A$AP Ferg"
          ],
          [
           "2 Chainz"
          ],
          [
           "Denzel Curry"
          ],
          [
           "Giveon"
          ],
          [
           "DMX"
          ],
          [
           "Nas"
          ],
          [
           "Sean Kingston"
          ],
          [
           "Saweetie"
          ],
          [
           "Soulja Boy"
          ],
          [
           "iann dior"
          ],
          [
           "T.I."
          ],
          [
           "Sexyy Red"
          ],
          [
           "Dreamville"
          ],
          [
           "Keyshia Cole"
          ],
          [
           "Nardo Wick"
          ],
          [
           "YG"
          ],
          [
           "Destroy Lonely"
          ],
          [
           "Bakar"
          ],
          [
           "Kevin Gates"
          ],
          [
           "80purppp"
          ],
          [
           "Moneybagg Yo"
          ],
          [
           "Ciara"
          ],
          [
           "JACKBOYS"
          ],
          [
           "Waka Flocka Flame"
          ],
          [
           "DDG"
          ],
          [
           "Ghostemane"
          ],
          [
           "Lil Jon & The East Side Boyz"
          ],
          [
           "BROCKHAMPTON"
          ],
          [
           "D12"
          ],
          [
           "The Game"
          ],
          [
           "Joyner Lucas"
          ],
          [
           "BigXthaPlug"
          ],
          [
           "Rich The Kid"
          ],
          [
           "LUCKI"
          ],
          [
           "Kehlani"
          ],
          [
           "H.E.R."
          ],
          [
           "GloRilla"
          ],
          [
           "Thundercat"
          ],
          [
           "Key Glock"
          ],
          [
           "YBN Nahmir"
          ],
          [
           "Fat Joe"
          ],
          [
           "Eazy-E"
          ],
          [
           "Madvillain"
          ],
          [
           "Quavo"
          ],
          [
           "Diddy"
          ],
          [
           "StaySolidRocky"
          ],
          [
           "Sonder"
          ],
          [
           "Latto"
          ],
          [
           "Lil Mabu"
          ],
          [
           "6ix9ine"
          ],
          [
           "Rich Amiri"
          ],
          [
           "Doechii"
          ],
          [
           "That Mexican OT"
          ],
          [
           "Sheck Wes"
          ],
          [
           "Earl Sweatshirt"
          ],
          [
           "6LACK"
          ],
          [
           "Aaron May"
          ],
          [
           "Lil Loaded"
          ],
          [
           "Xavier Wulf"
          ],
          [
           "Kid Ink"
          ],
          [
           "Rick Ross"
          ],
          [
           "Burna Boy"
          ],
          [
           "Baby Tate"
          ],
          [
           "Anderson .Paak"
          ],
          [
           "$NOT"
          ],
          [
           "Wu-Tang Clan"
          ],
          [
           "4batz"
          ],
          [
           "Toosii"
          ],
          [
           "Young Money"
          ],
          [
           "Rob $tone"
          ],
          [
           "G Herbo"
          ],
          [
           "Twista"
          ],
          [
           "Mario"
          ],
          [
           "03 Greedo"
          ],
          [
           "Jay Rock"
          ],
          [
           "Shoreline Mafia"
          ],
          [
           "Ashanti"
          ],
          [
           "Fort Minor"
          ],
          [
           "Ludacris"
          ],
          [
           "N.W.A."
          ],
          [
           "CKay"
          ],
          [
           "Vince Staples"
          ],
          [
           "Stormzy"
          ],
          [
           "Kaash Paige"
          ],
          [
           "Calboy"
          ],
          [
           "The Alchemist"
          ],
          [
           "GoldLink"
          ],
          [
           "Bone Thugs-N-Harmony"
          ],
          [
           "Cassie"
          ],
          [
           "Cordae"
          ],
          [
           "BONES"
          ],
          [
           "Young Dolph"
          ],
          [
           "Desiigner"
          ],
          [
           "Baby Bash"
          ],
          [
           "SoFaygo"
          ],
          [
           "Khantrast"
          ],
          [
           "Sting"
          ],
          [
           "Coi Leray"
          ],
          [
           "Bankrol Hayden"
          ],
          [
           "Young Stoner Life"
          ],
          [
           "THE SCOTTS"
          ],
          [
           "Afroman"
          ],
          [
           "JPEGMAFIA"
          ],
          [
           "PnB Rock"
          ],
          [
           "KIDS SEE GHOSTS"
          ],
          [
           "Pooh Shiesty"
          ],
          [
           "Riovaz"
          ],
          [
           "Clara La San"
          ],
          [
           "Tems"
          ],
          [
           "D-Block Europe"
          ],
          [
           "Sage The Gemini"
          ],
          [
           "Lah Pat"
          ],
          [
           "A Tribe Called Quest"
          ],
          [
           "Juicy J"
          ],
          [
           "Kaliii"
          ],
          [
           "Flipp Dinero"
          ],
          [
           "42 Dugg"
          ],
          [
           "Money Man"
          ],
          [
           "Isaiah Rashad"
          ],
          [
           "Ja Rule"
          ],
          [
           "Ella Mai"
          ],
          [
           "Masego"
          ],
          [
           "Travis Porter"
          ],
          [
           "Norah Jones"
          ],
          [
           "Autumn!"
          ],
          [
           "Warren G"
          ],
          [
           "Freddie Gibbs"
          ],
          [
           "Ayo & Teo"
          ],
          [
           "Comethazine"
          ],
          [
           "Jacquees"
          ],
          [
           "Sheff G"
          ],
          [
           "BabyTron"
          ],
          [
           "Wale"
          ],
          [
           "Madcon"
          ],
          [
           "Victoria Monét"
          ],
          [
           "Lil Eazzyy"
          ],
          [
           "Libianca"
          ],
          [
           "Famous Dex"
          ],
          [
           "Jeezy"
          ],
          [
           "Pusha T"
          ],
          [
           "DeJ Loaf"
          ],
          [
           "DRAM"
          ],
          [
           "R. Kelly"
          ],
          [
           "Chingy"
          ],
          [
           "City Girls"
          ],
          [
           "Lloyd"
          ],
          [
           "Odd Future"
          ],
          [
           "Ramirez"
          ],
          [
           "BossMan Dlow"
          ],
          [
           "Mobb Deep"
          ],
          [
           "310babii"
          ],
          [
           "Yung Lean"
          ],
          [
           "Night Lovell"
          ],
          [
           "Eem Triplin"
          ],
          [
           "Yo Gotti"
          ],
          [
           "Smino"
          ],
          [
           "A$AP Mob"
          ],
          [
           "The Internet"
          ],
          [
           "K CAMP"
          ],
          [
           "Fabolous"
          ],
          [
           "Plies"
          ],
          [
           "KAYTRANADA"
          ],
          [
           "Bobby Shmurda"
          ],
          [
           "Paperboy Fabe"
          ],
          [
           "tana"
          ],
          [
           "Keri Hilson"
          ],
          [
           "BlocBoy JB"
          ],
          [
           "Jessie Reyez"
          ],
          [
           "Pi’erre Bourne"
          ],
          [
           "Ayra Starr"
          ],
          [
           "Mike WiLL Made-It"
          ],
          [
           "Omarion"
          ],
          [
           "Mike Sherm"
          ],
          [
           "GROOVY"
          ],
          [
           "YG Marley"
          ],
          [
           "Bhad Bhabie"
          ],
          [
           "mike."
          ],
          [
           "Lijay"
          ],
          [
           "Bladee"
          ],
          [
           "Pouya"
          ],
          [
           "Smokepurpp"
          ],
          [
           "Blueface"
          ],
          [
           "ian"
          ],
          [
           "Bad Meets Evil"
          ],
          [
           "Davido"
          ],
          [
           "Kardinal Offishall"
          ],
          [
           "E-40"
          ],
          [
           "Armani White"
          ],
          [
           "Lil Jon"
          ],
          [
           "DJ Scheme"
          ],
          [
           "Headie One"
          ],
          [
           "Mike Dimes"
          ],
          [
           "Westside Gunn"
          ],
          [
           "Cali Swag District"
          ],
          [
           "Huncho Jack"
          ],
          [
           "Babyface Ray"
          ],
          [
           "Homixide Gang"
          ],
          [
           "Shordie Shordie"
          ],
          [
           "41"
          ],
          [
           "Bas"
          ],
          [
           "Three 6 Mafia"
          ],
          [
           "Fireboy DML"
          ],
          [
           "V.I.C."
          ],
          [
           "Lil Pump"
          ],
          [
           "Nebu Kiniza"
          ],
          [
           "Rich Gang"
          ],
          [
           "Belly"
          ],
          [
           "Roy Woods"
          ],
          [
           "JUVENILE"
          ],
          [
           "James Blake"
          ],
          [
           "Swae Lee"
          ],
          [
           "Queen Naija"
          ],
          [
           "SpotemGottem"
          ],
          [
           "Conway the Machine"
          ],
          [
           "Vedo"
          ],
          [
           "King Geedorah"
          ],
          [
           "Action Bronson"
          ],
          [
           "JayDaYoungan"
          ],
          [
           "OHGEESY"
          ],
          [
           "Foolio"
          ],
          [
           "Only The Family"
          ],
          [
           "Baby Smoove"
          ],
          [
           "Germ"
          ],
          [
           "Hotboii"
          ],
          [
           "LAZER DIM 700"
          ],
          [
           "MarMar Oso"
          ],
          [
           "J Hus"
          ],
          [
           "AJ Tracey"
          ],
          [
           "KANKAN"
          ],
          [
           "ZEDDY WILL"
          ],
          [
           "IDK"
          ],
          [
           "SOB X RBE"
          ],
          [
           "Busta Rhymes"
          ],
          [
           "Takeoff"
          ],
          [
           "EBK Jaaybo"
          ],
          [
           "Russ Millions"
          ],
          [
           "The Supremes"
          ],
          [
           "Omah Lay"
          ],
          [
           "Lil Xan"
          ],
          [
           "2KBABY"
          ],
          [
           "Lil' Troy"
          ],
          [
           "Bow Wow"
          ],
          [
           "LPB Poody"
          ],
          [
           "Dom Corleo"
          ],
          [
           "Kevin Rudolf"
          ],
          [
           "Quin Nfn"
          ],
          [
           "August Alsina"
          ],
          [
           "Benny The Butcher"
          ],
          [
           "Fivio Foreign"
          ],
          [
           "Monaleo"
          ],
          [
           "Souls Of Mischief"
          ],
          [
           "Young M.A"
          ],
          [
           "D4L"
          ],
          [
           "Jdot Breezy"
          ],
          [
           "Big Pun"
          ],
          [
           "Normani"
          ],
          [
           "Ray J"
          ],
          [
           "MadeinTYO"
          ],
          [
           "Lyrical Lemonade"
          ],
          [
           "DaniLeigh"
          ],
          [
           "YFN Lucci"
          ],
          [
           "Luh Kel"
          ],
          [
           "Common"
          ],
          [
           "Erykah Badu"
          ],
          [
           "Chamillionaire"
          ],
          [
           "Snoh Aalegra"
          ],
          [
           "Ramz"
          ],
          [
           "Wizkid"
          ],
          [
           "Mariah the Scientist"
          ],
          [
           "Eric Bellinger"
          ],
          [
           "Speaker Knockerz"
          ],
          [
           "Chris Travis"
          ],
          [
           "lagostaah"
          ],
          [
           "Saba"
          ],
          [
           "redveil"
          ],
          [
           "SiR"
          ],
          [
           "Nipsey Hussle"
          ],
          [
           "Cleo Sol"
          ],
          [
           "Ethereal"
          ],
          [
           "BLP KOSHER"
          ],
          [
           "J.I the Prince of N.Y"
          ],
          [
           "Aimee Carty"
          ],
          [
           "Fredo Bang"
          ],
          [
           "Luniz"
          ],
          [
           "Jidenna"
          ],
          [
           "Scorey"
          ],
          [
           "Pretty Ricky"
          ],
          [
           "YK Osiris"
          ],
          [
           "Orion Sun"
          ],
          [
           "Little Simz"
          ],
          [
           "Yung Bleu"
          ],
          [
           "J Dilla"
          ],
          [
           "Smiley"
          ],
          [
           "DC The Don"
          ],
          [
           "Ace Hood"
          ],
          [
           "nascar aloe"
          ],
          [
           "Terrace Martin"
          ],
          [
           "Nova"
          ],
          [
           "Tyla Yaweh"
          ],
          [
           "Project Pat"
          ],
          [
           "Method Man"
          ],
          [
           "Digga D"
          ],
          [
           "Quando Rondo"
          ],
          [
           "Asake"
          ],
          [
           "Remble"
          ],
          [
           "Cam'ron"
          ],
          [
           "Fredo"
          ],
          [
           "Bass Santana"
          ],
          [
           "Lola Brooke"
          ],
          [
           "Sickboyrari"
          ],
          [
           "Summrs"
          ],
          [
           "Fixupboy"
          ],
          [
           "EO"
          ],
          [
           "KYSLINGO"
          ],
          [
           "Danny Brown"
          ],
          [
           "Skepta"
          ],
          [
           "tobi lou"
          ],
          [
           "Kay Flock"
          ],
          [
           "BigKayBeezy"
          ],
          [
           "Aya Nakamura"
          ],
          [
           "Karma Nova"
          ],
          [
           "S1mba"
          ],
          [
           "Ashwin Gane"
          ],
          [
           "5ive"
          ],
          [
           "Blanco"
          ],
          [
           "Lil Tracy"
          ],
          [
           "Nemzzz"
          ],
          [
           "Scrim"
          ],
          [
           "MAVI"
          ],
          [
           "Lil B"
          ],
          [
           "Shakka"
          ],
          [
           "Lancey Foux"
          ],
          [
           "SL"
          ],
          [
           "Fukkit"
          ],
          [
           "Blxst"
          ],
          [
           "Lambo4oe"
          ],
          [
           "The Roots"
          ],
          [
           "444Vlone"
          ],
          [
           "Ol' Dirty Bastard"
          ],
          [
           "Birdman"
          ],
          [
           "Too $hort"
          ],
          [
           "BashfortheWorld"
          ],
          [
           "Roy Jones Jr."
          ],
          [
           "ShooterGang Kony"
          ],
          [
           "Ari Lennox"
          ],
          [
           "JayO"
          ],
          [
           "Flying Lotus"
          ],
          [
           "TWXN"
          ],
          [
           "Lil Keed"
          ],
          [
           "WhoHeem"
          ],
          [
           "Viktor Vaughn"
          ],
          [
           "Jill Scott"
          ],
          [
           "Lucky Daye"
          ],
          [
           "Benzz"
          ],
          [
           "SR"
          ],
          [
           "MoneySign Suede"
          ],
          [
           "Carnage"
          ],
          [
           "Lil Mama"
          ],
          [
           "OTP"
          ],
          [
           "Sevyn Streeter"
          ],
          [
           "MODSi"
          ],
          [
           "Tink"
          ],
          [
           "Jakub tłumaczenia"
          ],
          [
           "D. Savage"
          ],
          [
           "jaydes"
          ],
          [
           "FLO"
          ],
          [
           "Yungeen Ace"
          ],
          [
           "KillBunk"
          ],
          [
           "Doe Boy"
          ],
          [
           "Ben Reilly"
          ],
          [
           "Free Nationals"
          ],
          [
           "Wintertime"
          ],
          [
           "user00xman"
          ],
          [
           "ILOVEMAKONNEN"
          ],
          [
           "Peezy"
          ],
          [
           "Shy Glizzy"
          ],
          [
           "CZARFACE"
          ],
          [
           "The Miracles"
          ],
          [
           "CJ"
          ],
          [
           "Mohead Mike"
          ],
          [
           "DUSTY LOCANE"
          ],
          [
           "City Morgue"
          ],
          [
           "Southside"
          ],
          [
           "Dro Kenji"
          ],
          [
           "KA$HDAMI"
          ],
          [
           "Chris Mula"
          ],
          [
           "SugarHill Keem"
          ],
          [
           "Baby Kia"
          ],
          [
           "SleazyWorld Go"
          ],
          [
           "Sada Baby"
          ],
          [
           "Victony"
          ],
          [
           "lil obnoxious"
          ],
          [
           "Lunarrr"
          ],
          [
           "Sainté"
          ],
          [
           "T-Wayne"
          ],
          [
           "Token"
          ],
          [
           "AG Club"
          ],
          [
           "Westside Connection"
          ],
          [
           "Young Slo-Be"
          ],
          [
           "Heembeezy"
          ],
          [
           "Veeze"
          ],
          [
           "Ca$h Out"
          ],
          [
           "YSN Flow"
          ],
          [
           "5Star"
          ],
          [
           "Yung Bans"
          ],
          [
           "Ugly God"
          ],
          [
           "K Suave"
          ],
          [
           "MemoTheMafioso"
          ],
          [
           "KRS-One"
          ],
          [
           "Punchmade Dev"
          ],
          [
           "Stunna Girl"
          ],
          [
           "Chloe x Halle"
          ],
          [
           "Bubba Sparxxx"
          ],
          [
           "Terror Squad"
          ],
          [
           "Rio Da Yung Og"
          ],
          [
           "Aitch"
          ],
          [
           "EBK Young Joc"
          ],
          [
           "ZillaKami"
          ],
          [
           "Cash Cobain"
          ],
          [
           "J-Kwon"
          ],
          [
           "Lil Double 0"
          ],
          [
           "AzChike"
          ],
          [
           "A1 x J1"
          ],
          [
           "Gyptian"
          ],
          [
           "Lucinda Williams"
          ],
          [
           "Samara Joy"
          ],
          [
           "Charles Mingus"
          ],
          [
           "Frostydasnowmann"
          ],
          [
           "Flatbush Zombies"
          ],
          [
           "Charly Black"
          ],
          [
           "Oxlade"
          ],
          [
           "Tion Wayne"
          ],
          [
           "Superstar Pride"
          ],
          [
           "Raekwon"
          ],
          [
           "Tkay Maidza"
          ],
          [
           "Cl4pers"
          ],
          [
           "Savage"
          ],
          [
           "LonelyEve"
          ],
          [
           "Big Boogie"
          ],
          [
           "Shenseea"
          ],
          [
           "Sowhatimdead"
          ],
          [
           "Dustystaytrue"
          ],
          [
           "DLU Kemp"
          ],
          [
           "Chavo"
          ],
          [
           "Savage Ga$p"
          ],
          [
           "Popp Hunna"
          ],
          [
           "Haiti Babii"
          ],
          [
           "NoCap"
          ],
          [
           "30 Deep Grimeyy"
          ],
          [
           "MrHeadA$$Trendy"
          ],
          [
           "lil Shordie Scott"
          ],
          [
           "Digital Underground"
          ],
          [
           "Never Broke Again"
          ],
          [
           "Wifisfuneral"
          ],
          [
           "che"
          ],
          [
           "Adekunle Gold"
          ],
          [
           "Young Jonn"
          ],
          [
           "Kizz Daniel"
          ],
          [
           "Mike Jones"
          ],
          [
           "Digable Planets"
          ],
          [
           "LLJW"
          ],
          [
           "Maitchhh"
          ],
          [
           "Natalie La Rose"
          ],
          [
           "G-Unit"
          ],
          [
           "Nafe Smallz"
          ],
          [
           "Silentó"
          ],
          [
           "Rich Homie Quan"
          ],
          [
           "Armand Hammer"
          ],
          [
           "Lil Xxel"
          ],
          [
           "DP Beats"
          ],
          [
           "skaiwater"
          ],
          [
           "Kamaiyah"
          ],
          [
           "Lil Rob"
          ],
          [
           "Gang Starr"
          ],
          [
           "Godard"
          ],
          [
           "Boldy James"
          ],
          [
           "zvch"
          ],
          [
           "Essosa"
          ],
          [
           "EST Gee"
          ],
          [
           "9lokknine"
          ],
          [
           "BIA"
          ],
          [
           "King George"
          ],
          [
           "Chris Jedi"
          ],
          [
           "M Huncho"
          ],
          [
           "Jace!"
          ],
          [
           "Spillage Village"
          ],
          [
           "Beny Jr"
          ],
          [
           "Crime Mob"
          ],
          [
           "Jaah SLT"
          ],
          [
           "YNG Martyr"
          ],
          [
           "1Huntxr"
          ],
          [
           "Kyle Richh"
          ],
          [
           "Bobby V."
          ],
          [
           "Mavado"
          ],
          [
           "Popcaan"
          ],
          [
           "Koffee"
          ],
          [
           "KAYTRAMINÉ"
          ]
         ],
         "hovertemplate": "labels=Hip-Hop<br>x=%{x}<br>y=%{y}<br>names=%{customdata[0]}<extra></extra>",
         "legendgroup": "Hip-Hop",
         "marker": {
          "color": "#636efa",
          "symbol": "circle"
         },
         "mode": "markers",
         "name": "Hip-Hop",
         "showlegend": true,
         "type": "scattergl",
         "x": [
          -1.6140446662902832,
          -2.2995479106903076,
          -1.169071078300476,
          -2.1903305053710938,
          -2.0942487716674805,
          -2.4020979404449463,
          -2.175570011138916,
          -2.43929123878479,
          -2.337036609649658,
          -2.4872546195983887,
          -2.15747332572937,
          -2.1181628704071045,
          -2.4615132808685303,
          -2.05003023147583,
          -2.4000394344329834,
          -2.1560862064361572,
          -2.4466519355773926,
          -2.1764447689056396,
          -2.222545623779297,
          -2.1159582138061523,
          -2.5435192584991455,
          -1.6909072399139404,
          -2.5382800102233887,
          -1.4681429862976074,
          -1.5229401588439941,
          -2.2825119495391846,
          -2.7883613109588623,
          -2.175631284713745,
          -2.4585487842559814,
          -2.0707767009735107,
          -2.567805290222168,
          -0.8820006251335144,
          -2.511127471923828,
          -2.19159197807312,
          -1.051756501197815,
          -2.5412392616271973,
          -2.1152031421661377,
          -0.982589066028595,
          -2.493248701095581,
          -2.526171922683716,
          -2.5511577129364014,
          -2.480865240097046,
          -2.2915971279144287,
          -2.3815650939941406,
          -2.334430694580078,
          -2.505640745162964,
          -1.1046608686447144,
          -2.5118346214294434,
          -2.8167526721954346,
          -2.2307920455932617,
          -1.014532446861267,
          -2.2475461959838867,
          -2.5014684200286865,
          -0.9770798683166504,
          -2.219423532485962,
          -2.2216124534606934,
          -2.497246265411377,
          -2.3113932609558105,
          -2.46919846534729,
          -2.4673709869384766,
          -2.6030914783477783,
          -2.6075944900512695,
          -2.5265135765075684,
          -1.037365436553955,
          -1.9539488554000854,
          -0.8918930292129517,
          -2.0705127716064453,
          -1.0048514604568481,
          -0.8431594371795654,
          -2.504384994506836,
          -1.9552030563354492,
          -2.0613372325897217,
          -2.6003448963165283,
          -2.1699841022491455,
          -2.099350690841675,
          -2.611680030822754,
          -2.4375641345977783,
          -2.3233492374420166,
          -1.0240809917449951,
          -2.4647624492645264,
          -2.2242703437805176,
          -2.171541690826416,
          -1.9618293046951294,
          -1.7726051807403564,
          -2.229065418243408,
          -2.4090139865875244,
          -2.393693208694458,
          -2.0109522342681885,
          -2.3269588947296143,
          -1.7226488590240479,
          -0.9310043454170227,
          -0.8311975598335266,
          -2.390901803970337,
          -2.4139304161071777,
          -2.1108174324035645,
          -2.2923293113708496,
          -2.20504093170166,
          -1.9341391324996948,
          -2.62711501121521,
          -2.2935824394226074,
          -2.2470808029174805,
          -2.2844998836517334,
          -2.4221973419189453,
          -2.1797585487365723,
          -0.9291085600852966,
          -1.7320308685302734,
          -2.9256441593170166,
          -2.2250027656555176,
          -2.7830700874328613,
          -1.4410847425460815,
          -2.797532320022583,
          -0.5824170112609863,
          -2.604912757873535,
          -2.0981180667877197,
          -2.463642120361328,
          -2.513782501220703,
          -2.5708725452423096,
          -1.79335618019104,
          -2.419393539428711,
          -2.504005193710327,
          -2.1536812782287598,
          -2.50107479095459,
          -2.1188623905181885,
          -0.5172065496444702,
          -2.7027029991149902,
          -2.6652560234069824,
          -1.935936450958252,
          -0.8554717898368835,
          -0.9973732829093933,
          -2.1785714626312256,
          -2.0709915161132812,
          -2.0528249740600586,
          -2.187976121902466,
          -0.9731025695800781,
          -1.0903068780899048,
          -0.933091402053833,
          -1.7775194644927979,
          -1.0476828813552856,
          -2.5188677310943604,
          -1.042953610420227,
          -2.359550714492798,
          -2.2576191425323486,
          -0.39020755887031555,
          -2.589850664138794,
          -2.0602049827575684,
          -2.9091317653656006,
          -1.9170762300491333,
          -1.9260228872299194,
          -2.639575958251953,
          -0.5935933589935303,
          -0.8487944006919861,
          -2.446928024291992,
          -1.1988352537155151,
          -2.5866639614105225,
          -2.8232340812683105,
          -1.0475552082061768,
          -2.0920143127441406,
          -1.0248814821243286,
          -1.0380914211273193,
          -2.1883347034454346,
          -2.693166971206665,
          -2.45770001411438,
          -2.922307252883911,
          -2.17508864402771,
          -2.15653920173645,
          -2.2584421634674072,
          -2.117382526397705,
          -2.656632661819458,
          -2.565368413925171,
          -0.9099912047386169,
          -1.0240998268127441,
          -1.9820090532302856,
          -2.412623882293701,
          -0.5207328796386719,
          -2.4850423336029053,
          -2.1770637035369873,
          -2.154603958129883,
          -2.4843387603759766,
          -2.094876766204834,
          -2.98641037940979,
          -2.169638156890869,
          -2.6872594356536865,
          -2.3392651081085205,
          -2.1101489067077637,
          -1.8472920656204224,
          -2.1196706295013428,
          -2.6843066215515137,
          -2.7924861907958984,
          -1.6533033847808838,
          -2.1722524166107178,
          -1.5505385398864746,
          -2.2730190753936768,
          -1.6076185703277588,
          -2.710679292678833,
          -1.0079102516174316,
          -2.601358413696289,
          -2.4694175720214844,
          -1.0730105638504028,
          -2.299421787261963,
          -2.721356153488159,
          -1.247696876525879,
          -0.7238063812255859,
          -2.7500205039978027,
          -2.0168237686157227,
          -2.6971821784973145,
          -0.32021087408065796,
          -0.8818601369857788,
          -1.082016944885254,
          -1.0360859632492065,
          -1.566601276397705,
          -2.049231767654419,
          -1.677968978881836,
          -2.5291755199432373,
          -2.5703935623168945,
          -2.061020851135254,
          -2.1513547897338867,
          -1.0579203367233276,
          -2.202164888381958,
          -2.2206971645355225,
          -2.8301007747650146,
          -2.6655194759368896,
          -2.005547285079956,
          -1.051774501800537,
          -2.968903064727783,
          -1.725927472114563,
          -0.5271075963973999,
          -2.1617746353149414,
          -2.5137343406677246,
          -2.6256155967712402,
          -2.384326219558716,
          -1.0015608072280884,
          -2.0101869106292725,
          -2.449896812438965,
          -1.9941961765289307,
          -2.718966007232666,
          -2.7663886547088623,
          -2.2520954608917236,
          -0.657904326915741,
          -1.7453479766845703,
          -1.1872949600219727,
          -2.3523447513580322,
          -0.7177225947380066,
          -1.4735591411590576,
          -2.2148842811584473,
          -2.5821516513824463,
          -2.6518566608428955,
          -2.6497514247894287,
          -2.045053243637085,
          -0.8176867365837097,
          -1.6880263090133667,
          -2.631366014480591,
          -1.230317234992981,
          -0.5411719679832458,
          -2.963819742202759,
          -0.876439094543457,
          -2.0306296348571777,
          -2.136425733566284,
          -2.771019458770752,
          -2.3305861949920654,
          -2.6674139499664307,
          -2.9583680629730225,
          -1.6804767847061157,
          -1.4037586450576782,
          -1.9399021863937378,
          -2.589420795440674,
          -1.5346513986587524,
          -2.2739908695220947,
          -1.3089492321014404,
          -1.7591484785079956,
          -2.2935025691986084,
          -2.2276129722595215,
          -0.7078462243080139,
          -0.9813417196273804,
          -1.961625576019287,
          -0.7975946068763733,
          -2.1035921573638916,
          -2.8305788040161133,
          -2.7881805896759033,
          -1.0220797061920166,
          -2.7330000400543213,
          -2.58897066116333,
          -2.8220772743225098,
          -2.757840633392334,
          -1.941185474395752,
          -2.1297030448913574,
          -2.1448097229003906,
          -1.9592888355255127,
          -1.714551568031311,
          -0.7463192343711853,
          -1.338209867477417,
          -1.7679469585418701,
          -2.1052958965301514,
          -2.2216310501098633,
          -2.9759669303894043,
          -0.8305466175079346,
          -2.194242238998413,
          -1.8131051063537598,
          -2.9068679809570312,
          -1.5463266372680664,
          -2.0676815509796143,
          -1.7053040266036987,
          -2.84242844581604,
          -2.659475564956665,
          -2.561202049255371,
          -2.322756052017212,
          -2.402998208999634,
          -2.662926197052002,
          -2.7392332553863525,
          -2.813051700592041,
          -2.4899160861968994,
          -2.570425510406494,
          -2.964625597000122,
          -1.0467150211334229,
          -1.544845461845398,
          -0.7875741720199585,
          -1.4717127084732056,
          -1.6468894481658936,
          -1.0620367527008057,
          -2.655503511428833,
          -1.7550586462020874,
          -2.448530673980713,
          -2.104931354522705,
          -1.2908612489700317,
          -2.343416452407837,
          -2.8511109352111816,
          -2.9158682823181152,
          -2.7068116664886475,
          -2.839428663253784,
          -1.8482961654663086,
          -2.2416110038757324,
          -1.561643362045288,
          -1.140850305557251,
          -1.78684663772583,
          -2.5418174266815186,
          -2.123818874359131,
          -1.8544002771377563,
          -2.3888065814971924,
          -1.3068784475326538,
          -1.7181426286697388,
          -1.617633581161499,
          -2.226043224334717,
          -2.618988037109375,
          -2.033857822418213,
          -2.2344276905059814,
          -1.6298569440841675,
          -2.1035401821136475,
          -2.719438076019287,
          -2.5396950244903564,
          -2.72625994682312,
          -2.7285423278808594,
          -2.932358503341675,
          -2.759514331817627,
          -2.7950780391693115,
          -2.976841449737549,
          -2.1013967990875244,
          -1.6399168968200684,
          -1.7212399244308472,
          -2.9810304641723633,
          -2.858458995819092,
          -1.9682374000549316,
          -2.237971544265747,
          -0.7812581062316895,
          -2.411210298538208,
          -2.852534055709839,
          -1.7115269899368286,
          -0.5287348031997681,
          -1.5462974309921265,
          -2.6006104946136475,
          -2.6962051391601562,
          -1.2411203384399414,
          -0.6456379294395447,
          -2.6292476654052734,
          -2.9364826679229736,
          -0.9077592492103577,
          -2.6927151679992676,
          -1.7554072141647339,
          -2.028454065322876,
          -2.0135180950164795,
          -2.5150306224823,
          -1.1394367218017578,
          -1.8038500547409058,
          -1.1032382249832153,
          -2.8933348655700684,
          -0.9434428215026855,
          -1.7754391431808472,
          -0.8780986070632935,
          -2.2193338871002197,
          -2.6738786697387695,
          -1.597611665725708,
          -2.2307729721069336,
          -2.6109185218811035,
          -0.54659104347229,
          -0.3945959210395813,
          -1.0306718349456787,
          -0.9296061992645264,
          -1.7403066158294678,
          -1.5675216913223267,
          -2.1881163120269775,
          -2.1957406997680664,
          -2.6973941326141357,
          -2.71401309967041,
          -2.7860612869262695,
          -2.0380659103393555,
          -2.1398062705993652,
          -2.2887942790985107,
          -1.9700876474380493,
          -0.5469770431518555,
          -2.800654649734497,
          -2.83546781539917,
          -1.6402831077575684,
          -2.6610426902770996,
          -2.4586265087127686,
          -0.7186794877052307,
          -1.7254856824874878,
          -2.7383339405059814,
          -0.6258525848388672,
          -2.475799322128296,
          -2.119793176651001,
          -1.672269582748413,
          -1.9871071577072144,
          -1.7082734107971191,
          -2.5904808044433594,
          -2.8446462154388428,
          -1.9319393634796143,
          -2.719630479812622,
          -1.9983738660812378,
          -2.618112087249756,
          -2.630601406097412,
          -2.6272599697113037,
          -0.585273027420044,
          -1.7289859056472778,
          -2.0168297290802,
          -1.5473623275756836,
          -2.849736452102661,
          -1.3354226350784302,
          -1.7236320972442627,
          -2.075169086456299,
          -1.9027245044708252,
          -2.8925416469573975,
          -2.9808380603790283,
          -2.9813754558563232,
          -1.7046387195587158,
          -2.5506603717803955,
          -1.9038879871368408,
          -1.6229476928710938,
          -1.854492425918579,
          -2.893402576446533,
          -2.696533203125,
          -1.5943892002105713,
          -1.7966469526290894,
          -1.7115808725357056,
          -1.8730113506317139,
          -2.7308437824249268,
          -1.7333202362060547,
          -2.805835723876953,
          -1.8899625539779663,
          -2.825517416000366,
          -2.145183801651001,
          -2.5538105964660645,
          -1.6124897003173828,
          -2.69451642036438,
          -1.8244205713272095,
          -2.6946046352386475,
          -1.5104550123214722,
          -2.340078592300415,
          -0.5778253078460693,
          -2.9451005458831787,
          -0.6471015810966492,
          -1.4161499738693237,
          -1.2059723138809204,
          -2.969557046890259,
          -0.8994806408882141,
          -2.719546318054199,
          -1.7431527376174927,
          -2.625155210494995,
          -2.020540237426758,
          -3.4003655910491943,
          -2.7520179748535156,
          -2.3627071380615234,
          -1.6029845476150513,
          -0.552924394607544,
          -2.1513752937316895,
          -1.7841752767562866,
          -1.9117085933685303,
          -2.856221914291382,
          -2.352781295776367,
          -1.9512951374053955,
          -1.8502241373062134,
          -1.5068724155426025,
          -1.8253816366195679,
          -2.2181060314178467,
          -2.9589593410491943,
          -2.8735523223876953,
          -3.020146131515503,
          -2.0341391563415527,
          -2.6535351276397705,
          -2.740833044052124,
          -2.755152940750122,
          -2.148155927658081,
          -2.1015121936798096,
          -2.737919330596924,
          -2.807051420211792,
          -1.8648719787597656,
          -2.315142869949341,
          -2.6492369174957275,
          -2.3080193996429443,
          -0.5334343314170837,
          -1.6726915836334229,
          -2.784010410308838,
          -2.67503023147583,
          -2.682713031768799,
          -2.438763380050659,
          -2.3755688667297363,
          -2.889662981033325,
          -2.926457643508911,
          -2.905435800552368,
          -2.944628953933716,
          -2.4769527912139893,
          -2.6909518241882324,
          -1.5042802095413208,
          -2.9446704387664795,
          -2.970811605453491,
          -2.1717095375061035,
          -1.8509430885314941,
          -1.5418673753738403,
          -2.0731582641601562,
          -0.974602460861206,
          -2.8618152141571045,
          -2.8692641258239746,
          -2.841412305831909,
          -1.2809377908706665,
          -2.758145332336426,
          -2.945345640182495,
          -2.7626171112060547,
          -2.2877817153930664,
          -2.6271049976348877,
          -2.7889552116394043,
          -0.9327561259269714,
          -3.00331449508667,
          -2.3481202125549316,
          -1.8051116466522217,
          -1.1494132280349731,
          -0.9496304392814636,
          -2.8111634254455566,
          -1.6783604621887207,
          -2.9677469730377197,
          -2.7746706008911133,
          -2.833277463912964,
          -1.0175237655639648,
          -2.8567159175872803,
          -2.8443105220794678,
          -1.7311561107635498,
          -1.2866545915603638,
          -0.5281630158424377,
          -0.5328942537307739,
          -0.5569309592247009,
          -2.7383105754852295,
          -2.3320724964141846,
          -1.3015879392623901,
          -1.5031940937042236,
          -1.66798996925354,
          -2.328138589859009,
          -0.9722433686256409,
          -2.0391242504119873,
          -2.785907745361328,
          -1.410969614982605,
          -2.8762035369873047,
          -2.5403499603271484,
          -1.2869620323181152,
          -2.8124992847442627,
          -2.4631288051605225,
          -2.6668031215667725,
          -2.9836483001708984,
          -2.4313337802886963,
          -2.4855103492736816,
          -2.6949820518493652,
          -2.8788530826568604,
          -2.745290517807007,
          -2.7392897605895996,
          -2.59718918800354,
          -0.6613279581069946,
          -2.555330514907837,
          -2.6980056762695312,
          -2.991779327392578,
          -1.5684694051742554,
          -1.554975152015686,
          -1.5399715900421143,
          -1.286969780921936,
          -0.551988422870636,
          -2.993032217025757,
          -2.9935903549194336,
          -1.6603360176086426,
          -0.8770855069160461,
          -1.716926097869873,
          -1.4321911334991455,
          -1.9012835025787354,
          -2.068080425262451,
          -1.8186061382293701,
          -2.985215902328491,
          -2.9521806240081787,
          -2.658156394958496,
          -2.328991651535034,
          -0.9969115853309631,
          -2.8292505741119385,
          -2.0079076290130615,
          -2.843621253967285,
          -2.330742359161377,
          -2.7275731563568115,
          -2.7514727115631104,
          -2.348292350769043,
          -2.557403087615967,
          -0.5447726845741272,
          -1.7665287256240845,
          -2.969892978668213,
          -1.8336104154586792,
          -1.4805843830108643,
          -1.2959622144699097,
          -2.723048686981201,
          -2.7081620693206787,
          -2.96094012260437,
          -2.7422308921813965,
          -1.4710263013839722,
          -1.2860438823699951,
          -1.3085253238677979,
          -1.2613345384597778,
          -1.9472249746322632
         ],
         "xaxis": "x",
         "y": [
          -4.967287063598633,
          -6.0253143310546875,
          -5.410347938537598,
          -5.8177008628845215,
          -5.7326507568359375,
          -6.069453239440918,
          -5.455738544464111,
          -6.063780784606934,
          -5.987013339996338,
          -6.076529502868652,
          -5.82063627243042,
          -4.909820556640625,
          -6.0717949867248535,
          -4.781117916107178,
          -6.091397762298584,
          -5.529535293579102,
          -6.091850280761719,
          -5.379347324371338,
          -5.093088626861572,
          -5.912602424621582,
          -6.11646842956543,
          -5.125542640686035,
          -5.94353723526001,
          -5.0987396240234375,
          -5.890326499938965,
          -5.882138252258301,
          -5.018616199493408,
          -5.761703014373779,
          -6.097380638122559,
          -5.582208156585693,
          -6.071852684020996,
          -5.4648027420043945,
          -6.073686599731445,
          -4.921919822692871,
          -5.523449420928955,
          -6.067090034484863,
          -5.782154560089111,
          -5.794704437255859,
          -6.094663619995117,
          -6.116290092468262,
          -6.0199809074401855,
          -6.080365180969238,
          -5.876776218414307,
          -6.084373474121094,
          -6.071617126464844,
          -6.099704265594482,
          -5.78902006149292,
          -6.098203659057617,
          -5.085875988006592,
          -4.7585673332214355,
          -5.839258670806885,
          -5.312356948852539,
          -6.104506015777588,
          -5.838658809661865,
          -5.982081890106201,
          -5.319966793060303,
          -6.080137729644775,
          -6.076363563537598,
          -6.1176533699035645,
          -6.132964611053467,
          -6.06960391998291,
          -6.022173881530762,
          -6.04738712310791,
          -5.8490424156188965,
          -5.62392520904541,
          -5.586948871612549,
          -5.923428058624268,
          -5.814939022064209,
          -5.6263747215271,
          -6.099391460418701,
          -5.800954818725586,
          -5.455502986907959,
          -6.0101189613342285,
          -5.255172252655029,
          -4.835733413696289,
          -5.923538684844971,
          -6.099554538726807,
          -5.931629657745361,
          -5.742859363555908,
          -6.101611614227295,
          -5.330350875854492,
          -5.236733913421631,
          -4.9529290199279785,
          -5.6287736892700195,
          -5.865875720977783,
          -6.1247029304504395,
          -6.058007717132568,
          -5.343867301940918,
          -5.313252925872803,
          -5.679169178009033,
          -5.761813640594482,
          -5.486056804656982,
          -6.046648025512695,
          -6.122142791748047,
          -5.599575996398926,
          -4.833674907684326,
          -5.283629894256592,
          -6.12318229675293,
          -6.034090042114258,
          -4.566261291503906,
          -5.188669204711914,
          -6.003402233123779,
          -6.016547679901123,
          -4.842900276184082,
          -5.589322566986084,
          -6.185098171234131,
          -5.5436882972717285,
          -5.857964992523193,
          -5.92017936706543,
          -6.311501979827881,
          -4.737014293670654,
          -6.220427513122559,
          -5.962554454803467,
          -5.904785633087158,
          -6.108399391174316,
          -6.106636047363281,
          -6.079244136810303,
          -5.815634727478027,
          -6.104243278503418,
          -6.135542869567871,
          -5.756745338439941,
          -6.042818069458008,
          -5.7057085037231445,
          -6.276406764984131,
          -5.950079917907715,
          -5.919140338897705,
          -5.701809883117676,
          -5.253957748413086,
          -5.591144561767578,
          -5.966179847717285,
          -5.904473781585693,
          -5.678282260894775,
          -5.272584438323975,
          -5.773697376251221,
          -5.854889869689941,
          -5.358060359954834,
          -5.023327827453613,
          -5.5811662673950195,
          -5.907608509063721,
          -5.669820785522461,
          -4.962976932525635,
          -5.836657524108887,
          -5.727312088012695,
          -6.1056599617004395,
          -5.918975353240967,
          -5.540062427520752,
          -4.5320658683776855,
          -5.788004398345947,
          -5.12722635269165,
          -6.3015336990356445,
          -5.4009881019592285,
          -6.146795272827148,
          -5.623717308044434,
          -6.090571880340576,
          -5.011940956115723,
          -5.641847610473633,
          -5.653154373168945,
          -5.766998767852783,
          -5.8108720779418945,
          -6.215975284576416,
          -5.761048316955566,
          -6.126613140106201,
          -5.499319076538086,
          -5.005202293395996,
          -5.315701007843018,
          -4.851324081420898,
          -5.315813064575195,
          -5.924521446228027,
          -6.08167839050293,
          -5.702791213989258,
          -5.8517584800720215,
          -5.446893215179443,
          -6.132132053375244,
          -5.787214279174805,
          -6.077643871307373,
          -5.253251552581787,
          -4.896317958831787,
          -6.004607677459717,
          -6.41878604888916,
          -5.355747699737549,
          -4.724976539611816,
          -5.7478251457214355,
          -6.056439399719238,
          -5.423238754272461,
          -5.787193298339844,
          -5.404719829559326,
          -5.977264404296875,
          -5.175012588500977,
          -5.695405006408691,
          -5.902895927429199,
          -6.316059112548828,
          -4.576207160949707,
          -5.09387731552124,
          -5.441261291503906,
          -5.852179050445557,
          -5.3074493408203125,
          -5.431991100311279,
          -5.589900016784668,
          -5.893947601318359,
          -5.995567321777344,
          -5.809940338134766,
          -5.565149307250977,
          -5.306553363800049,
          -5.76257848739624,
          -5.730820655822754,
          -5.7265944480896,
          -5.696976184844971,
          -5.731161117553711,
          -5.886280059814453,
          -6.342912673950195,
          -5.620553970336914,
          -6.133195877075195,
          -4.977934837341309,
          -6.024974346160889,
          -5.457836627960205,
          -5.294604301452637,
          -5.691393852233887,
          -5.020653247833252,
          -5.703855514526367,
          -5.145599842071533,
          -5.85512113571167,
          -5.917050361633301,
          -5.645865440368652,
          -5.509239673614502,
          -5.617570400238037,
          -6.280248641967773,
          -4.767781734466553,
          -6.118701934814453,
          -5.990699291229248,
          -6.161835193634033,
          -5.429235458374023,
          -5.396183013916016,
          -6.126162528991699,
          -5.686711311340332,
          -6.0677900314331055,
          -4.506167411804199,
          -5.287470817565918,
          -6.284374713897705,
          -6.152673244476318,
          -5.574441432952881,
          -4.652795314788818,
          -5.9557952880859375,
          -5.608242034912109,
          -4.817808151245117,
          -6.043114185333252,
          -5.977243900299072,
          -6.0668840408325195,
          -5.4896321296691895,
          -5.668269157409668,
          -5.31687593460083,
          -4.759803295135498,
          -5.632500648498535,
          -6.286524772644043,
          -5.490588665008545,
          -5.8494181632995605,
          -5.4789228439331055,
          -5.978156566619873,
          -5.717781066894531,
          -5.230221271514893,
          -5.94095516204834,
          -5.45227575302124,
          -5.694545269012451,
          -5.30759859085083,
          -4.787315845489502,
          -6.088583946228027,
          -6.333622932434082,
          -6.014339447021484,
          -5.749675273895264,
          -5.361036777496338,
          -5.213964939117432,
          -5.981678009033203,
          -5.598639965057373,
          -5.666663646697998,
          -4.959726810455322,
          -5.550431251525879,
          -5.39242696762085,
          -5.054384708404541,
          -5.428713798522949,
          -5.8534111976623535,
          -5.045090675354004,
          -5.145880222320557,
          -5.072987079620361,
          -5.319539546966553,
          -5.830963134765625,
          -5.409580230712891,
          -5.905823707580566,
          -5.225968837738037,
          -5.790342807769775,
          -5.618350028991699,
          -5.651276588439941,
          -5.234425067901611,
          -5.891845703125,
          -5.286867141723633,
          -5.503879070281982,
          -5.497586727142334,
          -5.964196681976318,
          -5.182859420776367,
          -5.6207661628723145,
          -6.341218948364258,
          -5.958493709564209,
          -5.70415735244751,
          -5.605818748474121,
          -4.819207191467285,
          -5.255687236785889,
          -5.401889324188232,
          -5.437645435333252,
          -4.899500370025635,
          -5.1844987869262695,
          -5.161067962646484,
          -5.900076389312744,
          -5.8156538009643555,
          -5.41266393661499,
          -5.734496593475342,
          -6.336149215698242,
          -5.492608547210693,
          -5.664426803588867,
          -5.570949077606201,
          -5.664597034454346,
          -5.733064651489258,
          -6.137135028839111,
          -5.898233413696289,
          -5.461835861206055,
          -5.62485933303833,
          -6.147946834564209,
          -5.647663593292236,
          -5.522058963775635,
          -5.902085304260254,
          -5.033126354217529,
          -5.7349348068237305,
          -5.558257102966309,
          -6.317512035369873,
          -5.642807960510254,
          -5.779473304748535,
          -5.63014030456543,
          -5.843471527099609,
          -5.243903636932373,
          -5.456685543060303,
          -5.690556049346924,
          -5.372007369995117,
          -5.036824703216553,
          -5.188345432281494,
          -5.999986171722412,
          -5.557748317718506,
          -5.08376407623291,
          -5.527870178222656,
          -5.573078632354736,
          -5.815430641174316,
          -5.628382205963135,
          -5.8510003089904785,
          -5.980588912963867,
          -5.490736484527588,
          -5.104053974151611,
          -5.858433723449707,
          -5.482699394226074,
          -4.296119213104248,
          -6.233741760253906,
          -6.130134105682373,
          -5.468765735626221,
          -5.062262058258057,
          -5.4518818855285645,
          -5.651106834411621,
          -5.829585552215576,
          -6.102327346801758,
          -5.593385696411133,
          -6.136560440063477,
          -6.264279365539551,
          -6.3426642417907715,
          -5.274075984954834,
          -5.992163181304932,
          -5.499380588531494,
          -5.513876438140869,
          -5.681655406951904,
          -5.5020623207092285,
          -5.67012357711792,
          -5.845089435577393,
          -5.428046226501465,
          -5.504777431488037,
          -6.102649688720703,
          -4.917250633239746,
          -5.886839389801025,
          -5.714875221252441,
          -5.566352367401123,
          -5.487916946411133,
          -5.912216663360596,
          -4.980292320251465,
          -5.5493550300598145,
          -6.017238616943359,
          -5.781945705413818,
          -5.3504958152771,
          -6.012916564941406,
          -5.781328201293945,
          -6.2742180824279785,
          -5.9244704246521,
          -5.686564922332764,
          -6.025356292724609,
          -6.102181911468506,
          -6.309117317199707,
          -5.227964878082275,
          -5.243444442749023,
          -5.881303787231445,
          -5.190175533294678,
          -5.087625026702881,
          -5.4643049240112305,
          -5.369298458099365,
          -5.383824825286865,
          -5.829421043395996,
          -6.260392189025879,
          -5.534852504730225,
          -5.301088333129883,
          -6.326559066772461,
          -4.642232894897461,
          -5.709805011749268,
          -5.79243803024292,
          -5.668354034423828,
          -5.876682758331299,
          -5.600480079650879,
          -5.3088531494140625,
          -4.802245140075684,
          -4.977028846740723,
          -6.005406379699707,
          -5.4137983322143555,
          -6.114206790924072,
          -5.755947589874268,
          -5.941174030303955,
          -4.694580078125,
          -5.334635257720947,
          -4.606494903564453,
          -5.761750221252441,
          -5.11051082611084,
          -5.91766357421875,
          -6.142902374267578,
          -6.150919437408447,
          -6.324176788330078,
          -5.561694145202637,
          -5.784939765930176,
          -6.159191131591797,
          -5.712505340576172,
          -5.47210168838501,
          -5.208005428314209,
          -5.4682698249816895,
          -5.358572006225586,
          -6.169289588928223,
          -5.438910484313965,
          -5.225951194763184,
          -6.025235652923584,
          -4.9560065269470215,
          -5.448736190795898,
          -5.9355998039245605,
          -6.3247971534729,
          -5.721747398376465,
          -6.2109150886535645,
          -5.75832986831665,
          -5.836031436920166,
          -6.132559299468994,
          -4.994149684906006,
          -6.012960910797119,
          -5.036310195922852,
          -5.344305992126465,
          -4.568795680999756,
          -6.083789825439453,
          -5.266229629516602,
          -6.065458297729492,
          -5.048373222351074,
          -6.283637046813965,
          -5.258984088897705,
          -5.876017093658447,
          -5.878544330596924,
          -5.80214786529541,
          -5.73805046081543,
          -5.658877372741699,
          -5.461104393005371,
          -5.711733818054199,
          -5.881549835205078,
          -5.016061782836914,
          -4.709850311279297,
          -5.305431842803955,
          -3.916788101196289,
          -5.801090240478516,
          -5.042436122894287,
          -5.521396160125732,
          -6.2674174308776855,
          -5.191796779632568,
          -6.063023090362549,
          -6.094715118408203,
          -5.600871562957764,
          -5.984113693237305,
          -4.997264385223389,
          -6.0704851150512695,
          -5.383950710296631,
          -5.764970779418945,
          -5.169945240020752,
          -5.847851753234863,
          -5.45856237411499,
          -5.391445636749268,
          -4.693600654602051,
          -5.810558795928955,
          -5.85538911819458,
          -5.575807094573975,
          -5.3778767585754395,
          -5.14198112487793,
          -4.7492899894714355,
          -5.592470169067383,
          -5.675326824188232,
          -6.000852108001709,
          -5.636383056640625,
          -5.0772013664245605,
          -6.271623611450195,
          -5.710877895355225,
          -5.549261569976807,
          -5.878333568572998,
          -5.430168628692627,
          -5.606612205505371,
          -5.337617874145508,
          -5.58846378326416,
          -4.769205570220947,
          -4.80457878112793,
          -5.392343044281006,
          -5.737260341644287,
          -5.895254135131836,
          -6.313321113586426,
          -5.845705509185791,
          -5.8845648765563965,
          -5.4214935302734375,
          -5.737235069274902,
          -5.7196550369262695,
          -5.338961601257324,
          -5.80893087387085,
          -5.456398010253906,
          -5.574772357940674,
          -5.569096565246582,
          -5.610499382019043,
          -5.842787265777588,
          -4.5951457023620605,
          -5.819719314575195,
          -6.020407676696777,
          -5.628933429718018,
          -5.643918037414551,
          -5.786522388458252,
          -5.326523303985596,
          -4.943205833435059,
          -4.903169631958008,
          -5.682342529296875,
          -5.733296871185303,
          -5.564563751220703,
          -6.006309509277344,
          -5.448590278625488,
          -5.281686782836914,
          -5.441432952880859,
          -5.673752307891846,
          -5.621322154998779,
          -5.5839524269104,
          -5.921381950378418,
          -6.403200626373291,
          -6.2686052322387695,
          -6.27603816986084,
          -6.2595415115356445,
          -5.495288372039795,
          -4.924656391143799,
          -6.4399800300598145,
          -6.2593183517456055,
          -6.169486045837402,
          -5.674932956695557,
          -5.90416955947876,
          -4.7658867835998535,
          -4.814253807067871,
          -6.0467705726623535,
          -4.400847911834717,
          -4.954397201538086,
          -6.416329860687256,
          -4.87877082824707,
          -4.39192533493042,
          -5.814197540283203,
          -5.487414360046387,
          -4.441635608673096,
          -4.912042140960693,
          -4.695725440979004,
          -5.853950500488281,
          -5.844153881072998,
          -4.49891471862793,
          -5.703158855438232,
          -5.793538570404053,
          -5.736645698547363,
          -5.259801387786865,
          -5.4185404777526855,
          -6.333505153656006,
          -6.3137593269348145,
          -6.316906929016113,
          -5.5021138191223145,
          -6.277178764343262,
          -5.878225326538086,
          -5.851687908172607,
          -5.598332405090332,
          -5.770174980163574,
          -6.137411117553711,
          -5.731485843658447,
          -5.789737701416016,
          -5.368698596954346,
          -5.9816484451293945,
          -5.581323146820068,
          -5.463309288024902,
          -4.505765914916992,
          -4.568141937255859,
          -5.8944573402404785,
          -4.772647857666016,
          -5.425538539886475,
          -5.47166109085083,
          -5.1637725830078125,
          -5.73100471496582,
          -5.645912170410156,
          -5.08090353012085,
          -5.646075248718262,
          -6.276871681213379,
          -6.144630432128906,
          -5.401174545288086,
          -5.0603532791137695,
          -6.321393966674805,
          -5.558791637420654,
          -4.823799133300781,
          -4.480288505554199,
          -5.779120445251465,
          -4.980199337005615,
          -5.703278541564941,
          -6.368788719177246,
          -6.412362098693848,
          -6.408603668212891,
          -5.362500190734863
         ],
         "yaxis": "y"
        },
        {
         "customdata": [
          [
           "Taylor Swift"
          ],
          [
           "Billie Eilish"
          ],
          [
           "Imagine Dragons"
          ],
          [
           "Post Malone"
          ],
          [
           "Ed Sheeran"
          ],
          [
           "Bruno Mars"
          ],
          [
           "Rihanna"
          ],
          [
           "Coldplay"
          ],
          [
           "Maroon 5"
          ],
          [
           "Ariana Grande"
          ],
          [
           "OneRepublic"
          ],
          [
           "Lady Gaga"
          ],
          [
           "Olivia Rodrigo"
          ],
          [
           "Katy Perry"
          ],
          [
           "Shawn Mendes"
          ],
          [
           "Justin Bieber"
          ],
          [
           "Panic! At The Disco"
          ],
          [
           "David Guetta"
          ],
          [
           "Harry Styles"
          ],
          [
           "Lana Del Rey"
          ],
          [
           "Twenty One Pilots"
          ],
          [
           "Adele"
          ],
          [
           "One Direction"
          ],
          [
           "The Chainsmokers"
          ],
          [
           "Fall Out Boy"
          ],
          [
           "Miley Cyrus"
          ],
          [
           "Hozier"
          ],
          [
           "Beyoncé"
          ],
          [
           "Sabrina Carpenter"
          ],
          [
           "Marshmello"
          ],
          [
           "Avicii"
          ],
          [
           "Calvin Harris"
          ],
          [
           "Dua Lipa"
          ],
          [
           "Pitbull"
          ],
          [
           "Sia"
          ],
          [
           "Halsey"
          ],
          [
           "NF"
          ],
          [
           "Flo Rida"
          ],
          [
           "Britney Spears"
          ],
          [
           "Glass Animals"
          ],
          [
           "Alec Benjamin"
          ],
          [
           "Alan Walker"
          ],
          [
           "Tate McRae"
          ],
          [
           "Conan Gray"
          ],
          [
           "Charlie Puth"
          ],
          [
           "5 Seconds of Summer"
          ],
          [
           "Black Eyed Peas"
          ],
          [
           "Lewis Capaldi"
          ],
          [
           "Kesha"
          ],
          [
           "Khalid"
          ],
          [
           "Benson Boone"
          ],
          [
           "P!nk"
          ],
          [
           "Wiz Khalifa"
          ],
          [
           "James Arthur"
          ],
          [
           "Selena Gomez"
          ],
          [
           "Sam Smith"
          ],
          [
           "JVKE"
          ],
          [
           "AJR"
          ],
          [
           "Justin Timberlake"
          ],
          [
           "Macklemore & Ryan Lewis"
          ],
          [
           "Lil Nas X"
          ],
          [
           "Camila Cabello"
          ],
          [
           "Shakira"
          ],
          [
           "Noah Kahan"
          ],
          [
           "Demi Lovato"
          ],
          [
           "Tame Impala"
          ],
          [
           "Jason Derulo"
          ],
          [
           "Ellie Goulding"
          ],
          [
           "Vance Joy"
          ],
          [
           "Ruth B."
          ],
          [
           "Train"
          ],
          [
           "Artemas"
          ],
          [
           "The Lumineers"
          ],
          [
           "mgk"
          ],
          [
           "ZAYN"
          ],
          [
           "MGMT"
          ],
          [
           "blackbear"
          ],
          [
           "Bastille"
          ],
          [
           "Gym Class Heroes"
          ],
          [
           "Clean Bandit"
          ],
          [
           "BoyWithUke"
          ],
          [
           "The Script"
          ],
          [
           "Meghan Trainor"
          ],
          [
           "Lorde"
          ],
          [
           "Ava Max"
          ],
          [
           "DJ Snake"
          ],
          [
           "John Legend"
          ],
          [
           "Kygo"
          ],
          [
           "Tommy Richman"
          ],
          [
           "Stephen Sanchez"
          ],
          [
           "Christina Perri"
          ],
          [
           "Sean Paul"
          ],
          [
           "Owl City"
          ],
          [
           "Martin Garrix"
          ],
          [
           "Lukas Graham"
          ],
          [
           "Tiësto"
          ],
          [
           "Zedd"
          ],
          [
           "Chappell Roan"
          ],
          [
           "Avril Lavigne"
          ],
          [
           "Foster The People"
          ],
          [
           "Mariah Carey"
          ],
          [
           "Daft Punk"
          ],
          [
           "Nelly Furtado"
          ],
          [
           "American Authors"
          ],
          [
           "Mark Ronson"
          ],
          [
           "Kelly Clarkson"
          ],
          [
           "Lord Huron"
          ],
          [
           "Pharrell Williams"
          ],
          [
           "Lauv"
          ],
          [
           "The Score"
          ],
          [
           "B.o.B"
          ],
          [
           "Backstreet Boys"
          ],
          [
           "WALK THE MOON"
          ],
          [
           "Alessia Cara"
          ],
          [
           "David Kushner"
          ],
          [
           "Bebe Rexha"
          ],
          [
           "Andy Grammer"
          ],
          [
           "Labrinth"
          ],
          [
           "Dean Lewis"
          ],
          [
           "League of Legends"
          ],
          [
           "Gotye"
          ],
          [
           "Major Lazer"
          ],
          [
           "Jason Mraz"
          ],
          [
           "Shaboozey"
          ],
          [
           "Djo"
          ],
          [
           "Tom Odell"
          ],
          [
           "Jennifer Lopez"
          ],
          [
           "Jonas Brothers"
          ],
          [
           "Taio Cruz"
          ],
          [
           "Passenger"
          ],
          [
           "Carly Rae Jepsen"
          ],
          [
           "Fifth Harmony"
          ],
          [
           "fun."
          ],
          [
           "Niall Horan"
          ],
          [
           "Gwen Stefani"
          ],
          [
           "Dove Cameron"
          ],
          [
           "Troye Sivan"
          ],
          [
           "BØRNS"
          ],
          [
           "Zara Larsson"
          ],
          [
           "Jessie J"
          ],
          [
           "*NSYNC"
          ],
          [
           "Phoebe Bridgers"
          ],
          [
           "Nicky Youre"
          ],
          [
           "Tyla"
          ],
          [
           "Charli xcx"
          ],
          [
           "Teddy Swims"
          ],
          [
           "Alicia Keys"
          ],
          [
           "DNCE"
          ],
          [
           "Christina Aguilera"
          ],
          [
           "MKTO"
          ],
          [
           "Timbaland"
          ],
          [
           "Powfu"
          ],
          [
           "NEFFEX"
          ],
          [
           "Anne-Marie"
          ],
          [
           "The 1975"
          ],
          [
           "Duncan Laurence"
          ],
          [
           "AURORA"
          ],
          [
           "The Fray"
          ],
          [
           "Fergie"
          ],
          [
           "Oliver Tree"
          ],
          [
           "Fitz and The Tantrums"
          ],
          [
           "Little Mix"
          ],
          [
           "Elley Duhé"
          ],
          [
           "Florence + The Machine"
          ],
          [
           "Calum Scott"
          ],
          [
           "Plain White T's"
          ],
          [
           "Keane"
          ],
          [
           "Stellar"
          ],
          [
           "Milky Chance"
          ],
          [
           "Jaymes Young"
          ],
          [
           "Madison Beer"
          ],
          [
           "Natasha Bedingfield"
          ],
          [
           "Bazzi"
          ],
          [
           "TLC"
          ],
          [
           "Jeremy Zucker"
          ],
          [
           "Mike Posner"
          ],
          [
           "Gracie Abrams"
          ],
          [
           "Neon Trees"
          ],
          [
           "Of Monsters and Men"
          ],
          [
           "Kodaline"
          ],
          [
           "Destiny's Child"
          ],
          [
           "Skrillex"
          ],
          [
           "MAGIC!"
          ],
          [
           "Shaggy"
          ],
          [
           "TheFatRat"
          ],
          [
           "M83"
          ],
          [
           "Ashe"
          ],
          [
           "Jonas Blue"
          ],
          [
           "X Ambassadors"
          ],
          [
           "Empire Of The Sun"
          ],
          [
           "Ryan Mack"
          ],
          [
           "LMFAO"
          ],
          [
           "Two Door Cinema Club"
          ],
          [
           "Arizona Zervas"
          ],
          [
           "Noah Cyrus"
          ],
          [
           "Mumford & Sons"
          ],
          [
           "Spice Girls"
          ],
          [
           "RAYE"
          ],
          [
           "George Ezra"
          ],
          [
           "Bon Iver"
          ],
          [
           "Lizzy McAlpine"
          ],
          [
           "Snow Patrol"
          ],
          [
           "Connor Price"
          ],
          [
           "Lost Frequencies"
          ],
          [
           "Myles Smith"
          ],
          [
           "Masked Wolf"
          ],
          [
           "Lizzo"
          ],
          [
           "ILLENIUM"
          ],
          [
           "GROUPLOVE"
          ],
          [
           "BANNERS"
          ],
          [
           "Seafret"
          ],
          [
           "Swedish House Mafia"
          ],
          [
           "Capital Cities"
          ],
          [
           "Alok"
          ],
          [
           "Hailee Steinfeld"
          ],
          [
           "Tinashe"
          ],
          [
           "Galantis"
          ],
          [
           "New West"
          ],
          [
           "Rachel Platten"
          ],
          [
           "Tones And I"
          ],
          [
           "Why Don't We"
          ],
          [
           "Mary J. Blige"
          ],
          [
           "Rag'n'Bone Man"
          ],
          [
           "Selena Gomez & The Scene"
          ],
          [
           "Sade"
          ],
          [
           "Nathan Evans"
          ],
          [
           "Amy Winehouse"
          ],
          [
           "Alesso"
          ],
          [
           "John Mayer"
          ],
          [
           "Young the Giant"
          ],
          [
           "Dasha"
          ],
          [
           "Jay Sean"
          ],
          [
           "Disclosure"
          ],
          [
           "Yung Gravy"
          ],
          [
           "Tove Lo"
          ],
          [
           "Julia Michaels"
          ],
          [
           "GAYLE"
          ],
          [
           "Jon Bellion"
          ],
          [
           "Kenya Grace"
          ],
          [
           "Rixton"
          ],
          [
           "3OH!3"
          ],
          [
           "OMI"
          ],
          [
           "Jack Johnson"
          ],
          [
           "Zac Efron"
          ],
          [
           "Sara Bareilles"
          ],
          [
           "MAX"
          ],
          [
           "SLANDER"
          ],
          [
           "Chord Overstreet"
          ],
          [
           "KALEO"
          ],
          [
           "Portugal. The Man"
          ],
          [
           "Rosa Linn"
          ],
          [
           "Em Beihold"
          ],
          [
           "Robin Schulz"
          ],
          [
           "Cartoon"
          ],
          [
           "The Pussycat Dolls"
          ],
          [
           "Grover Washington, Jr."
          ],
          [
           "will.i.am"
          ],
          [
           "The Backseat Lovers"
          ],
          [
           "The Vamps"
          ],
          [
           "Daya"
          ],
          [
           "Steve Aoki"
          ],
          [
           "Kacey Musgraves"
          ],
          [
           "Mark Ambor"
          ],
          [
           "M.I.A."
          ],
          [
           "Hans Zimmer"
          ],
          [
           "Flume"
          ],
          [
           "MEDUZA"
          ],
          [
           "Grimes"
          ],
          [
           "R3HAB"
          ],
          [
           "Declan McKenna"
          ],
          [
           "Sasha Alex Sloan"
          ],
          [
           "Rainbow Kitten Surprise"
          ],
          [
           "Paul Russell"
          ],
          [
           "Blackstreet"
          ],
          [
           "Indila"
          ],
          [
           "Unlike Pluto"
          ],
          [
           "Natalie Jane"
          ],
          [
           "Sleeping At Last"
          ],
          [
           "Livingston"
          ],
          [
           "Cascada"
          ],
          [
           "James Bay"
          ],
          [
           "Macklemore"
          ],
          [
           "Farruko"
          ],
          [
           "Colbie Caillat"
          ],
          [
           "Nessa Barrett"
          ],
          [
           "Olly Alexander (Years & Years)"
          ],
          [
           "Olly Murs"
          ],
          [
           "Jordan Adetunji"
          ],
          [
           "Lupe Fiasco"
          ],
          [
           "Richy Mitch & The Coal Miners"
          ],
          [
           "Leah Kate"
          ],
          [
           "The Wanted"
          ],
          [
           "Alexander Stewart"
          ],
          [
           "Jax"
          ],
          [
           "JP Saxe"
          ],
          [
           "Mandy Moore"
          ],
          [
           "Trevor Daniel"
          ],
          [
           "Surfaces"
          ],
          [
           "NIKI"
          ],
          [
           "Anson Seabra"
          ],
          [
           "gnash"
          ],
          [
           "Far East Movement"
          ],
          [
           "Lauren Spencer Smith"
          ],
          [
           "MIKA"
          ],
          [
           "Armin van Buuren"
          ],
          [
           "Travie McCoy"
          ],
          [
           "Sevdaliza"
          ],
          [
           "Saint Motel"
          ],
          [
           "Sophie Ellis-Bextor"
          ],
          [
           "Bea Miller"
          ],
          [
           "Liam Payne"
          ],
          [
           "Icona Pop"
          ],
          [
           "Iggy Azalea"
          ],
          [
           "Omar Apollo"
          ],
          [
           "Ginuwine"
          ],
          [
           "Muni Long"
          ],
          [
           "Phillip Phillips"
          ],
          [
           "Egzod"
          ],
          [
           "Dhruv"
          ],
          [
           "Fred again.."
          ],
          [
           "Michael Marcagi"
          ],
          [
           "Alex Warren"
          ],
          [
           "Lykke Li"
          ],
          [
           "Will Smith"
          ],
          [
           "Nico & Vinz"
          ],
          [
           "Josh A"
          ],
          [
           "keshi"
          ],
          [
           "Nick Jonas"
          ],
          [
           "Ace of Base"
          ],
          [
           "AWOLNATION"
          ],
          [
           "CeeLo Green"
          ],
          [
           "Ruelle"
          ],
          [
           "Brandy"
          ],
          [
           "ODESZA"
          ],
          [
           "Tommee Profitt"
          ],
          [
           "Dimitri Vegas & Like Mike"
          ],
          [
           "Witt Lowry"
          ],
          [
           "Gryffin"
          ],
          [
           "Glee Cast"
          ],
          [
           "Tai Verdes"
          ],
          [
           "Edward Sharpe & The Magnetic Zeros"
          ],
          [
           "Joel Corry"
          ],
          [
           "Hugh Jackman"
          ],
          [
           "Ricky Martin"
          ],
          [
           "John Williams"
          ],
          [
           "COIN"
          ],
          [
           "Lil Dicky"
          ],
          [
           "Y2K"
          ],
          [
           "Lost Sky"
          ],
          [
           "James Blunt"
          ],
          [
           "Yeah Yeah Yeahs"
          ],
          [
           "Kina"
          ],
          [
           "Robin Thicke"
          ],
          [
           "Jaden"
          ],
          [
           "Jungle"
          ],
          [
           "Vicetone"
          ],
          [
           "Axwell /\\ Ingrosso"
          ],
          [
           "Kylie Minogue"
          ],
          [
           "Bell Biv DeVoe"
          ],
          [
           "Jamie Foxx"
          ],
          [
           "SAINt JHN"
          ],
          [
           "Ali Gatie"
          ],
          [
           "Justine Skye"
          ],
          [
           "Bella Poarch"
          ],
          [
           "Bruno Major"
          ],
          [
           "Dax"
          ],
          [
           "Paloma Faith"
          ],
          [
           "Two Feet"
          ],
          [
           "Sam Feldt"
          ],
          [
           "Briston Maroney"
          ],
          [
           "Timmy Trumpet"
          ],
          [
           "Chri$tian Gate$"
          ],
          [
           "Ms. Lauryn Hill"
          ],
          [
           "boygenius"
          ],
          [
           "Lindsey Stirling"
          ],
          [
           "Good Neighbours"
          ],
          [
           "John Newman"
          ],
          [
           "Boyz II Men"
          ],
          [
           "cassö"
          ],
          [
           "Jaxomy"
          ],
          [
           "LANY"
          ],
          [
           "Shouse"
          ],
          [
           "Deorro"
          ],
          [
           "Idina Menzel"
          ],
          [
           "Ryan Gosling"
          ],
          [
           "Jax Jones"
          ],
          [
           "The Cab"
          ],
          [
           "Stromae"
          ],
          [
           "Cash Cash"
          ],
          [
           "lovelytheband"
          ],
          [
           "Leona Lewis"
          ],
          [
           "Echosmith"
          ],
          [
           "Aphex Twin"
          ],
          [
           "Keala Settle"
          ],
          [
           "Fugees"
          ],
          [
           "Gabry Ponte"
          ],
          [
           "FINNEAS"
          ],
          [
           "Loren Allred"
          ],
          [
           "ACRAZE"
          ],
          [
           "Kaskade"
          ],
          [
           "Porter Robinson"
          ],
          [
           "Reneé Rapp"
          ],
          [
           "Loud Luxury"
          ],
          [
           "Daughter"
          ],
          [
           "Passion Pit"
          ],
          [
           "Auli'i Cravalho"
          ],
          [
           "Cobra Starship"
          ],
          [
           "Besomorph"
          ],
          [
           "HUGEL"
          ],
          [
           "Nathan Dawe"
          ],
          [
           "Pink Sweat$"
          ],
          [
           "The Paper Kites"
          ],
          [
           "Birdy"
          ],
          [
           "Rudimental"
          ],
          [
           "Loving Caliber"
          ],
          [
           "Felix Jaehn"
          ],
          [
           "Sam Fischer"
          ],
          [
           "Hanumankind"
          ],
          [
           "Lily Allen"
          ],
          [
           "Naeleck"
          ],
          [
           "Vanessa Carlton"
          ],
          [
           "MC Hammer"
          ],
          [
           "Michael Schulte"
          ],
          [
           "Iyaz"
          ],
          [
           "Woodkid"
          ],
          [
           "The Wombats"
          ],
          [
           "BENEE"
          ],
          [
           "Dillon Francis"
          ],
          [
           "Alex & Sierra"
          ],
          [
           "A Great Big World"
          ],
          [
           "Lea Salonga"
          ],
          [
           "Big Time Rush"
          ],
          [
           "K-391"
          ],
          [
           "Kyle Hume"
          ],
          [
           "House Of Pain"
          ],
          [
           "Tom Walker"
          ],
          [
           "Lou Bega"
          ],
          [
           "Henry Moodie"
          ],
          [
           "Cody Simpson"
          ],
          [
           "salem ilese"
          ],
          [
           "Hot Chelle Rae"
          ],
          [
           "Danny Elfman"
          ],
          [
           "Ziv Zaifman"
          ],
          [
           "Cher Lloyd"
          ],
          [
           "Sara Kays"
          ],
          [
           "Adam Lambert"
          ],
          [
           "Darude"
          ],
          [
           "Sigala"
          ],
          [
           "iamjakehill"
          ],
          [
           "Sofia Carson"
          ],
          [
           "James Hype"
          ],
          [
           "Jawsh 685"
          ],
          [
           "Clinton Kane"
          ],
          [
           "Peach Pit"
          ],
          [
           "Alexander 23"
          ],
          [
           "PLVTINUM"
          ],
          [
           "Daniel Powter"
          ],
          [
           "Dutch Melrose"
          ],
          [
           "The Head And The Heart"
          ],
          [
           "Chance Peña"
          ],
          [
           "La Roux"
          ],
          [
           "Dermot Kennedy"
          ],
          [
           "Leon Bridges"
          ],
          [
           "Zoe Wees"
          ],
          [
           "Naomi Scott"
          ],
          [
           "Loreen"
          ],
          [
           "Daisy the Great"
          ],
          [
           "Unknown Brain"
          ],
          [
           "Ben Rector"
          ],
          [
           "Adam Port"
          ],
          [
           "EMELINE"
          ],
          [
           "Carolina Gaitán - La Gaita"
          ],
          [
           "Kero Kero Bonito"
          ],
          [
           "Olivia O'Brien"
          ],
          [
           "Zayde Wølf"
          ],
          [
           "Toploader"
          ],
          [
           "Bryce Fox"
          ],
          [
           "Mt. Joy"
          ],
          [
           "Gigi Perez"
          ],
          [
           "Fleet Foxes"
          ],
          [
           "Surf Mesa"
          ],
          [
           "The Isley Brothers"
          ],
          [
           "Aaliyah"
          ],
          [
           "Various Artists"
          ],
          [
           "SYML"
          ],
          [
           "We The Kings"
          ],
          [
           "Peggy Gou"
          ],
          [
           "vaultboy"
          ],
          [
           "Home"
          ],
          [
           "Enya"
          ],
          [
           "Pentatonix"
          ],
          [
           "Eiffel 65"
          ],
          [
           "Parker Jack"
          ],
          [
           "Regard"
          ],
          [
           "Matt Hansen"
          ],
          [
           "Jorja Smith"
          ],
          [
           "Michael Giacchino"
          ],
          [
           "SHAED"
          ],
          [
           "Walk off the Earth"
          ],
          [
           "Rita Ora"
          ],
          [
           "Gavin DeGraw"
          ],
          [
           "Jordin Sparks"
          ],
          [
           "AFROJACK"
          ],
          [
           "Rednex"
          ],
          [
           "Becky Hill"
          ],
          [
           "Quinn XCII"
          ],
          [
           "flora cash"
          ],
          [
           "Modjo"
          ],
          [
           "Hannah Montana"
          ],
          [
           "Craig David"
          ],
          [
           "John Michael Howell"
          ],
          [
           "KSI"
          ],
          [
           "Zendaya"
          ],
          [
           "Maggie Rogers"
          ],
          [
           "Hardwell"
          ],
          [
           "Jay Chou"
          ],
          [
           "R. City"
          ],
          [
           "Nic D"
          ],
          [
           "Mabel"
          ],
          [
           "Imanbek"
          ],
          [
           "NOTD"
          ],
          [
           "Phoenix"
          ],
          [
           "Bishop Briggs"
          ],
          [
           "Naughty Boy"
          ],
          [
           "SWV"
          ],
          [
           "Ludovico Einaudi"
          ],
          [
           "Kim Petras"
          ],
          [
           "Ruel"
          ],
          [
           "Ray LaMontagne"
          ],
          [
           "Maggie Lindemann"
          ],
          [
           "Duckwrth"
          ],
          [
           "112"
          ],
          [
           "Alina Baraz"
          ],
          [
           "Zack Tabudlo"
          ],
          [
           "Flux Pavilion"
          ],
          [
           "Bleachers"
          ],
          [
           "why mona"
          ],
          [
           "Jack Ü"
          ],
          [
           "Matt Maeson"
          ],
          [
           "Bryce Vine"
          ],
          [
           "Benny Benassi"
          ],
          [
           "Noisestorm"
          ],
          [
           "Whethan"
          ],
          [
           "Andrew Gold"
          ],
          [
           "Victorious Cast"
          ],
          [
           "Lilly Wood and The Prick"
          ],
          [
           "José González"
          ],
          [
           "Forest Blakk"
          ],
          [
           "K-Ci & JoJo"
          ],
          [
           "Louis Tomlinson"
          ],
          [
           "Tori Kelly"
          ],
          [
           "Ray Parker Jr."
          ],
          [
           "Edith Whiskers"
          ],
          [
           "John Summit"
          ],
          [
           "Mark Morrison"
          ],
          [
           "Donny Osmond"
          ],
          [
           "Seven Lions"
          ],
          [
           "Father John Misty"
          ],
          [
           "Christian French"
          ],
          [
           "Edward Maya"
          ],
          [
           "Jagged Edge"
          ],
          [
           "Jamie Miller"
          ],
          [
           "NEIKED"
          ],
          [
           "Jess Glynne"
          ],
          [
           "Montell Jordan"
          ],
          [
           "Vengaboys"
          ],
          [
           "James TW"
          ],
          [
           "Rufus Wainwright"
          ],
          [
           "Dwayne Johnson"
          ],
          [
           "Kristen Bell"
          ],
          [
           "Azealia Banks"
          ],
          [
           "Kungs"
          ],
          [
           "Creeds"
          ],
          [
           "Nothing But Thieves"
          ],
          [
           "Damian Marley"
          ],
          [
           "China Anne McClain"
          ],
          [
           "RÜFÜS DU SOL"
          ],
          [
           "DJ Ashiq"
          ],
          [
           "Taron Egerton"
          ],
          [
           "Poo Bear"
          ],
          [
           "Gregory Alan Isakov"
          ],
          [
           "jxdn"
          ],
          [
           "Yellow Claw"
          ],
          [
           "Toni Braxton"
          ],
          [
           "Caamp"
          ],
          [
           "Corinne Bailey Rae"
          ],
          [
           "Tesher"
          ],
          [
           "Lithe"
          ],
          [
           "Technotronic"
          ],
          [
           "Missy Elliott"
          ],
          [
           "Syn Cole"
          ],
          [
           "Brian McKnight"
          ],
          [
           "Monica"
          ],
          [
           "Fools Garden"
          ],
          [
           "Dynoro"
          ],
          [
           "Breakbot"
          ],
          [
           "Ingrid Michaelson"
          ],
          [
           "Cheat Codes"
          ],
          [
           "Massive Attack"
          ],
          [
           "Justice"
          ],
          [
           "EDEN"
          ],
          [
           "Randy Newman"
          ],
          [
           "Andra Day"
          ],
          [
           "ATB"
          ],
          [
           "Ben Howard"
          ],
          [
           "Jesse McCartney"
          ],
          [
           "Jain"
          ],
          [
           "Astrid S"
          ],
          [
           "Skylar Grey"
          ],
          [
           "Jenna Raine"
          ],
          [
           "Janet Jackson"
          ],
          [
           "Mimi Webb"
          ],
          [
           "Samuel E. Wright"
          ],
          [
           "Jason Weaver"
          ],
          [
           "BENNETT"
          ],
          [
           "Munn"
          ],
          [
           "Remi Wolf"
          ],
          [
           "San Holo"
          ],
          [
           "The Strumbellas"
          ],
          [
           "Ryan Caraveo"
          ],
          [
           "The Chemical Brothers"
          ],
          [
           "Riton"
          ],
          [
           "Topic"
          ],
          [
           "Madilyn Bailey"
          ],
          [
           "Ella Henderson"
          ],
          [
           "Christian Leave"
          ],
          [
           "Jim Yosef"
          ],
          [
           "Kina Grannis"
          ],
          [
           "Maisie Peters"
          ],
          [
           "IV Of Spades"
          ],
          [
           "Metro Station"
          ],
          [
           "John Powell"
          ],
          [
           "Angus & Julia Stone"
          ],
          [
           "Rich Brian"
          ],
          [
           "Jonah Kagen"
          ],
          [
           "GRAHAM"
          ],
          [
           "VOILÀ"
          ],
          [
           "The Prodigy"
          ],
          [
           "Adam Jensen"
          ],
          [
           "Anika Noni Rose"
          ],
          [
           "Janelle Monáe"
          ],
          [
           "Sarah McLachlan"
          ],
          [
           "Adventure Club"
          ],
          [
           "Hippie Sabotage"
          ],
          [
           "He Is We"
          ],
          [
           "DJ Shadow"
          ],
          [
           "Tom Grennan"
          ],
          [
           "Sadie Jean"
          ],
          [
           "Sheppard"
          ],
          [
           "First Aid Kit"
          ],
          [
           "Sickick"
          ],
          [
           "Peter Bjorn and John"
          ],
          [
           "All-4-One"
          ],
          [
           "The Temper Trap"
          ],
          [
           "AJ Mitchell"
          ],
          [
           "Cast - Liv and Maddie"
          ],
          [
           "SunKissed Lola"
          ],
          [
           "Kat Dahlia"
          ],
          [
           "JJ Lin"
          ],
          [
           "Anthony Gonzalez"
          ],
          [
           "Jodi Benson"
          ],
          [
           "Joe"
          ],
          [
           "Iron & Wine"
          ],
          [
           "Aaryan Shah"
          ],
          [
           "Blu Cantrell"
          ],
          [
           "Maddie Zahm"
          ],
          [
           "Kelis"
          ],
          [
           "Hippo Campus"
          ],
          [
           "Yoke Lore"
          ],
          [
           "Mura Masa"
          ],
          [
           "Julie and the Phantoms Cast"
          ],
          [
           "MK"
          ],
          [
           "DJ Jazzy Jeff & The Fresh Prince"
          ],
          [
           "KSHMR"
          ],
          [
           "Judah & the Lion"
          ],
          [
           "Gang of Youths"
          ],
          [
           "Nathaniel Rateliff & The Night Sweats"
          ],
          [
           "Jon Lajoie"
          ],
          [
           "Bright Eyes"
          ],
          [
           "Sueco"
          ],
          [
           "Aero Chord"
          ],
          [
           "HVME"
          ],
          [
           "Pegboard Nerds"
          ],
          [
           "Cian Ducrot"
          ],
          [
           "flipturn"
          ],
          [
           "Rival"
          ],
          [
           "Aqua"
          ],
          [
           "Bad Suns"
          ],
          [
           "La Bouche"
          ],
          [
           "Breathe Carolina"
          ],
          [
           "Nick Drake"
          ],
          [
           "Flight Facilities"
          ],
          [
           "Emmit Fenn"
          ],
          [
           "Social House"
          ],
          [
           "Tristam"
          ],
          [
           "Sonny Fodera"
          ],
          [
           "Sam Fender"
          ],
          [
           "Dennis Lloyd"
          ],
          [
           "Caleb Hearn"
          ],
          [
           "Ross Lynch"
          ],
          [
           "New Edition"
          ],
          [
           "Mr. Probz"
          ],
          [
           "En Vogue"
          ],
          [
           "Wolf Alice"
          ],
          [
           "Janji"
          ],
          [
           "Fontaines D.C."
          ],
          [
           "The Piano Guys"
          ],
          [
           "Duke Dumont"
          ],
          [
           "D'Angelo"
          ],
          [
           "Besomage"
          ],
          [
           "Don Diablo"
          ],
          [
           "Excision"
          ],
          [
           "Haley Reinhart"
          ],
          [
           "Jasmine Thompson"
          ],
          [
           "Luude"
          ],
          [
           "Amy Adams"
          ],
          [
           "Angela Lansbury"
          ],
          [
           "Julie Andrews"
          ],
          [
           "TWOPILOTS"
          ],
          [
           "Nathan Lane"
          ],
          [
           "Zerb"
          ],
          [
           "Mahalini"
          ],
          [
           "Marnik"
          ],
          [
           "Arden Jones"
          ],
          [
           "Ryn Weaver"
          ],
          [
           "brakence"
          ],
          [
           "Jazmine Sullivan"
          ],
          [
           "The Japanese House"
          ],
          [
           "Camellia"
          ],
          [
           "Zach Hood"
          ],
          [
           "Öwnboss"
          ],
          [
           "FILV"
          ],
          [
           "thủy"
          ],
          [
           "Keith Sweat"
          ],
          [
           "MASN"
          ],
          [
           "Babyface"
          ],
          [
           "deadmau5"
          ],
          [
           "Tevin Campbell"
          ],
          [
           "NERO"
          ],
          [
           "King Princess"
          ],
          [
           "Novo Amor"
          ],
          [
           "Klaus Badelt"
          ],
          [
           "Radical Face"
          ],
          [
           "Bobby Brown"
          ],
          [
           "Bridgit Mendler"
          ],
          [
           "Petit Biscuit"
          ],
          [
           "Alice Deejay"
          ],
          [
           "BETWEEN FRIENDS"
          ],
          [
           "Stephanie Beatriz"
          ],
          [
           "Jessica Darrow"
          ],
          [
           "CRO"
          ],
          [
           "Vitamin String Quartet"
          ],
          [
           "Ben&Ben"
          ],
          [
           "Moira Dela Torre"
          ],
          [
           "Kris Kross"
          ],
          [
           "Mark Keali'i Ho'omalu"
          ],
          [
           "Rusted Root"
          ],
          [
           "High School Musical Cast"
          ],
          [
           "Next"
          ],
          [
           "Martin Jensen"
          ],
          [
           "elijah woods"
          ],
          [
           "Japanese Breakfast"
          ],
          [
           "Hopsin"
          ],
          [
           "Karmin"
          ],
          [
           "MDK"
          ],
          [
           "HRVY"
          ],
          [
           "Justin Hurwitz"
          ],
          [
           "Stacey Ryan"
          ],
          [
           "CamelPhat"
          ],
          [
           "Secondhand Serenade"
          ],
          [
           "Thee Sacred Souls"
          ],
          [
           "Alle Farben"
          ],
          [
           "Above & Beyond"
          ],
          [
           "Snakehips"
          ],
          [
           "Brent Morgan"
          ],
          [
           "Grace Potter"
          ],
          [
           "Julie Fowlis"
          ],
          [
           "Susan Egan"
          ],
          [
           "Alan Menken"
          ],
          [
           "The Veronicas"
          ],
          [
           "Everybody Loves an Outlaw"
          ],
          [
           "Bob Sinclar"
          ],
          [
           "RM. Rish"
          ],
          [
           "Aloe Blacc"
          ],
          [
           "Carmen Twillie"
          ],
          [
           "Boyce Avenue"
          ],
          [
           "Luciano"
          ],
          [
           "RIELL"
          ],
          [
           "Stardust"
          ],
          [
           "Jason Isbell and the 400 Unit"
          ],
          [
           "FKJ"
          ],
          [
           "RL Grime"
          ],
          [
           "Stephen Dawes"
          ],
          [
           "Air"
          ],
          [
           "Oh The Larceny"
          ],
          [
           "Dizzee Rascal"
          ],
          [
           "Guy Sebastian"
          ],
          [
           "Chase & Status"
          ],
          [
           "yuji"
          ],
          [
           "Cold War Kids"
          ],
          [
           "Kevin Abstract"
          ],
          [
           "The Growlers"
          ],
          [
           "UMI"
          ],
          [
           "DripReport"
          ],
          [
           "Mike Perry"
          ],
          [
           "John Vincent III"
          ],
          [
           "Lennon Stella"
          ],
          [
           "Lola Amour"
          ],
          [
           "FLETCHER"
          ],
          [
           "Parry Gripp"
          ],
          [
           "Hilary Duff"
          ],
          [
           "DVBBS"
          ],
          [
           "Kavinsky"
          ],
          [
           "Röyksopp"
          ],
          [
           "Houndmouth"
          ],
          [
           "Kurt Hugo Schneider"
          ],
          [
           "GRiZ"
          ],
          [
           "Alice Merton"
          ],
          [
           "Bryce Savage"
          ],
          [
           "Rina Sawayama"
          ],
          [
           "Atmosphere"
          ],
          [
           "King Krule"
          ],
          [
           "Smallpools"
          ],
          [
           "Dirty Palm"
          ],
          [
           "BUNT."
          ],
          [
           "VINAI"
          ],
          [
           "PVRIS"
          ],
          [
           "Lucy Dacus"
          ],
          [
           "Andrew Bird"
          ],
          [
           "Tyrese"
          ],
          [
           "W&W"
          ],
          [
           "A-Lin"
          ],
          [
           "Mr. Belt & Wezol"
          ],
          [
           "James Newton Howard"
          ],
          [
           "Diamond Eyes"
          ],
          [
           "Judy Kuhn"
          ],
          [
           "Troy"
          ],
          [
           "Tyler Shaw"
          ],
          [
           "The Midnight"
          ],
          [
           "Natalie Taylor"
          ],
          [
           "Emily Osment"
          ],
          [
           "Ocean Alley"
          ],
          [
           "Gigi D'Agostino"
          ],
          [
           "Solange"
          ],
          [
           "Joel Adams"
          ],
          [
           "twocolors"
          ],
          [
           "Ariana DeBose"
          ],
          [
           "Oh Wonder"
          ],
          [
           "Cat Burns"
          ],
          [
           "Alex Clare"
          ],
          [
           "Eric Chou"
          ],
          [
           "Jessica Baio"
          ],
          [
           "Chandler Kinney"
          ],
          [
           "Crash Adams"
          ],
          [
           "Alessandra"
          ],
          [
           "Catfish and the Bottlemen"
          ],
          [
           "Cat Power"
          ],
          [
           "4*TOWN (From Disney and Pixar’s Turning Red)"
          ],
          [
           "Lily James"
          ],
          [
           "Caroline Polachek"
          ],
          [
           "Halle"
          ],
          [
           "Hoodie Allen"
          ],
          [
           "Searows"
          ],
          [
           "Richard White"
          ],
          [
           "Ilene Woods"
          ],
          [
           "Elijah N"
          ],
          [
           "Diviners"
          ],
          [
           "Michael Franti & Spearhead"
          ],
          [
           "Milo Manheim"
          ],
          [
           "Raffi"
          ],
          [
           "Braaheim"
          ],
          [
           "Khruangbin"
          ],
          [
           "Never Shout Never"
          ],
          [
           "98º"
          ],
          [
           "Badger"
          ],
          [
           "FISHER"
          ],
          [
           "Lyodra"
          ],
          [
           "Yiruma"
          ],
          [
           "Mae Stephens"
          ],
          [
           "Tom Misch"
          ],
          [
           "Jacob Collier"
          ],
          [
           "Dom Dolla"
          ],
          [
           "StayLoose"
          ],
          [
           "Jubël"
          ],
          [
           "Sarah and the Sundays"
          ],
          [
           "Amerie"
          ],
          [
           "Silk City"
          ],
          [
           "88rising"
          ],
          [
           "Allie X"
          ],
          [
           "The Knocks"
          ],
          [
           "SABAI"
          ],
          [
           "Royel Otis"
          ],
          [
           "Prinz"
          ],
          [
           "Kimya Dawson"
          ],
          [
           "Ricky Desktop"
          ],
          [
           "Wild Rivers"
          ],
          [
           "The Cinematic Orchestra"
          ],
          [
           "PRETTYMUCH"
          ],
          [
           "John Prine"
          ],
          [
           "JVLA"
          ],
          [
           "Justus Bennetts"
          ],
          [
           "Grant"
          ],
          [
           "Ethel Cain"
          ],
          [
           "Devon Cole"
          ],
          [
           "SoMo"
          ],
          [
           "Prismo"
          ],
          [
           "Brandi Carlile"
          ],
          [
           "Tinie Tempah"
          ],
          [
           "The Citizens of Halloween"
          ],
          [
           "Alvaro Soler"
          ],
          [
           "Stephen"
          ],
          [
           "Alison Wonderland"
          ],
          [
           "DREAMERS"
          ],
          [
           "Amber Run"
          ],
          [
           "Dijon"
          ],
          [
           "CHVRCHES"
          ],
          [
           "Jon Batiste"
          ],
          [
           "CYRIL"
          ],
          [
           "Tremonti"
          ],
          [
           "Mena Massoud"
          ],
          [
           "TALK"
          ],
          [
           "Amy Macdonald"
          ],
          [
           "Alan Silvestri"
          ],
          [
           "Ricky Rich"
          ],
          [
           "Freya Ridings"
          ],
          [
           "G.R.L."
          ],
          [
           "Isak Danielson"
          ],
          [
           "Austin Mahone"
          ],
          [
           "Matt Sassari"
          ],
          [
           "Cupid"
          ],
          [
           "N.E.R.D"
          ],
          [
           "070 Shake"
          ],
          [
           "VeggieTales"
          ],
          [
           "JP Cooper"
          ],
          [
           "Los Del Rio"
          ],
          [
           "Majestic"
          ],
          [
           "David Archuleta"
          ],
          [
           "Adam Melchor"
          ],
          [
           "Dabin"
          ],
          [
           "Sabrina Claudio"
          ],
          [
           "Lenka"
          ],
          [
           "Pamungkas"
          ],
          [
           "Ofenbach"
          ],
          [
           "The Unlikely Candidates"
          ],
          [
           "Death Grips"
          ],
          [
           "Eason Chan"
          ],
          [
           "Aries"
          ],
          [
           "John K"
          ],
          [
           "Diddy - Dirty Money"
          ],
          [
           "Spongebob Squarepants"
          ],
          [
           "Kylie Cantrall"
          ],
          [
           "AronChupa"
          ],
          [
           "Michelle Williams"
          ],
          [
           "Robyn"
          ],
          [
           "Emeli Sandé"
          ],
          [
           "Sisqo"
          ],
          [
           "Super Simple Songs"
          ],
          [
           "Pinkfong"
          ],
          [
           "C & C Music Factory"
          ],
          [
           "Case"
          ],
          [
           "Raven's Banquet"
          ],
          [
           "Elektronomia"
          ],
          [
           "Mondays"
          ],
          [
           "Baha Men"
          ],
          [
           "Dirty Heads"
          ],
          [
           "Faith Evans"
          ],
          [
           "Jake Miller"
          ],
          [
           "Bonez MC"
          ],
          [
           "Fukkk Offf"
          ],
          [
           "Myles Kennedy"
          ],
          [
           "Tujamo"
          ],
          [
           "Dance Fruits Music"
          ],
          [
           "southstar"
          ],
          [
           "Spice"
          ],
          [
           "Johnny Orlando"
          ],
          [
           "Bahamas"
          ],
          [
           "hey, nothing"
          ],
          [
           "Diane Guerrero"
          ],
          [
           "Watt White"
          ],
          [
           "WAR*HALL"
          ],
          [
           "Sik World"
          ],
          [
           "Alexandra Stan"
          ],
          [
           "bLAck pARty"
          ],
          [
           "Daniel Di Angelo"
          ],
          [
           "Famy"
          ],
          [
           "Sick Individuals"
          ],
          [
           "Yves V"
          ],
          [
           "Michael Kiwanuka"
          ],
          [
           "Del Water Gap"
          ],
          [
           "Fantasia"
          ],
          [
           "Jodeci"
          ],
          [
           "Ben Folds"
          ],
          [
           "MOTHICA"
          ],
          [
           "Letdown."
          ],
          [
           "Labi Siffre"
          ],
          [
           "Loote"
          ],
          [
           "Fox Stevenson"
          ],
          [
           "kenzie"
          ],
          [
           "anees"
          ],
          [
           "DPR LIVE"
          ],
          [
           "juan karlos"
          ],
          [
           "Zeds Dead"
          ],
          [
           "Jake Scott"
          ],
          [
           "Blasterjaxx"
          ],
          [
           "Basshunter"
          ],
          [
           "Soul For Real"
          ],
          [
           "Naughty By Nature"
          ],
          [
           "BEAUZ"
          ],
          [
           "Frank Walker"
          ],
          [
           "Killer Mike"
          ],
          [
           "OK Go"
          ],
          [
           "BINI"
          ],
          [
           "honestav"
          ],
          [
           "Bombay Bicycle Club"
          ],
          [
           "Deaf Kev"
          ],
          [
           "Marianas Trench"
          ],
          [
           "gianni & kyle"
          ],
          [
           "Nicky Romero"
          ],
          [
           "Adie"
          ],
          [
           "TJ Monterde"
          ],
          [
           "Parov Stelar"
          ],
          [
           "HBz"
          ],
          [
           "Elderbrook"
          ],
          [
           "LP"
          ],
          [
           "Camylio"
          ],
          [
           "BOYS LIKE GIRLS"
          ],
          [
           "DROELOE"
          ],
          [
           "Shai"
          ],
          [
           "Paul Partohap"
          ],
          [
           "Hazlett"
          ],
          [
           "Ramin Djawadi"
          ],
          [
           "Culture Code"
          ],
          [
           "Lucas & Steve"
          ],
          [
           "The Teskey Brothers"
          ],
          [
           "Disco Lines"
          ],
          [
           "Teya Dora"
          ],
          [
           "LunchMoney Lewis"
          ],
          [
           "Stick Figure"
          ],
          [
           "Madeon"
          ],
          [
           "Niykee Heaton"
          ],
          [
           "Andra & The Backbone"
          ],
          [
           "Parokya Ni Edgar"
          ],
          [
           "Royal Deluxe"
          ],
          [
           "Gentrammel"
          ],
          [
           "Kris Kross Amsterdam"
          ],
          [
           "Howard Shore"
          ],
          [
           "Parachute"
          ],
          [
           "Rob Thomas"
          ],
          [
           "Louis The Child"
          ],
          [
           "Matoma"
          ],
          [
           "Throttle"
          ],
          [
           "Tobu"
          ],
          [
           "Sarah Jeffery"
          ],
          [
           "Tamia"
          ],
          [
           "Coco Jones"
          ],
          [
           "Traditional"
          ],
          [
           "Patrick Doyle"
          ],
          [
           "Alexandre Desplat"
          ],
          [
           "Dru Hill"
          ],
          [
           "Tony! Toni! Toné!"
          ],
          [
           "Edward Ong"
          ],
          [
           "Sk. Rakesh"
          ],
          [
           "Out in Front"
          ],
          [
           "Jack Kays"
          ],
          [
           "The Irrepressibles"
          ],
          [
           "Verna Felton"
          ],
          [
           "Bag Raiders"
          ],
          [
           "De Hofnar"
          ],
          [
           "HAIM"
          ],
          [
           "Nappy Roots"
          ],
          [
           "Frankie J"
          ],
          [
           "Anggi Marito"
          ],
          [
           "Tritonal"
          ],
          [
           "Purple Disco Machine"
          ],
          [
           "LL COOL J"
          ],
          [
           "Boards of Canada"
          ],
          [
           "Eric Prydz"
          ],
          [
           "Masove"
          ],
          [
           "Madism"
          ],
          [
           "ConKi"
          ],
          [
           "Mark Mendy"
          ],
          [
           "Alfons"
          ],
          [
           "Martin Solveig"
          ],
          [
           "The FifthGuys"
          ],
          [
           "Santigold"
          ],
          [
           "Knife Party"
          ],
          [
           "Manchester Orchestra"
          ],
          [
           "Peking Duk"
          ],
          [
           "Ashley Sienna"
          ],
          [
           "PawPaw Rod"
          ],
          [
           "Funkadelic"
          ],
          [
           "Sofi Tukker"
          ],
          [
           "Willie Colón"
          ],
          [
           "Charlie Burg"
          ],
          [
           "Chris Lake"
          ],
          [
           "Greyson Chance"
          ],
          [
           "Cookiee Kawaii"
          ],
          [
           "RealestK"
          ],
          [
           "SWMRS"
          ],
          [
           "BANKS"
          ],
          [
           "Shakey Graves"
          ],
          [
           "HARBOUR"
          ],
          [
           "Valentino Khan"
          ],
          [
           "Audrey Hepburn"
          ],
          [
           "Cliff Edwards"
          ],
          [
           "Hooligan Hefs"
          ],
          [
           "Brenn!"
          ],
          [
           "Wilkinson"
          ],
          [
           "mrld"
          ],
          [
           "Indigo De Souza"
          ],
          [
           "Namewee"
          ],
          [
           "Chico Rose"
          ],
          [
           "SkyDxddy"
          ],
          [
           "New Medicine"
          ],
          [
           "Peach Tree Rascals"
          ],
          [
           "Kid Travis"
          ],
          [
           "Slayyyter"
          ],
          [
           "Maxwell"
          ],
          [
           "Blue Foundation"
          ],
          [
           "Xscape"
          ],
          [
           "Kado"
          ],
          [
           "Josiah and the Bonnevilles"
          ],
          [
           "Grizzly Bear"
          ],
          [
           "The Band CAMINO"
          ],
          [
           "sombr"
          ],
          [
           "Timeflies"
          ],
          [
           "Modestep"
          ],
          [
           "Joy Oladokun"
          ],
          [
           "The Postal Service"
          ],
          [
           "Erik Satie"
          ],
          [
           "brb."
          ],
          [
           "Emotional Oranges"
          ],
          [
           "KUURO"
          ],
          [
           "Mako"
          ],
          [
           "Audien"
          ],
          [
           "We Three"
          ],
          [
           "The Ting Tings"
          ],
          [
           "Cashmere Cat"
          ],
          [
           "Feint"
          ],
          [
           "A Touch Of Class"
          ],
          [
           "NGHTMRE"
          ],
          [
           "Gareth Emery"
          ],
          [
           "Baltic House Orchestra"
          ],
          [
           "Four Tet"
          ],
          [
           "Run The Jewels"
          ],
          [
           "44phantom"
          ],
          [
           "Grady"
          ],
          [
           "Pashanim"
          ],
          [
           "Electric Guest"
          ],
          [
           "Sylvan Esso"
          ],
          [
           "mehro"
          ],
          [
           "MØ"
          ],
          [
           "Faithless"
          ],
          [
           "rhodessa"
          ],
          [
           "Arthur Nery"
          ],
          [
           "Ólafur Arnalds"
          ],
          [
           "Unknown Mortal Orchestra"
          ],
          [
           "Opetaia Foa'i"
          ],
          [
           "Black Pumas"
          ],
          [
           "Teqkoi"
          ],
          [
           "Billy Gillies"
          ],
          [
           "Prateek Kuhad"
          ],
          [
           "Shontelle"
          ],
          [
           "The Blessed Madonna"
          ],
          [
           "The Tech Thieves"
          ],
          [
           "G.E.M."
          ],
          [
           "Conro"
          ],
          [
           "Jamie xx"
          ],
          [
           "Desmeon"
          ],
          [
           "Skan"
          ],
          [
           "Courtney Barnett"
          ],
          [
           "The Barden Bellas"
          ],
          [
           "D.O.D"
          ],
          [
           "Henry Jackman"
          ],
          [
           "Ricchi E Poveri"
          ],
          [
           "Ryan Beatty"
          ],
          [
           "James Morrison"
          ],
          [
           "Mila J"
          ],
          [
           "Olivia Dean"
          ],
          [
           "Justice Crew"
          ],
          [
           "Brian Tyler"
          ],
          [
           "Miike Snow"
          ],
          [
           "Vulfpeck"
          ],
          [
           "Starley"
          ],
          [
           "FRENSHIP"
          ],
          [
           "Shura"
          ],
          [
           "Valley"
          ],
          [
           "Hollow Coves"
          ],
          [
           "Apashe"
          ],
          [
           "Afgan"
          ],
          [
           "Padi"
          ],
          [
           "Noah"
          ],
          [
           "Eliza Rose"
          ],
          [
           "The Avett Brothers"
          ],
          [
           "Ziggy Marley"
          ],
          [
           "Maribou State"
          ],
          [
           "Sofie Dossi"
          ],
          [
           "The City of Prague Philharmonic Orchestra"
          ],
          [
           "Rizky Febian"
          ],
          [
           "Robert Miles"
          ],
          [
           "Matt Simons"
          ],
          [
           "Musical Youth"
          ],
          [
           "Khaled"
          ],
          [
           "Groove Armada"
          ],
          [
           "American Football"
          ],
          [
           "ZOMBIES – Cast"
          ],
          [
           "The Last Dinner Party"
          ],
          [
           "Tream"
          ],
          [
           "Soolking"
          ],
          [
           "Ludwig Göransson"
          ],
          [
           "iNi Kamoze"
          ],
          [
           "Kidz Bop Kids"
          ],
          [
           "Shane Filan"
          ],
          [
           "Morgan Page"
          ],
          [
           "Pat Carroll"
          ],
          [
           "2CELLOS"
          ],
          [
           "Big Bird"
          ],
          [
           "梦然"
          ],
          [
           "Cynthia Erivo"
          ],
          [
           "Anna Nalick"
          ],
          [
           "The Civil Wars"
          ],
          [
           "Hidden Citizens"
          ],
          [
           "Jamie Lawson"
          ],
          [
           "Paolo Nutini"
          ],
          [
           "Savannah Dexter"
          ],
          [
           "Leandra Dielle"
          ],
          [
           "Austin Moon"
          ],
          [
           "Chelsea Cutler"
          ],
          [
           "Gabrielle Aplin"
          ],
          [
           "Vintage Culture"
          ],
          [
           "Bassnectar"
          ],
          [
           "Eraserheads"
          ],
          [
           "Marc E. Bassy"
          ],
          [
           "Roger Bart"
          ],
          [
           "Dave Barnes"
          ],
          [
           "Angel Olsen"
          ],
          [
           "Switch Disco"
          ],
          [
           "MUNA"
          ],
          [
           "Robin Hustin"
          ],
          [
           "Ren Ran"
          ],
          [
           "Hearts & Colors"
          ],
          [
           "Fun Guns"
          ],
          [
           "Ghea Indrawari"
          ],
          [
           "Mario G klau"
          ],
          [
           "Virgoun"
          ],
          [
           "ZHU"
          ],
          [
           "Matt Nathanson"
          ],
          [
           "GOVAN"
          ],
          [
           "midnight Berlin"
          ],
          [
           "Sad Puppy"
          ],
          [
           "Valentin"
          ],
          [
           "Eden Project"
          ],
          [
           "MITCH DB"
          ],
          [
           "J Boog"
          ],
          [
           "Durdenhauer"
          ],
          [
           "GYMBRO"
          ],
          [
           "Zhané"
          ],
          [
           "Oliver Heldens"
          ],
          [
           "Sami Rose"
          ],
          [
           "DJ Fresh"
          ],
          [
           "Noizu"
          ],
          [
           "Celina Sharma"
          ],
          [
           "F-777"
          ],
          [
           "Jordan Suaste"
          ],
          [
           "Shoti"
          ],
          [
           "Keisya Levronka"
          ],
          [
           "Raim Laode"
          ],
          [
           "Caesars"
          ],
          [
           "Zeph"
          ],
          [
           "Catie Turner"
          ],
          [
           "Thomas Day"
          ],
          [
           "Bree Runway"
          ],
          [
           "Luke Hemmings"
          ],
          [
           "Des Rocs"
          ],
          [
           "Emmylou Harris"
          ],
          [
           "Ekali"
          ],
          [
           "Virtual Riot"
          ],
          [
           "Pretty Lights"
          ],
          [
           "ARMNHMR"
          ],
          [
           "SG Lewis"
          ],
          [
           "Shonlock"
          ],
          [
           "Club Danger"
          ],
          [
           "Sleeping Wolf"
          ],
          [
           "INNA"
          ],
          [
           "Paula Abdul"
          ],
          [
           "Watchhouse"
          ],
          [
           "Obskür"
          ],
          [
           "TroyBoi"
          ],
          [
           "Party Favor"
          ],
          [
           "Landon Austin"
          ],
          [
           "Jon McLaughlin"
          ],
          [
           "BabyJake"
          ],
          [
           "Jelani Aryeh"
          ],
          [
           "Bru-C"
          ],
          [
           "PNAU"
          ],
          [
           "Macky Gee"
          ],
          [
           "ALMA"
          ],
          [
           "Sugababes"
          ],
          [
           "LF SYSTEM"
          ],
          [
           "zandros"
          ],
          [
           "Taska Black"
          ],
          [
           "Highly Suspect"
          ],
          [
           "Klaas"
          ],
          [
           "Cherub"
          ],
          [
           "ROLE MODEL"
          ],
          [
           "Guru Josh Project"
          ],
          [
           "Chiddy Bang"
          ],
          [
           "Nujabes"
          ],
          [
           "Monsune"
          ],
          [
           "Jennifer Hudson"
          ],
          [
           "Clarx"
          ],
          [
           "Petey Pablo"
          ],
          [
           "Jauz"
          ],
          [
           "Panda Eyes"
          ],
          [
           "Evan Honer"
          ],
          [
           "Quincy Jones"
          ],
          [
           "The Chain Gang Of 1974"
          ],
          [
           "Nitro Fun"
          ],
          [
           "Trevor Hall"
          ],
          [
           "Pixel Terror"
          ],
          [
           "bülow"
          ],
          [
           "The Naked And Famous"
          ],
          [
           "Sticky Fingers"
          ],
          [
           "Adina Howard"
          ],
          [
           "Adam Hicks"
          ],
          [
           "Cannons"
          ],
          [
           "Pedro Capó"
          ],
          [
           "The Sugarhill Gang"
          ],
          [
           "Michel Teló"
          ],
          [
           "Marc Broussard"
          ],
          [
           "Sara Skinner"
          ],
          [
           "Beth Crowley"
          ],
          [
           "Hotel Pools"
          ],
          [
           "De La Soul"
          ],
          [
           "Alabama Shakes"
          ],
          [
           "Imogen Heap"
          ],
          [
           "Gerry Cinnamon"
          ],
          [
           "GAMPER & DADONI"
          ],
          [
           "Joel Sunny"
          ],
          [
           "Fatboy Slim"
          ],
          [
           "Jónsi"
          ],
          [
           "Birdtalker"
          ],
          [
           "Extreme Music"
          ],
          [
           "Josh Gad"
          ],
          [
           "Lakim"
          ],
          [
           "No Resolve"
          ],
          [
           "Ummet Ozcan"
          ],
          [
           "Black Coast"
          ],
          [
           "Ron Pope"
          ],
          [
           "Jake Bugg"
          ],
          [
           "Keke Palmer"
          ],
          [
           "Vanessa Hudgens"
          ],
          [
           "Jemaine Clement"
          ],
          [
           "Sammy Virji"
          ],
          [
           "ANTH"
          ],
          [
           "Pendulum"
          ],
          [
           "Agnes Obel"
          ],
          [
           "London Grammar"
          ],
          [
           "Christopher"
          ],
          [
           "Felax"
          ],
          [
           "DeathbyRomy"
          ],
          [
           "Stephanie Poetri"
          ],
          [
           "Pia Mia"
          ],
          [
           "Moderat"
          ],
          [
           "Teminite"
          ],
          [
           "Eddie Vedder"
          ],
          [
           "E-Dubble"
          ],
          [
           "8 Graves"
          ],
          [
           "Stephen Swartz"
          ],
          [
           "Sonny Wern"
          ],
          [
           "Jillian Rossi"
          ],
          [
           "Kato"
          ],
          [
           "NURKO"
          ],
          [
           "Durand Jones & The Indications"
          ],
          [
           "Eva Cassidy"
          ],
          [
           "The Griswolds"
          ],
          [
           "Steps"
          ],
          [
           "The National"
          ],
          [
           "BABY GRAVY"
          ],
          [
           "Marc Korn"
          ],
          [
           "Turnstile"
          ],
          [
           "Medium Build"
          ],
          [
           "HeatleyBros"
          ],
          [
           "Ryan Adams"
          ],
          [
           "Jason Isbell"
          ],
          [
           "Scatman John"
          ],
          [
           "Hu Xia"
          ],
          [
           "The Macarons Project"
          ],
          [
           "Michael Wong"
          ],
          [
           "Alex Goot"
          ],
          [
           "Joe P"
          ],
          [
           "Kitty Kallen"
          ],
          [
           "Digitalism"
          ],
          [
           "John De Sohn"
          ],
          [
           "Kx5"
          ],
          [
           "Inner Circle"
          ],
          [
           "Emmy Meli"
          ],
          [
           "Tycho"
          ],
          [
           "Nobuo Uematsu"
          ],
          [
           "Bonobo"
          ],
          [
           "Arc North"
          ],
          [
           "Towa Bird"
          ],
          [
           "Andrew McMahon in the Wilderness"
          ],
          [
           "Subtronics"
          ],
          [
           "The Cheetah Girls"
          ],
          [
           "Zachary Knowles"
          ],
          [
           "La La Land Cast"
          ],
          [
           "Chromatics"
          ],
          [
           "EMO"
          ],
          [
           "December Avenue"
          ],
          [
           "Maki"
          ],
          [
           "RIOT"
          ],
          [
           "JoJo"
          ],
          [
           "Us The Duo"
          ],
          [
           "Futuristic"
          ],
          [
           "Chlöe"
          ],
          [
           "The Bravery"
          ],
          [
           "Shwayze"
          ],
          [
           "Juan Caoile"
          ],
          [
           "Sub Focus"
          ],
          [
           "Fleurie"
          ],
          [
           "BLÜ EYES"
          ],
          [
           "Underworld"
          ],
          [
           "Taylor Davis"
          ],
          [
           "LaLa Hsu"
          ],
          [
           "J.Tajor"
          ],
          [
           "New Politics"
          ],
          [
           "Hindia"
          ],
          [
           "INZO"
          ],
          [
           "teo glacier"
          ]
         ],
         "hovertemplate": "labels=Pop<br>x=%{x}<br>y=%{y}<br>names=%{customdata[0]}<extra></extra>",
         "legendgroup": "Pop",
         "marker": {
          "color": "#EF553B",
          "symbol": "circle"
         },
         "mode": "markers",
         "name": "Pop",
         "showlegend": true,
         "type": "scattergl",
         "x": [
          -1.2509137392044067,
          -1.6356263160705566,
          -1.0278936624526978,
          -1.4061371088027954,
          -1.0473575592041016,
          -1.0404062271118164,
          -0.8491340279579163,
          -1.0099087953567505,
          -1.0167334079742432,
          -1.3341660499572754,
          -0.9799371957778931,
          -0.8818719387054443,
          -1.613985538482666,
          -0.965503990650177,
          -1.0877145528793335,
          -1.07743239402771,
          -1.0507892370224,
          -0.6324060559272766,
          -1.2317324876785278,
          -1.9067314863204956,
          -1.0074670314788818,
          -1.0930087566375732,
          -0.9790685176849365,
          -1.0580065250396729,
          -0.9759114384651184,
          -1.0380703210830688,
          -1.7441298961639404,
          -0.7957068085670471,
          -1.7807198762893677,
          -1.0966728925704956,
          -0.9405103325843811,
          -0.4491066634654999,
          -1.4288482666015625,
          -0.8713054656982422,
          -1.0891339778900146,
          -1.2116823196411133,
          -1.3900463581085205,
          -0.8846421837806702,
          -0.784424364566803,
          -1.3003143072128296,
          -1.3552109003067017,
          -0.923331081867218,
          -1.7465307712554932,
          -1.7362865209579468,
          -1.0894076824188232,
          -1.1272155046463013,
          -0.8431859016418457,
          -1.1654764413833618,
          -0.8700390458106995,
          -1.3554037809371948,
          -1.7483599185943604,
          -0.8756517171859741,
          -1.074923038482666,
          -1.2219783067703247,
          -1.157944679260254,
          -1.120058298110962,
          -1.5850900411605835,
          -1.1982449293136597,
          -0.8277605175971985,
          -0.935409665107727,
          -1.3193683624267578,
          -1.1761902570724487,
          -0.7438142895698547,
          -1.6374797821044922,
          -0.9891003370285034,
          -1.9927923679351807,
          -0.9226914644241333,
          -1.092657208442688,
          -0.42917898297309875,
          -1.4544034004211426,
          -0.9010412693023682,
          -2.067519187927246,
          -0.43235713243484497,
          -1.3800286054611206,
          -1.199320912361145,
          -0.05355706810951233,
          -1.4023200273513794,
          -0.9770733714103699,
          -1.001877784729004,
          -1.0756806135177612,
          -1.6734646558761597,
          -0.9821985960006714,
          -1.0344607830047607,
          -0.6977168917655945,
          -1.1022067070007324,
          -0.8270049095153809,
          -1.0075924396514893,
          -0.1770017147064209,
          -1.9275741577148438,
          -1.7211005687713623,
          -1.1863822937011719,
          -0.8378249406814575,
          -0.9231750965118408,
          -0.4464968740940094,
          -1.0409307479858398,
          -0.02050166390836239,
          -1.0328937768936157,
          -1.8207130432128906,
          -0.8156775832176208,
          0.04021871089935303,
          -0.05693512782454491,
          -0.6959457397460938,
          -0.8081849217414856,
          -0.8842049241065979,
          -0.8953468203544617,
          -0.8555254936218262,
          -0.7599623203277588,
          -0.9220589995384216,
          -1.1196742057800293,
          -1.3139374256134033,
          -0.9664438962936401,
          -0.30234894156455994,
          -0.9225304126739502,
          -1.0870106220245361,
          -1.6644175052642822,
          -1.1266778707504272,
          -0.9169169664382935,
          -1.4158178567886353,
          -1.2402092218399048,
          -1.0984915494918823,
          -0.9183717966079712,
          -0.5797414779663086,
          0.6004433631896973,
          -1.7639240026474,
          -1.8475451469421387,
          -1.3021858930587769,
          -0.7812414169311523,
          -1.0456920862197876,
          -0.9008168578147888,
          -1.0362128019332886,
          -0.9717651009559631,
          -1.0434906482696533,
          -0.9005574584007263,
          -1.0871052742004395,
          -0.7505356073379517,
          1.4749577045440674,
          -1.7665095329284668,
          -0.30469122529029846,
          -0.9538407921791077,
          -1.0368837118148804,
          -0.43089208006858826,
          -0.6877119541168213,
          -1.2280993461608887,
          -1.860721468925476,
          -1.8911086320877075,
          -1.79165518283844,
          -0.6107184886932373,
          -0.9579596519470215,
          -0.35646307468414307,
          -0.9455108046531677,
          -0.820494532585144,
          -1.599934458732605,
          -1.2401294708251953,
          -1.1290359497070312,
          -0.39147821068763733,
          -1.3282889127731323,
          -1.4108425378799438,
          0.4670606255531311,
          -0.743790328502655,
          0.20344649255275726,
          -0.29346463084220886,
          -0.9263620972633362,
          -1.4394303560256958,
          -0.3676416575908661,
          -1.0271730422973633,
          -0.8836120963096619,
          -1.117793083190918,
          -1.6807199716567993,
          -0.3690481185913086,
          -1.333656668663025,
          -1.7463757991790771,
          -1.762146234512329,
          -1.3073153495788574,
          -0.15868355333805084,
          -1.2373285293579102,
          -0.7870569229125977,
          -1.1381279230117798,
          -0.24408891797065735,
          -0.3870597183704376,
          -1.0981535911560059,
          -0.22311803698539734,
          -0.006138992961496115,
          -0.9936995506286621,
          -0.6856594085693359,
          -0.8578994274139404,
          -0.3009629547595978,
          -1.4857077598571777,
          -0.09793777018785477,
          -0.8318371772766113,
          0.06745351105928421,
          -1.6393446922302246,
          -0.886978805065155,
          0.03236326575279236,
          -1.5164687633514404,
          -1.3891534805297852,
          -0.24861057102680206,
          -0.3186562955379486,
          -2.15240216255188,
          -0.594630241394043,
          -0.5915727019309998,
          -0.9057630300521851,
          0.48818108439445496,
          -1.56814706325531,
          -0.03969154506921768,
          -1.8350754976272583,
          -1.3950564861297607,
          -1.3047211170196533,
          -0.26664838194847107,
          -0.16032876074314117,
          -1.1321206092834473,
          -1.8323533535003662,
          -0.004933023359626532,
          -0.9657790660858154,
          0.023035241290926933,
          -1.1892937421798706,
          -1.9528987407684326,
          -0.20970472693443298,
          -1.8426367044448853,
          -0.9609616994857788,
          -1.1068859100341797,
          -1.6544684171676636,
          -0.13250182569026947,
          -0.8632729053497314,
          -0.9159855246543884,
          -0.06110532954335213,
          -0.7979127168655396,
          0.6355269551277161,
          -0.11501450836658478,
          0.5549588799476624,
          -0.22111274302005768,
          -1.7897638082504272,
          -0.9365894198417664,
          0.1478670984506607,
          -2.0943217277526855,
          -0.6116838455200195,
          -1.0124180316925049,
          -1.406677484512329,
          -1.0009437799453735,
          -1.8080390691757202,
          -1.0084939002990723,
          -0.6694761514663696,
          -0.9399175047874451,
          0.6226243376731873,
          1.134899616241455,
          0.6086220145225525,
          -1.1109240055084229,
          -0.7949720621109009,
          -1.2598212957382202,
          -0.3396243155002594,
          -0.10361811518669128,
          -1.474118709564209,
          -1.5750164985656738,
          -0.10154348611831665,
          -0.8151852488517761,
          -0.7041589617729187,
          1.5356298685073853,
          -0.865915060043335,
          -0.46148809790611267,
          -1.0261238813400269,
          -1.6854314804077148,
          -0.15558697283267975,
          -0.3551633954048157,
          -1.8034508228302002,
          -0.6684137582778931,
          -0.5292276740074158,
          -0.11877024173736572,
          0.04372601956129074,
          -0.061724722385406494,
          0.0380207784473896,
          -0.2981497347354889,
          -1.1593760251998901,
          -0.3565356135368347,
          -1.8124356269836426,
          -0.12204771488904953,
          -1.5610448122024536,
          -1.5045310258865356,
          -1.5089261531829834,
          -0.7372945547103882,
          -1.547134280204773,
          -0.3539206087589264,
          -1.1171224117279053,
          -1.0054359436035156,
          0.2113485485315323,
          0.6044019460678101,
          -1.6665759086608887,
          0.17428477108478546,
          -0.9701300859451294,
          -1.971670389175415,
          -0.8734750747680664,
          -1.8796229362487793,
          -1.497413158416748,
          -0.909885048866272,
          -1.3748242855072021,
          -1.4980648756027222,
          -1.2335519790649414,
          1.5879476070404053,
          -1.7988799810409546,
          -1.1665375232696533,
          -1.1016165018081665,
          -1.260310411453247,
          -1.1088054180145264,
          -0.8511216044425964,
          -1.2821388244628906,
          0.5931506156921387,
          0.08633378893136978,
          -0.8928471803665161,
          -2.0208938121795654,
          -0.20669236779212952,
          0.10335341840982437,
          -1.4117796421051025,
          -1.1016265153884888,
          -0.7931618690490723,
          -1.0391937494277954,
          -0.8134288191795349,
          -0.17882739007472992,
          -1.9798383712768555,
          -0.3008573353290558,
          -1.4577381610870361,
          -1.1128273010253906,
          0.17982256412506104,
          -1.7831265926361084,
          -1.5262863636016846,
          -0.9378910660743713,
          1.53022301197052,
          -0.6500284671783447,
          -1.7647466659545898,
          -1.1177719831466675,
          -0.6958504915237427,
          0.9945947527885437,
          -0.5153076648712158,
          -0.92573481798172,
          -1.228594422340393,
          -0.07209286093711853,
          -0.06467629969120026,
          -1.4413281679153442,
          0.19702579081058502,
          -1.190490484237671,
          -0.2152726948261261,
          -1.1717486381530762,
          -0.9739066958427429,
          -0.23153820633888245,
          0.043065719306468964,
          1.0738524198532104,
          0.9582254886627197,
          -0.5270488262176514,
          -0.5353520512580872,
          -0.9489268660545349,
          -1.9840983152389526,
          -1.0889487266540527,
          0.46517762541770935,
          0.16124525666236877,
          -1.3211768865585327,
          -0.6616942286491394,
          -1.0696333646774292,
          -0.03828750550746918,
          -0.46919646859169006,
          -0.2599526345729828,
          -0.32158657908439636,
          -0.11871609836816788,
          -0.5555373430252075,
          -0.03137022256851196,
          -1.1318843364715576,
          -2.2930290699005127,
          -1.5914499759674072,
          -1.0088064670562744,
          2.0445170402526855,
          -1.487544298171997,
          -0.84602952003479,
          -0.04668742045760155,
          -0.34937983751296997,
          0.0300674419850111,
          -1.6896699666976929,
          -0.06282737106084824,
          -0.6444397568702698,
          -0.054873671382665634,
          -1.8260498046875,
          -0.22764098644256592,
          -0.08357348293066025,
          0.20534414052963257,
          0.21536365151405334,
          -0.5301069617271423,
          0.16137680411338806,
          -0.20320731401443481,
          1.591502070426941,
          0.3821960389614105,
          -0.013279855251312256,
          -1.6734946966171265,
          -2.6216330528259277,
          -0.2993775010108948,
          -0.32801124453544617,
          -0.4310367703437805,
          -0.7972362041473389,
          0.12133897095918655,
          1.072823405265808,
          -0.13078749179840088,
          0.1514919549226761,
          -1.0107364654541016,
          1.0733412504196167,
          0.19910582900047302,
          -0.21745039522647858,
          -0.04050007462501526,
          -0.8468577265739441,
          -0.10223747044801712,
          -0.5753065347671509,
          0.1219555214047432,
          1.5876458883285522,
          -0.7770339846611023,
          -1.9342992305755615,
          0.1577165126800537,
          0.02723676525056362,
          -1.2441014051437378,
          -0.32825982570648193,
          -1.032067060470581,
          0.15417353808879852,
          -1.6686537265777588,
          -0.08919857442378998,
          -1.1849645376205444,
          -1.8812836408615112,
          0.654821515083313,
          0.43357542157173157,
          0.45527616143226624,
          1.0548654794692993,
          -1.1246925592422485,
          -0.9067687392234802,
          -0.6294344663619995,
          -0.28790897130966187,
          -0.6416165828704834,
          -0.20843392610549927,
          -1.0577325820922852,
          0.15932485461235046,
          1.6177953481674194,
          -1.2500516176223755,
          -0.8228557705879211,
          -1.6121747493743896,
          1.1533315181732178,
          -0.7680273652076721,
          1.0508490800857544,
          -1.1711167097091675,
          -1.5686639547348022,
          -1.582387089729309,
          -0.8538495898246765,
          1.570725440979004,
          1.0618549585342407,
          -0.8861680030822754,
          -1.0455000400543213,
          0.16319286823272705,
          0.24022050201892853,
          0.046354103833436966,
          -1.754046082496643,
          1.4810478687286377,
          0.1545897126197815,
          -0.8704274296760559,
          -1.2313008308410645,
          -0.34735503792762756,
          -0.7754423022270203,
          -2.0186779499053955,
          1.1072802543640137,
          -1.9075971841812134,
          -0.28677359223365784,
          -0.9104454517364502,
          -0.27081745862960815,
          -0.7643237709999084,
          -0.10757403820753098,
          -1.195324182510376,
          1.5764305591583252,
          -1.1650456190109253,
          -1.3687564134597778,
          -1.1033495664596558,
          5.549318790435791,
          -1.822407841682434,
          -1.5276421308517456,
          1.5531710386276245,
          -2.0103843212127686,
          -1.2767492532730103,
          -1.1993545293807983,
          0.19753789901733398,
          -1.3786146640777588,
          -0.2615290582180023,
          -1.2939776182174683,
          0.007649308070540428,
          0.15188249945640564,
          2.2579784393310547,
          -0.11682287603616714,
          -0.7563816905021667,
          -0.650174617767334,
          0.09893772751092911,
          0.14745265245437622,
          -1.5707883834838867,
          -2.7095377445220947,
          0.02648240141570568,
          -0.5518867373466492,
          0.9696527719497681,
          -1.5455526113510132,
          -0.052903078496456146,
          -1.4835808277130127,
          -1.9385173320770264,
          -0.576529860496521,
          -0.4847170412540436,
          -0.7666659355163574,
          -0.6096071600914001,
          0.40486273169517517,
          -0.6551479697227478,
          -0.07442247122526169,
          1.0185751914978027,
          -0.07752560824155807,
          -0.7937372326850891,
          -0.9160228371620178,
          0.12816447019577026,
          0.9858343005180359,
          1.585423469543457,
          -1.5051321983337402,
          -0.8056290745735168,
          -1.172937035560608,
          -0.38612252473831177,
          0.020854100584983826,
          -0.7320502996444702,
          -1.0619693994522095,
          -1.1802194118499756,
          -0.11793096363544464,
          0.0730319693684578,
          -0.31285783648490906,
          0.21963268518447876,
          -0.5710967183113098,
          -1.688520908355713,
          -0.06585372984409332,
          -0.9283406138420105,
          -1.9961590766906738,
          -1.008747935295105,
          -0.07984316349029541,
          -1.1614001989364624,
          -1.0357816219329834,
          -0.08238651603460312,
          -1.6580898761749268,
          -1.0894262790679932,
          -0.1996309608221054,
          -0.2142886519432068,
          -1.911146640777588,
          -0.16374529898166656,
          -0.5453112125396729,
          -0.8037561774253845,
          0.11954180896282196,
          -0.3675512373447418,
          -0.5164566040039062,
          1.0829086303710938,
          -1.4538661241531372,
          -0.06308963149785995,
          -0.042847905308008194,
          -1.1046643257141113,
          -0.03373495489358902,
          -1.1102845668792725,
          5.4825758934021,
          1.1048601865768433,
          -1.3920011520385742,
          0.10217118263244629,
          -0.1327648013830185,
          1.6113377809524536,
          -0.18952468037605286,
          -0.2031356245279312,
          -1.0887811183929443,
          -3.5098793506622314,
          -0.10629969835281372,
          -1.4854518175125122,
          -0.4186481535434723,
          -0.5901885032653809,
          -0.08672097325325012,
          1.0127794742584229,
          -0.7836067080497742,
          0.2078065276145935,
          1.6012932062149048,
          1.6099950075149536,
          -0.669835090637207,
          0.1250065118074417,
          0.2464139312505722,
          -0.24801167845726013,
          -0.3580780625343323,
          1.5080047845840454,
          0.23234665393829346,
          1.7976622581481934,
          -0.7437204122543335,
          -2.2855758666992188,
          -0.29572612047195435,
          -2.052091360092163,
          -0.28310343623161316,
          -0.04539104551076889,
          -0.22792060673236847,
          0.14340461790561676,
          -1.531630277633667,
          -1.917402982711792,
          1.0594432353973389,
          -0.6890152096748352,
          -0.8015459179878235,
          0.0044980281963944435,
          -0.07906023412942886,
          0.8117751479148865,
          0.04596851393580437,
          -1.4594221115112305,
          -0.3666384816169739,
          -0.1239405944943428,
          0.1660282164812088,
          -0.058709196746349335,
          -0.8623208403587341,
          1.5923891067504883,
          -1.0086191892623901,
          0.0531858429312706,
          -0.484758198261261,
          0.7957335114479065,
          0.16679956018924713,
          -1.772280216217041,
          -0.9638649225234985,
          -1.3852592706680298,
          -0.07820727676153183,
          -0.7248905301094055,
          1.6190438270568848,
          1.5896271467208862,
          0.23990650475025177,
          -1.268010139465332,
          -0.41104838252067566,
          -0.12948676943778992,
          -0.08699074387550354,
          -1.2424103021621704,
          0.31502047181129456,
          0.2281356006860733,
          0.039691537618637085,
          -0.1002422422170639,
          0.3107522130012512,
          -0.7259243130683899,
          -0.8177248239517212,
          0.23765482008457184,
          -1.1429383754730225,
          -1.0982868671417236,
          -0.3635012209415436,
          -0.3849085569381714,
          -0.04533933848142624,
          -1.343919038772583,
          -0.6529686450958252,
          -1.6383283138275146,
          -1.3636964559555054,
          0.3512491285800934,
          -1.2942365407943726,
          1.6079387664794922,
          0.4351012408733368,
          -0.21284422278404236,
          -0.18439236283302307,
          -0.1190800815820694,
          0.051405373960733414,
          0.20866332948207855,
          -0.5256661772727966,
          -1.283546805381775,
          -0.7835782766342163,
          -0.47682487964630127,
          -1.184449553489685,
          0.39121150970458984,
          -0.0024150621611624956,
          0.29309308528900146,
          -1.204484462738037,
          -1.1611523628234863,
          -1.1303640604019165,
          -1.1456586122512817,
          -0.6999150514602661,
          1.5966209173202515,
          1.6152693033218384,
          -0.07943999022245407,
          0.28809234499931335,
          -2.2838685512542725,
          -0.7787113785743713,
          -1.0359376668930054,
          -0.5137421488761902,
          -0.38520488142967224,
          -0.3303270637989044,
          0.05066441372036934,
          -1.224540114402771,
          0.15679813921451569,
          0.7718526721000671,
          -0.15722894668579102,
          -0.3873896598815918,
          -1.2732043266296387,
          -0.018123937770724297,
          -1.4076827764511108,
          -0.14287374913692474,
          -1.7481586933135986,
          -0.5819660425186157,
          -0.1334010660648346,
          -0.30787789821624756,
          -0.8259223699569702,
          -0.4039151966571808,
          -1.5306020975112915,
          0.9631022214889526,
          -0.25891807675361633,
          1.071236491203308,
          -0.341247022151947,
          -0.5187342762947083,
          -0.2257365882396698,
          -0.23534321784973145,
          -0.970892608165741,
          -0.3312954008579254,
          0.14044806361198425,
          0.23744572699069977,
          -0.19578392803668976,
          -1.333191990852356,
          -0.9180927872657776,
          -0.07572711259126663,
          -0.12541824579238892,
          -0.04511268436908722,
          -0.43234914541244507,
          -0.8173015117645264,
          -0.2753351926803589,
          -0.5284514427185059,
          0.04076158627867699,
          -0.17051947116851807,
          -1.89153254032135,
          -0.041696928441524506,
          -0.24208055436611176,
          -0.27123433351516724,
          -0.5904513597488403,
          0.21732676029205322,
          1.5972248315811157,
          1.5941646099090576,
          1.6148128509521484,
          0.06420619040727615,
          1.6154131889343262,
          0.20680509507656097,
          -1.1761491298675537,
          0.2328478991985321,
          -1.2972562313079834,
          -0.7326805591583252,
          -1.7499995231628418,
          -0.4144388437271118,
          -0.5670533776283264,
          -1.9536683559417725,
          -1.3025381565093994,
          0.13872532546520233,
          -2.2422728538513184,
          -0.8457807302474976,
          -0.09021782130002975,
          -1.9937875270843506,
          -0.009503575973212719,
          -0.002297395607456565,
          -0.08641412109136581,
          0.1403554528951645,
          -0.5991365313529968,
          -0.7948338389396667,
          -0.49283289909362793,
          -1.1040985584259033,
          -0.08810675144195557,
          -0.974290668964386,
          -0.7685076594352722,
          0.30972203612327576,
          -0.7661589980125427,
          1.5452158451080322,
          1.5299755334854126,
          -1.7092725038528442,
          -0.6085146069526672,
          -1.0767922401428223,
          -1.0703316926956177,
          -0.3555915653705597,
          1.6191966533660889,
          0.4928071200847626,
          1.420578122138977,
          -0.07888965308666229,
          -0.04677320271730423,
          -1.1738821268081665,
          -0.08778643608093262,
          -1.0710006952285767,
          -0.8898417353630066,
          -0.4242721498012543,
          -1.1015146970748901,
          0.13342313468456268,
          -1.1043592691421509,
          0.08213751763105392,
          -0.9056518077850342,
          -0.23606231808662415,
          0.03362582251429558,
          -0.06172511726617813,
          -0.7130842208862305,
          -0.2663443386554718,
          1.5399218797683716,
          1.5911192893981934,
          1.5981444120407104,
          1.5726606845855713,
          -0.4352194666862488,
          -0.5838524699211121,
          0.2310056984424591,
          1.8058465719223022,
          -1.2800034284591675,
          1.5861324071884155,
          0.2278832197189331,
          -1.6504334211349487,
          -1.8761954307556152,
          0.17872463166713715,
          0.41373151540756226,
          -0.07821480184793472,
          -0.29348695278167725,
          -1.5021746158599854,
          0.2178623080253601,
          -1.2851347923278809,
          -0.11204314976930618,
          -0.5966925621032715,
          0.20047259330749512,
          -1.14564847946167,
          0.02179221622645855,
          -0.8258162140846252,
          -0.3781559467315674,
          -1.0238423347473145,
          -1.9239927530288696,
          -0.624599814414978,
          -0.3124139904975891,
          -0.5798894762992859,
          -1.0792064666748047,
          -1.329202651977539,
          0.9963037967681885,
          0.8663108944892883,
          -0.4534440338611603,
          -0.06625229120254517,
          0.11257295310497284,
          -0.12323983758687973,
          -1.502115249633789,
          -0.2008965164422989,
          -0.46316030621528625,
          -1.2322304248809814,
          -0.9331921339035034,
          0.4208930432796478,
          0.14235633611679077,
          -0.24710465967655182,
          -1.0924545526504517,
          0.07419989258050919,
          0.07727258652448654,
          -0.8969846963882446,
          -0.587155818939209,
          -0.5087993741035461,
          -0.10053911805152893,
          -0.047805339097976685,
          -0.7122308015823364,
          0.2464035600423813,
          -0.5363516211509705,
          -1.0716761350631714,
          1.6359648704528809,
          0.8235036134719849,
          2.119107246398926,
          -0.3283141553401947,
          -1.3145533800125122,
          -1.5695507526397705,
          -2.3771910667419434,
          0.41003885865211487,
          -1.7026797533035278,
          -0.9622257947921753,
          0.0681537613272667,
          1.5479233264923096,
          -0.7093173265457153,
          -0.8843163251876831,
          -0.08811377733945847,
          -0.7297546863555908,
          -1.4393529891967773,
          1.3180168867111206,
          -1.5760133266448975,
          -1.4226651191711426,
          -0.049130216240882874,
          0.22924458980560303,
          1.5580040216445923,
          1.5901498794555664,
          0.1291448175907135,
          1.5799106359481812,
          -0.9500741958618164,
          -0.7096675634384155,
          1.6077905893325806,
          1.6341230869293213,
          -1.7256325483322144,
          -0.8218002319335938,
          0.8907229900360107,
          1.4355192184448242,
          0.9100045561790466,
          0.2278245985507965,
          0.12069863826036453,
          0.12438977509737015,
          1.5965373516082764,
          0.23400333523750305,
          0.17582890391349792,
          -1.1691811084747314,
          -0.526879608631134,
          -1.4315110445022583,
          -0.9828438758850098,
          0.3939160108566284,
          0.18453480303287506,
          -1.6120227575302124,
          -0.12673905491828918,
          -0.7319675087928772,
          -0.37731778621673584,
          0.11215469241142273,
          -1.0289688110351562,
          0.12538275122642517,
          -0.2006932944059372,
          -0.357146292924881,
          -1.9659640789031982,
          -1.8630986213684082,
          -0.29532796144485474,
          0.964121401309967,
          -0.30182120203971863,
          -0.7559201717376709,
          -1.0084470510482788,
          0.4499470591545105,
          -1.622234582901001,
          -0.8839696049690247,
          -0.28575319051742554,
          -0.7780413627624512,
          -1.220377802848816,
          -0.8006492257118225,
          -1.124398946762085,
          0.4454291760921478,
          0.23250478506088257,
          1.5105884075164795,
          -0.7892922163009644,
          -0.6402427554130554,
          -0.1381746381521225,
          -1.2606849670410156,
          -1.0718601942062378,
          -0.4923744797706604,
          0.11089744418859482,
          1.6241919994354248,
          0.12238824367523193,
          1.8001497983932495,
          1.6086039543151855,
          2.321582794189453,
          0.3297167122364044,
          -0.5594490766525269,
          -1.5863680839538574,
          -1.0383257865905762,
          -0.7395203709602356,
          -1.311599850654602,
          -0.7205700278282166,
          0.25159797072410583,
          0.9017605781555176,
          -1.7431836128234863,
          -0.47649872303009033,
          0.9739866256713867,
          -0.6877853274345398,
          1.0452691316604614,
          0.10185857862234116,
          -0.20687949657440186,
          -0.4170721471309662,
          -0.4141792356967926,
          -0.7583479285240173,
          -0.7318425178527832,
          -1.1722266674041748,
          0.06651701778173447,
          -1.2316323518753052,
          -0.04962996393442154,
          -0.737383246421814,
          -1.6509389877319336,
          -0.608854353427887,
          -0.857006847858429,
          -0.22505182027816772,
          1.3465914726257324,
          -1.2428830862045288,
          1.0867007970809937,
          0.4017179310321808,
          -0.9406991600990295,
          -0.09520673006772995,
          0.9527233242988586,
          0.9711378812789917,
          1.002026915550232,
          -0.052634309977293015,
          1.818049669265747,
          -0.8379557728767395,
          -1.6827341318130493,
          1.039322018623352,
          -0.2108517736196518,
          -0.06683474779129028,
          -1.27501380443573,
          -1.7068610191345215,
          0.595117449760437,
          1.8041832447052002,
          -0.045380380004644394,
          0.06677987426519394,
          0.22831086814403534,
          -1.5655919313430786,
          -1.2332763671875,
          0.20590682327747345,
          -0.5111805200576782,
          1.538184642791748,
          -1.2535347938537598,
          -1.2255080938339233,
          -2.361328601837158,
          -0.5012962222099304,
          -1.7420769929885864,
          -2.0190622806549072,
          -1.1395454406738281,
          -0.10159355401992798,
          -0.1456611156463623,
          0.15385641157627106,
          -0.6122888922691345,
          -0.18189947307109833,
          -0.06509151309728622,
          0.20210857689380646,
          -0.6957056522369385,
          -1.5438588857650757,
          -0.0169998686760664,
          -0.4129582941532135,
          -0.2938801348209381,
          -0.7439019083976746,
          -0.12942364811897278,
          -1.148239254951477,
          -1.0697274208068848,
          -0.25338006019592285,
          -0.9291626811027527,
          -0.003492291085422039,
          0.5398748517036438,
          -0.07847801595926285,
          -0.20777109265327454,
          -0.5007435083389282,
          -0.11153121292591095,
          0.07032840698957443,
          -0.04363644868135452,
          -1.1246973276138306,
          -1.587467074394226,
          0.09031308442354202,
          -0.8248580098152161,
          -0.21755948662757874,
          -0.867481529712677,
          -0.0666181668639183,
          -1.078108549118042,
          -1.0676575899124146,
          -0.02640499174594879,
          0.3662567436695099,
          -0.23944246768951416,
          -0.9294269680976868,
          -1.3060922622680664,
          -0.4327654242515564,
          -0.32990917563438416,
          -0.07231489568948746,
          -1.1231024265289307,
          -0.4639313519001007,
          -0.5531272888183594,
          -0.4710133373737335,
          -0.06466889381408691,
          0.4512626528739929,
          0.007902475073933601,
          -1.687764048576355,
          -0.10956934839487076,
          -0.5891635417938232,
          0.10616234689950943,
          -1.21591317653656,
          -1.1207071542739868,
          -0.999743640422821,
          -1.1988271474838257,
          -1.6297563314437866,
          0.008387801237404346,
          -0.5266725420951843,
          0.24187436699867249,
          0.1709451973438263,
          0.03202764689922333,
          -0.21683946251869202,
          -0.2909855544567108,
          -0.7790985703468323,
          1.4557079076766968,
          -0.06761321425437927,
          1.4308818578720093,
          -0.497561514377594,
          -0.5826380848884583,
          -0.548170268535614,
          -0.15464180707931519,
          -0.05994245409965515,
          -2.1371233463287354,
          1.798013687133789,
          1.8047517538070679,
          -0.9054926037788391,
          -1.0123568773269653,
          1.6010968685150146,
          0.309960275888443,
          0.20811733603477478,
          -0.7034967541694641,
          0.6609370708465576,
          -0.033631280064582825,
          -1.1589181423187256,
          -0.0879679024219513,
          0.11683341860771179,
          -0.2088569700717926,
          0.14753520488739014,
          0.1807277351617813,
          0.18117079138755798,
          0.18808558583259583,
          0.19971497356891632,
          0.16505402326583862,
          0.27610963582992554,
          0.0208919495344162,
          0.08540492504835129,
          0.1656370609998703,
          -0.29137852787971497,
          -0.6602094769477844,
          -0.15134675800800323,
          -1.5463013648986816,
          -0.43241995573043823,
          0.7912728786468506,
          0.0835316926240921,
          -0.13749980926513672,
          -0.39955469965934753,
          0.17833571135997772,
          -0.3634883165359497,
          -0.636467456817627,
          -1.8464468717575073,
          -0.5058901309967041,
          -0.39362919330596924,
          -0.44288238883018494,
          -0.6249390244483948,
          -0.2164553552865982,
          0.6553545594215393,
          1.6197080612182617,
          -0.5841606855392456,
          -0.3171078860759735,
          0.01105946023017168,
          -1.104968786239624,
          -0.41466251015663147,
          -0.6913841962814331,
          -0.08766288310289383,
          -1.31040620803833,
          0.10659658908843994,
          -0.8635082244873047,
          -0.9088619351387024,
          -0.6356300115585327,
          -0.04868699610233307,
          -0.2578750252723694,
          -0.09831484407186508,
          -1.7022132873535156,
          -0.2354191243648529,
          0.2739810049533844,
          -0.5190992951393127,
          -0.5553831458091736,
          -1.0218875408172607,
          0.14553695917129517,
          -0.376838356256485,
          -0.20407797396183014,
          -0.35736188292503357,
          -1.106597661972046,
          -0.29242512583732605,
          -0.20397411286830902,
          -1.5045244693756104,
          -0.16533653438091278,
          -1.4567217826843262,
          0.7327068448066711,
          -0.17205041646957397,
          -0.2515247166156769,
          0.3587142825126648,
          -0.1757252961397171,
          -0.12774178385734558,
          -1.1431113481521606,
          0.1372307538986206,
          -0.020521918311715126,
          -0.4817863702774048,
          -0.8726447820663452,
          -2.042043447494507,
          0.13907940685749054,
          -0.48690277338027954,
          -1.0702102184295654,
          -0.012785334140062332,
          0.3332420289516449,
          -1.101108193397522,
          -1.082598090171814,
          -0.5818914771080017,
          -0.6058750152587891,
          1.56306791305542,
          0.1900334507226944,
          -1.4116356372833252,
          0.1869613528251648,
          -0.5777548551559448,
          -1.078191876411438,
          0.20046360790729523,
          -0.6023511290550232,
          -0.7145745754241943,
          -0.35668084025382996,
          -0.1403186172246933,
          -0.8199858069419861,
          -1.002069115638733,
          0.13456383347511292,
          -0.5483455061912537,
          0.09067075699567795,
          -0.67645663022995,
          0.5460298657417297,
          -0.4688052237033844,
          -0.19701118767261505,
          -2.3548057079315186,
          -0.6998948454856873,
          -0.3714502453804016,
          -0.6690715551376343,
          0.14095303416252136,
          0.18509741127490997,
          -0.41726356744766235,
          -0.4719434082508087,
          -0.5138282179832458,
          -0.43924465775489807,
          -0.18039542436599731,
          -0.02328435517847538,
          -1.1260533332824707,
          -1.1246057748794556,
          -1.078202486038208,
          0.21701227128505707,
          -0.09024710953235626,
          0.8150736689567566,
          -0.1977844387292862,
          -1.6567474603652954,
          -0.5130699276924133,
          -1.0251456499099731,
          0.4071045219898224,
          0.2729358673095703,
          -0.8149123787879944,
          -0.009340263903141022,
          0.3620855510234833,
          -0.41362038254737854,
          1.324535846710205,
          -0.7935728430747986,
          -1.7454973459243774,
          -1.3279414176940918,
          0.0733586922287941,
          1.0663342475891113,
          0.72666335105896,
          -0.6883408427238464,
          -0.2551499009132385,
          1.6022356748580933,
          -0.52765291929245,
          0.9297730326652527,
          -0.784534752368927,
          1.448617935180664,
          0.4779543876647949,
          0.47634509205818176,
          -0.29813113808631897,
          0.6085798740386963,
          0.6669195890426636,
          -1.0146375894546509,
          1.802459716796875,
          1.2343748807907104,
          -0.8613022565841675,
          -0.6329963207244873,
          0.053536225110292435,
          -0.0791878029704094,
          -1.0642095804214478,
          -0.7272627353668213,
          1.6109670400619507,
          0.6458094716072083,
          -0.37845754623413086,
          0.028307143598794937,
          -0.4061019718647003,
          -0.9307027459144592,
          -0.7128702402114868,
          -0.4964205026626587,
          0.9377650618553162,
          -1.1877961158752441,
          -1.1637059450149536,
          -1.174831748008728,
          -0.2371705323457718,
          0.6184571981430054,
          -1.8769731521606445,
          -1.8967171907424927,
          -1.9842205047607422,
          -1.9287256002426147,
          -1.2056831121444702,
          0.2544104754924774,
          -0.23914489150047302,
          0.2607904374599457,
          0.22707228362560272,
          -0.06670577079057693,
          0.11685825884342194,
          -1.5666166543960571,
          0.05422180891036987,
          0.1311522126197815,
          1.796538233757019,
          -1.8063102960586548,
          -1.697579026222229,
          -1.1678906679153442,
          -1.1749293804168701,
          -1.1614673137664795,
          -0.10895944386720657,
          -1.3442761898040771,
          -1.1377207040786743,
          -1.297562599182129,
          -2.0000312328338623,
          -1.0066312551498413,
          -1.1789305210113525,
          0.47197988629341125,
          -0.3230814039707184,
          -0.46994549036026,
          -0.1545369178056717,
          -0.2260400950908661,
          -0.38641905784606934,
          -1.200018286705017,
          -1.263807773590088,
          -1.1737339496612549,
          -0.05173260718584061,
          -0.01661880686879158,
          2.3213369846343994,
          -0.18819397687911987,
          -0.23603644967079163,
          -0.32062554359436035,
          -0.7755841016769409,
          0.2538602650165558,
          -1.0544489622116089,
          -0.6744137406349182,
          -0.5690860748291016,
          -0.2951315641403198,
          -0.5511620044708252,
          -0.5888351798057556,
          0.02631700038909912,
          0.13460034132003784,
          -2.1040101051330566,
          -0.5182512998580933,
          -0.8358268141746521,
          -0.25217071175575256,
          -0.34932005405426025,
          -0.5857859253883362,
          -0.23789313435554504,
          -1.9897739887237549,
          -0.7881139516830444,
          -0.8272785544395447,
          -0.14369027316570282,
          -1.3736021518707275,
          -0.9944186210632324,
          -0.30218568444252014,
          -0.3495635390281677,
          -0.625462532043457,
          0.8038740158081055,
          0.0361175611615181,
          -0.328559547662735,
          0.04864335432648659,
          -0.7640000581741333,
          -0.7724022269248962,
          0.15593668818473816,
          -0.018076278269290924,
          -0.05854243412613869,
          -0.9923512935638428,
          -0.46003636717796326,
          -0.3027518093585968,
          -0.11164384335279465,
          -0.5768535733222961,
          0.23716780543327332,
          -1.5545644760131836,
          -1.5414135456085205,
          -1.763797640800476,
          -0.1025465875864029,
          0.8477056622505188,
          0.8325371146202087,
          0.12418249994516373,
          0.07707440853118896,
          -1.5909757614135742,
          0.4217703640460968,
          -0.44429653882980347,
          -0.12684820592403412,
          -1.1375720500946045,
          1.570358157157898,
          -1.050128698348999,
          1.7147709131240845,
          -0.11607447266578674,
          -0.47463732957839966,
          0.08786914497613907,
          0.5337937474250793,
          0.7003804445266724,
          -0.27392005920410156,
          1.531942367553711,
          0.08095683157444,
          -1.6398066282272339,
          -0.09535074234008789,
          -0.5944679975509644,
          -0.6344961524009705,
          0.5928707122802734,
          -3.495476007461548,
          -1.2202763557434082,
          -1.0522648096084595,
          -0.21068932116031647,
          0.12135817110538483,
          -0.5084710717201233,
          0.2447614073753357,
          -1.1124522686004639,
          -1.2376189231872559,
          0.022618038579821587,
          0.24628178775310516,
          1.7638181447982788,
          -0.5664832592010498,
          -0.35684502124786377,
          -0.17063376307487488,
          0.6278191804885864,
          -0.20165902376174927,
          0.8777661919593811,
          -0.7518460750579834,
          -2.1850879192352295,
          -0.42145630717277527,
          -0.29765695333480835,
          -0.20127630233764648,
          -1.6751508712768555,
          0.37182557582855225,
          0.34626710414886475,
          0.9790415167808533,
          -0.6413242220878601,
          -0.6094383597373962,
          -0.6460597515106201,
          -0.5367507934570312,
          -0.6439537405967712,
          -0.923027515411377,
          0.16850915551185608,
          -0.15260319411754608,
          -0.16890227794647217,
          -0.2913786768913269,
          -1.399341106414795,
          0.12569645047187805,
          0.035802412778139114,
          0.11990238726139069,
          -0.9573920369148254,
          -0.8153011798858643,
          -0.19971801340579987,
          -0.2235008180141449,
          0.7599065899848938,
          -1.2282791137695312,
          0.3639523684978485,
          -0.44253066182136536,
          -1.3974956274032593,
          -1.0744074583053589,
          -1.0776114463806152,
          -0.35861191153526306,
          0.7600834369659424,
          0.018913544714450836,
          -0.8406273126602173,
          -2.2974905967712402,
          0.24414220452308655,
          -0.5613452196121216,
          -1.105371117591858,
          -0.21239390969276428,
          -1.1279354095458984,
          -0.9706913232803345,
          0.3584813177585602,
          -0.49547281861305237,
          -0.7284660935401917,
          -1.2060935497283936,
          -0.152507945895195,
          -1.2166380882263184,
          0.07648841291666031,
          -1.7502127885818481
         ],
         "xaxis": "x",
         "y": [
          -4.586666584014893,
          -4.20700740814209,
          -4.575769901275635,
          -4.730603218078613,
          -4.626814842224121,
          -4.759899616241455,
          -5.109376430511475,
          -4.581414222717285,
          -4.696404933929443,
          -4.686151027679443,
          -4.627373218536377,
          -4.99847936630249,
          -4.129525184631348,
          -4.84624719619751,
          -4.609987735748291,
          -4.663699626922607,
          -4.5197272300720215,
          -4.869529724121094,
          -4.492435932159424,
          -3.7227602005004883,
          -4.603718280792236,
          -4.6512556076049805,
          -4.702178478240967,
          -4.626194477081299,
          -4.455971717834473,
          -4.742825508117676,
          -4.347122669219971,
          -5.190303325653076,
          -4.440377235412598,
          -4.622063159942627,
          -4.622853755950928,
          -4.74573278427124,
          -4.59815788269043,
          -5.032578468322754,
          -4.697208881378174,
          -4.441866874694824,
          -4.370388984680176,
          -5.054849624633789,
          -5.079730987548828,
          -4.405525207519531,
          -4.03340482711792,
          -3.956906318664551,
          -4.418613433837891,
          -3.6720309257507324,
          -4.651666641235352,
          -4.520501136779785,
          -5.1662983894348145,
          -4.213225364685059,
          -5.013259410858154,
          -4.661795616149902,
          -4.323510646820068,
          -4.988183975219727,
          -4.796053409576416,
          -4.100915908813477,
          -4.607971668243408,
          -4.569361686706543,
          -4.050753116607666,
          -3.973633050918579,
          -5.190828323364258,
          -4.978940486907959,
          -4.682437419891357,
          -4.680588245391846,
          -5.157595157623291,
          -4.195003032684326,
          -4.807199478149414,
          -5.249992847442627,
          -5.087188720703125,
          -4.559505939483643,
          -3.3448808193206787,
          -3.946542739868164,
          -4.666887283325195,
          -4.326918601989746,
          -3.271484136581421,
          -4.620733261108398,
          -4.530200958251953,
          -3.2997941970825195,
          -4.336545944213867,
          -4.58517599105835,
          -4.6705780029296875,
          -4.655370235443115,
          -3.4378979206085205,
          -4.6076555252075195,
          -4.805777549743652,
          -3.3794302940368652,
          -4.572378635406494,
          -4.754554271697998,
          -4.595364093780518,
          -4.632010459899902,
          -4.483335494995117,
          -3.9183244705200195,
          -4.1285552978515625,
          -5.275557041168213,
          -4.599553108215332,
          -4.621534824371338,
          -4.567468643188477,
          -4.639410495758057,
          -4.623343467712402,
          -4.370700359344482,
          -4.9717020988464355,
          -3.4182698726654053,
          -5.767629623413086,
          -4.669776439666748,
          -5.188115119934082,
          -4.642328262329102,
          -4.920319557189941,
          -4.936703205108643,
          -3.120534896850586,
          -4.955870151519775,
          -4.531139850616455,
          -2.714914560317993,
          -5.119816303253174,
          -5.105597972869873,
          -4.6368489265441895,
          -4.494388580322266,
          -4.165352821350098,
          -4.525353908538818,
          -4.60317325592041,
          -3.956911087036133,
          -3.9785869121551514,
          -3.541384696960449,
          -4.6769537925720215,
          -4.688103199005127,
          -3.401527166366577,
          -4.4306254386901855,
          -4.372122287750244,
          -4.01584005355835,
          -5.186558723449707,
          -4.719805717468262,
          -5.022512435913086,
          -4.518138408660889,
          -4.88685941696167,
          -4.756092071533203,
          -4.695246696472168,
          -4.509624004364014,
          -5.175500869750977,
          -5.184967517852783,
          -4.388272285461426,
          -3.326582431793213,
          -4.594738483428955,
          -4.7890167236328125,
          -5.052046298980713,
          -2.9469943046569824,
          -4.4827728271484375,
          -4.478269100189209,
          -4.420775890350342,
          -4.419765472412109,
          -5.414748191833496,
          -4.65511417388916,
          -5.145025253295898,
          -4.687313079833984,
          -5.270801544189453,
          -3.722264051437378,
          -3.3550219535827637,
          -4.518993854522705,
          -2.8962948322296143,
          -3.972017765045166,
          -3.9330854415893555,
          -3.126004934310913,
          -5.189085006713867,
          -4.820049285888672,
          -3.301532506942749,
          -4.595086574554443,
          -3.954150915145874,
          -3.3238532543182373,
          -4.0356011390686035,
          -4.667385578155518,
          -3.838247776031494,
          -3.366720676422119,
          -3.2836334705352783,
          -4.013652801513672,
          -4.344093322753906,
          -4.443209648132324,
          -4.310885429382324,
          -5.688651084899902,
          -3.9575355052948,
          -5.1014628410339355,
          -3.542966604232788,
          -3.2900428771972656,
          -3.232584238052368,
          -3.8601927757263184,
          -5.5054802894592285,
          -4.2961015701293945,
          -4.67751932144165,
          -5.145383358001709,
          -3.7574825286865234,
          -3.350717544555664,
          -3.708944082260132,
          -4.606685161590576,
          -4.331110000610352,
          -3.460526943206787,
          -3.3978078365325928,
          -5.0337114334106445,
          -3.3738064765930176,
          -4.5299201011657715,
          -3.7828104496002197,
          -3.1213507652282715,
          -5.151451110839844,
          -4.614738464355469,
          -3.972172260284424,
          -3.0141477584838867,
          -3.315333366394043,
          -3.154381513595581,
          -3.507230043411255,
          -4.6115546226501465,
          -4.394527435302734,
          -4.505218982696533,
          -4.732106685638428,
          -4.294635772705078,
          -3.2531142234802246,
          -4.211636066436768,
          -3.765857458114624,
          -4.532233238220215,
          -4.64735221862793,
          -4.701929569244385,
          -4.535610198974609,
          -4.5428009033203125,
          -4.455844879150391,
          -3.8130733966827393,
          -4.788664817810059,
          -4.570210933685303,
          -3.391408920288086,
          -5.753825664520264,
          -4.075200080871582,
          -4.919559955596924,
          -5.73703670501709,
          -4.039987087249756,
          -3.6038613319396973,
          -4.388665676116943,
          -3.159285545349121,
          -3.1707746982574463,
          -4.383390426635742,
          -5.45627498626709,
          -4.674933910369873,
          -4.276642799377441,
          -4.366911888122559,
          -3.9950673580169678,
          -3.8486716747283936,
          -3.6076176166534424,
          -4.437700271606445,
          -4.674417018890381,
          -5.0261549949646,
          -4.684647083282471,
          -3.210019588470459,
          -4.718160629272461,
          -3.3951141834259033,
          -1.0605440139770508,
          -4.145105838775635,
          -3.904839038848877,
          -3.34804630279541,
          -3.260951042175293,
          -3.9684629440307617,
          -3.3927669525146484,
          -4.570743560791016,
          -3.7649319171905518,
          -5.165103912353516,
          -3.5767412185668945,
          -5.057311058044434,
          -2.7399120330810547,
          -4.556580066680908,
          -4.509463787078857,
          -4.341343402862549,
          -2.891781806945801,
          -4.389804363250732,
          -3.7102479934692383,
          -1.9601019620895386,
          -4.166889667510986,
          -4.636775970458984,
          -3.185922384262085,
          -4.590969085693359,
          -2.7708921432495117,
          -3.61409330368042,
          -2.8230013847351074,
          -4.462409973144531,
          -5.841002941131592,
          -3.958834171295166,
          -2.7444334030151367,
          -3.5301828384399414,
          -3.155815839767456,
          -3.4588444232940674,
          -4.453155040740967,
          -3.9170212745666504,
          -4.726073265075684,
          -4.976896286010742,
          -3.3515849113464355,
          -3.7247378826141357,
          -3.920015811920166,
          -4.745337009429932,
          -4.504519462585449,
          -4.555835723876953,
          -4.38455867767334,
          -3.705920457839966,
          -4.705173492431641,
          -3.5767111778259277,
          -3.6848297119140625,
          -3.8856401443481445,
          -5.2713799476623535,
          -3.700665235519409,
          -3.26480770111084,
          -1.2273266315460205,
          -3.5087075233459473,
          -3.993354082107544,
          -5.0964813232421875,
          -3.6703004837036133,
          -3.3787670135498047,
          -4.515444278717041,
          -5.027181148529053,
          -4.470732688903809,
          -3.1241865158081055,
          -4.422691822052002,
          -3.1752192974090576,
          -4.608839511871338,
          -4.739418983459473,
          -4.775918960571289,
          -2.7806222438812256,
          -5.764001846313477,
          -4.496997356414795,
          -3.3998196125030518,
          -3.3074588775634766,
          -1.2141119241714478,
          -4.4529523849487305,
          -4.326930046081543,
          -3.555353879928589,
          -3.514162302017212,
          -5.149759769439697,
          -4.070179462432861,
          -3.456397294998169,
          -1.25162672996521,
          -4.861220836639404,
          -3.908442735671997,
          -3.3079657554626465,
          -4.87264347076416,
          -3.583104133605957,
          -5.799496173858643,
          -4.074008941650391,
          -3.333003282546997,
          -4.798427581787109,
          -3.9622161388397217,
          -4.331066131591797,
          -4.207509994506836,
          -3.297553539276123,
          -2.9256510734558105,
          -4.681408405303955,
          -4.583327293395996,
          -4.25825834274292,
          -1.9809200763702393,
          -2.73239803314209,
          -4.792652606964111,
          -3.9511711597442627,
          -3.508145809173584,
          -3.1376049518585205,
          -4.056856632232666,
          -3.8957080841064453,
          -5.20367956161499,
          -2.0825064182281494,
          -3.4282476902008057,
          -4.067141532897949,
          -4.42064905166626,
          -4.628416538238525,
          -5.75834846496582,
          -5.609767913818359,
          -4.633179187774658,
          -4.07243013381958,
          -4.695446014404297,
          -3.374880075454712,
          -1.3926302194595337,
          -0.9932489991188049,
          -3.8985579013824463,
          -3.4791390895843506,
          -4.665440082550049,
          -2.806417465209961,
          -4.480283260345459,
          -3.396296739578247,
          -5.73411750793457,
          -2.8757553100585938,
          -3.8023622035980225,
          -4.414677619934082,
          -3.380382776260376,
          -5.781453609466553,
          -4.782724857330322,
          -4.804533004760742,
          -2.752782106399536,
          -4.752674102783203,
          -4.440396785736084,
          -5.252511501312256,
          -3.367314100265503,
          -4.605716228485107,
          -2.646620988845825,
          -4.071442604064941,
          -4.1876726150512695,
          -3.2221572399139404,
          -4.920797348022461,
          -4.384727478027344,
          -3.3028504848480225,
          -4.573591232299805,
          -5.832186222076416,
          -4.6830620765686035,
          -2.913630962371826,
          -4.583218097686768,
          -4.792283535003662,
          -4.051937103271484,
          -3.998260259628296,
          -3.2711379528045654,
          -4.4698486328125,
          -3.0146470069885254,
          -3.5197975635528564,
          -5.253036022186279,
          -5.125512599945068,
          -4.274086952209473,
          -4.6650776863098145,
          -4.640270233154297,
          -0.2913188338279724,
          -2.958486557006836,
          -4.009044647216797,
          -4.22111177444458,
          -2.6634345054626465,
          -4.620664596557617,
          -3.9176125526428223,
          -4.449566841125488,
          -3.390590190887451,
          -4.138742446899414,
          -3.6350150108337402,
          -4.001719951629639,
          -3.5093839168548584,
          -5.090925216674805,
          -3.292184829711914,
          -3.2040627002716064,
          -3.6194303035736084,
          -4.3615312576293945,
          -4.103850841522217,
          -2.9225363731384277,
          -5.267956733703613,
          -3.0463826656341553,
          -3.820875644683838,
          -3.406369686126709,
          -3.9462664127349854,
          -3.4691200256347656,
          -4.024382591247559,
          -0.7768077254295349,
          -2.6875662803649902,
          -3.4788894653320312,
          -4.684004306793213,
          -5.085756301879883,
          -4.575325965881348,
          -4.8900651931762695,
          -3.6654696464538574,
          -3.856398105621338,
          -3.992825508117676,
          -4.622816562652588,
          -3.3430685997009277,
          -5.177806377410889,
          -4.667159080505371,
          -4.228570938110352,
          -3.503892660140991,
          -2.732109785079956,
          -2.943328380584717,
          -3.908198118209839,
          -3.101069688796997,
          -3.6403191089630127,
          -2.9724035263061523,
          -2.9063785076141357,
          -4.431430339813232,
          -3.510810136795044,
          -2.9250707626342773,
          -3.858088970184326,
          -5.250212669372559,
          -3.9170889854431152,
          -2.850602865219116,
          -3.4183712005615234,
          0.6243193745613098,
          -4.418447494506836,
          -3.520236015319824,
          -5.210310935974121,
          -2.1365838050842285,
          -3.8093960285186768,
          -2.5289089679718018,
          -3.1610500812530518,
          -2.655592441558838,
          -2.8256185054779053,
          -3.6527512073516846,
          -2.797340154647827,
          -4.443131446838379,
          -3.732758045196533,
          -5.762810707092285,
          -1.916548490524292,
          -3.0232369899749756,
          -2.0005578994750977,
          -4.661118984222412,
          -3.4755711555480957,
          -3.755798578262329,
          -2.511802911758423,
          -3.361330270767212,
          -3.9567666053771973,
          -3.522909164428711,
          -4.607739448547363,
          -3.5485787391662598,
          -4.733409881591797,
          -1.9832775592803955,
          -4.151504039764404,
          -3.991363763809204,
          -4.337893486022949,
          -3.4067978858947754,
          -5.414405345916748,
          -4.504120826721191,
          -4.02056884765625,
          -4.597903728485107,
          -3.2164220809936523,
          -3.3993611335754395,
          -3.863407850265503,
          -4.886302947998047,
          -3.707890272140503,
          -3.243617534637451,
          -4.3322248458862305,
          -4.166326999664307,
          -2.9093081951141357,
          -4.403786659240723,
          -0.9111570119857788,
          -4.527379989624023,
          -3.1668968200683594,
          -4.581181526184082,
          -4.660738945007324,
          -4.213797569274902,
          -3.4905340671539307,
          -3.7270846366882324,
          -3.8084664344787598,
          -5.782708644866943,
          -2.768519639968872,
          -4.6493682861328125,
          -2.1029107570648193,
          -2.958472728729248,
          -3.2987914085388184,
          -2.053640604019165,
          -5.810704231262207,
          -5.0518107414245605,
          -1.1417522430419922,
          -4.179921627044678,
          -3.1359896659851074,
          -2.8402631282806396,
          -4.502540588378906,
          -2.9062564373016357,
          -3.3074324131011963,
          -3.79559326171875,
          -3.9684016704559326,
          -4.094929218292236,
          -4.022661209106445,
          -3.184267997741699,
          -4.615385055541992,
          -2.967151641845703,
          -3.6382172107696533,
          -5.753596782684326,
          -4.526552677154541,
          0.5036664009094238,
          -3.996103525161743,
          -3.7343783378601074,
          -4.521783828735352,
          -5.6700005531311035,
          -5.26827335357666,
          -4.21964693069458,
          -2.7747838497161865,
          -3.0249688625335693,
          2.404627799987793,
          -5.772035598754883,
          -3.42494797706604,
          -2.755291223526001,
          -3.756347179412842,
          -5.772241592407227,
          -4.019326686859131,
          -3.9808290004730225,
          -2.9259328842163086,
          -5.258835792541504,
          -5.271605014801025,
          -3.657566547393799,
          -4.662850379943848,
          -4.812250137329102,
          -3.2649123668670654,
          -5.282994270324707,
          -5.2157301902771,
          -4.259127616882324,
          -1.6156095266342163,
          -3.739145278930664,
          -3.999279260635376,
          -2.882065534591675,
          -3.8351144790649414,
          -4.2660369873046875,
          -5.6865234375,
          -2.8746399879455566,
          -3.5403473377227783,
          -3.8036141395568848,
          -4.081311225891113,
          -3.982848882675171,
          -5.2906413078308105,
          -3.806177854537964,
          -5.7361321449279785,
          -5.7738142013549805,
          -3.357574701309204,
          -4.170795917510986,
          -2.2680399417877197,
          -3.0478885173797607,
          -4.465071678161621,
          -3.253941059112549,
          -3.4979729652404785,
          -3.343763589859009,
          -5.241752624511719,
          -4.074956893920898,
          -4.571335792541504,
          -3.049394369125366,
          -4.718388557434082,
          -4.700281143188477,
          -3.7045040130615234,
          -0.6184051632881165,
          -3.6514980792999268,
          -5.78278923034668,
          -4.083258152008057,
          -5.282730579376221,
          -5.232999324798584,
          -4.818530559539795,
          -3.5355234146118164,
          -2.9611799716949463,
          -4.161938667297363,
          -3.0229358673095703,
          -3.1295523643493652,
          -3.768303871154785,
          -4.818688869476318,
          -4.662601470947266,
          -3.4959795475006104,
          -4.776759147644043,
          -2.700141191482544,
          -3.76609468460083,
          -3.127424955368042,
          -3.214808702468872,
          -1.1591795682907104,
          -4.786478519439697,
          -2.004426956176758,
          -2.913234233856201,
          -3.7511160373687744,
          -3.1663546562194824,
          -3.6014254093170166,
          -3.329935073852539,
          -3.83966064453125,
          -2.5834271907806396,
          -5.271892547607422,
          -3.019742727279663,
          -2.341348648071289,
          -4.175209045410156,
          -4.059047222137451,
          -2.1669912338256836,
          -3.4078257083892822,
          -3.86093807220459,
          -3.5026071071624756,
          -3.2591495513916016,
          -2.402069330215454,
          -1.4168496131896973,
          -3.2676098346710205,
          -5.757073879241943,
          -4.559577465057373,
          -3.4724457263946533,
          -4.236299991607666,
          -1.1093047857284546,
          -3.6765828132629395,
          -0.9341895580291748,
          -5.278445243835449,
          -5.277835369110107,
          -5.768408298492432,
          -2.957636833190918,
          -4.081528186798096,
          -5.2788214683532715,
          -3.080625295639038,
          -5.289402961730957,
          -2.7425613403320312,
          -2.9190828800201416,
          -4.0331926345825195,
          -4.1157307624816895,
          -4.533766269683838,
          -4.124066352844238,
          -4.265871524810791,
          -3.138688325881958,
          -3.018836498260498,
          -2.903657913208008,
          -3.388007402420044,
          -2.7000081539154053,
          -3.398672103881836,
          -3.839103937149048,
          -4.681729793548584,
          -3.9195914268493652,
          -3.7243287563323975,
          -2.7735772132873535,
          -2.8696446418762207,
          -3.9435577392578125,
          -3.1265902519226074,
          -3.9598183631896973,
          -4.152552127838135,
          -6.238193511962891,
          -3.8601748943328857,
          -3.936260223388672,
          -3.699148416519165,
          -3.858586311340332,
          -4.350435256958008,
          -3.112161874771118,
          -4.350467205047607,
          -3.4814541339874268,
          -4.430909156799316,
          -5.765623092651367,
          -4.554962158203125,
          -5.724662780761719,
          -2.794278383255005,
          -3.7463018894195557,
          -2.927675247192383,
          -2.0415518283843994,
          -4.390930652618408,
          -5.781698703765869,
          -4.40508508682251,
          -4.475614547729492,
          -4.19728946685791,
          -2.4816012382507324,
          -2.090191602706909,
          -4.173352241516113,
          -5.262783527374268,
          -5.2547078132629395,
          -5.267942428588867,
          -4.724808692932129,
          -5.2819623947143555,
          -4.811215877532959,
          -0.7605125904083252,
          -4.7901458740234375,
          -3.0011370182037354,
          -3.3590221405029297,
          -3.4267563819885254,
          -5.407012939453125,
          -2.775444269180298,
          -1.7338495254516602,
          -3.527759313583374,
          -4.694055080413818,
          -3.7208197116851807,
          -0.6279295086860657,
          -5.790497779846191,
          -3.841148614883423,
          -5.731283664703369,
          -3.9532251358032227,
          -5.819072246551514,
          -4.0554890632629395,
          -2.888423204421997,
          -3.0578911304473877,
          -1.988119125366211,
          -3.093871831893921,
          -5.763179302215576,
          -4.124411582946777,
          -3.7006187438964844,
          -3.9709036350250244,
          -2.916728973388672,
          -5.219799518585205,
          -5.184565544128418,
          -3.982131242752075,
          -2.02394700050354,
          -1.0980985164642334,
          -1.0937628746032715,
          -5.661875247955322,
          -5.271326065063477,
          -3.6574411392211914,
          -5.136322498321533,
          -5.824974060058594,
          -4.599939346313477,
          -0.7514907717704773,
          -2.694631338119507,
          -2.815945863723755,
          -4.79302453994751,
          -3.8020026683807373,
          -3.991290807723999,
          -3.3362042903900146,
          -1.1924031972885132,
          -4.340935707092285,
          -1.2047200202941895,
          -2.608069658279419,
          -4.604523181915283,
          -4.092240810394287,
          -3.8662447929382324,
          -2.622394561767578,
          -5.213454246520996,
          -5.2633514404296875,
          -5.26326847076416,
          -5.2347798347473145,
          -5.227038383483887,
          -3.618562936782837,
          -4.766393184661865,
          -1.610115885734558,
          -2.821026563644409,
          -5.251784324645996,
          -3.3588943481445312,
          -5.931214332580566,
          -4.392694473266602,
          -4.067967414855957,
          -2.8559513092041016,
          -3.5941758155822754,
          -4.188338756561279,
          -3.2008440494537354,
          -3.2616679668426514,
          -2.4428772926330566,
          -4.219653129577637,
          -4.278975009918213,
          -3.7073657512664795,
          -0.7941986918449402,
          -2.937718629837036,
          -2.7760283946990967,
          -2.7397000789642334,
          -1.6534521579742432,
          -3.976006507873535,
          -4.01345157623291,
          -2.854987859725952,
          -3.115717887878418,
          -1.1128108501434326,
          -3.31219220161438,
          -4.01221227645874,
          -4.751456260681152,
          -3.883284568786621,
          -3.458892583847046,
          -3.788806915283203,
          -2.7876641750335693,
          -2.4574899673461914,
          -3.970017671585083,
          -4.1001458168029785,
          -3.35766339302063,
          -2.692497730255127,
          -3.187795877456665,
          -2.616485357284546,
          -3.2210121154785156,
          -3.3930652141571045,
          -4.395257472991943,
          -4.476385116577148,
          -2.2588398456573486,
          -2.720646381378174,
          -2.6426641941070557,
          -5.797619819641113,
          -4.322918891906738,
          -0.8793108463287354,
          -4.807912826538086,
          -1.9821431636810303,
          -3.442746877670288,
          -5.2946696281433105,
          -4.734550952911377,
          -1.1307039260864258,
          -3.722869396209717,
          -3.7260489463806152,
          -2.6631929874420166,
          -4.19671106338501,
          -4.031594276428223,
          -4.963727951049805,
          -4.119517803192139,
          -4.686220645904541,
          -5.222873210906982,
          -3.5781381130218506,
          -3.5069918632507324,
          -3.550084114074707,
          -0.8864166140556335,
          -3.5903258323669434,
          -5.061028480529785,
          -3.4421074390411377,
          -2.7955679893493652,
          -3.2529847621917725,
          -2.7906694412231445,
          -5.2343525886535645,
          -5.250607490539551,
          -3.500910997390747,
          -5.249916076660156,
          -3.002521514892578,
          -2.928689479827881,
          -5.247253894805908,
          -5.281652927398682,
          -2.6442713737487793,
          -3.766531229019165,
          -3.3238933086395264,
          -5.165750503540039,
          -4.060489654541016,
          -4.800694465637207,
          -2.9744155406951904,
          -2.0032880306243896,
          -5.2320146560668945,
          -4.778661251068115,
          -4.503126621246338,
          -0.7593393921852112,
          -2.022453546524048,
          -3.400658369064331,
          -2.7458994388580322,
          -3.2967302799224854,
          -4.475002288818359,
          -2.60062575340271,
          -4.584897518157959,
          -2.7659521102905273,
          -5.54071044921875,
          -3.2130308151245117,
          -3.643439531326294,
          -2.918766736984253,
          -3.640427589416504,
          -4.170161724090576,
          -4.374974250793457,
          -3.033090353012085,
          -2.6264255046844482,
          -4.052368640899658,
          -2.994565486907959,
          -3.2007622718811035,
          -1.622218132019043,
          -2.5467982292175293,
          -3.9481334686279297,
          -3.03934383392334,
          -4.0167059898376465,
          -2.9134557247161865,
          -3.1386325359344482,
          -4.103787899017334,
          -3.1821560859680176,
          -2.9185409545898438,
          -3.9532358646392822,
          -4.976595401763916,
          -7.139336585998535,
          -3.407888650894165,
          -4.152955055236816,
          -2.6062018871307373,
          -3.559126853942871,
          -2.8177101612091064,
          -3.642439126968384,
          -5.248735427856445,
          -4.700105667114258,
          -1.614084243774414,
          -5.275053024291992,
          -0.8688010573387146,
          -3.4770538806915283,
          -1.9125826358795166,
          -3.949904203414917,
          -4.0238494873046875,
          -5.071101188659668,
          -3.511014938354492,
          -3.6284093856811523,
          -4.810815334320068,
          -4.196147918701172,
          -3.963785409927368,
          -3.5730745792388916,
          -4.092137813568115,
          -3.804532051086426,
          -4.052460193634033,
          -4.739739418029785,
          -3.439329147338867,
          -2.8034186363220215,
          -4.097422122955322,
          -3.588367462158203,
          -1.0060174465179443,
          -0.7763968706130981,
          -4.687438011169434,
          -2.654538154602051,
          -2.851036310195923,
          -0.9353635907173157,
          -3.4967498779296875,
          -3.6630280017852783,
          -4.347867488861084,
          -2.174577236175537,
          -5.070063591003418,
          -2.932379722595215,
          -4.59151554107666,
          -3.865936040878296,
          -4.126348495483398,
          -5.797198295593262,
          -4.101215839385986,
          -4.117421627044678,
          -4.0720648765563965,
          -5.801267623901367,
          -1.5917887687683105,
          -3.7648444175720215,
          -2.6863350868225098,
          -4.0131516456604,
          -3.849595546722412,
          -5.807137489318848,
          -2.8744635581970215,
          -4.047664165496826,
          -4.0233869552612305,
          -1.5932753086090088,
          -4.511783599853516,
          -4.65384578704834,
          -4.765898704528809,
          -4.034658908843994,
          -3.5600874423980713,
          -3.226107120513916,
          -2.9517557621002197,
          -5.208508491516113,
          -2.4858148097991943,
          -2.542534351348877,
          -4.328185558319092,
          -4.940718173980713,
          -4.989706039428711,
          -3.8473381996154785,
          -3.612736940383911,
          -4.456738471984863,
          -4.263560771942139,
          -3.5363824367523193,
          -2.7851266860961914,
          -5.709151744842529,
          -5.77169942855835,
          -2.8967628479003906,
          -2.234713554382324,
          -3.2105720043182373,
          -3.231100559234619,
          -4.164360523223877,
          -3.879436492919922,
          -2.6800529956817627,
          -2.4626095294952393,
          -1.0381945371627808,
          -1.0843651294708252,
          -4.174095630645752,
          -3.3070292472839355,
          -4.070748805999756,
          -3.9975008964538574,
          -5.810625076293945,
          -5.49522066116333,
          -3.8884658813476562,
          -4.3312883377075195,
          -2.4862983226776123,
          -3.0281941890716553,
          -1.19162118434906,
          -3.3995583057403564,
          -3.465327262878418,
          -3.768754243850708,
          -2.1908562183380127,
          -3.032672166824341,
          -4.382754325866699,
          -1.114749550819397,
          -1.0814380645751953,
          -3.494467258453369,
          -4.433261394500732,
          -3.8744606971740723,
          -3.3480188846588135,
          -3.446789026260376,
          -3.461533784866333,
          -3.8184080123901367,
          -5.799001693725586,
          -1.1834659576416016,
          -2.998307228088379,
          -1.9075499773025513,
          -4.085756778717041,
          -4.482571125030518,
          -2.939342737197876,
          -4.299548149108887,
          -3.3359363079071045,
          -4.50963830947876,
          -2.993560552597046,
          -3.6882829666137695,
          -3.467210531234741,
          -0.7912195920944214,
          -1.1459863185882568,
          -2.6307196617126465,
          -3.3671352863311768,
          -4.351473808288574,
          -1.9692834615707397,
          -2.782818078994751,
          -2.854111433029175,
          -4.181339740753174,
          -4.083279132843018,
          -4.1208720207214355,
          -3.7720980644226074,
          -5.1701860427856445,
          -5.8076019287109375,
          -5.172523498535156,
          -2.0745937824249268,
          -1.97078275680542,
          -1.975776195526123,
          -5.8052802085876465,
          -5.817366123199463,
          -3.452653408050537,
          -1.604181170463562,
          -1.5989397764205933,
          -3.0573534965515137,
          -3.2346062660217285,
          -5.2546186447143555,
          -3.7431399822235107,
          -4.824224472045898,
          -2.967505693435669,
          -3.5066211223602295,
          -5.762687683105469,
          -0.7408601641654968,
          -4.393059253692627,
          -4.699609756469727,
          -5.835782051086426,
          -3.2359113693237305,
          -4.265246868133545,
          -4.787521839141846,
          -4.8135666847229,
          -4.7490034103393555,
          -4.78987455368042,
          -4.856924057006836,
          -4.592918872833252,
          -4.3419108390808105,
          -3.647050380706787,
          -4.021031379699707,
          -3.0260565280914307,
          -4.161387920379639,
          -3.365225076675415,
          -3.3336734771728516,
          -3.3458480834960938,
          -4.335582256317139,
          -5.5630693435668945,
          -2.6064810752868652,
          -4.502849102020264,
          -3.1116607189178467,
          -4.46115779876709,
          -3.537929058074951,
          -2.3501486778259277,
          -3.2200746536254883,
          -2.7476632595062256,
          -3.0072057247161865,
          -4.408772945404053,
          -3.4400715827941895,
          -5.261937141418457,
          -4.322391510009766,
          -3.165889024734497,
          -4.120716571807861,
          -1.218618392944336,
          -2.7005231380462646,
          -0.9832190871238708,
          -4.352640151977539,
          -2.8226029872894287,
          -1.4008272886276245,
          -2.7724173069000244,
          -2.9791553020477295,
          -4.350405693054199,
          -5.754517078399658,
          -3.809213638305664,
          -5.794707298278809,
          -3.5599918365478516,
          -2.9373281002044678,
          -2.966118335723877,
          -2.7946677207946777,
          -2.6261327266693115,
          -2.398717164993286,
          -3.6725966930389404,
          -2.98637318611145,
          -2.418901205062866,
          -2.406017303466797,
          -1.1484177112579346,
          -5.3110527992248535,
          -4.03725528717041,
          -2.6575663089752197,
          -4.102950572967529,
          -3.129063606262207,
          -3.545349597930908,
          -3.6500051021575928,
          -3.7452375888824463,
          -3.847360372543335,
          -4.154876232147217,
          -4.125522613525391,
          -2.348491668701172,
          -3.5474801063537598,
          -2.4672818183898926,
          -2.2462363243103027,
          -2.872976064682007,
          -3.9781174659729004,
          -3.6230695247650146,
          -2.778616428375244,
          -2.8435330390930176,
          -4.033394813537598,
          -4.030904769897461,
          -1.0861763954162598,
          -1.0970145463943481,
          -2.705059766769409,
          -2.6339046955108643,
          -5.203251838684082,
          -3.1478166580200195,
          -3.461261034011841,
          -4.256412982940674,
          -2.6522653102874756,
          -5.310853004455566,
          -4.337391376495361,
          -3.4199891090393066,
          -0.8873183727264404,
          -4.108866214752197,
          -3.1204164028167725,
          -3.757296562194824,
          -3.3742969036102295,
          -2.9573421478271484,
          -1.2613754272460938,
          -4.417756080627441,
          -1.8946952819824219,
          -4.34598970413208,
          -2.8677005767822266,
          -3.3390989303588867,
          -4.222423076629639,
          -3.164296865463257,
          -4.305840969085693,
          -1.9850646257400513,
          -3.6310815811157227,
          -3.3206422328948975,
          -4.3330278396606445,
          -4.04939079284668,
          -3.5550243854522705,
          -2.6523499488830566,
          -3.034093141555786,
          -3.999196767807007,
          -0.7680698037147522,
          -0.7631953954696655,
          -0.829521894454956,
          -4.386984825134277,
          -2.922726631164551,
          -3.43026065826416,
          -3.5230579376220703,
          -3.15649676322937,
          -1.9606003761291504,
          -0.6766767501831055,
          -3.944319248199463,
          -4.301992416381836,
          -2.719895362854004,
          -3.924971103668213,
          -3.726195812225342,
          -2.6165268421173096,
          -5.050032138824463,
          -3.130389928817749,
          -3.987485885620117,
          -6.386024475097656,
          -3.624636173248291,
          -3.7030727863311768,
          -4.697457790374756,
          -1.0038765668869019,
          -4.013918399810791,
          -5.2564897537231445,
          -1.969355821609497,
          -4.046492099761963,
          -0.8162938356399536,
          -5.132144927978516,
          -2.941582679748535,
          -2.9420135021209717,
          -3.7878921031951904,
          -3.247772216796875,
          -3.332064151763916,
          -3.351957321166992,
          -1.6394814252853394,
          -5.039143085479736,
          -3.3206653594970703,
          -3.2259774208068848,
          -4.436709880828857,
          -4.094940662384033,
          -1.0859191417694092,
          -4.337353706359863,
          -5.264275074005127,
          -3.198009490966797,
          -2.7607269287109375,
          -4.502085208892822,
          -3.1529412269592285,
          -3.7307746410369873,
          -0.919175386428833,
          -3.8567256927490234,
          -4.094594478607178,
          -0.7652248740196228,
          -0.7426794171333313,
          -0.7574875354766846,
          -4.025140762329102,
          -3.2612693309783936,
          -4.4076247215271,
          -4.415993690490723,
          -4.689914703369141,
          -4.395676136016846,
          -3.5566089153289795,
          -4.845536231994629,
          -4.339263439178467,
          -4.850626468658447,
          -4.742226600646973,
          -5.788372039794922,
          -4.468565940856934,
          -3.6058096885681152,
          -4.040971755981445,
          -4.54737663269043,
          -1.6164058446884155,
          -1.8950835466384888,
          -3.2355408668518066,
          -1.390128254890442,
          -0.7520223259925842,
          -0.7556300163269043,
          -3.270226001739502,
          -2.828242778778076,
          -3.059307336807251,
          -3.4600210189819336,
          -4.674771785736084,
          -2.4194116592407227,
          -2.6202402114868164,
          -2.7672319412231445,
          -4.1348876953125,
          -3.960204601287842,
          -3.9084889888763428,
          -4.107949256896973,
          -3.625437021255493,
          -2.5030996799468994,
          -2.471647262573242,
          -2.4390759468078613,
          -4.0348358154296875,
          -5.639277935028076,
          -0.9060913920402527,
          -4.354609966278076,
          -4.235972881317139,
          -4.248730182647705,
          -3.2937705516815186,
          -3.191390037536621,
          -3.7100563049316406,
          -2.693214178085327,
          -4.3601460456848145,
          -4.274095058441162,
          -4.2898712158203125,
          -4.201941967010498,
          -4.4834699630737305,
          -4.485177516937256,
          -3.822962760925293,
          -3.8901185989379883,
          -2.974292039871216,
          -4.13018798828125,
          -4.367338180541992,
          -2.8943722248077393,
          -4.8241095542907715,
          -3.7904622554779053,
          -2.6279544830322266,
          -2.800726890563965,
          -5.632396221160889,
          -3.556212902069092,
          -6.918562889099121,
          -4.132185935974121,
          -3.909424304962158,
          -3.0035417079925537,
          -2.9245433807373047,
          -3.7621586322784424,
          -3.973299741744995,
          -2.7143771648406982,
          -2.2800543308258057,
          -2.124865770339966,
          -3.5830323696136475,
          -2.664079427719116,
          -5.7703962326049805,
          -4.19318962097168,
          -2.9140193462371826,
          -4.29176664352417,
          -5.575343608856201,
          -4.6501970291137695,
          -2.889739990234375,
          -2.515941858291626,
          -2.595353364944458,
          -5.510337829589844,
          -3.221306800842285,
          -3.346457004547119,
          -4.037858009338379,
          -3.83790922164917,
          -4.547665119171143,
          -3.8069703578948975,
          -3.8915164470672607,
          -2.6945109367370605,
          -2.879953622817993,
          -3.8577301502227783,
          -5.23227071762085,
          -2.0352349281311035,
          -1.2440024614334106,
          -3.9696950912475586,
          -3.930053472518921,
          -3.1894707679748535,
          -3.3112008571624756,
          -4.756304740905762,
          -5.465818881988525,
          -5.19000768661499,
          -4.255582809448242,
          -3.6663870811462402,
          -3.5671181678771973,
          -3.2740302085876465,
          -3.283500909805298,
          -3.2744174003601074,
          2.295215606689453,
          -3.093507766723633,
          -1.4398260116577148,
          -4.32144832611084,
          -3.7246224880218506,
          -3.77236008644104,
          -3.1829099655151367,
          -2.3889873027801514,
          -2.6232004165649414,
          -3.9594502449035645,
          -4.816192626953125,
          -1.5881918668746948,
          -1.4299073219299316,
          -4.106963157653809,
          -3.3346951007843018,
          -3.1933393478393555,
          -3.1279454231262207,
          -3.996061086654663,
          -2.605311870574951,
          -4.0145087242126465,
          -4.038296222686768,
          -3.4159858226776123,
          -3.08902907371521,
          -2.5847482681274414,
          -3.060802936553955,
          -2.9888947010040283,
          -4.031182765960693,
          -1.0673576593399048,
          -1.3221447467803955,
          -1.067304253578186,
          -1.3676481246948242,
          -3.019057035446167,
          -3.2974209785461426,
          -3.7395565509796143,
          -4.099108695983887,
          -4.225820064544678,
          -4.130451202392578,
          -4.314136505126953,
          -3.338841199874878,
          -2.658569574356079,
          -3.5737178325653076,
          -3.215439558029175,
          -3.3588480949401855,
          -3.007991075515747,
          -3.959214210510254,
          -4.739773273468018,
          -3.315945625305176,
          -3.365098714828491,
          -3.53397798538208,
          -2.8945295810699463,
          -1.1368663311004639,
          -1.165685772895813,
          -3.9432809352874756,
          -4.75808572769165,
          -3.0425500869750977,
          -3.095391035079956,
          -4.718837738037109,
          -2.958486318588257,
          -3.174642562866211,
          -1.2287243604660034,
          -4.142338752746582,
          -3.324187755584717,
          -3.087278127670288,
          -3.899060010910034,
          -2.0076255798339844,
          -0.878743052482605,
          -0.6883738040924072,
          -2.9836277961730957,
          -0.7132226824760437,
          -3.716590642929077,
          -5.505604267120361
         ],
         "yaxis": "y"
        },
        {
         "customdata": [
          [
           "Arctic Monkeys"
          ],
          [
           "The Neighbourhood"
          ],
          [
           "Mitski"
          ],
          [
           "TV Girl"
          ],
          [
           "Melanie Martinez"
          ],
          [
           "Mac DeMarco"
          ],
          [
           "Mother Mother"
          ],
          [
           "The Living Tombstone"
          ],
          [
           "d4vd"
          ],
          [
           "Cavetown"
          ],
          [
           "Laufey"
          ],
          [
           "Odetari"
          ],
          [
           "Joji"
          ],
          [
           "MARINA"
          ],
          [
           "girl in red"
          ],
          [
           "Clairo"
          ],
          [
           "Cage The Elephant"
          ],
          [
           "Eyedress"
          ],
          [
           "Cigarettes After Sex"
          ],
          [
           "Alex G"
          ],
          [
           "Jack Stauber's Micropop"
          ],
          [
           "Dominic Fike"
          ],
          [
           "Tally Hall"
          ],
          [
           "Roar"
          ],
          [
           "beabadoobee"
          ],
          [
           "Cults"
          ],
          [
           "Beach Bunny"
          ],
          [
           "Chase Atlantic"
          ],
          [
           "Ricky Montgomery"
          ],
          [
           "Penelope Scott"
          ],
          [
           "Måneskin"
          ],
          [
           "Lemon Demon"
          ],
          [
           "The Walters"
          ],
          [
           "Rex Orange County"
          ],
          [
           "Bo Burnham"
          ],
          [
           "Vundabar"
          ],
          [
           "Surf Curse"
          ],
          [
           "Sub Urban"
          ],
          [
           "Isabel LaRosa"
          ],
          [
           "Set It Off"
          ],
          [
           "grandson"
          ],
          [
           "6arelyhuman"
          ],
          [
           "Beach House"
          ],
          [
           "Rebzyyx"
          ],
          [
           "The Cardigans"
          ],
          [
           "Toby Fox"
          ],
          [
           "Beach Weather"
          ],
          [
           "CG5"
          ],
          [
           "Vacations"
          ],
          [
           "Wallows"
          ],
          [
           "Kanii"
          ],
          [
           "Mindless Self Indulgence"
          ],
          [
           "Insane Clown Posse"
          ],
          [
           "Liana Flores"
          ],
          [
           "Lumi Athena"
          ],
          [
           "Rio Romeo"
          ],
          [
           "Matt Maltese"
          ],
          [
           "Current Joys"
          ],
          [
           "The Rare Occasions"
          ],
          [
           "Miracle Musical"
          ],
          [
           "Mr.Kitty"
          ],
          [
           "YUNGBLUD"
          ],
          [
           "Will Wood"
          ],
          [
           "Cafuné"
          ],
          [
           "JT Music"
          ],
          [
           "Coyote Theory"
          ],
          [
           "Montell Fish"
          ],
          [
           "Jack Stauber"
          ],
          [
           "YOASOBI"
          ],
          [
           "I DONT KNOW HOW BUT THEY FOUND ME"
          ],
          [
           "Sir Chloe"
          ],
          [
           "Sodikken"
          ],
          [
           "Kikuo"
          ],
          [
           "Ghost and Pals"
          ],
          [
           "Ado"
          ],
          [
           "Steven Universe"
          ],
          [
           "Regina Spektor"
          ],
          [
           "Ayesha Erotica"
          ],
          [
           "Men I Trust"
          ],
          [
           "mxmtoon"
          ],
          [
           "Eve"
          ],
          [
           "Sam Tinnesz"
          ],
          [
           "Black Gryph0n"
          ],
          [
           "Neoni"
          ],
          [
           "ThxSoMch"
          ],
          [
           "Sufjan Stevens"
          ],
          [
           "Ashnikko"
          ],
          [
           "Yot Club"
          ],
          [
           "Faye Webster"
          ],
          [
           "Big Thief"
          ],
          [
           "Madds Buckley"
          ],
          [
           "bôa"
          ],
          [
           "Adrianne Lenker"
          ],
          [
           "Scissor Sisters"
          ],
          [
           "Joy Again"
          ],
          [
           "Dagames"
          ],
          [
           "Freddie Dredd"
          ],
          [
           "Poor Man's Poison"
          ],
          [
           "The Dresden Dolls"
          ],
          [
           "Britney Manson"
          ],
          [
           "asteria"
          ],
          [
           "Fujii Kaze"
          ],
          [
           "Weathers"
          ],
          [
           "Maretu"
          ],
          [
           "Tikkle Me"
          ],
          [
           "Kenshi Yonezu"
          ],
          [
           "SUICIDAL-IDOL"
          ],
          [
           "Griffinilla"
          ],
          [
           "фрози"
          ],
          [
           "CORPSE"
          ],
          [
           "The Front Bottoms"
          ],
          [
           "Crystal Castles"
          ],
          [
           "jnhygs"
          ],
          [
           "McCafferty"
          ],
          [
           "Dr. Dog"
          ],
          [
           "OR3O"
          ],
          [
           "alex_g_offline"
          ],
          [
           "Good Kid"
          ],
          [
           "Cuco"
          ],
          [
           "Sir Mix-A-Lot"
          ],
          [
           "juju<3"
          ],
          [
           "Jagwar Twin"
          ],
          [
           "K'NAAN"
          ],
          [
           "Kordhell"
          ],
          [
           "salvia palth"
          ],
          [
           "Annapantsu"
          ],
          [
           "ODECORE"
          ],
          [
           "siouxxie sixxsta"
          ],
          [
           "Aaron Smith"
          ],
          [
           "K.Flay"
          ],
          [
           "Tryhardninja"
          ],
          [
           "mazie"
          ],
          [
           "Mad Tsai"
          ],
          [
           "Dayglow"
          ],
          [
           "The Oh Hellos"
          ],
          [
           "The Crane Wives"
          ],
          [
           "Teddy Hyde"
          ],
          [
           "Blackway"
          ],
          [
           "xxanteria"
          ],
          [
           "Chris Grey"
          ],
          [
           "Joey Valence & Brae"
          ],
          [
           "Strawberry Guy"
          ],
          [
           "Au/Ra"
          ],
          [
           "Bryansanon"
          ],
          [
           "MISSIO"
          ],
          [
           "TEMPOREX"
          ],
          [
           "Confetti"
          ],
          [
           "Leslie Odom Jr."
          ],
          [
           "INTERWORLD"
          ],
          [
           "bbno$"
          ],
          [
           "They Might Be Giants"
          ],
          [
           "Adventure Time"
          ],
          [
           "The Marías"
          ],
          [
           "Autoheart"
          ],
          [
           "Patrick Watson"
          ],
          [
           "The Drums"
          ],
          [
           "Øneheart"
          ],
          [
           "AViVA"
          ],
          [
           "Still Woozy"
          ],
          [
           "Mareux"
          ],
          [
           "1nonly"
          ],
          [
           "Suki Waterhouse"
          ],
          [
           "khai dreams"
          ],
          [
           "Get Scared"
          ],
          [
           "bo en"
          ],
          [
           "Sushi Soucy"
          ],
          [
           "Pinegrove"
          ],
          [
           "Duster"
          ],
          [
           "ZWE1HVNDXR"
          ],
          [
           "Alex Brightman"
          ],
          [
           "Shadrow"
          ],
          [
           "King Gnu"
          ],
          [
           "Vierre Cloud"
          ],
          [
           "Destroy Boys"
          ],
          [
           "Ben Platt"
          ],
          [
           "The Taxpayers"
          ],
          [
           "Ellise"
          ],
          [
           "Lovejoy"
          ],
          [
           "LiSA"
          ],
          [
           "Creepy Nuts"
          ],
          [
           "Gesaffelstein"
          ],
          [
           "Aliyah's Interlude"
          ],
          [
           "Manu Chao"
          ],
          [
           "\"Weird Al\" Yankovic"
          ],
          [
           "JAWNY"
          ],
          [
           "Alexander Rybak"
          ],
          [
           "Metric"
          ],
          [
           "mikeeysmind"
          ],
          [
           "Aimer"
          ],
          [
           "Ck9c"
          ],
          [
           "SyKo"
          ],
          [
           "half•alive"
          ],
          [
           "Pastel Ghost"
          ],
          [
           "Peter McPoland"
          ],
          [
           "The Stupendium"
          ],
          [
           "C418"
          ],
          [
           "Ari Abdul"
          ],
          [
           "Car Seat Headrest"
          ],
          [
           "Barrett Wilbert Weed"
          ],
          [
           "Claire Rosinkranz"
          ],
          [
           "Nico Collins"
          ],
          [
           "wave to earth"
          ],
          [
           "Lin-Manuel Miranda"
          ],
          [
           "Tatsuya Kitani"
          ],
          [
           "Hot Freaks"
          ],
          [
           "Jeremy Jordan"
          ],
          [
           "Caravan Palace"
          ],
          [
           "Erika Henningsen"
          ],
          [
           "kets4eki"
          ],
          [
           "Rockit Music"
          ],
          [
           "Ren"
          ],
          [
           "100 gecs"
          ],
          [
           "Derivakat"
          ],
          [
           "Daphne Rubin-Vega"
          ],
          [
           "Royal & the Serpent"
          ],
          [
           "Poppy"
          ],
          [
           "prodbycpkshawn"
          ],
          [
           "imase"
          ],
          [
           "Blake Roman"
          ],
          [
           "Jazmin Bean"
          ],
          [
           "Phantogram"
          ],
          [
           "t.A.T.u."
          ],
          [
           "cupcakKe"
          ],
          [
           "ElyOtto"
          ],
          [
           "The Brobecks"
          ],
          [
           "Will Wood and the Tapeworms"
          ],
          [
           "Waterparks"
          ],
          [
           "I Monster"
          ],
          [
           "Yaelokre"
          ],
          [
           "The Daughters Of Eve"
          ],
          [
           "sped up nightcore"
          ],
          [
           "Laila!"
          ],
          [
           "Cody Fry"
          ],
          [
           "Will Stetson"
          ],
          [
           "That Handsome Devil"
          ],
          [
           "removeface"
          ],
          [
           "Lyn Lapid"
          ],
          [
           "NBSPLV"
          ],
          [
           "Keith David"
          ],
          [
           "Omori"
          ],
          [
           "dodie"
          ],
          [
           "ALI"
          ],
          [
           "Miki Matsubara"
          ],
          [
           "Geek Music"
          ],
          [
           "Shy Smith"
          ],
          [
           "Punkinloveee"
          ],
          [
           "SIX"
          ],
          [
           "Dazey and the Scouts"
          ],
          [
           "natori"
          ],
          [
           "Kaden MacKay"
          ],
          [
           "Lollia"
          ],
          [
           "Bohnes"
          ],
          [
           "AmaLee"
          ],
          [
           "noturgf"
          ],
          [
           "Vaundy"
          ],
          [
           "akiaura"
          ],
          [
           "Hensonn"
          ],
          [
           "DVRST"
          ],
          [
           "Shotgun Willy"
          ],
          [
           "Kinneret"
          ],
          [
           "SALES"
          ],
          [
           "Mild High Club"
          ],
          [
           "Trinidad Cardona"
          ],
          [
           "skyemane"
          ],
          [
           "Frou Frou"
          ],
          [
           "Wilbur Soot"
          ],
          [
           "UPSAHL"
          ],
          [
           "Dream"
          ],
          [
           "Sarah Cothran"
          ],
          [
           "THE ANXIETY"
          ],
          [
           "Lamp"
          ],
          [
           "Jorge Rivera-Herrans"
          ],
          [
           "Jonathan Groff"
          ],
          [
           "grentperez"
          ],
          [
           "Her's"
          ],
          [
           "A-Wall"
          ],
          [
           "alt!"
          ],
          [
           "NateWantsToBattle"
          ],
          [
           "Clovis Reyes"
          ],
          [
           "RADWIMPS"
          ],
          [
           "Mrs. GREEN APPLE"
          ],
          [
           "Lincoln"
          ],
          [
           "Rico Nasty"
          ],
          [
           "Jimmy Urine"
          ],
          [
           "Hop Along, Queen Ansleis"
          ],
          [
           "Peachy!"
          ],
          [
           "boy pablo"
          ],
          [
           "Pavement"
          ],
          [
           "bbygirl"
          ],
          [
           "Fish in a Birdcage"
          ],
          [
           "Laura Les"
          ],
          [
           "Ezekiel"
          ],
          [
           "Rare Americans"
          ],
          [
           "KXLLSWXTCH"
          ],
          [
           "Sohodolls"
          ],
          [
           "Paris Paloma"
          ],
          [
           "Lilithzplug"
          ],
          [
           "OFFICIAL HIGE DANDISM"
          ],
          [
           "SEGA SOUND TEAM"
          ],
          [
           "Anna Kendrick"
          ],
          [
           "Palaye Royale"
          ],
          [
           "WHOKILLEDXIX"
          ],
          [
           "Anamanaguchi"
          ],
          [
           "Alek Olsen"
          ],
          [
           "Jamiroquai"
          ],
          [
           "Phillipa Soo"
          ],
          [
           "ilyTOMMY"
          ],
          [
           "Clams Casino"
          ],
          [
           "Take Care"
          ],
          [
           "Linked Horizon"
          ],
          [
           "yungatita"
          ],
          [
           "Bedroom"
          ],
          [
           "347aidan"
          ],
          [
           "The Happy Fits"
          ],
          [
           "CADMIUM"
          ],
          [
           "Cosmo Sheldrake"
          ],
          [
           "Ryan McCartan"
          ],
          [
           "Vansire"
          ],
          [
           "slō"
          ],
          [
           "Hikaru Utada"
          ],
          [
           "AJJ"
          ],
          [
           "Conor Maynard"
          ],
          [
           "d3r"
          ],
          [
           "Grouper"
          ],
          [
           "Modern Baseball"
          ],
          [
           "IC3PEAK"
          ],
          [
           "Molchat Doma"
          ],
          [
           "The Boys"
          ],
          [
           "Eternxlkz"
          ],
          [
           "Will Paquin"
          ],
          [
           "HOYO-MiX"
          ],
          [
           "Andrew Rannells"
          ],
          [
           "JubyPhonic"
          ],
          [
           "Bibi Babydoll"
          ],
          [
           "The Struts"
          ],
          [
           "framed"
          ],
          [
           "Lonely God"
          ],
          [
           "Siinamota"
          ],
          [
           "Meryl Streep"
          ],
          [
           "EKKSTACY"
          ],
          [
           "S3RL"
          ],
          [
           "PUBLIC"
          ],
          [
           "KSLV Noh"
          ],
          [
           "Qumu"
          ],
          [
           "carolesdaughter"
          ],
          [
           "The Oozes"
          ],
          [
           "Moe Shop"
          ],
          [
           "Memphis Cult"
          ],
          [
           "Caleb Hyles"
          ],
          [
           "Hiroyuki Sawano"
          ],
          [
           "Shady Moon"
          ],
          [
           "Christian Borle"
          ],
          [
           "Christopher Jackson"
          ],
          [
           "GRLwood"
          ],
          [
           "Tom Rosenthal"
          ],
          [
           "Shayne Orok"
          ],
          [
           "Lou Bliss"
          ],
          [
           "Stephanie Mabey"
          ],
          [
           "DECO*27"
          ],
          [
           "pearl"
          ],
          [
           "Silva Hound"
          ],
          [
           "SiM"
          ],
          [
           "Dream, Ivory"
          ],
          [
           "Dylan Espeseth"
          ],
          [
           "Tom Cardy"
          ],
          [
           "Ken Ashcorp"
          ],
          [
           "fam0uz"
          ],
          [
           "Lena Raine"
          ],
          [
           "jagger finn"
          ],
          [
           "Brye"
          ],
          [
           "The Orion Experience"
          ],
          [
           "Aidan Bissett"
          ],
          [
           "Lizz Robinett"
          ],
          [
           "Le Tigre"
          ],
          [
           "Egg"
          ],
          [
           "Skee-Lo"
          ],
          [
           "sapientdream"
          ],
          [
           "KANA-BOON"
          ],
          [
           "KryFuZe"
          ],
          [
           "MandoPony"
          ],
          [
           "Dyan Dxddy"
          ],
          [
           "chloe moriondo"
          ],
          [
           "Jordan Clarke"
          ],
          [
           "Lund"
          ],
          [
           "Dan Bull"
          ],
          [
           "Chloe Adams"
          ],
          [
           "稲葉曇"
          ],
          [
           "Machine Girl"
          ],
          [
           "Cleffy"
          ],
          [
           "Jessica Keenan Wynn"
          ],
          [
           "TK from Ling tosite sigure"
          ],
          [
           "Kyle Allen Music"
          ],
          [
           "AXIE"
          ],
          [
           "Kholby Wardell"
          ],
          [
           "CreepP"
          ],
          [
           "VØJ"
          ],
          [
           "PR1SVX"
          ],
          [
           "K3NT4!"
          ],
          [
           "Com Truise"
          ],
          [
           "MoonDeity"
          ],
          [
           "Casey Edwards"
          ],
          [
           "Luci4"
          ],
          [
           "Renée Elise Goldsberry"
          ],
          [
           "Kanaria"
          ],
          [
           "Andrew Underberg"
          ],
          [
           "Jorge Aguilar II"
          ],
          [
           "Arrested Youth"
          ],
          [
           "Black Dresses"
          ],
          [
           "Lola Blanc"
          ],
          [
           "SadBoyProlific"
          ],
          [
           "Kaytoven"
          ],
          [
           "Coda"
          ],
          [
           "Emei"
          ],
          [
           "Blood Orange"
          ],
          [
           "Crisaunt"
          ],
          [
           "Hiko"
          ],
          [
           "LXNGVX"
          ],
          [
           "JELEEL!"
          ],
          [
           "Ritt Momney"
          ],
          [
           "MIIA"
          ],
          [
           "late night drive home"
          ],
          [
           "TWISTED"
          ],
          [
           "George Salazar"
          ],
          [
           "Jordana"
          ],
          [
           "SomeThingElseyt"
          ],
          [
           "TOKYO’S REVENGE"
          ],
          [
           "Dan Salvato"
          ],
          [
           "Daveed Diggs"
          ],
          [
           "vyrval"
          ],
          [
           "awfultune"
          ],
          [
           "FalKKonE"
          ],
          [
           "Studio Killers"
          ],
          [
           "NerdOut"
          ],
          [
           "DHeusta"
          ],
          [
           "Hayley Kiyoko"
          ],
          [
           "Andrew Lloyd Webber"
          ],
          [
           "Uglyburger0"
          ],
          [
           "MADAX"
          ],
          [
           "Snow Wife"
          ],
          [
           "HYBS"
          ],
          [
           "Nxdia"
          ],
          [
           "Jhariah"
          ],
          [
           "Barns Courtney"
          ],
          [
           "glaive"
          ],
          [
           "SEKAI NO OWARI"
          ],
          [
           "the bird and the bee"
          ],
          [
           "Princess Chelsea"
          ],
          [
           "SharaX"
          ],
          [
           "DPR IAN"
          ],
          [
           "Superfruit"
          ],
          [
           "Samuel Kim"
          ],
          [
           "Emily Rohm"
          ],
          [
           "Crumb"
          ],
          [
           "Johnnie Guilbert"
          ],
          [
           "VALORANT"
          ],
          [
           "Magdalena Bay"
          ],
          [
           "Faouzia"
          ],
          [
           "Teriyaki Boyz"
          ],
          [
           "SIAMES"
          ],
          [
           "Trillian"
          ],
          [
           "Amaarae"
          ],
          [
           "Mystery Skulls"
          ],
          [
           "Ikimonogakari"
          ],
          [
           "Ichiko Aoba"
          ],
          [
           "Suzanne Vega"
          ],
          [
           "Dybbukk"
          ],
          [
           "Molina"
          ],
          [
           "Mag.Lo"
          ],
          [
           "The Blake Robinson Synthetic Orchestra"
          ],
          [
           "Tom Lehrer"
          ],
          [
           "Naethan Apollo"
          ],
          [
           "Memo Boy"
          ],
          [
           "Oingo Boingo"
          ],
          [
           "The Moldy Peaches"
          ],
          [
           "Corbon Amodio"
          ],
          [
           "THE ORAL CIGARETTES"
          ],
          [
           "Stileto"
          ],
          [
           "Todrick Hall"
          ],
          [
           "sign crushes motorist"
          ],
          [
           "Wisp"
          ],
          [
           "Verzache"
          ],
          [
           "Kensuke Ushio"
          ],
          [
           "Pomplamoose"
          ],
          [
           "Bear Ghost"
          ],
          [
           "Louie Zong"
          ],
          [
           "Dybbukk Covers"
          ],
          [
           "Layto"
          ],
          [
           "Ihascupquake"
          ],
          [
           "Original Broadway Cast of Hamilton"
          ],
          [
           "CARYS"
          ],
          [
           "Jake Daniels"
          ],
          [
           "Satsuki"
          ],
          [
           "Ai Higuchi"
          ],
          [
           "Erika Lundmoen"
          ],
          [
           "Promoting Sounds"
          ],
          [
           "Frizk"
          ],
          [
           "aldn"
          ],
          [
           "2WEI"
          ],
          [
           "Taeko Onuki"
          ],
          [
           "Panicland"
          ],
          [
           "saraunh0ly"
          ],
          [
           "Tyson Yen"
          ],
          [
           "Maejor"
          ],
          [
           "my head is empty"
          ],
          [
           "MISS LUXURY"
          ],
          [
           "cade clair"
          ],
          [
           "Joe Hisaishi"
          ],
          [
           "Simon Curtis"
          ],
          [
           "Sista Prod"
          ],
          [
           "Your Favorite Martian"
          ],
          [
           "The Rah Band"
          ],
          [
           "Ghostface Playa"
          ],
          [
           "ꉈꀧ꒒꒒ꁄꍈꍈꀧ꒦ꉈ ꉣꅔꎡꅔꁕꁄ"
          ],
          [
           "Cheriimoya"
          ],
          [
           "Hey Violet"
          ],
          [
           "Madilyn Mei"
          ],
          [
           "Harmless"
          ],
          [
           "No Vacation"
          ],
          [
           "Quadeca"
          ],
          [
           "Jack Harris"
          ],
          [
           "VGR"
          ],
          [
           "Shinsei Kamattechan"
          ],
          [
           "NUEKI"
          ],
          [
           "dandelion hands"
          ],
          [
           "Ferdinand fka Left Boy"
          ],
          [
           "Bad Lip Reading"
          ],
          [
           "Grace VanderWaal"
          ],
          [
           "Fabvl"
          ],
          [
           "Guti"
          ],
          [
           "sped up viral"
          ],
          [
           "The Chalkeaters"
          ],
          [
           "LongestSoloEver"
          ],
          [
           "LeGrand"
          ],
          [
           "KIRA"
          ],
          [
           "James Marriott"
          ],
          [
           "WILLIS"
          ],
          [
           "Akano"
          ],
          [
           "Serani Poji"
          ],
          [
           "7sirens"
          ],
          [
           "Wabie"
          ],
          [
           "GenriX"
          ],
          [
           "TOOPOOR"
          ],
          [
           "9lives"
          ],
          [
           "DJ Fronteo"
          ],
          [
           "ワンダーランズ×ショウタイム"
          ],
          [
           "ItaloBrothers"
          ],
          [
           "Marluxiam"
          ],
          [
           "Captainsparklez"
          ],
          [
           "The Gregory Brothers"
          ],
          [
           "MAN WITH A MISSION"
          ],
          [
           "TX2"
          ],
          [
           "Echos"
          ],
          [
           "Los Retros"
          ],
          [
           "PARANOiD DJ"
          ],
          [
           "Izzamuzzic"
          ],
          [
           "S3BZS"
          ],
          [
           "ヨルシカ"
          ],
          [
           "Dxrk ダーク"
          ],
          [
           "Funkin' Sound Team"
          ],
          [
           "Snail's House"
          ],
          [
           "Pink Guy"
          ],
          [
           "Lewis Hanton"
          ],
          [
           "Wrabel"
          ],
          [
           "Coco & Clair Clair"
          ],
          [
           "Random Encounters"
          ],
          [
           "leo."
          ],
          [
           "Shayfer James"
          ],
          [
           "Hisohkah"
          ],
          [
           "re6ce"
          ],
          [
           "Andrew Garfield"
          ],
          [
           "BURNOUT SYNDROMES"
          ],
          [
           "Shiloh Dynasty"
          ],
          [
           "Tessa Violet"
          ],
          [
           "Novulent"
          ],
          [
           "Jack Black"
          ],
          [
           "Jakeneutron"
          ],
          [
           "Skyfixing"
          ],
          [
           "IShowSpeed"
          ],
          [
           "PEGGY"
          ],
          [
           "Ethan Bortnick"
          ],
          [
           "pewdiepie"
          ],
          [
           "Sarcastic Sounds"
          ],
          [
           "RAT BOY"
          ],
          [
           "Mars Argo"
          ],
          [
           "Miura Jam"
          ],
          [
           "Softwilly"
          ],
          [
           "Daddyphatsnaps"
          ],
          [
           "MilkyyMelodies"
          ],
          [
           "CHINCHILLA"
          ],
          [
           "Stxlkin"
          ],
          [
           "Lil Revive"
          ],
          [
           "Yugo Kanno"
          ],
          [
           "Oscar Lang"
          ],
          [
           "Aimyon"
          ],
          [
           "Kairikibear"
          ],
          [
           "Origami Angel"
          ],
          [
           "Music Factory"
          ],
          [
           "Rosa Walton"
          ],
          [
           "Rustage"
          ],
          [
           "MY FIRST STORY"
          ],
          [
           "Boyinaband"
          ],
          [
           "Crush 40"
          ],
          [
           "VK Blanka"
          ],
          [
           "Stella Jang"
          ],
          [
           "ASIAN KUNG-FU GENERATION"
          ],
          [
           "TommyMuzzic"
          ],
          [
           "RØNIN"
          ],
          [
           "Anna Clendening"
          ],
          [
           "たかやん"
          ],
          [
           "Millionaires"
          ],
          [
           "My Little Pony"
          ],
          [
           "Ren0wned"
          ],
          [
           "Nightcore Reality"
          ],
          [
           "chart"
          ],
          [
           "2KE"
          ],
          [
           "back number"
          ],
          [
           "MIMIDEATH"
          ],
          [
           "Antonio Vivaldi"
          ],
          [
           "VANO 3000"
          ],
          [
           "dj Shawny"
          ],
          [
           "Good Morning"
          ],
          [
           "Jakob"
          ],
          [
           "Gus Dapperton"
          ],
          [
           "femtanyl"
          ],
          [
           "Teen Suicide"
          ],
          [
           "Mitchie M"
          ],
          [
           "Christopher Larkin"
          ],
          [
           "Hobo Johnson"
          ],
          [
           "thquib"
          ],
          [
           "Claude Debussy"
          ],
          [
           "Anri"
          ],
          [
           "Connor Kauffman"
          ],
          [
           "Metaroom"
          ],
          [
           "Toy-Box"
          ],
          [
           "fenekot"
          ],
          [
           "Mom Jeans."
          ],
          [
           "Madame Macabre"
          ],
          [
           "Jtbazz"
          ],
          [
           "Shelly"
          ],
          [
           "soramafuurasaka"
          ],
          [
           "Neovaii"
          ],
          [
           "O-Zone"
          ],
          [
           "lilbubblegum"
          ],
          [
           "Bali Baby"
          ],
          [
           "Dreamer Isioma"
          ],
          [
           "UVERworld"
          ],
          [
           "Sofia Mills"
          ],
          [
           "Last Dinosaurs"
          ],
          [
           "South Park Mexican"
          ],
          [
           "It Boys!"
          ],
          [
           "Melina KB"
          ],
          [
           "Kailee Morgue"
          ],
          [
           "XANAKIN SKYWOK"
          ],
          [
           "CyYu"
          ],
          [
           "Call Me Karizma"
          ],
          [
           "sped up 8282"
          ],
          [
           "Scene Queen"
          ],
          [
           "6YNTHMANE"
          ],
          [
           "potsu"
          ],
          [
           "Adult Swim Smalls"
          ],
          [
           "Reol"
          ],
          [
           "Crywank"
          ],
          [
           "SMiLE.dk"
          ],
          [
           "J.T. Machinima"
          ],
          [
           "PornoGraffitti"
          ],
          [
           "RichaadEB"
          ],
          [
           "Slowboy"
          ],
          [
           "Darci"
          ],
          [
           "Pyotr Ilyich Tchaikovsky"
          ],
          [
           "MORE MORE JUMP!"
          ],
          [
           "25時、ナイトコードで。"
          ],
          [
           "SXID"
          ],
          [
           "Rory Webley"
          ],
          [
           "Taylor Louderman"
          ],
          [
           "squirl beats"
          ],
          [
           "Lil Yawh"
          ],
          [
           "Stefflon Don"
          ],
          [
           "Haley Heynderickx"
          ],
          [
           "Sidewalks and Skeletons"
          ],
          [
           "Sail North"
          ],
          [
           "Miniature Tigers"
          ],
          [
           "CircusP"
          ],
          [
           "TileKid"
          ],
          [
           "Xanemusic"
          ],
          [
           "The Wrecks"
          ],
          [
           "TRASHXRL"
          ],
          [
           "Tsuko G."
          ],
          [
           "SAYGRACE"
          ],
          [
           "Stephen Schwartz"
          ],
          [
           "Bahari"
          ],
          [
           "PlayaPhonk"
          ],
          [
           "MC ORSEN"
          ],
          [
           "FORGOTTENAGE"
          ],
          [
           "$werve"
          ],
          [
           "ONIMXRU"
          ],
          [
           "Maya Hawke"
          ],
          [
           "XXKATUSJINSUX"
          ],
          [
           "AsapSCIENCE"
          ],
          [
           "Arcade Player"
          ],
          [
           "SXMPRA"
          ],
          [
           "Kempachii"
          ],
          [
           "Creo"
          ],
          [
           "DM DOKURO"
          ],
          [
           "Scammacist"
          ],
          [
           "Sophia Anne Caruso"
          ],
          [
           "of Montreal"
          ],
          [
           "Bluerra-sai"
          ],
          [
           "The Buttress"
          ],
          [
           "Everybody's Worried About Owen"
          ],
          [
           "ギヴン"
          ],
          [
           "Dbangz"
          ],
          [
           "Full Tac"
          ],
          [
           "Younger Hunger"
          ],
          [
           "plenka"
          ],
          [
           "Eternal Raijin"
          ],
          [
           "Charlotte Lawrence"
          ],
          [
           "SLAVE.V-V-R"
          ],
          [
           "照井順政"
          ],
          [
           "MYTH & ROID"
          ],
          [
           "Lil God Dan"
          ],
          [
           "lucidbeatz"
          ],
          [
           "Mori Calliope"
          ],
          [
           "NEEDY GIRL OVERDOSE"
          ],
          [
           "Bailey Spinn"
          ],
          [
           "sophiemarie.b"
          ],
          [
           "glass beach"
          ],
          [
           "Army Of Lovers"
          ],
          [
           "YonKaGor"
          ],
          [
           "Frankie Cosmos"
          ],
          [
           "Cyriak Harris"
          ],
          [
           "guardin"
          ],
          [
           "Luke Chiang"
          ],
          [
           "Anar"
          ],
          [
           "ZØMB"
          ],
          [
           "Jasmine Cephas-Jones"
          ],
          [
           "Jukebox The Ghost"
          ],
          [
           "ATARASHII GAKKO!"
          ],
          [
           "Pisse"
          ],
          [
           "Khalil?"
          ],
          [
           "Jonathan Young"
          ],
          [
           "kroh"
          ],
          [
           "Christine Baranski"
          ],
          [
           "Psycho Teddy"
          ],
          [
           "meganeko"
          ],
          [
           "Tila Tsoli"
          ],
          [
           "Graveyardguy"
          ],
          [
           "Slow Pulp"
          ],
          [
           "Cloudy June"
          ],
          [
           "Eibell"
          ],
          [
           "VIOLENT VIRA"
          ],
          [
           "neko"
          ],
          [
           "Heidi Montag"
          ],
          [
           "HoneyWorks"
          ],
          [
           "Friday Pilots Club"
          ],
          [
           "RJ Pasin"
          ],
          [
           "Caramella Girls"
          ],
          [
           "Zach Diamond"
          ],
          [
           "Wolfgang Amadeus Mozart"
          ],
          [
           "Kevin MacLeod"
          ],
          [
           "Kim Dracula"
          ],
          [
           "Videoclub"
          ],
          [
           "Vivid BAD SQUAD"
          ],
          [
           "HISTED"
          ],
          [
           "glwzbll"
          ],
          [
           "Wasia Project"
          ],
          [
           "Vampyx"
          ],
          [
           "Boy Fantasy"
          ],
          [
           "VDYCD"
          ],
          [
           "Jake Webber"
          ],
          [
           "Kevin Sherwood"
          ],
          [
           "BJ Lips"
          ],
          [
           "Aly & AJ"
          ],
          [
           "j^p^n"
          ],
          [
           "ぐちり"
          ],
          [
           "Daniel Pemberton"
          ],
          [
           "OxT"
          ],
          [
           "Goose house"
          ],
          [
           "Stegosaurus Rex"
          ],
          [
           "Ark Patrol"
          ],
          [
           "Brooksie"
          ],
          [
           "Christopher Fitzgerald"
          ],
          [
           "SUDA MASAKI"
          ],
          [
           "HUS"
          ],
          [
           "FLOW"
          ],
          [
           "Bobby McFerrin"
          ],
          [
           "Twilight Sparkle"
          ],
          [
           "Markiplier"
          ],
          [
           "Rav"
          ],
          [
           "itssvd"
          ],
          [
           "Loren Gray"
          ],
          [
           "My Singing Monsters"
          ],
          [
           "Six Dior"
          ],
          [
           "atsuover"
          ],
          [
           "Royal Blood"
          ],
          [
           "Bread Beatz"
          ],
          [
           "suisside"
          ],
          [
           "Paris Hilton"
          ],
          [
           "Monsieur Periné"
          ],
          [
           "Yoko Takahashi"
          ],
          [
           "Sports"
          ],
          [
           "KevinKempt"
          ],
          [
           "Crusher-P"
          ],
          [
           "Thayne Jasperson"
          ],
          [
           "Yoko Shimomura"
          ],
          [
           "Tiagz"
          ],
          [
           "Sparky Deathcap"
          ],
          [
           "Joost"
          ],
          [
           "Elita"
          ],
          [
           "Rob Cantor"
          ],
          [
           "carwash"
          ],
          [
           "Jessie Mueller"
          ],
          [
           "Kimiko Glenn"
          ],
          [
           "Ari Afsar"
          ],
          [
           "Phoneboy"
          ],
          [
           "BADBADNOTGOOD"
          ],
          [
           "Jun Togawa"
          ],
          [
           "宝鐘マリン"
          ],
          [
           "90degrees"
          ],
          [
           "Nightmare"
          ],
          [
           "Stuck in the Sound"
          ],
          [
           "ApAngryPiggy"
          ],
          [
           "LilyPichu"
          ],
          [
           "Kim Bo"
          ],
          [
           "Tony22"
          ],
          [
           "Chonny Jash"
          ],
          [
           "Xguiz"
          ],
          [
           "Slvmbrs"
          ],
          [
           "Mofe."
          ],
          [
           "Katya Lel"
          ],
          [
           "Miguel Angeles"
          ],
          [
           "POLKADOT STINGRAY"
          ],
          [
           "Delaney Bailey"
          ],
          [
           "midwxst"
          ],
          [
           "Jeff Williams"
          ],
          [
           "Elena Siegman"
          ],
          [
           "DizzyEight"
          ],
          [
           "Vessel"
          ],
          [
           "Marcin Przybyłowicz"
          ],
          [
           "Ogryzek"
          ],
          [
           "Sampha"
          ],
          [
           "Banshee"
          ],
          [
           "YC Banks"
          ],
          [
           "Zach Templar"
          ],
          [
           "Michael Cera"
          ],
          [
           "LSPLASH"
          ],
          [
           "Rory in early 20s"
          ],
          [
           "Gustavo Santaolalla"
          ],
          [
           "Bossa"
          ],
          [
           "Orange Sector"
          ],
          [
           "Mike Faist"
          ],
          [
           "Pokémon"
          ],
          [
           "japanesecoffee"
          ],
          [
           "Alestorm"
          ],
          [
           "Friedrich Habetler"
          ],
          [
           "Hideki Naganuma"
          ],
          [
           "Jason Charles Miller"
          ],
          [
           "Nicholas Britell"
          ],
          [
           "Jimmy Gnecco"
          ],
          [
           "Glorb"
          ],
          [
           "B.E.R."
          ],
          [
           "L'Orchestra Cinematique"
          ],
          [
           "Whirr"
          ],
          [
           "RŮDE"
          ],
          [
           "Kapa Boy"
          ],
          [
           "Instupendo"
          ],
          [
           "結束バンド"
          ],
          [
           "The Ready Set"
          ],
          [
           "The Vanished People"
          ],
          [
           "Hoshimachi Suisei"
          ],
          [
           "VideoGameRapBattles"
          ],
          [
           "love-sadKID"
          ],
          [
           "Vague003"
          ],
          [
           "Isaac Dunbar"
          ],
          [
           "Soap&Skin"
          ],
          [
           "Faith Marie"
          ],
          [
           "Benny"
          ],
          [
           "DUSTY"
          ],
          [
           "MUPP"
          ],
          [
           "Gen Hoshino"
          ],
          [
           "Ryokuoushoku Shakai"
          ],
          [
           "Shiro SAGISU"
          ],
          [
           "Survive Said The Prophet"
          ],
          [
           "OMFG"
          ],
          [
           "Monster High"
          ],
          [
           "IAMX"
          ],
          [
           "Farizki"
          ],
          [
           "Cö shu Nie"
          ],
          [
           "Molly Kate Kestner"
          ],
          [
           "Murkish"
          ],
          [
           "Garbage"
          ],
          [
           "Saucy Dog"
          ],
          [
           "Frawley"
          ],
          [
           "Thutmose"
          ],
          [
           "The Black Skirts"
          ],
          [
           "MC Virgins"
          ],
          [
           "11:11 Music Group"
          ],
          [
           "Yuuri"
          ],
          [
           "Alex Sparrow"
          ],
          [
           "Leat'eq"
          ],
          [
           "TheExorcist"
          ],
          [
           "Pogo"
          ],
          [
           "Limbo"
          ],
          [
           "Heavenly"
          ],
          [
           "Macaroni Empitsu"
          ],
          [
           "Leith Ross"
          ],
          [
           "FrankJavCee"
          ],
          [
           "SHADXWBXRN"
          ],
          [
           "Pharmacist"
          ],
          [
           "Kaito Shoma"
          ],
          [
           "WEEDMANE"
          ],
          [
           "EGOIST"
          ],
          [
           "Junko Yagami"
          ],
          [
           "CURSEDEVIL"
          ],
          [
           "Anthony Amorim"
          ],
          [
           "Everything Everything"
          ],
          [
           "Banes World"
          ],
          [
           "Claud"
          ],
          [
           "Ryan Celsius Sounds"
          ],
          [
           "Divide Music"
          ],
          [
           "The Greatest Bits"
          ],
          [
           "ppcocaine"
          ],
          [
           "Puma Blue"
          ],
          [
           "Connor Spiotto"
          ],
          [
           "Vantage"
          ],
          [
           "Sewerslvt"
          ],
          [
           "Tsundere Twintails"
          ],
          [
           "Giuseppe Verdi"
          ],
          [
           "Ludo"
          ],
          [
           "Ayase"
          ],
          [
           "Jess Benko"
          ],
          [
           "Jasiah"
          ],
          [
           "Xantesha"
          ],
          [
           "Greer"
          ],
          [
           "Baby Bugs"
          ],
          [
           "The Mountain Goats"
          ],
          [
           "Ginger Root"
          ],
          [
           "ReoNa"
          ],
          [
           "Fox Academy"
          ],
          [
           "RONEN"
          ],
          [
           "Rachel Zegler"
          ],
          [
           "Shin Sakiura"
          ],
          [
           "hako"
          ],
          [
           "Awkward Marina"
          ],
          [
           "Basement Jaxx"
          ],
          [
           "Jack Conte"
          ],
          [
           "JaidynAlexis"
          ],
          [
           "$atori Zoom"
          ],
          [
           "Aperture Science Psychoacoustic Laboratories"
          ],
          [
           "BUMP OF CHICKEN"
          ],
          [
           "EmpathP"
          ],
          [
           "DNMO"
          ],
          [
           "Sex Bob-Omb"
          ],
          [
           "Jamie Berry"
          ],
          [
           "nelward"
          ],
          [
           "spellcasting"
          ],
          [
           "PelleK"
          ],
          [
           "Air Traffic Controller"
          ],
          [
           "AnnenMayKantereit"
          ],
          [
           "fin"
          ],
          [
           "SVRCINA"
          ],
          [
           "Anya Nami"
          ],
          [
           "waykap"
          ],
          [
           "Slush Puppy"
          ],
          [
           "carpetgarden"
          ],
          [
           "bugcried"
          ],
          [
           "QUEEN BEE"
          ],
          [
           "BoA"
          ],
          [
           "Noah Floersch"
          ],
          [
           "Elusin"
          ],
          [
           "GoodBooks"
          ],
          [
           "Fousheé"
          ],
          [
           "Young Nightcore"
          ],
          [
           "Sir Sly"
          ],
          [
           "Big Data"
          ],
          [
           "Ghost Town"
          ],
          [
           "deyluvkirby"
          ],
          [
           "GameboyJones"
          ],
          [
           "THE DRIVER ERA"
          ],
          [
           "ericdoa"
          ],
          [
           "Jacob Tillberg"
          ],
          [
           "SEATBELTS"
          ],
          [
           "Sasuke Haraguchi"
          ],
          [
           "T.M.Revolution"
          ],
          [
           "keltiey"
          ],
          [
           "Babyxsosa"
          ],
          [
           "APOCALIPSIS"
          ],
          [
           "Graham Kartna"
          ],
          [
           "Kit Walters"
          ],
          [
           "Bug Hunter"
          ],
          [
           "THE DU"
          ],
          [
           "AISHA"
          ],
          [
           "The Correspondents"
          ],
          [
           "Tiffany Tatreau"
          ],
          [
           "Mckyyy"
          ],
          [
           "泰葉"
          ],
          [
           "Johann Sebastian Bach"
          ],
          [
           "36 Questions"
          ],
          [
           "Hentai Xander"
          ],
          [
           "SloFevero"
          ],
          [
           "Less Gravity"
          ],
          [
           "Chinozo"
          ],
          [
           "Leo/need"
          ],
          [
           "BLESSED MANE"
          ],
          [
           "The Hoosiers"
          ],
          [
           "High Sunn"
          ],
          [
           "DEMONDICE"
          ],
          [
           "Chevy"
          ],
          [
           "Christy Altomare"
          ],
          [
           "Parsley Onuma"
          ],
          [
           "Inner Wave"
          ],
          [
           "KiNG MALA"
          ],
          [
           "Rainych"
          ],
          [
           "Zella Day"
          ],
          [
           "Masayuki Suzuki"
          ],
          [
           "Vylet Pony"
          ],
          [
           "Whales"
          ],
          [
           "The Frights"
          ],
          [
           "Frédéric Chopin"
          ],
          [
           "TUYU"
          ],
          [
           "MAISONdes"
          ],
          [
           "Tia"
          ],
          [
           "NightCove_thefox"
          ],
          [
           "Anıl Emre Daldal"
          ],
          [
           "Beau Young Prince"
          ],
          [
           "Bambee"
          ],
          [
           "Mike Geno"
          ],
          [
           "Kyary Pamyu Pamyu"
          ],
          [
           "Kocchi no Kento"
          ],
          [
           "aiko"
          ],
          [
           "Omoinotake"
          ],
          [
           "NOAHFINNCE"
          ],
          [
           "Tungevaag"
          ],
          [
           "10X"
          ],
          [
           "Chilled Pig"
          ],
          [
           "Uru"
          ],
          [
           "Novelbright"
          ],
          [
           "CHROMANCE"
          ],
          [
           "Splice Records"
          ],
          [
           "DJ Tec"
          ],
          [
           "LilDeuceDeuce"
          ],
          [
           "Goreshit"
          ],
          [
           "analog_mannequin"
          ],
          [
           "Destiny Rogers"
          ],
          [
           "SayMaxWell"
          ],
          [
           "Levent Geiger"
          ],
          [
           "Alice Grant"
          ],
          [
           "Tee Lopes"
          ],
          [
           "LeoStayTrill"
          ],
          [
           "sagun"
          ],
          [
           "updog"
          ],
          [
           "Joseline Hernandez"
          ],
          [
           "Halle Abadi"
          ],
          [
           "ORANGE RANGE"
          ],
          [
           "マルシィ"
          ],
          [
           "i don't like mirrors"
          ],
          [
           "Tubbo"
          ],
          [
           "Ed Helms"
          ],
          [
           "CMTEN"
          ],
          [
           "百足"
          ],
          [
           "Rarity"
          ],
          [
           "phonk.me"
          ],
          [
           "my!lane"
          ],
          [
           "Isolate.exe"
          ],
          [
           "EASHA"
          ],
          [
           "Belle"
          ],
          [
           "dkj"
          ],
          [
           "Gael Garcia Bernal"
          ],
          [
           "Andrew Prahlow"
          ],
          [
           "nothing,nowhere."
          ],
          [
           "Timmies"
          ],
          [
           "Zach Callison"
          ],
          [
           "Taco"
          ],
          [
           "Makir"
          ],
          [
           "prodby668"
          ],
          [
           "Sorry Mom"
          ],
          [
           "MyKey"
          ],
          [
           "Kid Bloom"
          ],
          [
           "Summer Salt"
          ],
          [
           "Yameii Online"
          ],
          [
           "Vertigoaway"
          ],
          [
           "PinocchioP"
          ],
          [
           "Gareth Coker"
          ],
          [
           "OmenXIII"
          ],
          [
           "Cojum Dip"
          ],
          [
           "The Caretaker"
          ],
          [
           "TV Themes"
          ],
          [
           "Barbatuques"
          ],
          [
           "Colby Brock"
          ],
          [
           "Zolita"
          ],
          [
           "SawanoHiroyuki[nZk]"
          ],
          [
           "Hot Flash Heat Wave"
          ],
          [
           "sumika"
          ],
          [
           "NyxTheShield"
          ],
          [
           "Nick Nitro"
          ],
          [
           "Kayla Nicole"
          ],
          [
           "Maty Noyes"
          ],
          [
           "Gabbie Hanna"
          ],
          [
           "Kill Eva"
          ],
          [
           "Nashimoto Ui"
          ],
          [
           "DADAROMA"
          ],
          [
           "Kikiyama"
          ],
          [
           "Rachel Bay Jones"
          ],
          [
           "Hiroshi Kitadani"
          ],
          [
           "Seekae"
          ],
          [
           "Ralph Castelli"
          ],
          [
           "Michele Leigh"
          ],
          [
           "iroha(sasaki)"
          ],
          [
           "Pequeno Cidadão"
          ],
          [
           "glichery"
          ],
          [
           "Joe Hawley"
          ],
          [
           "Cycoriot"
          ],
          [
           "Die Ärzte"
          ],
          [
           "sammy rash"
          ],
          [
           "Allen Simpson"
          ],
          [
           "Jacksepticeye"
          ],
          [
           "Burn The Ballroom"
          ],
          [
           "Static-P"
          ],
          [
           "Goomp"
          ],
          [
           "Dmitri Shostakovich"
          ],
          [
           "Pigeon Pit"
          ],
          [
           "Cass Elliot"
          ],
          [
           "Silent Child"
          ],
          [
           "Jessi"
          ],
          [
           "Yamê"
          ],
          [
           "KENTENSHI"
          ],
          [
           "VaporGod"
          ],
          [
           "Ugovhb"
          ],
          [
           "Takayoshi"
          ],
          [
           "quinnie"
          ],
          [
           "Rocco"
          ],
          [
           "Milk In The Microwave"
          ],
          [
           "líue"
          ],
          [
           "MOB CHOIR"
          ],
          [
           "Tre Savage"
          ],
          [
           "Brothers of Metal"
          ],
          [
           "Rarin"
          ],
          [
           "Mario Judah"
          ],
          [
           "Dasgasdom3"
          ],
          [
           "UNDREAM"
          ],
          [
           "HalaCG"
          ],
          [
           "kurffew"
          ],
          [
           "again&again"
          ],
          [
           "otuka"
          ],
          [
           "INOHA"
          ],
          [
           "girli"
          ],
          [
           "BONES UK"
          ],
          [
           "The Hails"
          ],
          [
           "Neru"
          ],
          [
           "Larray"
          ],
          [
           "『ユイカ』"
          ],
          [
           "Hail The Sun"
          ],
          [
           "SICK LEGEND"
          ],
          [
           "美波"
          ],
          [
           "WesGhost"
          ],
          [
           "Sassy Scene"
          ],
          [
           "DJ Splash"
          ],
          [
           "Ms Krazie"
          ],
          [
           "Harley Poe"
          ],
          [
           "Rauf & Faik"
          ],
          [
           "Antent"
          ],
          [
           "KuroUsa"
          ],
          [
           "Hiroaki Tommy Tominaga"
          ],
          [
           "Joywave"
          ],
          [
           "Lillian Castillo"
          ],
          [
           "mcvert"
          ],
          [
           "Frances Forever"
          ],
          [
           "atlas"
          ],
          [
           "Georges Bizet"
          ],
          [
           "Richard Wagner"
          ],
          [
           "Tiny Tim"
          ],
          [
           "Ludwig van Beethoven"
          ],
          [
           "Lucky Socks"
          ],
          [
           "Lil Boodang"
          ],
          [
           "Al Bowlly"
          ],
          [
           "MathematicPony"
          ],
          [
           "hachi"
          ],
          [
           "syudou"
          ],
          [
           "Wonderful★opportunity!"
          ],
          [
           "Mikito P"
          ],
          [
           "whatsaheart"
          ],
          [
           "Ciscaux"
          ],
          [
           "Shawn Wasabi"
          ],
          [
           "Mustard Service"
          ],
          [
           "AL-X The Great"
          ],
          [
           "Yung Kage"
          ],
          [
           "Anzyeity"
          ],
          [
           "Jamie Muscato"
          ],
          [
           "Amanda Seyfried"
          ],
          [
           "Ladytron"
          ],
          [
           "Kate Rockwell"
          ],
          [
           "Steve Gabry"
          ],
          [
           "The Little Dippers"
          ],
          [
           "bludnymph"
          ],
          [
           "André Rieu"
          ],
          [
           "Mcki Robyns-P"
          ],
          [
           "Alice Phoebe Lou"
          ],
          [
           "Mook"
          ],
          [
           "Jahhlu"
          ],
          [
           "Kill Dyll"
          ],
          [
           "Phonk Killer"
          ],
          [
           "tuki."
          ],
          [
           "Jin"
          ],
          [
           "Yoh kamiyama"
          ],
          [
           "YUI"
          ],
          [
           "Hello Sleepwalkers"
          ],
          [
           "Apollo Fresh"
          ],
          [
           "batta"
          ],
          [
           "Stealing Sheep"
          ],
          [
           "RecD"
          ],
          [
           "Varian"
          ],
          [
           "YOUNGX777"
          ],
          [
           "Nero's Day At Disneyland"
          ],
          [
           "Caro Emerald"
          ],
          [
           "Infected Mushroom"
          ]
         ],
         "hovertemplate": "labels=Indie<br>x=%{x}<br>y=%{y}<br>names=%{customdata[0]}<extra></extra>",
         "legendgroup": "Indie",
         "marker": {
          "color": "#00cc96",
          "symbol": "circle"
         },
         "mode": "markers",
         "name": "Indie",
         "showlegend": true,
         "type": "scattergl",
         "x": [
          -2.232848882675171,
          -2.325122833251953,
          -2.4376752376556396,
          -2.467055082321167,
          -2.627856492996216,
          -2.3550941944122314,
          -2.5973706245422363,
          -2.7207987308502197,
          -2.316269874572754,
          -2.5206077098846436,
          -2.3052351474761963,
          -3.4186489582061768,
          -2.237461566925049,
          -2.556913137435913,
          -2.2975423336029053,
          -2.225290536880493,
          -0.44052597880363464,
          -2.4577481746673584,
          -2.3186867237091064,
          -2.447122097015381,
          -2.7370402812957764,
          -2.5187299251556396,
          -2.6499521732330322,
          -2.5036189556121826,
          -2.077045440673828,
          -2.4533934593200684,
          -2.3518731594085693,
          -2.183988332748413,
          -2.295842409133911,
          -2.7134242057800293,
          -1.807429313659668,
          -2.6934661865234375,
          -2.265455961227417,
          -2.0835256576538086,
          -2.6347310543060303,
          -2.606628656387329,
          -2.4186108112335205,
          -1.8027708530426025,
          -2.803927183151245,
          -1.8582172393798828,
          -1.5130246877670288,
          -3.4033167362213135,
          -2.3218343257904053,
          -2.912337064743042,
          -2.5762877464294434,
          -2.4016125202178955,
          -2.4226458072662354,
          -2.6727888584136963,
          -2.3961246013641357,
          -0.7332229614257812,
          -3.376056432723999,
          -2.675039529800415,
          -2.688162326812744,
          -2.441739797592163,
          -3.4257466793060303,
          -2.7172086238861084,
          -2.207275390625,
          -2.360137939453125,
          -2.342998504638672,
          -2.7955074310302734,
          -3.0650222301483154,
          -0.7264772057533264,
          -2.6992034912109375,
          -2.8015146255493164,
          -2.699784755706787,
          -2.260624647140503,
          -2.344123601913452,
          -2.715829372406006,
          -2.2074286937713623,
          -2.11631178855896,
          -2.6798622608184814,
          -2.7822866439819336,
          -2.678379774093628,
          -2.7156660556793213,
          -2.217592716217041,
          -2.7599551677703857,
          -2.6225337982177734,
          -3.150157928466797,
          -1.1215217113494873,
          -2.199789524078369,
          -2.155498504638672,
          -1.4031236171722412,
          -2.860884428024292,
          -1.684682846069336,
          -2.956648349761963,
          -1.7947920560836792,
          -2.3580706119537354,
          -2.4206249713897705,
          -2.279512643814087,
          -0.8490289449691772,
          -2.8414838314056396,
          -2.420755386352539,
          -0.9258500337600708,
          -2.774623155593872,
          -2.326249599456787,
          -2.686241865158081,
          -3.3899855613708496,
          -1.8218715190887451,
          -2.747105598449707,
          -3.427696704864502,
          -3.410339593887329,
          -2.189737319946289,
          -1.9630780220031738,
          -2.71391224861145,
          -2.7493436336517334,
          -2.0907094478607178,
          -3.3976306915283203,
          -2.738550901412964,
          -3.3702399730682373,
          -2.312765121459961,
          -2.325777769088745,
          -3.137145757675171,
          -3.4203755855560303,
          -2.416940450668335,
          -0.43466717004776,
          -2.8114523887634277,
          -2.534587860107422,
          -2.352991819381714,
          -1.7054858207702637,
          -0.5046393275260925,
          -2.4697437286376953,
          -1.9612740278244019,
          -2.5122292041778564,
          -3.487473487854004,
          -2.469026565551758,
          -2.6703717708587646,
          -3.3589282035827637,
          -2.710742950439453,
          -2.759734869003296,
          -2.373826503753662,
          -2.6540801525115967,
          -2.803875684738159,
          -2.0070106983184814,
          -0.699442982673645,
          -2.430889844894409,
          -2.6913018226623535,
          -2.759490489959717,
          -1.135666012763977,
          -3.4624292850494385,
          -3.342974901199341,
          -2.681339979171753,
          -2.223135232925415,
          -2.002490758895874,
          -3.3676888942718506,
          -1.7541519403457642,
          -2.7882049083709717,
          -1.672688603401184,
          -3.4180870056152344,
          -3.517223358154297,
          -2.134063243865967,
          -2.563746929168701,
          -2.6332807540893555,
          -0.9255232214927673,
          -2.7597320079803467,
          -0.9019820690155029,
          -2.41257905960083,
          -2.624073028564453,
          -1.9418038129806519,
          -0.8009440302848816,
          -3.015357255935669,
          -2.4492709636688232,
          -2.4580345153808594,
          -1.6896343231201172,
          -1.9828583002090454,
          -2.727726936340332,
          -2.7444992065429688,
          -2.143911361694336,
          -2.45572829246521,
          -3.483910322189331,
          -3.087395191192627,
          -2.7865636348724365,
          -2.1750576496124268,
          -2.522387981414795,
          -2.3865034580230713,
          -3.3984110355377197,
          -2.838646650314331,
          -1.9929255247116089,
          -2.209519863128662,
          -2.0951311588287354,
          -2.212740898132324,
          -2.2174973487854004,
          -2.503243923187256,
          -1.096937894821167,
          -1.9582732915878296,
          -2.681330680847168,
          -1.8392128944396973,
          -2.503981351852417,
          -3.0985569953918457,
          -2.094958782196045,
          -2.6746950149536133,
          -3.0878846645355225,
          -1.2922714948654175,
          -2.9837045669555664,
          -2.7744553089141846,
          -2.6088171005249023,
          -2.3188958168029785,
          -2.4422965049743652,
          -2.231623411178589,
          -3.29058575630188,
          -1.3899775743484497,
          -1.9582171440124512,
          -1.2978147268295288,
          -3.440056085586548,
          -2.1844465732574463,
          -2.810236692428589,
          -3.083024263381958,
          -1.8327008485794067,
          -3.052182674407959,
          -3.4565012454986572,
          -2.6330909729003906,
          -3.093860149383545,
          -2.33874249458313,
          -1.9125943183898926,
          -3.0694024562835693,
          -1.6636581420898438,
          -2.2869949340820312,
          -3.2029151916503906,
          -2.1578049659729004,
          -3.063882350921631,
          -2.5727641582489014,
          -2.519352436065674,
          -2.2349770069122314,
          -2.5676991939544678,
          -2.644984006881714,
          -2.3390066623687744,
          -2.6164286136627197,
          -1.7069194316864014,
          -2.7233920097351074,
          -2.665623188018799,
          -0.997559666633606,
          -3.121053695678711,
          -3.207242488861084,
          -2.359315872192383,
          -2.2387354373931885,
          -2.842862844467163,
          -3.434860944747925,
          -1.184093952178955,
          -3.1950910091400146,
          -3.086329221725464,
          -2.646672010421753,
          -2.208209753036499,
          -2.0630974769592285,
          -2.1161088943481445,
          -1.3476754426956177,
          -2.9363646507263184,
          -3.4594690799713135,
          -3.242326259613037,
          -2.672447919845581,
          -2.201923131942749,
          -2.358219861984253,
          -2.4914960861206055,
          -1.6786197423934937,
          -1.6458631753921509,
          -3.0834062099456787,
          -2.251455545425415,
          -3.432844638824463,
          -3.4573171138763428,
          -3.4641788005828857,
          -2.1746013164520264,
          -2.905364990234375,
          -1.7945533990859985,
          -2.381786584854126,
          -3.2021889686584473,
          -2.964033365249634,
          -2.5404622554779053,
          -1.998199224472046,
          -1.957227349281311,
          -1.9090585708618164,
          -1.9148211479187012,
          -1.8465689420700073,
          -2.29479718208313,
          -1.7009718418121338,
          -3.4441986083984375,
          -1.1812901496887207,
          -0.8173766136169434,
          -2.188203811645508,
          -3.428997755050659,
          -2.202925443649292,
          -3.316582441329956,
          -2.1838512420654297,
          -2.202754497528076,
          -2.370070219039917,
          -2.584493637084961,
          -2.8310539722442627,
          -2.6965787410736084,
          -1.9889582395553589,
          -0.8218074440956116,
          -1.4197005033493042,
          -3.162177801132202,
          -2.593247413635254,
          -2.909876823425293,
          -2.994940996170044,
          -1.6274181604385376,
          -2.0182740688323975,
          -2.84486985206604,
          -1.4072651863098145,
          -3.360424280166626,
          -2.153191089630127,
          -1.8136526346206665,
          -3.3866078853607178,
          -1.3264156579971313,
          -2.808194875717163,
          -2.512533664703369,
          -2.264976739883423,
          -1.9274818897247314,
          -3.4350814819335938,
          -2.2453904151916504,
          -2.787696599960327,
          -2.545536518096924,
          -2.086804151535034,
          -2.7671220302581787,
          -1.7063307762145996,
          -1.8755422830581665,
          -1.6266518831253052,
          -1.9720839262008667,
          -1.955635666847229,
          -3.016063690185547,
          -1.0955028533935547,
          -3.173429012298584,
          -2.222010850906372,
          -2.464439868927002,
          -1.9076383113861084,
          -3.4730403423309326,
          -2.6375796794891357,
          -2.0849201679229736,
          -2.4973814487457275,
          -3.0024638175964355,
          -2.352907657623291,
          -3.542691946029663,
          -2.0662357807159424,
          -2.308816909790039,
          -3.0952234268188477,
          -2.2088680267333984,
          -3.3408291339874268,
          -1.8686920404434204,
          -3.280306100845337,
          -2.7599921226501465,
          -2.244155168533325,
          -3.37473464012146,
          -2.563608407974243,
          -2.285590887069702,
          -1.511967420578003,
          -3.4890427589416504,
          -2.086522102355957,
          -2.5091097354888916,
          -2.4723851680755615,
          -2.5295987129211426,
          -3.333078622817993,
          -2.455500602722168,
          -2.088559150695801,
          -2.4220099449157715,
          -3.087759494781494,
          -3.4706344604492188,
          -2.8378610610961914,
          -2.0634617805480957,
          -1.827363133430481,
          -1.8687689304351807,
          -2.089745044708252,
          -2.471623182296753,
          -3.037285089492798,
          -3.0564393997192383,
          -2.132870674133301,
          -2.3488481044769287,
          -1.6453973054885864,
          -2.5666990280151367,
          -2.068480968475342,
          -3.0209004878997803,
          -2.154329776763916,
          -2.25553035736084,
          -2.712848424911499,
          -2.5004732608795166,
          -2.1122777462005615,
          -2.0549912452697754,
          -1.959290862083435,
          -2.611032247543335,
          -2.550900459289551,
          -2.842158555984497,
          -2.0113027095794678,
          -2.6649107933044434,
          -2.6200671195983887,
          -3.511080026626587,
          -0.9594963788986206,
          -1.8632421493530273,
          -1.7432035207748413,
          -2.4456894397735596,
          -1.678634762763977,
          -2.3639674186706543,
          -2.7057600021362305,
          -2.4025719165802,
          -3.1783931255340576,
          -2.065871238708496,
          -2.665572166442871,
          -3.023336410522461,
          -3.0295612812042236,
          -2.82487416267395,
          -3.445228099822998,
          -3.472430467605591,
          -3.3976051807403564,
          -3.034881353378296,
          -3.527843952178955,
          -1.6665147542953491,
          -3.2288424968719482,
          -3.4388723373413086,
          -2.304262161254883,
          -3.0157508850097656,
          -2.667813777923584,
          -1.5970585346221924,
          -2.8015050888061523,
          -1.99393892288208,
          -1.715293049812317,
          -3.198188066482544,
          -1.8988382816314697,
          -1.5817919969558716,
          -0.7740692496299744,
          -2.7127530574798584,
          -3.048967123031616,
          -3.557438611984253,
          -3.2852425575256348,
          -1.3476725816726685,
          -1.9324346780776978,
          -2.462312936782837,
          -3.50696063041687,
          -3.241924285888672,
          -2.5071935653686523,
          -2.2803473472595215,
          -2.738201141357422,
          -2.072935104370117,
          -3.470322370529175,
          -3.446824789047241,
          -1.7222533226013184,
          -1.9230515956878662,
          -2.168755292892456,
          -2.620274066925049,
          -2.702069044113159,
          -1.5307984352111816,
          -3.4052834510803223,
          -2.7851781845092773,
          -3.0094428062438965,
          -2.1288344860076904,
          -1.1855013370513916,
          -2.751624584197998,
          -2.3609721660614014,
          -1.6093283891677856,
          -1.9706612825393677,
          -2.212479829788208,
          -2.745133399963379,
          -2.818168878555298,
          -1.9427518844604492,
          -2.9974730014801025,
          -1.8097059726715088,
          -1.9339168071746826,
          -3.0906007289886475,
          -0.8311821818351746,
          0.033440638333559036,
          -1.8349837064743042,
          -3.1412746906280518,
          -1.9116307497024536,
          -2.8449385166168213,
          -1.7786651849746704,
          -2.8079936504364014,
          -3.2174088954925537,
          -2.0929977893829346,
          -2.0476808547973633,
          -0.7064590454101562,
          -1.6965115070343018,
          -2.4346489906311035,
          -2.939269542694092,
          -2.9167320728302,
          -2.787177801132202,
          -2.8806138038635254,
          -2.0839695930480957,
          -2.9581353664398193,
          -1.6205753087997437,
          -0.3085297644138336,
          -2.8805627822875977,
          -2.032261371612549,
          -1.589552879333496,
          -1.5744566917419434,
          -2.449842929840088,
          -2.9868693351745605,
          -1.484415054321289,
          -2.0446958541870117,
          -2.4040260314941406,
          -2.2180027961730957,
          -2.4354395866394043,
          -2.404053211212158,
          -1.5997675657272339,
          -2.553828239440918,
          -3.467710018157959,
          -1.9662806987762451,
          -1.653923511505127,
          -2.6324350833892822,
          -2.0965092182159424,
          -2.458965301513672,
          -1.7374707460403442,
          -2.107804298400879,
          -2.9860050678253174,
          -1.6460353136062622,
          -2.3825087547302246,
          -2.020221710205078,
          -3.2636449337005615,
          -1.660504937171936,
          -2.6606228351593018,
          -2.6616721153259277,
          -3.2732138633728027,
          -3.485734462738037,
          -0.7900382876396179,
          -1.8562333583831787,
          -2.580406665802002,
          -2.2662205696105957,
          -2.849644660949707,
          -3.4761250019073486,
          -1.7746186256408691,
          -1.8440207242965698,
          -1.979483962059021,
          -2.661621570587158,
          -2.251819372177124,
          -0.7572264671325684,
          -2.5343403816223145,
          -1.6060981750488281,
          -2.1751186847686768,
          -2.200570821762085,
          -3.4490718841552734,
          -2.5392632484436035,
          -3.0892350673675537,
          -2.070552110671997,
          -1.4414700269699097,
          -1.5001813173294067,
          -2.5402004718780518,
          -3.2864041328430176,
          -2.369842052459717,
          -2.9549314975738525,
          -1.7596668004989624,
          -2.227989673614502,
          -2.45550537109375,
          -1.2994464635849,
          -2.05647611618042,
          -2.7106833457946777,
          -3.450160026550293,
          -1.9975011348724365,
          -2.440802812576294,
          -3.403750419616699,
          -3.2884554862976074,
          -3.2433085441589355,
          -2.500239849090576,
          -1.7706102132797241,
          -3.4198429584503174,
          -2.2001497745513916,
          -2.3088643550872803,
          -2.129427909851074,
          -2.9896552562713623,
          -1.9483760595321655,
          -2.2867212295532227,
          -2.9211153984069824,
          -2.5437843799591064,
          -3.52864670753479,
          -2.218512535095215,
          -3.4814093112945557,
          -2.323117733001709,
          -2.0249035358428955,
          -2.1385631561279297,
          -3.1396212577819824,
          -1.4375417232513428,
          -2.285841226577759,
          -2.637484073638916,
          -2.4959518909454346,
          -2.2421417236328125,
          -2.655578851699829,
          -1.3415617942810059,
          -3.3450927734375,
          -2.0712029933929443,
          -2.3528494834899902,
          -1.5442107915878296,
          -2.588658094406128,
          -1.8275244235992432,
          -2.71229887008667,
          -2.672661066055298,
          -3.14569091796875,
          -1.7141717672348022,
          -1.8023312091827393,
          -2.3064138889312744,
          -1.6357462406158447,
          -1.6704941987991333,
          -2.6089468002319336,
          -2.052705764770508,
          -2.5713982582092285,
          -1.4171158075332642,
          -2.964944362640381,
          -2.1950390338897705,
          -3.4324004650115967,
          -1.7823654413223267,
          -1.646801233291626,
          -1.9586870670318604,
          -2.2235395908355713,
          -2.5020012855529785,
          -0.8394594192504883,
          -3.160090208053589,
          -1.6388912200927734,
          -1.5730863809585571,
          -2.1960535049438477,
          -2.269047737121582,
          -1.7226946353912354,
          -2.0609612464904785,
          -2.0525197982788086,
          -2.017911672592163,
          -2.899854898452759,
          -2.1812522411346436,
          -1.924659013748169,
          -2.2529940605163574,
          -2.6682474613189697,
          -3.2007715702056885,
          -3.0919015407562256,
          -2.025993585586548,
          -2.8795361518859863,
          -3.5226244926452637,
          -2.223909378051758,
          -1.9769823551177979,
          -1.0117480754852295,
          -2.7274169921875,
          -3.4343149662017822,
          -0.7850847244262695,
          -0.7885227799415588,
          -0.7821062803268433,
          -2.6643989086151123,
          -2.562429666519165,
          -2.465480089187622,
          -1.9259570837020874,
          -1.5560897588729858,
          -2.4207022190093994,
          -0.795305609703064,
          -2.0857009887695312,
          -1.6071614027023315,
          -2.450192451477051,
          -2.6437580585479736,
          -2.7706592082977295,
          -2.022041082382202,
          -2.5443944931030273,
          -3.316826581954956,
          -1.0961189270019531,
          -2.535431146621704,
          -1.7019137144088745,
          -1.5199211835861206,
          -2.8302953243255615,
          -1.7750864028930664,
          -1.7971463203430176,
          -2.0127151012420654,
          -1.9876151084899902,
          -1.2070906162261963,
          -1.8926624059677124,
          -2.6675124168395996,
          -2.171123504638672,
          -1.9327775239944458,
          -2.6028313636779785,
          -2.5366601943969727,
          -1.700529932975769,
          -2.782636880874634,
          -2.1465444564819336,
          -3.542443037033081,
          -2.006840467453003,
          -2.7765743732452393,
          -2.459742546081543,
          -2.203587770462036,
          -2.171405076980591,
          -2.654911518096924,
          -2.0407674312591553,
          -1.8289434909820557,
          -3.551510810852051,
          -2.894747257232666,
          -1.0198029279708862,
          -2.471652030944824,
          -2.4593653678894043,
          -3.573368787765503,
          -1.7460143566131592,
          -3.2433314323425293,
          -3.308138132095337,
          -3.288437843322754,
          -2.060638666152954,
          -1.937267780303955,
          -3.004441738128662,
          -1.7126245498657227,
          -1.4802355766296387,
          -1.809274435043335,
          -2.628610134124756,
          -3.185462713241577,
          -1.2800133228302002,
          -3.5125880241394043,
          -2.046376943588257,
          -2.724454402923584,
          -3.3793933391571045,
          -1.9524937868118286,
          -3.470154285430908,
          -3.4655048847198486,
          -3.4648711681365967,
          -3.501464366912842,
          -3.4564499855041504,
          -1.3551676273345947,
          -3.1588404178619385,
          -2.0607311725616455,
          -2.117100238800049,
          -3.4083595275878906,
          -3.2298364639282227,
          -1.9502984285354614,
          -1.9184778928756714,
          -3.080775022506714,
          -3.3783352375030518,
          -2.0685806274414062,
          -2.945531129837036,
          -2.7833757400512695,
          -2.342798948287964,
          -2.3584699630737305,
          -2.0065107345581055,
          -2.397038459777832,
          -1.5595064163208008,
          -3.0455214977264404,
          -2.956545114517212,
          -1.8308733701705933,
          -2.4519336223602295,
          -2.3009896278381348,
          -2.0372540950775146,
          -2.5852303504943848,
          -3.161113977432251,
          -2.1720492839813232,
          -2.330332040786743,
          -3.067650079727173,
          -1.8540829420089722,
          -0.5783444046974182,
          -1.8060643672943115,
          -2.2144391536712646,
          -2.23750376701355,
          -2.7218804359436035,
          -1.7567150592803955,
          -1.077703833580017,
          -3.508943796157837,
          -3.3644866943359375,
          -3.438108444213867,
          -2.4170100688934326,
          -1.9543557167053223,
          -3.049412250518799,
          -2.763091802597046,
          -1.6695008277893066,
          -1.8487770557403564,
          -3.3574180603027344,
          -2.9977529048919678,
          -1.948341965675354,
          -2.929973602294922,
          -2.398183584213257,
          -0.5760389566421509,
          -1.632634162902832,
          -2.919966697692871,
          -2.872535467147827,
          -2.901506185531616,
          -3.1112775802612305,
          -2.363767623901367,
          -0.9583067893981934,
          -3.145359516143799,
          -2.5035901069641113,
          -2.2179691791534424,
          -1.0284967422485352,
          -1.2389696836471558,
          -1.5377048254013062,
          -2.31540584564209,
          -2.488252639770508,
          -3.541576862335205,
          -3.4684970378875732,
          -1.0453330278396606,
          -3.01535701751709,
          -3.4539361000061035,
          -3.264694929122925,
          -3.0978918075561523,
          -1.751489520072937,
          -3.300095558166504,
          -1.2469353675842285,
          -2.6410443782806396,
          -2.5351650714874268,
          -1.1609556674957275,
          -2.0978360176086426,
          -2.0660207271575928,
          -2.64977765083313,
          -2.596703290939331,
          -2.35982608795166,
          -3.332462787628174,
          -2.22001314163208,
          -2.7266478538513184,
          -2.0662782192230225,
          -1.0186344385147095,
          -3.1666531562805176,
          -2.357834815979004,
          -1.632132649421692,
          -2.191277027130127,
          -1.9820547103881836,
          -2.4731686115264893,
          -3.0811052322387695,
          -2.2965433597564697,
          -1.2604002952575684,
          -3.1846039295196533,
          -2.9904048442840576,
          -2.469728469848633,
          -0.9804578423500061,
          -1.8283792734146118,
          -0.8916295766830444,
          -2.4736320972442627,
          -2.337069272994995,
          -3.468238592147827,
          -1.8353668451309204,
          -2.6667046546936035,
          -2.7474546432495117,
          -2.8487069606781006,
          -2.8746511936187744,
          -2.492522716522217,
          -1.0318081378936768,
          -3.3862392902374268,
          -3.316149950027466,
          -3.36301589012146,
          -1.2497771978378296,
          -0.8217230439186096,
          -2.6102054119110107,
          -2.291012763977051,
          -2.754225730895996,
          -2.0507335662841797,
          -1.4025437831878662,
          -2.658862829208374,
          -1.9283559322357178,
          -2.2616007328033447,
          -1.6321063041687012,
          -2.7795350551605225,
          -2.542574167251587,
          -3.3195908069610596,
          -3.2923593521118164,
          -3.0995230674743652,
          -3.4320132732391357,
          -1.988572597503662,
          -1.0423563718795776,
          -1.4420639276504517,
          -1.6891201734542847,
          -1.747211217880249,
          -1.470184564590454,
          -2.8414721488952637,
          -1.6163915395736694,
          -3.5968761444091797,
          -0.9482412934303284,
          -2.231949806213379,
          -2.6978583335876465,
          -2.5371339321136475,
          -1.4209887981414795,
          -1.9596108198165894,
          -2.77911639213562,
          -1.7907308340072632,
          -3.3830952644348145,
          -2.950167417526245,
          -3.4430086612701416,
          -1.341143012046814,
          -2.927760124206543,
          -1.4391942024230957,
          -1.7953572273254395,
          -1.9012031555175781,
          -1.740938663482666,
          -2.340833902359009,
          -1.505686640739441,
          -1.5182949304580688,
          -2.0096700191497803,
          -1.6688051223754883,
          -2.9296841621398926,
          -2.0764880180358887,
          -2.554403305053711,
          -2.7305314540863037,
          -2.108816623687744,
          -1.5717613697052002,
          -2.2692723274230957,
          -2.2525200843811035,
          -2.604139566421509,
          -1.5512486696243286,
          -2.6268606185913086,
          -1.683775544166565,
          -2.3861300945281982,
          -1.7591665983200073,
          -1.85051429271698,
          -1.9489686489105225,
          -3.493448495864868,
          -2.133315086364746,
          -2.234126567840576,
          -2.1309828758239746,
          -2.0818402767181396,
          -2.258007287979126,
          -2.3925459384918213,
          -2.9127674102783203,
          -2.999112606048584,
          -2.0198612213134766,
          -1.9877305030822754,
          -3.4806530475616455,
          -0.2898009717464447,
          -2.234344482421875,
          -1.9703699350357056,
          -1.0416094064712524,
          -2.3387231826782227,
          -2.3375909328460693,
          -2.799773931503296,
          -2.2409050464630127,
          -2.972104072570801,
          -2.593151807785034,
          -2.9715182781219482,
          -2.4858145713806152,
          -2.203850269317627,
          -2.683595657348633,
          -2.225332021713257,
          -0.8713369965553284,
          -2.7840991020202637,
          -3.462067127227783,
          -3.449195384979248,
          -3.4464945793151855,
          -3.419512987136841,
          -2.128978729248047,
          -2.0116755962371826,
          -3.334550380706787,
          -2.2698845863342285,
          -1.1393693685531616,
          -0.8160954713821411,
          -1.2194678783416748,
          -2.670178174972534,
          -1.3657817840576172,
          -1.8996202945709229,
          -2.7236318588256836,
          -0.7710579633712769,
          -2.061000347137451,
          -1.8554095029830933,
          -2.032623052597046,
          -2.7556416988372803,
          -1.0639581680297852,
          -2.184331178665161,
          -2.3428049087524414,
          -1.1564052104949951,
          -2.7260005474090576,
          -3.4936859607696533,
          -0.640673041343689,
          -2.324561834335327,
          -1.398026943206787,
          -1.9638338088989258,
          -2.265231132507324,
          -0.46911492943763733,
          -2.1255156993865967,
          -1.360180139541626,
          -2.010053873062134,
          -3.100018262863159,
          -2.465148687362671,
          -2.894465208053589,
          -2.1668224334716797,
          -2.955667734146118,
          -2.5340750217437744,
          -1.7039002180099487,
          -2.041553258895874,
          -2.2119412422180176,
          -1.6220871210098267,
          -3.097764730453491,
          -1.5583618879318237,
          -2.23991322517395,
          -2.529899835586548,
          -1.672263741493225,
          -1.547898292541504,
          -2.2811455726623535,
          -1.7256401777267456,
          -1.660802960395813,
          -1.5677905082702637,
          -1.7073873281478882,
          -2.088050127029419,
          -2.2816429138183594,
          -2.7305281162261963,
          -2.0660152435302734,
          -1.9801491498947144,
          -1.089185357093811,
          -2.984795093536377,
          -3.03663969039917,
          -2.8484697341918945,
          -2.8905489444732666,
          -1.6016638278961182,
          -2.0321547985076904,
          -2.8291006088256836,
          -3.1839544773101807,
          -1.5023852586746216,
          -2.4926159381866455,
          -1.8213955163955688,
          -1.7327113151550293,
          -1.392339825630188,
          -2.412992477416992,
          -1.9279389381408691,
          -3.265573740005493,
          -2.7612662315368652,
          -2.9191513061523438,
          -2.733581781387329,
          -1.6332745552062988,
          -1.6400450468063354,
          -1.6945717334747314,
          -1.8383769989013672,
          -1.9979826211929321,
          -3.077683925628662,
          -3.071866035461426,
          -2.1916961669921875,
          -0.9823353290557861,
          -2.515531301498413,
          -2.606835126876831,
          -2.830336332321167,
          -2.364492416381836,
          -2.520989418029785,
          -2.4815151691436768,
          -3.4245805740356445,
          -1.8507411479949951,
          -0.6671379208564758,
          -1.9834647178649902,
          -1.3634439706802368,
          -3.2463881969451904,
          -2.7777464389801025,
          -0.8073956966400146,
          -1.2791709899902344,
          -2.0445380210876465,
          -1.5503376722335815,
          -2.1568832397460938,
          -2.574171543121338,
          -2.0740392208099365,
          -0.5799213647842407,
          -0.8633451461791992,
          -2.2593276500701904,
          -2.2740652561187744,
          -2.0397961139678955,
          -2.4975156784057617,
          -2.57197904586792,
          -1.0448120832443237,
          -2.392086982727051,
          -2.0990517139434814,
          -2.1128129959106445,
          -2.208735942840576,
          -2.2260677814483643,
          -2.210104465484619,
          -1.9734325408935547,
          -2.9503767490386963,
          -3.3253979682922363,
          -2.2895398139953613,
          -2.2173614501953125,
          -2.2476816177368164,
          -2.0006699562072754,
          -2.896186590194702,
          -2.3919074535369873,
          -2.5034546852111816,
          -2.8038747310638428,
          -2.5809884071350098,
          -2.0612599849700928,
          -2.4336941242218018,
          -2.0850610733032227,
          -2.95837664604187,
          -2.020346164703369,
          -2.914604902267456,
          -2.2621912956237793,
          -1.6499563455581665,
          -2.9265499114990234,
          -1.6945856809616089,
          -2.0332818031311035,
          -2.248488664627075,
          -2.4862060546875,
          -2.28228497505188,
          -2.4656476974487305,
          -2.134942054748535,
          -2.2456119060516357,
          -3.2147433757781982,
          -3.4835331439971924,
          -3.4408414363861084,
          -3.3998074531555176,
          -1.2984522581100464,
          -1.4662142992019653,
          -2.9722673892974854,
          -2.5077407360076904,
          -2.1070401668548584,
          -0.7095651626586914,
          -1.5452872514724731,
          -1.6688055992126465,
          -2.997425079345703,
          -1.9844775199890137,
          -3.0791914463043213,
          -2.64107084274292,
          -0.8745689392089844,
          -0.8703437447547913,
          -0.7470167875289917,
          -2.1312737464904785,
          -2.8009896278381348,
          -2.499335289001465,
          -1.7135924100875854,
          -2.535585403442383,
          -2.5279481410980225,
          -2.996765375137329,
          -2.119835376739502,
          -3.044243097305298,
          -3.0125248432159424,
          -1.331254482269287,
          -2.15507173538208,
          -0.819130539894104,
          -2.1260364055633545,
          -2.125108003616333,
          -1.8246159553527832,
          -2.0298306941986084,
          -1.9744205474853516,
          -1.8457629680633545,
          -3.1640305519104004,
          -2.6794378757476807,
          -2.635127067565918,
          -2.6912574768066406,
          -3.2289018630981445,
          -2.112140655517578,
          -2.1223833560943604,
          -0.8309952020645142,
          -2.41579270362854,
          -2.4229326248168945,
          -2.5725393295288086,
          -3.2285349369049072,
          -2.494642496109009,
          -3.0634093284606934,
          -1.4214857816696167,
          -1.2422288656234741,
          -2.6980507373809814,
          -2.3808071613311768,
          -1.6793732643127441,
          -1.9390854835510254,
          -2.4129021167755127,
          -1.1399966478347778,
          -2.3176770210266113,
          -1.2847522497177124,
          -1.6012334823608398,
          -1.064391016960144,
          -2.9681639671325684,
          -2.9619741439819336,
          -3.369856357574463,
          -3.418160915374756,
          -1.1817110776901245,
          -1.2974932193756104,
          -1.0699307918548584,
          -2.5028674602508545,
          -3.3224785327911377,
          -2.0792548656463623,
          -2.870473623275757,
          -1.3604477643966675,
          -2.4427483081817627,
          -2.637009620666504,
          -2.668978691101074,
          -1.6992788314819336,
          -1.6970553398132324,
          -1.5276373624801636,
          -1.4214781522750854,
          -1.1493326425552368,
          -1.254338264465332,
          -1.948135495185852,
          -1.437353253364563,
          -0.7847871780395508,
          -2.4580001831054688,
          -2.7274327278137207,
          -1.9389084577560425,
          -1.882488489151001,
          -3.0223453044891357,
          -1.9746917486190796,
          -3.027536630630493,
          -3.3969645500183105,
          -2.852745294570923,
          -2.7660088539123535,
          -1.499311923980713,
          -3.5038979053497314,
          -2.5840508937835693,
          -2.4039714336395264,
          -1.658466100692749,
          -1.6537842750549316,
          -3.0951106548309326,
          -3.2304933071136475,
          -2.878605604171753,
          -1.8833576440811157,
          -1.136492371559143,
          -1.0848804712295532,
          -1.1772360801696777,
          -1.1016051769256592,
          -2.7272555828094482,
          -2.322239875793457,
          -2.4323651790618896,
          -2.5552446842193604,
          -2.483397960662842,
          -2.560701370239258,
          -2.485185146331787,
          -2.5327494144439697,
          -3.1097240447998047,
          -2.5750110149383545,
          -1.3134080171585083,
          -0.7570882439613342,
          -1.6801681518554688,
          -1.7229547500610352,
          -3.3864858150482178,
          -3.2003109455108643,
          -3.293992757797241,
          -2.843667984008789,
          -3.234971523284912,
          -2.8343701362609863,
          -0.6953412294387817,
          -1.4040746688842773,
          -1.0610562562942505,
          -2.553816556930542,
          -0.5618889331817627,
          -0.4986582398414612,
          -2.892310857772827,
          -2.9782114028930664,
          -3.5111172199249268,
          -2.244608163833618,
          -2.445016622543335,
          -1.9533803462982178,
          -2.041465997695923,
          -2.022390127182007,
          -1.2663196325302124,
          -1.3995020389556885,
          -1.3858710527420044,
          -2.6273112297058105,
          -1.8130316734313965,
          -3.3976402282714844,
          -2.322063684463501,
          -1.8686562776565552,
          -2.0071024894714355
         ],
         "xaxis": "x",
         "y": [
          -3.3715403079986572,
          -3.375068187713623,
          -2.996101140975952,
          -3.1534931659698486,
          -2.801074266433716,
          -3.221212387084961,
          -2.6103076934814453,
          -1.8014836311340332,
          -3.2913002967834473,
          -2.7570223808288574,
          -3.1093645095825195,
          -3.3523144721984863,
          -3.2877845764160156,
          -2.6218996047973633,
          -3.1093921661376953,
          -3.1209704875946045,
          -2.8100357055664062,
          -3.205228567123413,
          -3.2467899322509766,
          -3.0444204807281494,
          -2.422184467315674,
          -3.010406255722046,
          -2.354461908340454,
          -3.032089948654175,
          -3.0462305545806885,
          -3.1528103351593018,
          -3.019451379776001,
          -3.8634753227233887,
          -2.947791337966919,
          -2.527029275894165,
          -3.353074550628662,
          -2.3063769340515137,
          -3.23832631111145,
          -3.174687385559082,
          -2.4783987998962402,
          -2.8266468048095703,
          -3.1756041049957275,
          -3.132038116455078,
          -3.7357144355773926,
          -2.5513551235198975,
          -2.717047929763794,
          -3.2415809631347656,
          -3.262598752975464,
          -2.6423745155334473,
          -2.8552658557891846,
          -1.8403598070144653,
          -3.436791181564331,
          -1.7525495290756226,
          -3.2097725868225098,
          -2.7606592178344727,
          -3.4382033348083496,
          -2.4959936141967773,
          -2.5109400749206543,
          -3.0694117546081543,
          -3.396249532699585,
          -2.5351624488830566,
          -2.9877076148986816,
          -3.2406182289123535,
          -3.2232959270477295,
          -2.3311092853546143,
          -3.4758384227752686,
          -2.072849988937378,
          -2.3074228763580322,
          -3.343991756439209,
          -1.7672739028930664,
          -3.240339756011963,
          -3.389577865600586,
          -2.480332374572754,
          -0.8616779446601868,
          -2.4659667015075684,
          -2.543867349624634,
          -2.3579869270324707,
          -1.7900722026824951,
          -2.0898823738098145,
          -0.881823718547821,
          -2.487738847732544,
          -2.6895320415496826,
          -2.7854182720184326,
          -2.6958673000335693,
          -2.7988648414611816,
          -0.9602349996566772,
          -2.69295597076416,
          -1.80010986328125,
          -2.959930181503296,
          -3.173764705657959,
          -3.2327871322631836,
          -2.7544405460357666,
          -3.2124438285827637,
          -3.050428867340088,
          -2.682016372680664,
          -2.5007643699645996,
          -3.0249862670898438,
          -2.789425849914551,
          -2.340705394744873,
          -3.2406516075134277,
          -1.7245124578475952,
          -3.787998676300049,
          -2.6152775287628174,
          -2.4694297313690186,
          -3.339735507965088,
          -3.2872021198272705,
          -0.8130713701248169,
          -2.6910531520843506,
          -1.904432773590088,
          -2.577376365661621,
          -0.9660503268241882,
          -3.351396083831787,
          -1.7299083471298218,
          -3.4548630714416504,
          -2.7821662425994873,
          -2.5058064460754395,
          -3.2595720291137695,
          -3.3874974250793457,
          -2.428130626678467,
          -2.7495806217193604,
          -1.860357642173767,
          -3.0520451068878174,
          -2.1959002017974854,
          -3.176057815551758,
          -4.9060797691345215,
          -3.1210572719573975,
          -2.593895196914673,
          -2.626300811767578,
          -3.764225959777832,
          -3.1609280109405518,
          -2.170166492462158,
          -3.4363389015197754,
          -2.7171552181243896,
          -3.6740400791168213,
          -2.737168073654175,
          -1.7340309619903564,
          -2.3514318466186523,
          -2.800262212753296,
          -2.7117953300476074,
          -2.3120484352111816,
          -2.4087846279144287,
          -2.4482293128967285,
          -2.01851487159729,
          -3.563136100769043,
          -3.453883647918701,
          -1.9218815565109253,
          -3.1996989250183105,
          -2.838209629058838,
          -3.419541597366333,
          -2.6410741806030273,
          -2.5761477947235107,
          -2.757634162902832,
          -1.8700939416885376,
          -3.732189655303955,
          -3.869671106338501,
          -2.2320659160614014,
          -2.3493480682373047,
          -2.6976630687713623,
          -2.360435724258423,
          -3.045057773590088,
          -3.111569404602051,
          -3.061858892440796,
          -2.780787229537964,
          -2.593517303466797,
          -3.2785885334014893,
          -3.719093084335327,
          -3.18638277053833,
          -3.0054638385772705,
          -2.4346134662628174,
          -2.198338031768799,
          -2.519521713256836,
          -3.020355701446533,
          -3.0750412940979004,
          -3.6372694969177246,
          -1.9264404773712158,
          -1.7769017219543457,
          -0.82968670129776,
          -3.1453804969787598,
          -2.3806984424591064,
          -1.8790931701660156,
          -2.4093916416168213,
          -2.750779867172241,
          -2.523773431777954,
          -0.9558365941047668,
          -0.8651291728019714,
          -3.848353862762451,
          -4.451156139373779,
          -7.387972354888916,
          -1.7974894046783447,
          -2.607591390609741,
          -3.6380727291107178,
          -2.1578447818756104,
          -3.8221726417541504,
          -0.9606748819351196,
          -1.7483744621276855,
          -3.2380220890045166,
          -2.623960494995117,
          -3.1969285011291504,
          -2.429724931716919,
          -1.9863375425338745,
          -1.8638962507247925,
          -3.5297698974609375,
          -2.4090521335601807,
          -1.9365981817245483,
          -2.917843818664551,
          -2.787452220916748,
          -1.0626789331436157,
          -1.86841881275177,
          -0.9572628140449524,
          -2.47676420211792,
          -1.9447498321533203,
          -2.0626118183135986,
          -1.9169976711273193,
          -3.286309242248535,
          -1.7684215307235718,
          -3.558870792388916,
          -2.755411386489868,
          -2.440586566925049,
          -1.9195187091827393,
          -2.9877567291259766,
          -2.3633415699005127,
          -3.578829288482666,
          -1.0212492942810059,
          -1.8991552591323853,
          -2.495485782623291,
          -3.408233165740967,
          -2.837938070297241,
          -2.5597150325775146,
          -2.6238465309143066,
          -2.4724035263061523,
          -2.3511812686920166,
          -2.433828353881836,
          -2.5832560062408447,
          -2.48437237739563,
          -2.6005232334136963,
          -3.6398463249206543,
          -3.505713939666748,
          -2.4898202419281006,
          -1.780785322189331,
          -2.329467535018921,
          -3.336273670196533,
          -1.434061884880066,
          -3.530977725982666,
          -1.914665699005127,
          -2.074965476989746,
          -2.6164145469665527,
          -1.0141817331314087,
          -1.2480583190917969,
          -1.703987717628479,
          -3.8462750911712646,
          -3.306439161300659,
          -2.025562047958374,
          -2.333142042160034,
          -0.8630645871162415,
          -2.199873924255371,
          -2.48664927482605,
          -2.75764799118042,
          -2.2969510555267334,
          -3.499687910079956,
          -0.7446374893188477,
          -3.4011547565460205,
          -3.758054256439209,
          -3.762176752090454,
          -3.824007987976074,
          -2.973987340927124,
          -3.0764174461364746,
          -3.200669765472412,
          -3.7016711235046387,
          -3.24786639213562,
          -3.32037615776062,
          -2.5732674598693848,
          -2.6497557163238525,
          -2.4633469581604004,
          -2.982607364654541,
          -3.502512216567993,
          -1.430670142173767,
          -2.7573373317718506,
          -1.850067138671875,
          -1.392978549003601,
          -2.5014901161193848,
          -3.1717283725738525,
          -3.385159492492676,
          -1.6899793148040771,
          -3.443662405014038,
          -0.7711414694786072,
          -0.7556325793266296,
          -2.4647417068481445,
          -4.235107898712158,
          -2.3365232944488525,
          -2.575605869293213,
          -2.8382062911987305,
          -2.5231986045837402,
          -2.5007519721984863,
          -3.5345489978790283,
          -2.403456211090088,
          -2.8665692806243896,
          -3.142296552658081,
          -2.632326602935791,
          -3.2898879051208496,
          -2.6867682933807373,
          -2.8897385597229004,
          -3.4168097972869873,
          -0.8656864166259766,
          -1.5618445873260498,
          -1.8736445903778076,
          -2.2607686519622803,
          -2.815258264541626,
          -1.7953219413757324,
          -3.233440637588501,
          -1.7360188961029053,
          -1.8639370203018188,
          -3.7828187942504883,
          -3.2817604541778564,
          -3.094592809677124,
          -0.9191775321960449,
          -2.7635715007781982,
          -2.8493916988372803,
          -3.2988219261169434,
          -2.1370983123779297,
          -2.8052031993865967,
          -2.1489739418029785,
          -2.1255905628204346,
          -2.459564685821533,
          -3.5691866874694824,
          -0.7010664343833923,
          -2.2950010299682617,
          -2.926239252090454,
          -3.264188051223755,
          -2.950659990310669,
          -2.3612911701202393,
          -2.6683950424194336,
          -3.0485024452209473,
          -2.0063774585723877,
          -3.6965725421905518,
          -3.2057266235351562,
          -1.1098649501800537,
          -1.9904423952102661,
          -2.6486377716064453,
          -3.6504085063934326,
          -2.472674608230591,
          -3.5807087421417236,
          -2.288766860961914,
          -1.2111543416976929,
          -1.8664135932922363,
          -3.374605417251587,
          -2.014646530151367,
          -2.5684468746185303,
          -3.7980480194091797,
          -1.7584370374679565,
          -2.6245052814483643,
          -2.5891242027282715,
          -1.945690393447876,
          -3.7886133193969727,
          -1.8429514169692993,
          -0.9869372844696045,
          -3.647327423095703,
          -1.9269734621047974,
          -1.848801851272583,
          -2.6384856700897217,
          -3.3197696208953857,
          -1.1785590648651123,
          -2.6351497173309326,
          -2.744595527648926,
          -1.3287540674209595,
          -3.603203058242798,
          -1.8904401063919067,
          -0.9484954476356506,
          -3.1907103061676025,
          -3.3511946201324463,
          -2.1415181159973145,
          -1.977673053741455,
          -3.5917999744415283,
          -1.9618964195251465,
          -3.1807687282562256,
          -2.242624521255493,
          -2.391220808029175,
          -3.159973382949829,
          -2.2289788722991943,
          -2.821007251739502,
          -2.4469833374023438,
          -2.8401129245758057,
          -3.6580822467803955,
          -0.9907158613204956,
          -1.7133618593215942,
          -1.716549277305603,
          -3.5983736515045166,
          -2.533342123031616,
          -2.713482618331909,
          -3.0875163078308105,
          -1.762315273284912,
          -3.0821375846862793,
          -1.7134543657302856,
          -2.051137924194336,
          -3.675994396209717,
          -2.017703056335449,
          -0.9887653589248657,
          -1.7638970613479614,
          -2.28946852684021,
          -2.1135692596435547,
          -2.2617578506469727,
          -3.7385683059692383,
          -3.3532447814941406,
          -3.33524751663208,
          -3.1969125270843506,
          -3.7797937393188477,
          -1.542983889579773,
          -3.26751708984375,
          -1.8591736555099487,
          -1.0515272617340088,
          -1.9745272397994995,
          -1.7641236782073975,
          -2.7191081047058105,
          -2.561221122741699,
          -2.7855818271636963,
          -3.396676778793335,
          -3.5103600025177,
          -1.219498634338379,
          -3.011808395385742,
          -2.4188294410705566,
          -3.220510244369507,
          -3.6285412311553955,
          -3.720093011856079,
          -3.6553897857666016,
          -3.085585594177246,
          -2.824892997741699,
          -3.0058329105377197,
          -3.7440857887268066,
          -1.9787529706954956,
          -3.142134428024292,
          -1.9503477811813354,
          -3.589923620223999,
          -1.5733884572982788,
          -1.8432847261428833,
          -3.6195859909057617,
          -3.344923257827759,
          -1.423909306526184,
          -3.024111270904541,
          -1.7428791522979736,
          -1.7522958517074585,
          -2.278597831726074,
          -1.8719682693481445,
          -2.095597505569458,
          -3.604271650314331,
          -2.675325632095337,
          -1.1902213096618652,
          -2.4713518619537354,
          -2.1016669273376465,
          -2.4882302284240723,
          -3.281639814376831,
          -0.740939736366272,
          -2.5393056869506836,
          -2.7571778297424316,
          -1.67475163936615,
          -2.9999306201934814,
          -2.8008759021759033,
          -1.1834862232208252,
          -2.0945167541503906,
          -2.481294870376587,
          -1.8225308656692505,
          -2.112123727798462,
          -3.646817445755005,
          -2.856674909591675,
          -3.797546625137329,
          -2.0668482780456543,
          -2.633345603942871,
          -3.6937150955200195,
          -2.043151378631592,
          -0.9555687308311462,
          -2.4853718280792236,
          -1.5939661264419556,
          -3.5713448524475098,
          -2.9699547290802,
          -2.974700689315796,
          -2.38511323928833,
          -2.29780650138855,
          -2.3461661338806152,
          -3.1762712001800537,
          -1.8498045206069946,
          -2.64140248298645,
          -2.7440361976623535,
          -1.018285870552063,
          -2.8641483783721924,
          -2.324465751647949,
          -3.101961135864258,
          -3.165311336517334,
          -2.9219248294830322,
          -1.7983375787734985,
          -2.333848714828491,
          -2.2418994903564453,
          -2.0878665447235107,
          -3.4815874099731445,
          -2.8724639415740967,
          -2.5478227138519287,
          -1.84409761428833,
          -2.796699047088623,
          -2.8170993328094482,
          -1.7719851732254028,
          -0.9306908249855042,
          -4.000072956085205,
          -3.238675594329834,
          -1.8941320180892944,
          -3.4446141719818115,
          -2.3775806427001953,
          -2.207109212875366,
          -2.7667627334594727,
          -3.3572804927825928,
          -1.5271592140197754,
          -4.167621612548828,
          -3.0689890384674072,
          -3.0209412574768066,
          -3.302096128463745,
          -1.8241044282913208,
          -2.4911108016967773,
          -3.4340505599975586,
          -1.8919481039047241,
          -3.3451409339904785,
          -3.7718405723571777,
          -1.7033886909484863,
          -1.8696327209472656,
          -2.8270468711853027,
          -2.400890350341797,
          -3.1174564361572266,
          -2.562692403793335,
          -3.5188467502593994,
          -3.044732093811035,
          -1.8595582246780396,
          -1.0569381713867188,
          -3.761767864227295,
          -3.0897345542907715,
          -2.686760187149048,
          -1.7511777877807617,
          -2.782191514968872,
          -1.9309542179107666,
          -3.347053050994873,
          -3.5743367671966553,
          -1.9424645900726318,
          -2.2176692485809326,
          -2.977560043334961,
          -2.0824389457702637,
          -2.424062728881836,
          -2.983499526977539,
          -1.0430423021316528,
          -1.981811761856079,
          -3.313560724258423,
          -3.0801918506622314,
          -3.8039517402648926,
          -3.3891353607177734,
          -3.4840855598449707,
          -3.6818740367889404,
          -1.298528790473938,
          -2.134873628616333,
          -3.362055778503418,
          -1.8957561254501343,
          -1.785089135169983,
          -0.9589582681655884,
          -2.170100450515747,
          -2.774308681488037,
          -3.212709665298462,
          -1.8311799764633179,
          -3.424830436706543,
          -3.721238136291504,
          -0.8637169599533081,
          -3.806802272796631,
          -1.8735857009887695,
          -2.0825672149658203,
          -2.9850504398345947,
          -3.5154991149902344,
          -2.9310450553894043,
          -2.328467607498169,
          -1.807366132736206,
          -2.283111810684204,
          -2.197246789932251,
          -2.8763577938079834,
          -2.5536556243896484,
          -1.91025972366333,
          -0.9550029039382935,
          -3.63204288482666,
          -2.5683023929595947,
          -3.8830254077911377,
          -2.0277435779571533,
          -2.1386773586273193,
          -1.7271116971969604,
          -3.868799924850464,
          -2.977792978286743,
          -2.3902459144592285,
          -1.7848803997039795,
          -3.202460765838623,
          -1.7832576036453247,
          -2.613663673400879,
          -1.1733241081237793,
          -3.6872215270996094,
          -1.9122499227523804,
          -1.9486039876937866,
          -2.617142915725708,
          -3.269717216491699,
          -3.357876777648926,
          -1.4339685440063477,
          -3.2802236080169678,
          -0.7422541975975037,
          -1.3501770496368408,
          -1.8979992866516113,
          -3.6506741046905518,
          -1.7803987264633179,
          -1.8618513345718384,
          -0.8113171458244324,
          -1.8641349077224731,
          -1.4978691339492798,
          -1.0545973777770996,
          -1.4820938110351562,
          -1.0904731750488281,
          -3.6975457668304443,
          -3.638019323348999,
          -2.8053576946258545,
          -1.2482603788375854,
          -2.0769588947296143,
          -2.17535138130188,
          -3.5575151443481445,
          -2.6233773231506348,
          -2.2853572368621826,
          -3.742050886154175,
          -0.7688901424407959,
          -2.174710273742676,
          -1.790824055671692,
          -2.9088265895843506,
          -3.3705501556396484,
          -2.5347585678100586,
          -2.5211286544799805,
          -2.5246803760528564,
          -2.187950849533081,
          -2.2945499420166016,
          -1.3378942012786865,
          -1.3603782653808594,
          -3.0176594257354736,
          -2.190540075302124,
          -1.891021490097046,
          -1.49655282497406,
          -2.924513816833496,
          -1.9581232070922852,
          -2.15893292427063,
          -3.5526883602142334,
          -2.317592144012451,
          -1.6463602781295776,
          -3.636967897415161,
          -2.733086585998535,
          -1.429409384727478,
          -2.5885424613952637,
          -1.9742426872253418,
          -3.7930655479431152,
          -3.0505459308624268,
          -3.1545193195343018,
          -0.9762287735939026,
          -2.6482338905334473,
          -2.3598105907440186,
          -3.3529224395751953,
          -2.4166882038116455,
          -2.580134868621826,
          -2.6671042442321777,
          -3.6690852642059326,
          -1.4589643478393555,
          -2.6553597450256348,
          -3.593735456466675,
          -2.4919533729553223,
          -3.70772647857666,
          -3.3254780769348145,
          -2.225726366043091,
          -1.3752665519714355,
          -2.277513265609741,
          -2.0161383152008057,
          -1.725216269493103,
          -0.990718424320221,
          -1.635168433189392,
          -3.7588253021240234,
          -3.909149169921875,
          -1.7758618593215942,
          -1.2959825992584229,
          -1.2690024375915527,
          -3.7018070220947266,
          -2.5710368156433105,
          -1.9349441528320312,
          -3.682640552520752,
          -3.505622625350952,
          -2.4873623847961426,
          -3.0059738159179688,
          -3.244645595550537,
          -2.921692371368408,
          -2.3499984741210938,
          -2.3931164741516113,
          -2.9990394115448,
          -3.609128713607788,
          -2.595489025115967,
          -3.722529411315918,
          -1.2221587896347046,
          -4.106016159057617,
          -1.8843008279800415,
          -2.792083263397217,
          -3.7487435340881348,
          -3.7938477993011475,
          -3.7330687046051025,
          -3.6970529556274414,
          -3.78584623336792,
          -2.455415964126587,
          -3.694519281387329,
          -2.172238826751709,
          -1.762978196144104,
          -3.7996349334716797,
          -3.2828381061553955,
          -1.777574896812439,
          -1.6488035917282104,
          -3.594604253768921,
          -1.8945441246032715,
          -2.195005416870117,
          -2.631298065185547,
          -2.5757999420166016,
          -2.299583911895752,
          -1.3139879703521729,
          -3.310181140899658,
          -2.4243180751800537,
          -2.6623406410217285,
          -3.428903341293335,
          -3.5460658073425293,
          -2.727936029434204,
          -1.420242190361023,
          -1.2720756530761719,
          -1.174180269241333,
          -3.743610143661499,
          -3.600019931793213,
          -1.1764450073242188,
          -1.1522482633590698,
          -2.5624520778656006,
          -2.9360549449920654,
          -2.3939781188964844,
          -2.1354265213012695,
          -1.9433525800704956,
          -2.605890989303589,
          -2.1427929401397705,
          -3.049090623855591,
          -1.3345376253128052,
          -3.7226316928863525,
          -3.2054102420806885,
          -1.858705997467041,
          -2.176158905029297,
          -0.9742403030395508,
          -3.0587573051452637,
          -4.464937686920166,
          -2.0692625045776367,
          -2.478395462036133,
          -1.8820056915283203,
          -2.4119012355804443,
          -1.8072118759155273,
          -2.463498115539551,
          -2.311767578125,
          -2.676914691925049,
          -2.8145124912261963,
          -3.6021885871887207,
          -4.061394691467285,
          -2.919894218444824,
          -3.5221712589263916,
          -1.0946874618530273,
          -2.8720014095306396,
          -3.472578525543213,
          -2.124464511871338,
          -3.640967845916748,
          -1.7795648574829102,
          -1.7300001382827759,
          -2.251953125,
          -3.2307987213134766,
          -1.3294600248336792,
          -3.7071926593780518,
          -3.637228012084961,
          -2.836068868637085,
          -2.467726469039917,
          -3.265826940536499,
          -3.41656494140625,
          -2.899644136428833,
          -1.5680632591247559,
          -3.0705947875976562,
          -2.2842090129852295,
          -3.111130952835083,
          -1.4030312299728394,
          -1.9878103733062744,
          -1.0652639865875244,
          -1.0152041912078857,
          -2.140618324279785,
          -3.1819493770599365,
          -2.5737853050231934,
          -1.9087733030319214,
          -0.7811364531517029,
          -2.3466508388519287,
          -0.9923580884933472,
          -2.034491777420044,
          -2.1965172290802,
          -1.7877603769302368,
          -2.839366912841797,
          -3.623758554458618,
          -2.807343006134033,
          -1.7684400081634521,
          -3.5420777797698975,
          -1.842714548110962,
          -2.3731675148010254,
          -3.518775701522827,
          -3.3256075382232666,
          -1.7818889617919922,
          -2.4687018394470215,
          -1.3197095394134521,
          -2.494168758392334,
          -2.283745288848877,
          -2.0285847187042236,
          -1.843269944190979,
          -1.2558128833770752,
          -3.995561361312866,
          -3.1217973232269287,
          -2.7503089904785156,
          -2.917454481124878,
          -2.3047046661376953,
          -2.8368418216705322,
          -1.886042594909668,
          -1.937607765197754,
          -1.8864856958389282,
          -2.4265894889831543,
          -2.6175639629364014,
          -1.9076392650604248,
          -1.099915623664856,
          -3.1318790912628174,
          -0.9955624341964722,
          -2.786109447479248,
          -1.7787020206451416,
          -1.998862385749817,
          -3.2906386852264404,
          -2.45528244972229,
          -2.1466968059539795,
          -1.9349124431610107,
          -3.5739171504974365,
          -3.700608253479004,
          -3.842416763305664,
          -3.5658254623413086,
          -1.0484833717346191,
          -2.784548044204712,
          -1.6258963346481323,
          -2.070814847946167,
          -1.5520033836364746,
          -1.931366205215454,
          -2.6609840393066406,
          -1.8960039615631104,
          -3.7801408767700195,
          -2.7844009399414062,
          -2.469862937927246,
          -4.038294315338135,
          -3.5283687114715576,
          -2.619774103164673,
          -1.7441097497940063,
          -2.030348539352417,
          -3.1154117584228516,
          -3.4545328617095947,
          -2.4900829792022705,
          -1.833519458770752,
          -2.0438148975372314,
          -2.351209878921509,
          -2.4160497188568115,
          -1.4110592603683472,
          -1.4964512586593628,
          -1.4921948909759521,
          -2.2239248752593994,
          -1.5781341791152954,
          -1.8804630041122437,
          -2.2218546867370605,
          -1.7005757093429565,
          -3.199090003967285,
          -3.6801257133483887,
          -3.0623960494995117,
          -3.0392005443573,
          -0.9792965054512024,
          -2.5498766899108887,
          -2.177349090576172,
          -0.9645519852638245,
          -1.738190770149231,
          -2.348264217376709,
          -3.1716361045837402,
          -2.9303951263427734,
          -2.705538272857666,
          -2.7300503253936768,
          -2.6198887825012207,
          -3.377415657043457,
          -3.765641927719116,
          -0.8821389079093933,
          -0.810329794883728,
          -1.2564009428024292,
          -1.1008495092391968,
          -1.8367522954940796,
          -2.4639298915863037,
          -2.374473810195923,
          -3.637166738510132,
          -1.0041799545288086,
          -2.7743821144104004,
          -3.823408603668213,
          -2.4110159873962402,
          -0.7394840717315674,
          -2.8325512409210205,
          -2.0228776931762695,
          -3.1062510013580322,
          -3.739314556121826,
          -3.7623722553253174,
          -0.7628472447395325,
          -2.2848153114318848,
          -2.5584423542022705,
          -2.0913102626800537,
          -1.8951489925384521,
          -2.9580068588256836,
          -2.265883684158325,
          -0.7561150193214417,
          -2.7765634059906006,
          -3.753178358078003,
          -3.779221534729004,
          -3.7707834243774414,
          -3.8255724906921387,
          -3.770263671875,
          -0.9731592535972595,
          -1.477907657623291,
          -3.405822515487671,
          -2.2020435333251953,
          -2.4081368446350098,
          -2.505800724029541,
          -2.5024032592773438,
          -2.9611191749572754,
          -1.9416142702102661,
          -1.7323802709579468,
          -3.5614805221557617,
          -2.497429132461548,
          -2.300316333770752,
          -2.2419731616973877,
          -2.17594575881958,
          -2.160045623779297,
          -1.763426423072815,
          -2.2385950088500977,
          -1.1270538568496704,
          -2.8748652935028076,
          -3.820448875427246,
          -3.750748872756958,
          -2.4987332820892334,
          -2.2857768535614014,
          -2.0943665504455566,
          -1.4962177276611328,
          -1.1180840730667114,
          -2.5863797664642334,
          -3.6308236122131348,
          -2.858085870742798,
          -1.9983201026916504,
          -4.245441913604736,
          -2.041443347930908,
          -2.7701528072357178,
          -2.0177478790283203,
          -4.406557083129883,
          -3.7680532932281494,
          -1.918652057647705,
          -1.0394960641860962,
          -2.268409252166748,
          -2.778331995010376,
          -2.735656261444092,
          -2.1961257457733154,
          -1.8344910144805908,
          -2.096691370010376,
          -2.3504865169525146,
          -2.5822131633758545,
          -1.116379737854004,
          -2.3795688152313232,
          -2.5663890838623047,
          -2.431941270828247,
          -2.498661994934082,
          -2.5204412937164307,
          -2.5042715072631836,
          -2.2333030700683594,
          -1.009787678718567,
          -0.6583651304244995,
          -2.482368230819702,
          -3.125037670135498,
          -3.1473050117492676,
          -3.007453441619873,
          -2.342867136001587,
          -2.2904622554779053,
          -2.118264675140381,
          -2.344571113586426,
          -3.453547954559326,
          -1.8953857421875,
          -4.207244873046875,
          -3.031952381134033,
          -2.4419422149658203,
          -2.0023345947265625,
          -1.3413407802581787,
          -1.2334940433502197,
          -3.571288585662842,
          -4.588901996612549,
          -2.207493782043457,
          -2.128903388977051,
          -1.4837685823440552,
          -2.0620923042297363,
          -1.413635015487671,
          -1.3667649030685425,
          -2.0561606884002686,
          -2.029313325881958,
          -3.3719401359558105,
          -1.241616129875183,
          -1.8022055625915527,
          -2.254206657409668,
          -2.4020538330078125,
          -2.243006944656372,
          -2.040590763092041,
          -1.3724130392074585,
          -1.277994990348816,
          -3.5425007343292236,
          -2.168048620223999,
          -2.561385154724121,
          -2.1237542629241943,
          -1.4383511543273926,
          -1.9231808185577393,
          -1.9158774614334106,
          -2.5308847427368164,
          -2.406576633453369,
          -1.610765814781189,
          -2.988138198852539,
          -1.0901652574539185,
          -2.2526111602783203,
          -3.5465481281280518,
          -2.4747931957244873,
          -1.820234775543213,
          -1.0590471029281616,
          -1.022309422492981,
          -1.0768966674804688,
          -1.8799182176589966,
          -3.6453745365142822,
          -2.0429530143737793,
          -2.200502872467041,
          -1.6977136135101318,
          -1.1728085279464722,
          -0.8771184682846069,
          -0.7871546745300293,
          -0.802861750125885,
          -2.471452236175537,
          -3.6508071422576904,
          -3.3005664348602295,
          -3.4155917167663574,
          -0.7508749961853027,
          -0.7684967517852783,
          -3.2214484214782715,
          -3.0092506408691406,
          -4.083977222442627,
          -1.7202646732330322,
          -1.9522209167480469,
          -3.151960611343384,
          -2.838259220123291,
          -1.6948541402816772,
          -3.595235824584961,
          -2.4895153045654297,
          -1.620827555656433,
          -3.7174248695373535,
          -3.65791654586792,
          -2.901623010635376,
          -3.812969446182251,
          -3.1682136058807373,
          -1.050801157951355,
          -0.7469260096549988,
          -3.1108012199401855,
          -2.1198973655700684,
          -2.0969743728637695,
          -2.5202579498291016,
          -0.746042013168335,
          -2.2064459323883057,
          -3.7876405715942383,
          -3.7767891883850098,
          -3.837299108505249,
          -1.8247579336166382,
          -1.980513095855713,
          -3.472944974899292,
          -2.209789991378784,
          -1.8955646753311157,
          -2.110004425048828,
          -3.018303632736206,
          -2.7877590656280518,
          -2.098900079727173,
          -1.681406021118164,
          -3.1412668228149414,
          -2.754835367202759,
          -2.5219640731811523,
          -2.492879629135132,
          -2.5991315841674805,
          -2.3219776153564453,
          -2.124638080596924,
          -1.361339807510376,
          -1.8530737161636353,
          -3.784463405609131,
          -2.0052711963653564,
          -2.7274229526519775,
          -2.400362968444824,
          -3.709458827972412,
          -2.89241623878479,
          -2.4853668212890625,
          -0.9095801711082458,
          -2.4718129634857178,
          -0.9431735277175903,
          -1.8041727542877197,
          -1.567740797996521,
          -2.9908478260040283,
          -2.8223538398742676,
          -2.918320894241333,
          -3.5125792026519775,
          -2.111243486404419,
          -2.0793662071228027,
          -2.166180372238159,
          -1.9899026155471802,
          -1.0153892040252686,
          -3.7376720905303955,
          -2.5636990070343018,
          -2.1596109867095947,
          -1.3856947422027588,
          -2.0122530460357666,
          -3.784188985824585,
          -2.2657434940338135,
          -1.9401848316192627,
          -3.1547558307647705,
          -2.4035236835479736,
          -1.9593753814697266,
          -1.7740243673324585,
          -2.1620404720306396,
          -2.286405324935913,
          -3.2798452377319336,
          -1.8381611108779907,
          -2.416884660720825,
          -2.38737154006958,
          -2.9796221256256104,
          -1.9571412801742554,
          -4.094058513641357,
          -4.021701812744141,
          -3.4803333282470703,
          -3.6440980434417725,
          -2.2526819705963135,
          -2.702322006225586,
          -2.2255871295928955,
          -2.26324725151062,
          -3.5755903720855713,
          -1.4263391494750977,
          -4.334898471832275,
          -2.015625,
          -3.8967955112457275,
          -4.23402738571167,
          -4.352856159210205,
          -2.66251540184021,
          -2.2198071479797363,
          -2.4220659732818604,
          -2.9692752361297607,
          -2.318638801574707,
          -2.296250581741333,
          -2.7011678218841553,
          -2.4924426078796387,
          -2.498518466949463,
          -1.3086791038513184,
          -2.6466729640960693,
          -0.862654983997345,
          -2.135152816772461,
          -3.7049057483673096,
          -1.3750128746032715,
          -3.157092809677124,
          -3.29115891456604,
          -2.220693588256836,
          -3.9605014324188232,
          -2.1246426105499268,
          2.2988598346710205,
          -3.1509644985198975,
          -1.332937479019165,
          -1.4590799808502197,
          -2.2482805252075195,
          -2.0673165321350098,
          -3.5062708854675293,
          -3.2705376148223877,
          -2.6759302616119385,
          -1.7423286437988281,
          -1.7668036222457886,
          -1.7591441869735718,
          -1.7587101459503174,
          -3.4720587730407715,
          -2.274047374725342,
          -2.1415045261383057,
          -2.279514789581299,
          -1.320451259613037,
          -1.3922103643417358,
          -1.340840458869934,
          -1.4704666137695312,
          -3.482396364212036,
          -3.6746890544891357,
          -2.3287339210510254,
          -2.5244686603546143,
          -2.7159383296966553,
          -2.6594974994659424,
          -3.3174164295196533,
          -2.089754104614258,
          -1.9394675493240356,
          -2.257009744644165,
          -1.9798433780670166,
          -2.275975465774536,
          -2.4509594440460205,
          -2.4732322692871094,
          -2.0012521743774414,
          -2.2448043823242188,
          -2.503938913345337,
          -2.2784500122070312,
          -3.050074815750122,
          -3.2538681030273438,
          -3.717224359512329,
          -0.7503252029418945,
          -1.313645362854004,
          -1.2454793453216553,
          -0.9582182765007019,
          -1.0441958904266357,
          -1.519872784614563,
          -1.5017037391662598,
          -2.6504478454589844,
          -1.9591518640518188,
          -2.565966844558716,
          -3.8433711528778076,
          -2.07667875289917,
          -2.44413161277771,
          -1.962196946144104
         ],
         "yaxis": "y"
        },
        {
         "customdata": [
          [
           "Queen"
          ],
          [
           "Elton John"
          ],
          [
           "The Beatles"
          ],
          [
           "AC/DC"
          ],
          [
           "Michael Jackson"
          ],
          [
           "Billy Joel"
          ],
          [
           "Bon Jovi"
          ],
          [
           "Guns N' Roses"
          ],
          [
           "Fleetwood Mac"
          ],
          [
           "ABBA"
          ],
          [
           "The Rolling Stones"
          ],
          [
           "Aerosmith"
          ],
          [
           "Journey"
          ],
          [
           "Eagles"
          ],
          [
           "Tears For Fears"
          ],
          [
           "The White Stripes"
          ],
          [
           "Creedence Clearwater Revival"
          ],
          [
           "Frank Sinatra"
          ],
          [
           "Led Zeppelin"
          ],
          [
           "Lynyrd Skynyrd"
          ],
          [
           "Pink Floyd"
          ],
          [
           "TOTO"
          ],
          [
           "David Bowie"
          ],
          [
           "Daryl Hall & John Oates"
          ],
          [
           "a-ha"
          ],
          [
           "Electric Light Orchestra"
          ],
          [
           "Ozzy Osbourne"
          ],
          [
           "Bryan Adams"
          ],
          [
           "Earth, Wind & Fire"
          ],
          [
           "Phil Collins"
          ],
          [
           "Elvis Presley"
          ],
          [
           "Madonna"
          ],
          [
           "Survivor"
          ],
          [
           "Bee Gees"
          ],
          [
           "Whitney Houston"
          ],
          [
           "George Michael"
          ],
          [
           "Van Halen"
          ],
          [
           "Stevie Wonder"
          ],
          [
           "Black Sabbath"
          ],
          [
           "Marvin Gaye"
          ],
          [
           "The Cure"
          ],
          [
           "The Police"
          ],
          [
           "John Denver"
          ],
          [
           "R.E.M."
          ],
          [
           "KISS"
          ],
          [
           "Cyndi Lauper"
          ],
          [
           "U2"
          ],
          [
           "Céline Dion"
          ],
          [
           "Def Leppard"
          ],
          [
           "Bruce Springsteen"
          ],
          [
           "Michael Bublé"
          ],
          [
           "The Animals"
          ],
          [
           "Dolly Parton"
          ],
          [
           "Smash Mouth"
          ],
          [
           "Foreigner"
          ],
          [
           "The Beach Boys"
          ],
          [
           "The Clash"
          ],
          [
           "Eurythmics"
          ],
          [
           "Neil Diamond"
          ],
          [
           "Kate Bush"
          ],
          [
           "Wham!"
          ],
          [
           "Van Morrison"
          ],
          [
           "Don McLean"
          ],
          [
           "Kansas"
          ],
          [
           "Scorpions"
          ],
          [
           "Mötley Crüe"
          ],
          [
           "Prince"
          ],
          [
           "Boston"
          ],
          [
           "Kenny Loggins"
          ],
          [
           "Bob Dylan"
          ],
          [
           "Duran Duran"
          ],
          [
           "Bob Seger"
          ],
          [
           "Steve Miller Band"
          ],
          [
           "Billy Idol"
          ],
          [
           "Tom Petty"
          ],
          [
           "Simon & Garfunkel"
          ],
          [
           "Simple Minds"
          ],
          [
           "The Doors"
          ],
          [
           "The Mamas & The Papas"
          ],
          [
           "Heart"
          ],
          [
           "The Who"
          ],
          [
           "ZZ Top"
          ],
          [
           "Dire Straits"
          ],
          [
           "Depeche Mode"
          ],
          [
           "Joan Jett & the Blackhearts"
          ],
          [
           "Talking Heads"
          ],
          [
           "Redbone"
          ],
          [
           "Blue Öyster Cult"
          ],
          [
           "America"
          ],
          [
           "Sixpence None The Richer"
          ],
          [
           "Tom Petty and the Heartbreakers"
          ],
          [
           "Chicago"
          ],
          [
           "John Mellencamp"
          ],
          [
           "Blue Swede"
          ],
          [
           "John Lennon"
          ],
          [
           "Europe"
          ],
          [
           "Rod Stewart"
          ],
          [
           "Pat Benatar"
          ],
          [
           "Eric Clapton"
          ],
          [
           "Cher"
          ],
          [
           "Men At Work"
          ],
          [
           "Blondie"
          ],
          [
           "Jimi Hendrix"
          ],
          [
           "Santana"
          ],
          [
           "Tracy Chapman"
          ],
          [
           "The Cars"
          ],
          [
           "Starship"
          ],
          [
           "Bonnie Tyler"
          ],
          [
           "Ben E. King"
          ],
          [
           "New Order"
          ],
          [
           "Paul McCartney"
          ],
          [
           "Air Supply"
          ],
          [
           "REO Speedwagon"
          ],
          [
           "The Proclaimers"
          ],
          [
           "Israel Kamakawiwo'ole"
          ],
          [
           "James Taylor"
          ],
          [
           "Boney M."
          ],
          [
           "The Jackson 5"
          ],
          [
           "Yusuf / Cat Stevens"
          ],
          [
           "The Temptations"
          ],
          [
           "Paul Simon"
          ],
          [
           "Don Henley"
          ],
          [
           "Soft Cell"
          ],
          [
           "Bill Withers"
          ],
          [
           "Aretha Franklin"
          ],
          [
           "Lenny Kravitz"
          ],
          [
           "Rick Astley"
          ],
          [
           "Ray Charles"
          ],
          [
           "The Doobie Brothers"
          ],
          [
           "Rupert Holmes"
          ],
          [
           "Yes"
          ],
          [
           "Twisted Sister"
          ],
          [
           "Louis Armstrong"
          ],
          [
           "Frankie Valli"
          ],
          [
           "Pet Shop Boys"
          ],
          [
           "The Ink Spots"
          ],
          [
           "Chuck Berry"
          ],
          [
           "Deep Purple"
          ],
          [
           "The Kinks"
          ],
          [
           "Alice Cooper"
          ],
          [
           "Lionel Richie"
          ],
          [
           "Gloria Gaynor"
          ],
          [
           "Jim Croce"
          ],
          [
           "Barry Manilow"
          ],
          [
           "Otis Redding"
          ],
          [
           "Roy Orbison"
          ],
          [
           "Nat King Cole"
          ],
          [
           "Cheap Trick"
          ],
          [
           "Supertramp"
          ],
          [
           "Steppenwolf"
          ],
          [
           "Ramones"
          ],
          [
           "Ella Fitzgerald"
          ],
          [
           "Rick Springfield"
          ],
          [
           "Savage Garden"
          ],
          [
           "Steely Dan"
          ],
          [
           "Huey Lewis & The News"
          ],
          [
           "Rush"
          ],
          [
           "Vanilla Ice"
          ],
          [
           "Christopher Cross"
          ],
          [
           "George Thorogood & The Destroyers"
          ],
          [
           "Alanis Morissette"
          ],
          [
           "Etta James"
          ],
          [
           "Dean Martin"
          ],
          [
           "Westlife"
          ],
          [
           "George Harrison"
          ],
          [
           "The Monkees"
          ],
          [
           "Dexys Midnight Runners"
          ],
          [
           "The Turtles"
          ],
          [
           "Olivia Newton-John"
          ],
          [
           "Nina Simone"
          ],
          [
           "Glen Campbell"
          ],
          [
           "The Outfield"
          ],
          [
           "Styx"
          ],
          [
           "Marty Robbins"
          ],
          [
           "Poison"
          ],
          [
           "Thin Lizzy"
          ],
          [
           "INXS"
          ],
          [
           "The Righteous Brothers"
          ],
          [
           "Kool & The Gang"
          ],
          [
           "Stevie Nicks"
          ],
          [
           "Tina Turner"
          ],
          [
           "Take That"
          ],
          [
           "Grateful Dead"
          ],
          [
           "Modern Talking"
          ],
          [
           "Commodores"
          ],
          [
           "KC & The Sunshine Band"
          ],
          [
           "The B-52's"
          ],
          [
           "Whitesnake"
          ],
          [
           "The Human League"
          ],
          [
           "Frankie Valli & The Four Seasons"
          ],
          [
           "Warrant"
          ],
          [
           "Dead Or Alive"
          ],
          [
           "Alphaville"
          ],
          [
           "Buffalo Springfield"
          ],
          [
           "Bachman-Turner Overdrive"
          ],
          [
           "The Ronettes"
          ],
          [
           "Belinda Carlisle"
          ],
          [
           "Sam Cooke"
          ],
          [
           "Genesis"
          ],
          [
           "Roxette"
          ],
          [
           "Neil Young"
          ],
          [
           "Cutting Crew"
          ],
          [
           "Billie Holiday"
          ],
          [
           "DEVO"
          ],
          [
           "Norman Greenbaum"
          ],
          [
           "A Flock Of Seagulls"
          ],
          [
           "The Bangles"
          ],
          [
           "Village People"
          ],
          [
           "The Hollies"
          ],
          [
           "Bad Company"
          ],
          [
           "Donna Summer"
          ],
          [
           "Meat Loaf"
          ],
          [
           "Stealers Wheel"
          ],
          [
           "Haddaway"
          ],
          [
           "Katrina & The Waves"
          ],
          [
           "Dropkick Murphys"
          ],
          [
           "Luther Vandross"
          ],
          [
           "George Benson"
          ],
          [
           "Bobby Caldwell"
          ],
          [
           "Carpenters"
          ],
          [
           "Run–D.M.C."
          ],
          [
           "The Foundations"
          ],
          [
           "Eddie Money"
          ],
          [
           "4 Non Blondes"
          ],
          [
           "King Harvest"
          ],
          [
           "Mountain"
          ],
          [
           "Looking Glass"
          ],
          [
           "Bananarama"
          ],
          [
           "The Black Crowes"
          ],
          [
           "Joe Cocker"
          ],
          [
           "Seal"
          ],
          [
           "John Travolta"
          ],
          [
           "Crosby, Stills, Nash & Young"
          ],
          [
           "The Spinners"
          ],
          [
           "Buckcherry"
          ],
          [
           "Barbra Streisand"
          ],
          [
           "Diana Ross"
          ],
          [
           "Quiet Riot"
          ],
          [
           "Skid Row"
          ],
          [
           "The Alan Parsons Project"
          ],
          [
           "John Fogerty"
          ],
          [
           "Ram Jam"
          ],
          [
           "Bill Medley"
          ],
          [
           "Natalie Imbruglia"
          ],
          [
           "Billy Squier"
          ],
          [
           "Pretenders"
          ],
          [
           "Derek & The Dominos"
          ],
          [
           "KONGOS"
          ],
          [
           "Allman Brothers Band"
          ],
          [
           "Al Green"
          ],
          [
           "Dusty Springfield"
          ],
          [
           "Cream"
          ],
          [
           "Jackson Browne"
          ],
          [
           "Echo & the Bunnymen"
          ],
          [
           "Kim Carnes"
          ],
          [
           "Wings"
          ],
          [
           "Peter Gabriel"
          ],
          [
           "Rainbow"
          ],
          [
           "Sinéad O'Connor"
          ],
          [
           "Salt-N-Pepa"
          ],
          [
           "Eric Carmen"
          ],
          [
           "The Romantics"
          ],
          [
           "The Drifters"
          ],
          [
           "Dionne Warwick"
          ],
          [
           "Orchestral Manoeuvres In The Dark"
          ],
          [
           "Barry White"
          ],
          [
           "Four Tops"
          ],
          [
           "Rick James"
          ],
          [
           "38 Special"
          ],
          [
           "Spandau Ballet"
          ],
          [
           "Ricky Nelson"
          ],
          [
           "Laura Branigan"
          ],
          [
           "The Runaways"
          ],
          [
           "Chris Isaak"
          ],
          [
           "Berlin"
          ],
          [
           "SNAP!"
          ],
          [
           "Foghat"
          ],
          [
           "Talk Talk"
          ],
          [
           "Asia"
          ],
          [
           "Culture Club"
          ],
          [
           "Carly Simon"
          ],
          [
           "10cc"
          ],
          [
           "Dion"
          ],
          [
           "Gerry Rafferty"
          ],
          [
           "The Platters"
          ],
          [
           "Manfred Mann's Earth Band"
          ],
          [
           "Bread"
          ],
          [
           "Tom Jones"
          ],
          [
           "Rockwell"
          ],
          [
           "Roberta Flack"
          ],
          [
           "Richard Marx"
          ],
          [
           "Chaka Khan"
          ],
          [
           "Natalie Cole"
          ],
          [
           "England Dan & John Ford Coley"
          ],
          [
           "Crowded House"
          ],
          [
           "Bronski Beat"
          ],
          [
           "Hot Chocolate"
          ],
          [
           "Carole King"
          ],
          [
           "Leonard Cohen"
          ],
          [
           "Smokey Robinson & The Miracles"
          ],
          [
           "Warren Zevon"
          ],
          [
           "The Pointer Sisters"
          ],
          [
           "Erasure"
          ],
          [
           "Lesley Gore"
          ],
          [
           "Nancy Sinatra"
          ],
          [
           "The Guess Who"
          ],
          [
           "When In Rome"
          ],
          [
           "James Brown"
          ],
          [
           "Vera Lynn"
          ],
          [
           "Joni Mitchell"
          ],
          [
           "The Band"
          ],
          [
           "Three Dog Night"
          ],
          [
           "The Archies"
          ],
          [
           "Sérgio Mendes"
          ],
          [
           "The La's"
          ],
          [
           "Philip Bailey"
          ],
          [
           "Modern English"
          ],
          [
           "The O'Jays"
          ],
          [
           "Bette Midler"
          ],
          [
           "Harry Nilsson"
          ],
          [
           "Jefferson Airplane"
          ],
          [
           "Gary Jules"
          ],
          [
           "T. Rex"
          ],
          [
           "Gladys Knight & The Pips"
          ],
          [
           "The Chordettes"
          ],
          [
           "Ritchie Valens"
          ],
          [
           "Collective Soul"
          ],
          [
           "The J. Geils Band"
          ],
          [
           "Chet Baker"
          ],
          [
           "The Everly Brothers"
          ],
          [
           "Doris Day"
          ],
          [
           "Andy Gibb"
          ],
          [
           "Extreme"
          ],
          [
           "Bonnie Raitt"
          ],
          [
           "Golden Earring"
          ],
          [
           "The Weather Girls"
          ],
          [
           "Bing Crosby"
          ],
          [
           "The Jacksons"
          ],
          [
           "Wild Cherry"
          ],
          [
           "Dr. Hook"
          ],
          [
           "Dan Fogelberg"
          ],
          [
           "Peabo Bryson"
          ],
          [
           "Loverboy"
          ],
          [
           "The Psychedelic Furs"
          ],
          [
           "Enigma"
          ],
          [
           "Badfinger"
          ],
          [
           "UB40"
          ],
          [
           "Janis Joplin"
          ],
          [
           "Faith No More"
          ],
          [
           "Sweet"
          ],
          [
           "Tiffany"
          ],
          [
           "Jay & The Americans"
          ],
          [
           "Juice Newton"
          ],
          [
           "Annie Lennox"
          ],
          [
           "Peggy Lee"
          ],
          [
           "Skeeter Davis"
          ],
          [
           "The Five Stairsteps"
          ],
          [
           "Wang Chung"
          ],
          [
           "Peter, Paul and Mary"
          ],
          [
           "Cheryl Lynn"
          ],
          [
           "Stevie Ray Vaughan"
          ],
          [
           "The Moody Blues"
          ],
          [
           "The Corrs"
          ],
          [
           "Regine Velasquez"
          ],
          [
           "Ronan Keating"
          ],
          [
           "Blue"
          ],
          [
           "Josh Groban"
          ],
          [
           "MIRA"
          ],
          [
           "Edison Lighthouse"
          ],
          [
           "James Ingram"
          ],
          [
           "The Gap Band"
          ],
          [
           "Little River Band"
          ],
          [
           "War"
          ],
          [
           "Eagle-Eye Cherry"
          ],
          [
           "Iggy Pop"
          ],
          [
           "Captain & Tennille"
          ],
          [
           "Kim Wilde"
          ],
          [
           "Sammy Hagar"
          ],
          [
           "Michael Bolton"
          ],
          [
           "The Knack"
          ],
          [
           "Grand Funk Railroad"
          ],
          [
           "Crazy Town"
          ],
          [
           "Lipps Inc."
          ],
          [
           "U.S.A. For Africa"
          ],
          [
           "Billy Ocean"
          ],
          [
           "Mike + The Mechanics"
          ],
          [
           "Harry Chapin"
          ],
          [
           "Paul Anka"
          ],
          [
           "Jane's Addiction"
          ],
          [
           "Status Quo"
          ],
          [
           "Crosby, Stills & Nash"
          ],
          [
           "The Cult"
          ],
          [
           "Jethro Tull"
          ],
          [
           "Carl Douglas"
          ],
          [
           "Linda Ronstadt"
          ],
          [
           "Anne Murray"
          ],
          [
           "Roxy Music"
          ],
          [
           "Night Ranger"
          ],
          [
           "Jon Bon Jovi"
          ],
          [
           "Fine Young Cannibals"
          ],
          [
           "Brenda Lee"
          ],
          [
           "Bobby Darin"
          ],
          [
           "Lou Reed"
          ],
          [
           "Michael Sembello"
          ],
          [
           "Andy Williams"
          ],
          [
           "The Rembrandts"
          ],
          [
           "Deee-Lite"
          ],
          [
           "Leo Sayer"
          ],
          [
           "Madness"
          ],
          [
           "Player"
          ],
          [
           "Robert Palmer"
          ],
          [
           "Corey Hart"
          ],
          [
           "Men Without Hats"
          ],
          [
           "Tennessee Ernie Ford"
          ],
          [
           "アトラスサウンドチーム"
          ],
          [
           "Heatwave"
          ],
          [
           "Alannah Myles"
          ],
          [
           "Patti Smith"
          ],
          [
           "Soul Asylum"
          ],
          [
           "Buddy Holly"
          ],
          [
           "Real McCoy"
          ],
          [
           "The Dixie Cups"
          ],
          [
           "Tom Waits"
          ],
          [
           "Julie London"
          ],
          [
           "Stan Getz"
          ],
          [
           "Frank Zappa"
          ],
          [
           "Donovan"
          ],
          [
           "Joe Walsh"
          ],
          [
           "Peter Schilling"
          ],
          [
           "Dobie Gray"
          ],
          [
           "Jerry Lee Lewis"
          ],
          [
           "Curtis Mayfield"
          ],
          [
           "Taylor Dayne"
          ],
          [
           "Elvin Bishop"
          ],
          [
           "Silver"
          ],
          [
           "ABC"
          ],
          [
           "Faces"
          ],
          [
           "Vince Guaraldi Trio"
          ],
          [
           "Seals and Crofts"
          ],
          [
           "Sister Sledge"
          ],
          [
           "B.B. King"
          ],
          [
           "Ted Nugent"
          ],
          [
           "Peter Frampton"
          ],
          [
           "Canned Heat"
          ],
          [
           "The Byrds"
          ],
          [
           "Thompson Twins"
          ],
          [
           "Steve Perry"
          ],
          [
           "Harry Belafonte"
          ],
          [
           "Tommy Tutone"
          ],
          [
           "Meredith Brooks"
          ],
          [
           "Bobby Vinton"
          ],
          [
           "Terry Jacks"
          ],
          [
           "Naked Eyes"
          ],
          [
           "Gordon Lightfoot"
          ],
          [
           "Boz Scaggs"
          ],
          [
           "B.J. Thomas"
          ],
          [
           "Bobby Womack"
          ],
          [
           "Ugly Kid Joe"
          ],
          [
           "Candi Staton"
          ],
          [
           "Harold Melvin & The Blue Notes"
          ],
          [
           "Gene Autry"
          ],
          [
           "Judy Garland"
          ],
          [
           "Lita Ford"
          ],
          [
           "Townes Van Zandt"
          ],
          [
           "Édith Piaf"
          ],
          [
           "The Greg Kihn Band"
          ],
          [
           "Des'ree"
          ],
          [
           "Jewel"
          ],
          [
           "Hanson"
          ],
          [
           "The Delfonics"
          ],
          [
           "Tommy James & The Shondells"
          ],
          [
           "Ratt"
          ],
          [
           "The Pied Pipers"
          ],
          [
           "Winger"
          ],
          [
           "Morrissey"
          ],
          [
           "The Marshall Tucker Band"
          ],
          [
           "Carpenter Brut"
          ],
          [
           "Accept"
          ],
          [
           "Queensrÿche"
          ],
          [
           "The Lovin' Spoonful"
          ],
          [
           "Neil Sedaka"
          ],
          [
           "Traveling Wilburys"
          ],
          [
           "Helen Reddy"
          ],
          [
           "Peaches & Herb"
          ],
          [
           "The Bellamy Brothers"
          ],
          [
           "Midnight Oil"
          ],
          [
           "Percy Sledge"
          ],
          [
           "Gary Valenciano"
          ],
          [
           "Hank Williams"
          ],
          [
           "Yazoo"
          ],
          [
           "Boyzone"
          ],
          [
           "Tony Bennett"
          ],
          [
           "Cinderella"
          ],
          [
           "Ambrosia"
          ],
          [
           "CHIC"
          ],
          [
           "Harry Connick, Jr."
          ],
          [
           "Five"
          ],
          [
           "Dion & The Belmonts"
          ],
          [
           "Big Mountain"
          ],
          [
           "Tommy Dorsey"
          ],
          [
           "The Spencer Davis Group"
          ],
          [
           "The Grass Roots"
          ],
          [
           "DeBarge"
          ],
          [
           "Cameo"
          ],
          [
           "The Blues Brothers"
          ],
          [
           "Booker T. & the M.G.'s"
          ],
          [
           "The Trammps"
          ],
          [
           "Patience & Prudence"
          ],
          [
           "The Buggles"
          ],
          [
           "The Pogues"
          ],
          [
           "The Dubliners"
          ],
          [
           "Joe \"Bean\" Esposito"
          ],
          [
           "The Tragically Hip"
          ],
          [
           "Maxine Nightingale"
          ],
          [
           "The Five Stars"
          ],
          [
           "C.W. McCall"
          ],
          [
           "Tone-Loc"
          ],
          [
           "Butthole Surfers"
          ],
          [
           "Sarah Vaughan"
          ],
          [
           "Daisy Jones & The Six"
          ],
          [
           "Tom Cochrane"
          ],
          [
           "Michelle Branch"
          ],
          [
           "Steve Winwood"
          ],
          [
           "Freddie Mercury"
          ],
          [
           "Wilson Phillips"
          ],
          [
           "John Farnham"
          ],
          [
           "W.A.S.P."
          ],
          [
           "The Shirelles"
          ],
          [
           "Crash Test Dummies"
          ],
          [
           "Ace Frehley"
          ],
          [
           "The Black Jets"
          ],
          [
           "Dokken"
          ],
          [
           "Tesla"
          ],
          [
           "Ultravox"
          ],
          [
           "Damn Yankees"
          ]
         ],
         "hovertemplate": "labels=Rock<br>x=%{x}<br>y=%{y}<br>names=%{customdata[0]}<extra></extra>",
         "legendgroup": "Rock",
         "marker": {
          "color": "#ab63fa",
          "symbol": "circle"
         },
         "mode": "markers",
         "name": "Rock",
         "showlegend": true,
         "type": "scattergl",
         "x": [
          2.137293815612793,
          2.1504125595092773,
          2.3437204360961914,
          2.185610055923462,
          2.0039384365081787,
          2.3030686378479004,
          2.180161476135254,
          2.1204652786254883,
          2.341427803039551,
          2.1171586513519287,
          2.2729673385620117,
          2.2430973052978516,
          2.2715492248535156,
          2.366614580154419,
          1.8507808446884155,
          1.5575525760650635,
          2.347092866897583,
          2.036956310272217,
          2.23569917678833,
          2.3621203899383545,
          2.2380638122558594,
          2.2205393314361572,
          2.3073692321777344,
          2.3780858516693115,
          1.9930201768875122,
          2.3638570308685303,
          2.0721750259399414,
          2.148287057876587,
          2.2972512245178223,
          2.1204116344451904,
          2.152012348175049,
          1.847302794456482,
          2.094916343688965,
          2.2815287113189697,
          1.891907811164856,
          2.0403685569763184,
          2.2237040996551514,
          2.2372543811798096,
          1.9359767436981201,
          2.260939359664917,
          1.3559354543685913,
          2.060420036315918,
          2.6361985206604004,
          1.6909165382385254,
          2.1591837406158447,
          2.005218029022217,
          1.9865871667861938,
          1.9482009410858154,
          2.171907901763916,
          2.1303858757019043,
          1.8810949325561523,
          2.347548007965088,
          2.907634735107422,
          1.8659026622772217,
          2.2937090396881104,
          2.4402730464935303,
          2.2369232177734375,
          1.934913992881775,
          2.4156172275543213,
          1.7057044506072998,
          2.019925355911255,
          2.488814353942871,
          2.4137396812438965,
          2.2857894897460938,
          2.0988101959228516,
          2.1461398601531982,
          2.15966796875,
          2.3045191764831543,
          2.0982322692871094,
          2.366206645965576,
          1.772795557975769,
          2.42254900932312,
          2.3976447582244873,
          2.1957836151123047,
          2.432724952697754,
          2.5372776985168457,
          1.9263521432876587,
          2.264504909515381,
          2.37099552154541,
          2.270402193069458,
          2.293931722640991,
          2.2771711349487305,
          2.3818159103393555,
          1.5870749950408936,
          2.1921188831329346,
          1.2699958086013794,
          2.4820196628570557,
          2.325441360473633,
          2.534736156463623,
          1.1862905025482178,
          2.439028024673462,
          2.477320432662964,
          2.3935186862945557,
          2.4670355319976807,
          2.501716375350952,
          2.1555957794189453,
          2.425462245941162,
          2.3306264877319336,
          2.31117844581604,
          2.2121145725250244,
          2.107903003692627,
          2.276714324951172,
          2.2375099658966064,
          1.470327615737915,
          1.7906196117401123,
          2.320054054260254,
          2.0677576065063477,
          2.0472488403320312,
          2.1346139907836914,
          1.5628840923309326,
          2.5748744010925293,
          2.3764851093292236,
          2.3543169498443604,
          2.270402669906616,
          1.8709467649459839,
          2.5350470542907715,
          1.6075143814086914,
          2.441620111465454,
          2.5942821502685547,
          2.246410369873047,
          2.451026439666748,
          2.17470383644104,
          1.780426025390625,
          2.190302610397339,
          2.1325926780700684,
          1.8365912437438965,
          1.8648004531860352,
          2.1540472507476807,
          2.511469841003418,
          2.399786949157715,
          1.982818603515625,
          2.1590688228607178,
          2.0655152797698975,
          2.2674953937530518,
          1.6761049032211304,
          1.979555368423462,
          2.020268201828003,
          2.327388048171997,
          2.482213020324707,
          2.2715847492218018,
          2.41727352142334,
          2.186494827270508,
          2.582188129425049,
          2.518995523452759,
          2.1518330574035645,
          2.3189406394958496,
          2.0209615230560303,
          2.2829792499542236,
          2.495694875717163,
          2.308485984802246,
          2.0506107807159424,
          1.9841890335083008,
          2.3329360485076904,
          1.5744702816009521,
          2.472182273864746,
          2.204782247543335,
          2.200312852859497,
          1.267530083656311,
          2.523865222930908,
          2.2346789836883545,
          1.2166556119918823,
          2.125211477279663,
          2.0164921283721924,
          1.5803444385528564,
          2.5170233249664307,
          2.508401393890381,
          2.0608839988708496,
          2.393000602722168,
          1.9630895853042603,
          2.0268454551696777,
          2.63262677192688,
          1.8526736497879028,
          2.4618356227874756,
          3.1414635181427,
          2.1423304080963135,
          2.3166699409484863,
          1.8686572313308716,
          2.174124240875244,
          2.18951416015625,
          2.2711660861968994,
          2.260713815689087,
          1.1766008138656616,
          2.504218578338623,
          1.5012004375457764,
          2.4439845085144043,
          2.1838762760162354,
          2.066779136657715,
          2.2075397968292236,
          1.7757842540740967,
          2.2330758571624756,
          2.1175405979156494,
          1.844415545463562,
          1.6443004608154297,
          2.48252534866333,
          2.373796224594116,
          2.0940816402435303,
          1.900097131729126,
          2.269521474838257,
          2.3934600353240967,
          1.9393460750579834,
          2.5174343585968018,
          2.057894229888916,
          1.9714714288711548,
          1.7054502964019775,
          2.45603084564209,
          1.6816041469573975,
          1.9143174886703491,
          2.1151282787323,
          2.4738028049468994,
          2.393079996109009,
          2.1843836307525635,
          2.092362880706787,
          2.340701103210449,
          1.269913673400879,
          2.03070068359375,
          1.9315106868743896,
          2.313631296157837,
          2.4455337524414062,
          2.4475042819976807,
          2.5040793418884277,
          1.1931695938110352,
          2.3581299781799316,
          2.3855338096618652,
          1.2978895902633667,
          2.350085973739624,
          2.09247088432312,
          2.5168402194976807,
          1.844368815422058,
          2.416581392288208,
          2.2101969718933105,
          1.7705438137054443,
          1.8229193687438965,
          2.522104501724243,
          2.3514955043792725,
          2.046868324279785,
          2.1624059677124023,
          2.3282365798950195,
          2.162881851196289,
          2.0799455642700195,
          2.591085433959961,
          2.3112566471099854,
          2.149238109588623,
          1.9371569156646729,
          1.204598069190979,
          2.3846864700317383,
          2.0651650428771973,
          2.378804922103882,
          1.6263529062271118,
          2.5535874366760254,
          2.2724931240081787,
          1.7210701704025269,
          2.354491949081421,
          2.5561063289642334,
          1.583642840385437,
          2.1360747814178467,
          2.4908173084259033,
          1.3406414985656738,
          1.9783282279968262,
          1.8912533521652222,
          1.1445517539978027,
          2.1218340396881104,
          2.1719257831573486,
          2.3167247772216797,
          2.4366629123687744,
          1.6070235967636108,
          2.3443691730499268,
          2.2894718647003174,
          2.1124374866485596,
          2.3598549365997314,
          1.6398568153381348,
          2.2782211303710938,
          1.9450656175613403,
          2.5488176345825195,
          1.4760053157806396,
          1.694832444190979,
          1.1917078495025635,
          2.2388157844543457,
          1.6489508152008057,
          2.23366117477417,
          1.789352536201477,
          1.9678009748458862,
          2.5671427249908447,
          1.9473986625671387,
          2.4964070320129395,
          1.9933754205703735,
          2.327080726623535,
          2.552656650543213,
          2.420927047729492,
          1.6989473104476929,
          2.2978036403656006,
          2.1000876426696777,
          2.1696949005126953,
          2.258551836013794,
          2.553976535797119,
          1.795669436454773,
          1.6103614568710327,
          2.1483676433563232,
          2.3806965351104736,
          2.33522629737854,
          2.3206522464752197,
          2.4249050617218018,
          2.0894525051116943,
          1.6039142608642578,
          1.913973331451416,
          1.8794008493423462,
          2.490433692932129,
          1.6733293533325195,
          2.168462038040161,
          1.9510749578475952,
          2.5529580116271973,
          2.5279483795166016,
          2.4713783264160156,
          2.3834376335144043,
          2.5385336875915527,
          1.1679710149765015,
          2.107246160507202,
          1.6743875741958618,
          2.420498847961426,
          2.0313215255737305,
          1.843636393547058,
          2.053492784500122,
          1.5838874578475952,
          2.0479040145874023,
          2.336721658706665,
          1.903906226158142,
          2.2683517932891846,
          1.4398657083511353,
          2.2661850452423096,
          1.978245496749878,
          2.3184683322906494,
          1.9609858989715576,
          2.4022815227508545,
          2.083937406539917,
          2.3961331844329834,
          2.2193214893341064,
          1.7527567148208618,
          1.9952293634414673,
          2.2124905586242676,
          2.1922895908355713,
          2.4266483783721924,
          2.5452663898468018,
          1.8557614088058472,
          2.4136252403259277,
          1.5755687952041626,
          1.6277002096176147,
          2.5174312591552734,
          1.2383722066879272,
          2.3647425174713135,
          1.6451232433319092,
          1.7298094034194946,
          1.7863216400146484,
          2.4324800968170166,
          3.0735435485839844,
          1.747436761856079,
          1.9556851387023926,
          1.9791903495788574,
          2.5444679260253906,
          1.678175926208496,
          2.2804129123687744,
          2.0917716026306152,
          2.2803115844726562,
          2.5261082649230957,
          1.6805932521820068,
          1.921939730644226,
          1.7753838300704956,
          1.5669775009155273,
          1.9808900356292725,
          1.3660794496536255,
          1.1432379484176636,
          2.4673690795898438,
          1.3771077394485474,
          2.626194477081299,
          2.5971972942352295,
          1.2242563962936401,
          1.442428708076477,
          2.4944305419921875,
          1.8368338346481323,
          2.0930516719818115,
          2.354062557220459,
          2.086526393890381,
          2.4979264736175537,
          1.3194711208343506,
          1.5860048532485962,
          2.219735860824585,
          2.4000141620635986,
          2.0471279621124268,
          2.300799608230591,
          2.2703588008880615,
          1.4340389966964722,
          2.0411317348480225,
          2.5520451068878174,
          1.8440865278244019,
          2.0038177967071533,
          1.1788084506988525,
          2.978508949279785,
          3.1080868244171143,
          1.5749174356460571,
          2.3820226192474365,
          1.8892600536346436,
          1.8270176649093628,
          1.9820045232772827,
          2.3287649154663086,
          2.472522735595703,
          2.0267226696014404,
          1.9721989631652832,
          1.8472408056259155,
          1.7588517665863037,
          2.380610704421997,
          1.5109935998916626,
          2.471911668777466,
          2.253316640853882,
          2.095782995223999,
          1.703426718711853,
          1.5143967866897583,
          -1.3185752630233765,
          2.357105016708374,
          1.568962574005127,
          2.0974345207214355,
          1.7379646301269531,
          2.3121142387390137,
          1.0983821153640747,
          2.281799793243408,
          1.7868376970291138,
          1.9797917604446411,
          1.8076050281524658,
          1.9137159585952759,
          0.7444272041320801,
          2.418623447418213,
          0.5661720633506775,
          2.103358745574951,
          1.9180264472961426,
          2.1702306270599365,
          1.8062011003494263,
          2.5895304679870605,
          2.5179975032806396,
          1.6482200622558594,
          2.51733660697937,
          1.9626903533935547,
          2.535356283187866,
          2.1562249660491943,
          2.3389129638671875,
          2.083656072616577,
          2.51239013671875,
          2.4216184616088867,
          2.4549896717071533,
          1.5626431703567505,
          2.5407280921936035,
          1.6888096332550049,
          2.3934974670410156,
          1.3010139465332031,
          2.2666568756103516,
          2.5321133136749268,
          1.7245510816574097,
          2.358621835708618,
          2.4675049781799316,
          2.2850356101989746,
          2.0520517826080322,
          1.8065667152404785,
          2.108227491378784,
          2.298480272293091,
          1.969253420829773,
          1.8826781511306763,
          2.040853500366211,
          2.7783586978912354,
          1.9464607238769531,
          2.34993839263916,
          1.4311095476150513,
          0.9180681705474854,
          1.2781603336334229,
          2.3531689643859863,
          2.3413896560668945,
          1.9907563924789429,
          1.939804196357727,
          2.274862766265869,
          1.4975275993347168,
          2.566535711288452,
          1.733965277671814,
          1.7836244106292725,
          1.876724123954773,
          2.541325330734253,
          2.26278018951416,
          2.5583109855651855,
          2.571108102798462,
          2.2577974796295166,
          2.7461283206939697,
          1.815191388130188,
          2.0189692974090576,
          2.167574405670166,
          0.9744971990585327,
          1.5837794542312622,
          2.4559056758880615,
          1.930741548538208,
          2.0031650066375732,
          2.5773656368255615,
          2.201606512069702,
          2.0646541118621826,
          1.2759431600570679,
          2.2398836612701416,
          1.6104964017868042,
          1.9192191362380981,
          1.53670334815979,
          1.7911888360977173,
          2.4680614471435547,
          1.95622718334198,
          2.0800576210021973,
          2.1667938232421875,
          2.1779253482818604,
          1.9420090913772583,
          1.8965781927108765,
          1.8413069248199463,
          1.9930790662765503,
          2.097426652908325,
          1.740618348121643,
          1.627625823020935,
          1.9234753847122192,
          1.5804510116577148,
          1.1926823854446411,
          1.2637287378311157,
          1.9302568435668945,
          0.7429412007331848,
          1.7279053926467896,
          1.3748501539230347,
          1.8589636087417603,
          1.63030207157135,
          1.5832667350769043,
          2.0669329166412354,
          1.8296191692352295,
          2.194197654724121,
          1.4797980785369873,
          2.2176146507263184,
          1.967015266418457,
          1.943645715713501,
          2.0678234100341797,
          1.6626543998718262,
          1.9948770999908447
         ],
         "xaxis": "x",
         "y": [
          -2.6546757221221924,
          -3.004460334777832,
          -2.885756731033325,
          -2.4865925312042236,
          -2.9279236793518066,
          -2.8619308471679688,
          -2.520400047302246,
          -2.426366090774536,
          -2.8154003620147705,
          -3.125709295272827,
          -2.571119785308838,
          -2.52942156791687,
          -2.652251720428467,
          -2.699620246887207,
          -2.991739511489868,
          -2.3660738468170166,
          -2.6238648891448975,
          -3.926515579223633,
          -2.508756399154663,
          -2.602217674255371,
          -2.543616533279419,
          -2.8381741046905518,
          -2.9077553749084473,
          -3.0087382793426514,
          -2.9347689151763916,
          -2.9706509113311768,
          -2.3487417697906494,
          -2.7565464973449707,
          -3.4672513008117676,
          -3.2155494689941406,
          -3.870596170425415,
          -3.456573486328125,
          -2.613237142562866,
          -3.408386468887329,
          -3.462817430496216,
          -2.9589858055114746,
          -2.517011880874634,
          -3.6559481620788574,
          -2.221998453140259,
          -3.691213846206665,
          -2.8492424488067627,
          -2.8293964862823486,
          -3.032658338546753,
          -2.589822292327881,
          -2.4267308712005615,
          -2.950939416885376,
          -2.7591259479522705,
          -3.4516096115112305,
          -2.4761412143707275,
          -2.658130645751953,
          -3.9460983276367188,
          -2.606092929840088,
          -2.3745291233062744,
          -2.900728225708008,
          -2.6328558921813965,
          -3.131755828857422,
          -2.6969900131225586,
          -3.011735439300537,
          -3.123135805130005,
          -3.029270887374878,
          -3.07196307182312,
          -2.922300100326538,
          -2.970045566558838,
          -2.5607566833496094,
          -2.3423032760620117,
          -2.3776473999023438,
          -2.7409937381744385,
          -2.5635719299316406,
          -2.8861796855926514,
          -3.216167449951172,
          -3.0135841369628906,
          -2.712562084197998,
          -2.661311626434326,
          -2.566220998764038,
          -2.705305814743042,
          -3.147667169570923,
          -2.8688483238220215,
          -2.6464896202087402,
          -2.8407654762268066,
          -2.5941030979156494,
          -2.5684573650360107,
          -2.5228993892669678,
          -2.682311773300171,
          -3.007981300354004,
          -2.4954681396484375,
          -3.0241997241973877,
          -3.213266611099243,
          -2.613208055496216,
          -3.039072036743164,
          -2.729590654373169,
          -2.6551527976989746,
          -3.317035436630249,
          -2.717498540878296,
          -3.0969836711883545,
          -3.099992036819458,
          -2.5465128421783447,
          -3.3961634635925293,
          -2.717045783996582,
          -3.37408447265625,
          -3.3912413120269775,
          -2.8217687606811523,
          -3.1560428142547607,
          -2.5319831371307373,
          -2.4644274711608887,
          -3.1886181831359863,
          -2.7353785037994385,
          -2.849318265914917,
          -2.91172194480896,
          -3.726346015930176,
          -2.983928680419922,
          -2.982205390930176,
          -3.399737596511841,
          -2.7317049503326416,
          -3.0114614963531494,
          -3.511277914047241,
          -3.134092092514038,
          -3.1446831226348877,
          -3.473416805267334,
          -2.9892125129699707,
          -3.7850210666656494,
          -2.875753402709961,
          -2.821640729904175,
          -2.973776340484619,
          -3.5423500537872314,
          -3.7851192951202393,
          -2.6463582515716553,
          -3.2427000999450684,
          -3.8767929077148438,
          -2.8276419639587402,
          -3.183749198913574,
          -2.327744960784912,
          -2.3900203704833984,
          -3.886366844177246,
          -3.739159345626831,
          -3.030400514602661,
          -4.0412750244140625,
          -3.8724679946899414,
          -2.4602913856506348,
          -2.807427406311035,
          -2.5025711059570312,
          -3.493528127670288,
          -3.449540138244629,
          -3.226046323776245,
          -3.454305648803711,
          -3.7399325370788574,
          -3.727140188217163,
          -3.968055009841919,
          -2.7178733348846436,
          -2.88899302482605,
          -2.598492383956909,
          -2.5617241859436035,
          -3.9933834075927734,
          -2.690338611602783,
          -2.920111894607544,
          -2.8540780544281006,
          -2.946842908859253,
          -2.41764235496521,
          -3.782285690307617,
          -3.3619821071624756,
          -2.4909214973449707,
          -2.6283485889434814,
          -3.886019229888916,
          -3.99308705329895,
          -3.6301167011260986,
          -3.039815664291382,
          -3.3417346477508545,
          -2.9707303047180176,
          -3.1975924968719482,
          -3.4464094638824463,
          -3.9105072021484375,
          -3.004969596862793,
          -3.127633571624756,
          -2.787053108215332,
          -1.923282504081726,
          -2.384059190750122,
          -2.5443718433380127,
          -2.8892581462860107,
          -3.860102653503418,
          -3.4612300395965576,
          -2.9716856479644775,
          -3.3996922969818115,
          -3.276069164276123,
          -2.886291980743408,
          -3.362457275390625,
          -3.47131609916687,
          -3.463707685470581,
          -3.004546880722046,
          -2.5675079822540283,
          -2.990622043609619,
          -3.1827847957611084,
          -2.346024751663208,
          -3.0213277339935303,
          -2.9769439697265625,
          -2.807968854904175,
          -2.683218240737915,
          -3.8704073429107666,
          -3.0043771266937256,
          -3.7274582386016846,
          -2.8713111877441406,
          -3.346116304397583,
          -3.006120443344116,
          -2.9243550300598145,
          -4.021572589874268,
          -3.09417724609375,
          -3.0958523750305176,
          -3.007317543029785,
          -2.7095956802368164,
          -3.5043444633483887,
          -2.8563783168792725,
          -2.604872226715088,
          -3.494762659072876,
          -2.953281879425049,
          -2.7913544178009033,
          -3.559612274169922,
          -3.1208982467651367,
          -2.4133102893829346,
          -3.6764495372772217,
          -3.5091896057128906,
          -3.580393075942993,
          -3.4704432487487793,
          -3.8647477626800537,
          -3.3011488914489746,
          -2.6808574199676514,
          -2.8531107902526855,
          -3.2558205127716064,
          -2.3422157764434814,
          -3.2281131744384766,
          -3.190664529800415,
          -2.763932228088379,
          -3.4700167179107666,
          -3.521277904510498,
          -3.4628055095672607,
          -2.9565179347991943,
          -3.494720458984375,
          -2.213361978530884,
          -3.562135696411133,
          -3.5438220500946045,
          -2.442551851272583,
          -2.3271236419677734,
          -2.974353551864624,
          -2.512411594390869,
          -2.428816318511963,
          -3.1992106437683105,
          -2.929081678390503,
          -2.624591112136841,
          -3.223696231842041,
          -2.813281774520874,
          -2.5024900436401367,
          -2.8438503742218018,
          -3.72115421295166,
          -3.5291545391082764,
          -2.910362482070923,
          -3.26442813873291,
          -2.9513134956359863,
          -2.8714399337768555,
          -3.374474048614502,
          -3.1852118968963623,
          -2.31597638130188,
          -3.1527860164642334,
          -4.037291049957275,
          -2.8730735778808594,
          -3.0950121879577637,
          -3.786416530609131,
          -3.493303060531616,
          -3.0119447708129883,
          -3.5564112663269043,
          -3.713474750518799,
          -3.4370882511138916,
          -2.6043951511383057,
          -3.051786184310913,
          -3.8135664463043213,
          -3.3792941570281982,
          -3.2345194816589355,
          -2.9193942546844482,
          -3.0978994369506836,
          -3.801724433898926,
          -2.4266445636749268,
          -3.033728837966919,
          -2.559708833694458,
          -3.0177338123321533,
          -3.1573729515075684,
          -3.2346603870391846,
          -3.975281000137329,
          -3.2909038066864014,
          -3.9400460720062256,
          -2.6523685455322266,
          -3.4044299125671387,
          -3.6671934127807617,
          -3.7731268405914307,
          -3.611839771270752,
          -3.312713861465454,
          -3.495084524154663,
          -3.7251713275909424,
          -3.3803184032440186,
          -2.924450159072876,
          -3.0479509830474854,
          -3.4681670665740967,
          -3.405337333679199,
          -3.2877562046051025,
          -3.774073362350464,
          -2.86604642868042,
          -3.4390339851379395,
          -3.026867389678955,
          -3.9554216861724854,
          -3.7287142276763916,
          -2.7226064205169678,
          -3.0217862129211426,
          -3.7157583236694336,
          -4.061631679534912,
          -2.996262311935425,
          -2.798342704772949,
          -3.0764355659484863,
          -3.5443997383117676,
          -3.5286781787872314,
          -2.805663585662842,
          -3.2067627906799316,
          -3.0451056957244873,
          -3.587263822555542,
          -3.5035927295684814,
          -3.408114433288574,
          -3.108060598373413,
          -3.3747963905334473,
          -3.0275983810424805,
          -3.6140387058258057,
          -3.832380771636963,
          -3.8520140647888184,
          -2.5369186401367188,
          -2.615971088409424,
          -3.979813814163208,
          -3.763709783554077,
          -4.050013065338135,
          -3.4911985397338867,
          -3.4471561908721924,
          -3.1405656337738037,
          -2.599677562713623,
          -3.675124168395996,
          -4.000675678253174,
          -3.4822704792022705,
          -3.2954976558685303,
          -3.6291213035583496,
          -3.3723180294036865,
          -3.64546275138855,
          -2.6605212688446045,
          -3.0037803649902344,
          -2.936897039413452,
          -2.910994529724121,
          -3.37821626663208,
          -3.0777266025543213,
          -2.421231508255005,
          -2.7688186168670654,
          -2.700039863586426,
          -3.208146572113037,
          -1.9860076904296875,
          -3.435006618499756,
          -4.0790019035339355,
          -3.9788031578063965,
          -3.230043888092041,
          -3.011657953262329,
          -3.1834139823913574,
          -3.6129472255706787,
          -2.860867500305176,
          -2.9098947048187256,
          -3.591331720352173,
          -3.7064337730407715,
          -3.4836812019348145,
          -3.6584694385528564,
          -3.3593900203704834,
          -3.5377185344696045,
          -2.8384413719177246,
          -3.5104339122772217,
          -3.842238426208496,
          -3.3117215633392334,
          -2.444470167160034,
          -2.6638295650482178,
          -3.1853561401367188,
          -3.3780577182769775,
          -3.0253844261169434,
          -2.364431858062744,
          -3.511960029602051,
          -2.8869850635528564,
          -2.774779796600342,
          -2.701256036758423,
          -3.588834524154663,
          -3.3661744594573975,
          -3.415193557739258,
          -3.0886502265930176,
          -2.9020543098449707,
          -3.8501830101013184,
          -2.4444570541381836,
          -3.2568511962890625,
          -2.9088339805603027,
          -2.258471727371216,
          -2.2913970947265625,
          -3.494591474533081,
          -2.265082359313965,
          -2.0786807537078857,
          -3.0560245513916016,
          -2.6306090354919434,
          -2.7379252910614014,
          -2.9606637954711914,
          -3.918692111968994,
          -3.7691187858581543,
          -3.036738395690918,
          -3.4222662448883057,
          -3.9845731258392334,
          -3.3483662605285645,
          -3.4653024673461914,
          -3.274057388305664,
          -3.0557668209075928,
          -3.4769608974456787,
          -2.9597909450531006,
          -3.2280163764953613,
          -3.011647939682007,
          -2.484238862991333,
          -1.3501803874969482,
          -3.5619020462036133,
          -3.3917667865753174,
          -3.2704856395721436,
          -2.6939260959625244,
          -3.7396726608276367,
          -3.84614896774292,
          -3.8305318355560303,
          -2.1732676029205322,
          -4.000889778137207,
          -3.703667163848877,
          -2.271047592163086,
          -2.8445024490356445,
          -2.6730523109436035,
          -4.034515380859375,
          -2.906386613845825,
          -3.6424429416656494,
          -3.748948097229004,
          -3.718996047973633,
          -3.205655813217163,
          -3.2144861221313477,
          -3.0227410793304443,
          -2.8674862384796143,
          -3.9053866863250732,
          -3.3628430366516113,
          -3.5394647121429443,
          -3.010833501815796,
          -2.3169498443603516,
          -2.850802183151245,
          -2.7620508670806885,
          -2.9219753742218018,
          -3.041571617126465,
          -3.0104820728302,
          -3.773167133331299,
          -2.700852155685425,
          -2.7391605377197266,
          -3.7892167568206787,
          -3.377798080444336,
          -3.0062496662139893,
          -3.1307756900787354,
          -3.3077611923217773,
          -3.4443252086639404,
          -3.5635697841644287,
          -2.577826976776123,
          -3.480916738510132,
          -3.5921528339385986,
          -3.9354476928710938,
          -4.058912754058838,
          -2.3261330127716064,
          -2.1672463417053223,
          -4.011678695678711,
          -2.875002861022949,
          -3.1145823001861572,
          -2.796677350997925,
          -3.315075159072876,
          -3.68753719329834,
          -2.8911683559417725,
          -2.27537202835083,
          -4.022116184234619,
          -2.548490047454834,
          -2.9120736122131348,
          -2.8365120887756348,
          -2.7202072143554688,
          -2.17087721824646,
          -2.298591375350952,
          -3.3547191619873047,
          -3.83689284324646,
          -2.9761650562286377,
          -3.466671943664551,
          -3.5746333599090576,
          -2.774836778640747,
          -2.7769033908843994,
          -3.766660690307617,
          -3.627534866333008,
          -3.4240338802337646,
          -3.035531997680664,
          -3.6064741611480713,
          -3.9978039264678955,
          -2.3211607933044434,
          -3.3215537071228027,
          -3.508535146713257,
          -3.852912187576294,
          -3.659322500228882,
          -3.8569424152374268,
          -3.1255087852478027,
          -4.052737236022949,
          -3.419656753540039,
          -2.7853381633758545,
          -3.5851714611053467,
          -3.4944865703582764,
          -3.1715404987335205,
          -2.884904146194458,
          -3.4770445823669434,
          -3.9795498847961426,
          -2.975252151489258,
          -2.267738103866577,
          -2.193351984024048,
          -3.1323132514953613,
          -2.7488176822662354,
          -3.3335351943969727,
          -4.0103960037231445,
          -2.640716791152954,
          -3.667942762374878,
          -2.4534919261932373,
          -4.021077632904053,
          -3.2637338638305664,
          -2.691572904586792,
          -2.8682773113250732,
          -2.913194417953491,
          -3.2722556591033936,
          -3.342536449432373,
          -3.16030216217041,
          -2.1733386516571045,
          -3.8375418186187744,
          -2.61177134513855,
          -2.650780200958252,
          -2.4988961219787598,
          -2.3293209075927734,
          -2.3221070766448975,
          -3.149134397506714,
          -2.2799477577209473
         ],
         "yaxis": "y"
        },
        {
         "customdata": [
          [
           "Linkin Park"
          ],
          [
           "Nirvana"
          ],
          [
           "Green Day"
          ],
          [
           "Radiohead"
          ],
          [
           "Metallica"
          ],
          [
           "Gorillaz"
          ],
          [
           "Red Hot Chili Peppers"
          ],
          [
           "Paramore"
          ],
          [
           "Foo Fighters"
          ],
          [
           "The Killers"
          ],
          [
           "Three Days Grace"
          ],
          [
           "My Chemical Romance"
          ],
          [
           "System Of A Down"
          ],
          [
           "Weezer"
          ],
          [
           "Nickelback"
          ],
          [
           "Deftones"
          ],
          [
           "The Goo Goo Dolls"
          ],
          [
           "Skillet"
          ],
          [
           "Disturbed"
          ],
          [
           "The Offspring"
          ],
          [
           "The Cranberries"
          ],
          [
           "Avenged Sevenfold"
          ],
          [
           "Slipknot"
          ],
          [
           "blink-182"
          ],
          [
           "The Smiths"
          ],
          [
           "Pierce The Veil"
          ],
          [
           "Bring Me The Horizon"
          ],
          [
           "Korn"
          ],
          [
           "The Strokes"
          ],
          [
           "Oasis"
          ],
          [
           "Falling In Reverse"
          ],
          [
           "3 Doors Down"
          ],
          [
           "Evanescence"
          ],
          [
           "Shinedown"
          ],
          [
           "The Smashing Pumpkins"
          ],
          [
           "Limp Bizkit"
          ],
          [
           "Ghost"
          ],
          [
           "Five Finger Death Punch"
          ],
          [
           "Muse"
          ],
          [
           "Pearl Jam"
          ],
          [
           "Papa Roach"
          ],
          [
           "All Time Low"
          ],
          [
           "Sublime"
          ],
          [
           "Breaking Benjamin"
          ],
          [
           "Kings of Leon"
          ],
          [
           "Seether"
          ],
          [
           "Rob Zombie"
          ],
          [
           "Pixies"
          ],
          [
           "The All-American Rejects"
          ],
          [
           "Blur"
          ],
          [
           "Hollywood Undead"
          ],
          [
           "Nine Inch Nails"
          ],
          [
           "No Doubt"
          ],
          [
           "Thousand Foot Krutch"
          ],
          [
           "Rage Against The Machine"
          ],
          [
           "Alice In Chains"
          ],
          [
           "Beastie Boys"
          ],
          [
           "Jimmy Eat World"
          ],
          [
           "Rise Against"
          ],
          [
           "STARSET"
          ],
          [
           "Godsmack"
          ],
          [
           "Iron Maiden"
          ],
          [
           "Mazzy Star"
          ],
          [
           "Thirty Seconds To Mars"
          ],
          [
           "Bad Omens"
          ],
          [
           "Soundgarden"
          ],
          [
           "Marilyn Manson"
          ],
          [
           "Counting Crows"
          ],
          [
           "Incubus"
          ],
          [
           "Simple Plan"
          ],
          [
           "Sum 41"
          ],
          [
           "alt-J"
          ],
          [
           "Staind"
          ],
          [
           "Theory of a Deadman"
          ],
          [
           "Puddle Of Mudd"
          ],
          [
           "Rammstein"
          ],
          [
           "Franz Ferdinand"
          ],
          [
           "I Prevail"
          ],
          [
           "Finger Eleven"
          ],
          [
           "Hoobastank"
          ],
          [
           "Tech N9ne"
          ],
          [
           "Drowning Pool"
          ],
          [
           "Beck"
          ],
          [
           "Motionless In White"
          ],
          [
           "The Verve"
          ],
          [
           "Matchbox Twenty"
          ],
          [
           "Wheatus"
          ],
          [
           "A Day To Remember"
          ],
          [
           "The Black Keys"
          ],
          [
           "Cocteau Twins"
          ],
          [
           "Third Eye Blind"
          ],
          [
           "Robbie Williams"
          ],
          [
           "Sleep Token"
          ],
          [
           "Audioslave"
          ],
          [
           "Vampire Weekend"
          ],
          [
           "Stone Temple Pilots"
          ],
          [
           "Sleeping With Sirens"
          ],
          [
           "Jet"
          ],
          [
           "Hinder"
          ],
          [
           "Bullet For My Valentine"
          ],
          [
           "Queens of the Stone Age"
          ],
          [
           "TOOL"
          ],
          [
           "The Red Jumpsuit Apparatus"
          ],
          [
           "Sabaton"
          ],
          [
           "Daughtry"
          ],
          [
           "Pantera"
          ],
          [
           "Megadeth"
          ],
          [
           "Creed"
          ],
          [
           "Lifehouse"
          ],
          [
           "Jeff Buckley"
          ],
          [
           "The Kooks"
          ],
          [
           "311"
          ],
          [
           "Judas Priest"
          ],
          [
           "Asking Alexandria"
          ],
          [
           "Gnarls Barkley"
          ],
          [
           "Cypress Hill"
          ],
          [
           "Flyleaf"
          ],
          [
           "Modest Mouse"
          ],
          [
           "Black Veil Brides"
          ],
          [
           "Moby"
          ],
          [
           "CAKE"
          ],
          [
           "Motörhead"
          ],
          [
           "Death Cab for Cutie"
          ],
          [
           "DragonForce"
          ],
          [
           "Saving Abel"
          ],
          [
           "Saliva"
          ],
          [
           "Fountains Of Wayne"
          ],
          [
           "Good Charlotte"
          ],
          [
           "BABYMETAL"
          ],
          [
           "Elliott Smith"
          ],
          [
           "Trapt"
          ],
          [
           "Bowling For Soup"
          ],
          [
           "Spin Doctors"
          ],
          [
           "Volbeat"
          ],
          [
           "Bad Wolves"
          ],
          [
           "WWE"
          ],
          [
           "Killswitch Engage"
          ],
          [
           "Tenacious D"
          ],
          [
           "Fiona Apple"
          ],
          [
           "Slowdive"
          ],
          [
           "Mudvayne"
          ],
          [
           "P.O.D."
          ],
          [
           "Alien Ant Farm"
          ],
          [
           "AFI"
          ],
          [
           "Ice Nine Kills"
          ],
          [
           "Chevelle"
          ],
          [
           "Engelbert Humperdinck"
          ],
          [
           "Greta Van Fleet"
          ],
          [
           "Type O Negative"
          ],
          [
           "Escape the Fate"
          ],
          [
           "NOTHING MORE"
          ],
          [
           "Living Colour"
          ],
          [
           "Dido"
          ],
          [
           "Semisonic"
          ],
          [
           "Sheryl Crow"
          ],
          [
           "Lit"
          ],
          [
           "Stone Sour"
          ],
          [
           "Matthew Wilder"
          ],
          [
           "Yellowcard"
          ],
          [
           "Halestorm"
          ],
          [
           "Barenaked Ladies"
          ],
          [
           "Bloodhound Gang"
          ],
          [
           "Taking Back Sunday"
          ],
          [
           "The Used"
          ],
          [
           "Citizen Soldier"
          ],
          [
           "Bush"
          ],
          [
           "Blind Melon"
          ],
          [
           "Tal Bachman"
          ],
          [
           "Wolfmother"
          ],
          [
           "Our Last Night"
          ],
          [
           "From Ashes to New"
          ],
          [
           "The Fratellis"
          ],
          [
           "Of Mice & Men"
          ],
          [
           "Crossfade"
          ],
          [
           "The Shins"
          ],
          [
           "The Velvet Underground"
          ],
          [
           "Slayer"
          ],
          [
           "Ashes Remain"
          ],
          [
           "Björk"
          ],
          [
           "Dream Theater"
          ],
          [
           "Siouxsie and the Banshees"
          ],
          [
           "Sugar Ray"
          ],
          [
           "Nine Days"
          ],
          [
           "Five For Fighting"
          ],
          [
           "Supergrass"
          ],
          [
           "Hole"
          ],
          [
           "Pop Evil"
          ],
          [
           "The Stone Roses"
          ],
          [
           "The Calling"
          ],
          [
           "Dave Matthews Band"
          ],
          [
           "Lamb of God"
          ],
          [
           "The Wallflowers"
          ],
          [
           "Lustra"
          ],
          [
           "Joy Division"
          ],
          [
           "Architects"
          ],
          [
           "Live"
          ],
          [
           "Beartooth"
          ],
          [
           "Alter Bridge"
          ],
          [
           "Story Of The Year"
          ],
          [
           "Nena"
          ],
          [
           "Chumbawamba"
          ],
          [
           "The Presidents Of The United States Of America"
          ],
          [
           "SICK PUPPIES"
          ],
          [
           "My Darkest Days"
          ],
          [
           "Trivium"
          ],
          [
           "Miracle Of Sound"
          ],
          [
           "Blues Traveler"
          ],
          [
           "Anarbor"
          ],
          [
           "The Longest Johns"
          ],
          [
           "Spiderbait"
          ],
          [
           "Peyton Parrish"
          ],
          [
           "Badflower"
          ],
          [
           "Gojira"
          ],
          [
           "Basement"
          ],
          [
           "Superheaven"
          ],
          [
           "Silverstein"
          ],
          [
           "Neck Deep"
          ],
          [
           "Fuel"
          ],
          [
           "King Crimson"
          ],
          [
           "Atreyu"
          ],
          [
           "Eve 6"
          ],
          [
           "Arcade Fire"
          ],
          [
           "Portishead"
          ],
          [
           "The Plot In You"
          ],
          [
           "Sonic Youth"
          ],
          [
           "Everclear"
          ],
          [
           "Band of Horses"
          ],
          [
           "Ween"
          ],
          [
           "She Wants Revenge"
          ],
          [
           "Jeris Johnson"
          ],
          [
           "Dio"
          ],
          [
           "Dayseeker"
          ],
          [
           "Skindred"
          ],
          [
           "Kurt Cobain"
          ],
          [
           "Tegan and Sara"
          ],
          [
           "King Gizzard & The Lizard Wizard"
          ],
          [
           "Hootie & The Blowfish"
          ],
          [
           "Our Lady Peace"
          ],
          [
           "Red"
          ],
          [
           "We Came As Romans"
          ],
          [
           "10 Years"
          ],
          [
           "Metalocalypse: Dethklok"
          ],
          [
           "Dance Gavin Dance"
          ],
          [
           "Egypt Central"
          ],
          [
           "Memphis May Fire"
          ],
          [
           "Electric Callboy"
          ],
          [
           "The Garden"
          ],
          [
           "Kasabian"
          ],
          [
           "Nick Cave & The Bad Seeds"
          ],
          [
           "Jack White"
          ],
          [
           "LCD Soundsystem"
          ],
          [
           "Chris Cornell"
          ],
          [
           "HIM"
          ],
          [
           "Mayday Parade"
          ],
          [
           "Solence"
          ],
          [
           "A Perfect Circle"
          ],
          [
           "Death"
          ],
          [
           "Spoon"
          ],
          [
           "Misfits"
          ],
          [
           "Have A Nice Life"
          ],
          [
           "Gin Blossoms"
          ],
          [
           "Title Fight"
          ],
          [
           "You Me At Six"
          ],
          [
           "The Last Shadow Puppets"
          ],
          [
           "my bloody valentine"
          ],
          [
           "Temple Of The Dog"
          ],
          [
           "Adelitas Way"
          ],
          [
           "Within Temptation"
          ],
          [
           "The Sundays"
          ],
          [
           "The Raconteurs"
          ],
          [
           "Stereophonics"
          ],
          [
           "Silverchair"
          ],
          [
           "Blue October"
          ],
          [
           "Hot Mulligan"
          ],
          [
           "julie"
          ],
          [
           "In This Moment"
          ],
          [
           "Witchz"
          ],
          [
           "Kittie"
          ],
          [
           "Dead Kennedys"
          ],
          [
           "White Zombie"
          ],
          [
           "Loveless"
          ],
          [
           "Catch Your Breath"
          ],
          [
           "Static-X"
          ],
          [
           "Goldfinger"
          ],
          [
           "Sigrid"
          ],
          [
           "Daniel Bedingfield"
          ],
          [
           "Panchiko"
          ],
          [
           "Bloc Party"
          ],
          [
           "KT Tunstall"
          ],
          [
           "Smash Into Pieces"
          ],
          [
           "All Good Things"
          ],
          [
           "Tech N9ne Collabos"
          ],
          [
           "Knocked Loose"
          ],
          [
           "The Cramps"
          ],
          [
           "New Radicals"
          ],
          [
           "Thomas Bergersen"
          ],
          [
           "Amaranthe"
          ],
          [
           "Polyphia"
          ],
          [
           "Sister Hazel"
          ],
          [
           "Harvey Danger"
          ],
          [
           "The High Kings"
          ],
          [
           "Interpol"
          ],
          [
           "Marcy Playground"
          ],
          [
           "Wind Rose"
          ],
          [
           "The Dead South"
          ],
          [
           "The Amity Affliction"
          ],
          [
           "Acid Bath"
          ],
          [
           "Cult To Follow"
          ],
          [
           "Point North"
          ],
          [
           "Coheed and Cambria"
          ],
          [
           "Cannibal Corpse"
          ],
          [
           "Chad Kroeger"
          ],
          [
           "Dope"
          ],
          [
           "The Zombies"
          ],
          [
           "Movements"
          ],
          [
           "The Darkness"
          ],
          [
           "Rehab"
          ],
          [
           "Bad Religion"
          ],
          [
           "Self Deception"
          ],
          [
           "Andy Black"
          ],
          [
           "Kaiser Chiefs"
          ],
          [
           "Vin Jay"
          ],
          [
           "Relient K"
          ],
          [
           "Anberlin"
          ],
          [
           "Diggy Graves"
          ],
          [
           "Thrice"
          ],
          [
           "Tonic"
          ],
          [
           "Filter"
          ],
          [
           "Nightwish"
          ],
          [
           "Ennio Morricone"
          ],
          [
           "Nonpoint"
          ],
          [
           "Anthrax"
          ],
          [
           "Fozzy"
          ],
          [
           "Attack Attack!"
          ],
          [
           "The Vaccines"
          ],
          [
           "Mick Gordon"
          ],
          [
           "Wage War"
          ],
          [
           "Pulp"
          ],
          [
           "The Hives"
          ],
          [
           "The Flaming Lips"
          ],
          [
           "Sigur Rós"
          ],
          [
           "Powerman 5000"
          ],
          [
           "The Ataris"
          ],
          [
           "Billy Talent"
          ],
          [
           "Helmet"
          ],
          [
           "Hawthorne Heights"
          ],
          [
           "Geoff Castellucci"
          ],
          [
           "Heilung"
          ],
          [
           "平田志穂子"
          ],
          [
           "coldrain"
          ],
          [
           "Celldweller"
          ],
          [
           "Puzzle"
          ],
          [
           "DON BROCO"
          ],
          [
           "Stand Atlantic"
          ],
          [
           "Social Distortion"
          ],
          [
           "Clutch"
          ],
          [
           "Testament"
          ],
          [
           "As I Lay Dying"
          ],
          [
           "Grant Gustin"
          ],
          [
           "Less Than Jake"
          ],
          [
           "The Revivalists"
          ],
          [
           "Andrew W.K."
          ],
          [
           "The Story So Far"
          ],
          [
           "Ryan Oakes"
          ],
          [
           "Neutral Milk Hotel"
          ],
          [
           "Chelsea Grin"
          ],
          [
           "Teenage Disaster"
          ],
          [
           "Zero 9:36"
          ],
          [
           "Spiritbox"
          ],
          [
           "Slash"
          ],
          [
           "Treyarch"
          ],
          [
           "The Jam"
          ],
          [
           "Alex Turner"
          ],
          [
           "Tantric"
          ],
          [
           "Senses Fail"
          ],
          [
           "The Libertines"
          ],
          [
           "Krizz Kaliko"
          ],
          [
           "Magnolia Park"
          ],
          [
           "Nico"
          ],
          [
           "Two Steps from Hell"
          ],
          [
           "KennyHoopla"
          ],
          [
           "Weyes Blood"
          ],
          [
           "David Gray"
          ],
          [
           "Travis"
          ],
          [
           "+44"
          ],
          [
           "The Devil Wears Prada"
          ],
          [
           "The HU"
          ],
          [
           "Sevendust"
          ],
          [
           "Circa Survive"
          ],
          [
           "Children Of Bodom"
          ],
          [
           "The Mighty Mighty Bosstones"
          ],
          [
           "Buckethead"
          ],
          [
           "Bauhaus"
          ],
          [
           "Bayside"
          ],
          [
           "Sean Dagher"
          ],
          [
           "藤田真由美"
          ],
          [
           "Violent Femmes"
          ],
          [
           "AS IT IS"
          ],
          [
           "Machine Head"
          ],
          [
           "Placebo"
          ],
          [
           "Sixx:A.M."
          ],
          [
           "Underoath"
          ],
          [
           "Bilmuri"
          ],
          [
           "The Microphones"
          ],
          [
           "Puscifer"
          ],
          [
           "All That Remains"
          ],
          [
           "Wilco"
          ],
          [
           "Absofacto"
          ],
          [
           "Airbourne"
          ],
          [
           "Avatar"
          ],
          [
           "The Coral"
          ],
          [
           "Del Amitri"
          ],
          [
           "Lorna Shore"
          ],
          [
           "Foals"
          ],
          [
           "Cortex"
          ],
          [
           "Say Anything"
          ],
          [
           "Arch Enemy"
          ],
          [
           "Woody Jackson"
          ],
          [
           "Mayhem"
          ],
          [
           "Attila"
          ],
          [
           "Gary Clark Jr."
          ],
          [
           "Cold"
          ],
          [
           "Apocalyptica"
          ]
         ],
         "hovertemplate": "labels=Alt<br>x=%{x}<br>y=%{y}<br>names=%{customdata[0]}<extra></extra>",
         "legendgroup": "Alt",
         "marker": {
          "color": "#FFA15A",
          "symbol": "circle"
         },
         "mode": "markers",
         "name": "Alt",
         "showlegend": true,
         "type": "scattergl",
         "x": [
          0.9360251426696777,
          1.018604040145874,
          1.0153590440750122,
          0.8169534206390381,
          1.4107877016067505,
          1.008691430091858,
          1.057789921760559,
          0.5072444677352905,
          1.0327523946762085,
          0.813586413860321,
          0.8542739748954773,
          0.2667745053768158,
          1.001389503479004,
          0.9517452716827393,
          0.9838615655899048,
          0.8503692746162415,
          1.1519907712936401,
          0.8114355802536011,
          0.8571925759315491,
          0.9055287837982178,
          1.281931757926941,
          0.8229022026062012,
          0.9336279034614563,
          0.8988211154937744,
          0.6601093411445618,
          0.3185387849807739,
          0.3626629710197449,
          0.9805935621261597,
          0.6372944116592407,
          1.1339179277420044,
          0.4001811146736145,
          0.9917749166488647,
          0.8647105097770691,
          0.9272396564483643,
          1.0739209651947021,
          0.9881857633590698,
          0.783284604549408,
          0.8730946779251099,
          0.8482678532600403,
          1.1272075176239014,
          0.9288915991783142,
          0.2954522669315338,
          1.0780631303787231,
          0.8430355787277222,
          0.7326652407646179,
          0.9063336253166199,
          0.96150141954422,
          0.7021843194961548,
          0.5845031142234802,
          0.8564355373382568,
          0.6076725125312805,
          0.9521682262420654,
          1.3207541704177856,
          0.5526719689369202,
          1.104825735092163,
          1.1261849403381348,
          1.7645161151885986,
          0.6919493079185486,
          0.8980819582939148,
          0.6208951473236084,
          0.8877841830253601,
          1.2413111925125122,
          0.2992520332336426,
          0.6162407398223877,
          0.3474104404449463,
          1.0844964981079102,
          0.8925707936286926,
          1.195379614830017,
          1.048548698425293,
          0.7824878692626953,
          0.8581684827804565,
          0.3929446041584015,
          0.9514660835266113,
          0.981793224811554,
          0.9819953441619873,
          1.0917785167694092,
          0.6587391495704651,
          0.4656343460083008,
          0.9940044283866882,
          0.9988665580749512,
          1.4146509170532227,
          0.9485840797424316,
          0.8864426612854004,
          0.39719250798225403,
          1.1948273181915283,
          1.168965458869934,
          0.8594793081283569,
          0.4406181871891022,
          0.6842603087425232,
          0.2680383622646332,
          1.1821037530899048,
          0.792691171169281,
          0.4033721387386322,
          1.1409116983413696,
          0.3091420829296112,
          1.1520373821258545,
          0.2937133312225342,
          0.8409162759780884,
          0.9824811816215515,
          0.7500082850456238,
          0.6845244765281677,
          0.954594612121582,
          0.4190914034843445,
          0.8270198702812195,
          0.943505585193634,
          1.1537368297576904,
          1.1638177633285522,
          1.0340064764022827,
          1.0585063695907593,
          0.27989619970321655,
          0.5707315802574158,
          1.1021350622177124,
          1.3265892267227173,
          0.4045569896697998,
          0.916881263256073,
          0.0509626679122448,
          0.3663569986820221,
          0.8261117935180664,
          0.4122232496738434,
          0.9052684903144836,
          1.0439908504486084,
          1.356045126914978,
          0.2994527816772461,
          0.826915442943573,
          0.9262910485267639,
          0.9736212491989136,
          1.106868028640747,
          0.6787586808204651,
          -0.057323627173900604,
          0.23796631395816803,
          0.9194607138633728,
          0.5152807235717773,
          1.2022826671600342,
          0.9275978803634644,
          0.6420989036560059,
          0.9775602221488953,
          0.7924951314926147,
          0.7343717217445374,
          0.2282564789056778,
          0.28545016050338745,
          0.881662905216217,
          1.0066990852355957,
          0.6512556672096252,
          0.44402846693992615,
          0.46423372626304626,
          0.8752652406692505,
          1.5825210809707642,
          0.06120888888835907,
          0.6236042976379395,
          0.4214807152748108,
          0.5502137541770935,
          1.2290918827056885,
          0.8505547046661377,
          1.1853440999984741,
          1.219525694847107,
          1.116618037223816,
          0.945806086063385,
          1.5701308250427246,
          0.36935943365097046,
          0.427094429731369,
          1.0965427160263062,
          1.2638953924179077,
          0.29532790184020996,
          0.288290411233902,
          0.40800321102142334,
          1.1243653297424316,
          1.172420859336853,
          1.196449875831604,
          0.9053156971931458,
          0.21840743720531464,
          0.41291505098342896,
          0.60174560546875,
          0.46358659863471985,
          0.9156573414802551,
          0.39274853467941284,
          0.26375967264175415,
          1.1180434226989746,
          0.4666684865951538,
          0.3026513457298279,
          1.5550012588500977,
          0.5871262550354004,
          1.2046278715133667,
          1.1512539386749268,
          0.8287211060523987,
          0.7704687118530273,
          0.34662237763404846,
          0.8253076672554016,
          0.7581952214241028,
          0.9157705903053284,
          1.30547034740448,
          0.7508125305175781,
          1.2054452896118164,
          0.6512593626976013,
          0.7069940567016602,
          0.38944339752197266,
          1.3831355571746826,
          0.4294790029525757,
          0.7187524437904358,
          0.3496659994125366,
          1.0319409370422363,
          1.1666876077651978,
          0.9856789708137512,
          0.9566251039505005,
          0.49442970752716064,
          0.7652900218963623,
          -0.08198002725839615,
          1.1849815845489502,
          0.1654483526945114,
          -0.27320101857185364,
          0.773205041885376,
          -0.07698529958724976,
          0.35825344920158386,
          0.7856597304344177,
          0.1368507295846939,
          0.17021161317825317,
          0.31489068269729614,
          -0.16878464818000793,
          0.7766538858413696,
          0.5545333027839661,
          0.55381178855896,
          1.1527999639511108,
          0.39662185311317444,
          0.36840805411338806,
          0.38420695066452026,
          0.3473219871520996,
          1.1385499238967896,
          0.33137479424476624,
          0.3061303496360779,
          0.3838534653186798,
          0.33071815967559814,
          1.0356111526489258,
          0.30167126655578613,
          0.9199236035346985,
          0.48114317655563354,
          0.8576915860176086,
          0.4296703040599823,
          1.156904697418213,
          1.0245882272720337,
          0.5520294308662415,
          0.2482655644416809,
          0.9118903279304504,
          0.7463673949241638,
          0.027631690725684166,
          0.3491208553314209,
          0.4256514310836792,
          0.08741933107376099,
          -0.011477513238787651,
          0.6831797957420349,
          0.21826516091823578,
          0.5197632312774658,
          0.4063625931739807,
          0.9201580286026001,
          0.6692752242088318,
          0.1549307107925415,
          0.33183208107948303,
          0.866287350654602,
          0.7349624633789062,
          0.5777172446250916,
          1.2938406467437744,
          0.3928621709346771,
          1.1939213275909424,
          0.23272418975830078,
          0.11800792068243027,
          0.5724349617958069,
          0.24806943535804749,
          1.15988290309906,
          0.33800533413887024,
          0.5518456697463989,
          0.2545323669910431,
          0.6097831726074219,
          0.7214944362640381,
          1.0694977045059204,
          0.21030397713184357,
          0.11653846502304077,
          0.04635373130440712,
          0.7015038132667542,
          0.2167123407125473,
          0.5644476413726807,
          0.6991768479347229,
          1.0927557945251465,
          -0.36465024948120117,
          0.20722267031669617,
          1.0993099212646484,
          0.5042617321014404,
          0.236215278506279,
          0.8961663246154785,
          0.045850466936826706,
          0.4141385853290558,
          0.9241503477096558,
          0.4099608063697815,
          0.32794126868247986,
          1.3705037832260132,
          0.3983590602874756,
          1.1653180122375488,
          1.1361937522888184,
          -0.37127724289894104,
          0.4785498380661011,
          0.10428352653980255,
          1.1929281949996948,
          1.1676242351531982,
          -0.2545197308063507,
          0.30225998163223267,
          1.169136881828308,
          -0.1887706071138382,
          0.08034740388393402,
          0.3468831479549408,
          0.5901042819023132,
          0.5178453326225281,
          0.21462571620941162,
          0.3558504283428192,
          0.5596673488616943,
          1.0528497695922852,
          0.8691678047180176,
          0.35504528880119324,
          0.14716395735740662,
          0.8047196865081787,
          0.7293730974197388,
          0.7213774919509888,
          0.347892701625824,
          0.10125508159399033,
          0.6210780143737793,
          1.5631396770477295,
          0.321168452501297,
          0.4243059456348419,
          -0.036206070333719254,
          0.32621774077415466,
          1.2118440866470337,
          1.0692572593688965,
          0.5940870046615601,
          -0.38005831837654114,
          0.7312570810317993,
          1.1360257863998413,
          1.1006417274475098,
          0.3331272006034851,
          0.6849844455718994,
          0.250910222530365,
          0.42249467968940735,
          0.8157542943954468,
          0.6700850129127502,
          0.7613603472709656,
          0.292011559009552,
          1.093730092048645,
          0.5095095038414001,
          0.7243120670318604,
          1.078169822692871,
          0.22379596531391144,
          -0.3131807744503021,
          -0.1430175006389618,
          -1.2527445554733276,
          -0.48374953866004944,
          -0.2516586482524872,
          -0.13028496503829956,
          -0.14638212323188782,
          -0.17658403515815735,
          0.6258930563926697,
          0.9973663687705994,
          0.7001450061798096,
          0.46536561846733093,
          0.9899320006370544,
          0.3935714662075043,
          0.16815932095050812,
          -0.0665283277630806,
          0.13079047203063965,
          0.17706696689128876,
          0.1849088966846466,
          0.4143812954425812,
          -0.024803845211863518,
          0.42413660883903503,
          0.3867122530937195,
          0.9771191477775574,
          0.5305843949317932,
          -0.06064009293913841,
          0.5424297451972961,
          0.6630605459213257,
          0.2773708701133728,
          0.6434503197669983,
          1.4292722940444946,
          0.24407124519348145,
          0.299795001745224,
          -0.3052261471748352,
          0.0884261354804039,
          0.10907170921564102,
          0.8377837538719177,
          0.7597629427909851,
          0.4599934220314026,
          0.40580734610557556,
          0.5355809330940247,
          0.5770760774612427,
          0.26670101284980774,
          0.8055099844932556,
          1.1890345811843872,
          0.3341638147830963,
          0.3920632600784302,
          0.1034979596734047,
          -0.14967229962348938,
          -1.2292660474777222,
          0.1575230062007904,
          0.05316545069217682,
          0.720919668674469,
          0.690563440322876,
          -0.2462877482175827,
          0.43015989661216736,
          0.019436320289969444,
          0.288473904132843,
          0.8871666789054871,
          0.4796924293041229,
          0.23009227216243744,
          0.055029142647981644,
          0.9566504955291748,
          0.479814350605011,
          0.6622260808944702,
          1.1597603559494019,
          0.702566385269165,
          0.5799708962440491,
          0.9615066647529602,
          0.24798430502414703,
          0.7225698828697205,
          -0.09703073650598526,
          0.5446018576622009,
          0.08335012942552567,
          0.7647079229354858,
          0.5944439768791199,
          0.5427526831626892
         ],
         "xaxis": "x",
         "y": [
          -1.5965110063552856,
          -2.122838258743286,
          -2.0904111862182617,
          -2.4204800128936768,
          -1.8973209857940674,
          -2.244290828704834,
          -2.131922483444214,
          -1.9568067789077759,
          -2.0318641662597656,
          -2.370497226715088,
          -1.5530693531036377,
          -1.7290499210357666,
          -1.6718791723251343,
          -2.289619207382202,
          -1.6463245153427124,
          -1.9404709339141846,
          -2.5422301292419434,
          -1.4827015399932861,
          -1.5281293392181396,
          -1.917876124382019,
          -2.5133752822875977,
          -1.5213003158569336,
          -1.5875412225723267,
          -2.146228075027466,
          -2.701507806777954,
          -1.6185822486877441,
          -1.4785854816436768,
          -1.6273471117019653,
          -2.7271816730499268,
          -2.6305932998657227,
          -1.4583210945129395,
          -1.6780530214309692,
          -1.5667710304260254,
          -1.559607744216919,
          -2.1879067420959473,
          -1.6156688928604126,
          -1.5335876941680908,
          -1.5101667642593384,
          -2.1844658851623535,
          -2.093738079071045,
          -1.5598288774490356,
          -1.8389912843704224,
          -2.306554079055786,
          -1.5333895683288574,
          -2.637946128845215,
          -1.5403385162353516,
          -1.60160231590271,
          -2.4670846462249756,
          -1.991377592086792,
          -2.642241954803467,
          -1.43084716796875,
          -2.068026304244995,
          -2.629681348800659,
          -1.327327013015747,
          -1.8705668449401855,
          -2.026547908782959,
          -2.3712158203125,
          -1.9606225490570068,
          -1.5951710939407349,
          -1.370761752128601,
          -1.5699646472930908,
          -1.7772475481033325,
          -2.606044054031372,
          -1.591951608657837,
          -1.447019338607788,
          -2.063098669052124,
          -1.6541250944137573,
          -2.546889066696167,
          -2.191053867340088,
          -1.8588874340057373,
          -2.009146213531494,
          -3.024445056915283,
          -1.5474997758865356,
          -1.5164729356765747,
          -1.6374645233154297,
          -1.7042731046676636,
          -2.8345510959625244,
          -1.4086159467697144,
          -1.6599215269088745,
          -1.908748984336853,
          -1.5951833724975586,
          -1.6027278900146484,
          -2.5339949131011963,
          -1.4534132480621338,
          -2.6448440551757812,
          -2.5050861835479736,
          -2.359764814376831,
          -1.4764522314071655,
          -2.809009075164795,
          -2.569340944290161,
          -2.5281903743743896,
          -3.4642577171325684,
          -1.4255492687225342,
          -2.0513038635253906,
          -3.057135820388794,
          -2.1011645793914795,
          -1.5777395963668823,
          -2.5600225925445557,
          -1.6824370622634888,
          -1.6056721210479736,
          -2.389277935028076,
          -1.7470136880874634,
          -1.758891224861145,
          -1.5999394655227661,
          -1.9643239974975586,
          -1.7054765224456787,
          -1.764885663986206,
          -1.6752320528030396,
          -2.4752697944641113,
          -2.5328073501586914,
          -3.007922410964966,
          -2.1976990699768066,
          -1.8237415552139282,
          -1.4679392576217651,
          -3.2519795894622803,
          -2.7764031887054443,
          -1.712599515914917,
          -2.530043840408325,
          -1.5392348766326904,
          -3.336270570755005,
          -2.466524124145508,
          -1.83339262008667,
          -2.916536331176758,
          -1.61781907081604,
          -1.5493311882019043,
          -1.596522569656372,
          -2.480609655380249,
          -2.051995038986206,
          -1.437640905380249,
          -2.616802453994751,
          -1.552550196647644,
          -2.039062976837158,
          -2.573615074157715,
          -1.5848147869110107,
          -1.4550830125808716,
          -1.9844024181365967,
          -1.572058081626892,
          -1.9114766120910645,
          -2.560896873474121,
          -2.4870381355285645,
          -1.59820556640625,
          -1.55949866771698,
          -1.8223497867584229,
          -1.8466594219207764,
          -1.4204291105270386,
          -1.5399075746536255,
          -3.4712741374969482,
          -2.935645818710327,
          -2.1152007579803467,
          -1.4640560150146484,
          -1.4924209117889404,
          -2.017052412033081,
          -2.8608603477478027,
          -2.5367820262908936,
          -2.6307601928710938,
          -2.4369616508483887,
          -1.560549259185791,
          -3.4023547172546387,
          -1.8467715978622437,
          -1.3803129196166992,
          -2.530355215072632,
          -2.4100453853607178,
          -1.747036099433899,
          -1.7861201763153076,
          -1.4131054878234863,
          -2.3448073863983154,
          -2.499929189682007,
          -2.621112108230591,
          -2.394338607788086,
          -1.4290237426757812,
          -1.4317691326141357,
          -2.8517324924468994,
          -1.4858269691467285,
          -1.578163981437683,
          -2.7983734607696533,
          -2.5739688873291016,
          -1.677097201347351,
          -1.2791447639465332,
          -2.524657726287842,
          -1.9381492137908936,
          -2.334044933319092,
          -2.541388511657715,
          -2.5564069747924805,
          -2.7128608226776123,
          -2.8892464637756348,
          -2.4941813945770264,
          -1.5113136768341064,
          -2.89467191696167,
          -2.996706008911133,
          -2.546088457107544,
          -1.5272088050842285,
          -2.5594050884246826,
          -2.012190580368042,
          -2.8234801292419434,
          -1.4727671146392822,
          -2.345172643661499,
          -1.4969083070755005,
          -1.709862470626831,
          -1.6706753969192505,
          -2.9970850944519043,
          -2.7608330249786377,
          -2.474501371383667,
          -1.6956205368041992,
          -1.3819831609725952,
          -1.5315481424331665,
          -1.8290801048278809,
          -2.5527749061584473,
          -1.9122766256332397,
          -1.9889564514160156,
          -1.9018421173095703,
          -1.751482605934143,
          -1.9635937213897705,
          -1.5269724130630493,
          -1.833446741104126,
          -2.0845165252685547,
          -1.636569619178772,
          -1.6417148113250732,
          -2.196697235107422,
          -2.5333974361419678,
          -1.5005455017089844,
          -2.518986701965332,
          -3.009223699569702,
          -2.6305413246154785,
          -1.431984543800354,
          -2.5114047527313232,
          -2.4996986389160156,
          -2.881472110748291,
          -2.402845859527588,
          -2.5570085048675537,
          -1.343930721282959,
          -1.9560446739196777,
          -1.494619607925415,
          -1.600435495376587,
          -2.330936908721924,
          -3.8589556217193604,
          -2.4537618160247803,
          -2.5713369846343994,
          -1.9812105894088745,
          -1.6038113832473755,
          -1.5769902467727661,
          -1.587227463722229,
          -1.602512240409851,
          -1.7858283519744873,
          -1.3455650806427002,
          -1.4160537719726562,
          -1.3652784824371338,
          -2.2260570526123047,
          -2.9664065837860107,
          -3.01749587059021,
          -2.8184497356414795,
          -3.366213321685791,
          -1.8564203977584839,
          -1.7402032613754272,
          -1.822147250175476,
          -1.4298231601715088,
          -1.719982624053955,
          -1.5798317193984985,
          -2.874807834625244,
          -2.3925580978393555,
          -2.472376823425293,
          -2.58451247215271,
          -2.2752182483673096,
          -3.2972888946533203,
          -2.839357614517212,
          -2.5459372997283936,
          -2.116881847381592,
          -1.3667597770690918,
          -1.477857232093811,
          -2.5411293506622314,
          -2.7281198501586914,
          -2.878750801086426,
          -2.0141851902008057,
          -1.8417366743087769,
          -1.8183338642120361,
          -2.3935329914093018,
          -1.6236687898635864,
          -1.4102330207824707,
          -2.2017688751220703,
          -2.4586312770843506,
          -1.7009320259094238,
          -1.6760613918304443,
          -1.5041030645370483,
          -1.7079854011535645,
          -2.052284002304077,
          -1.8825724124908447,
          -3.011502981185913,
          -2.423405885696411,
          -3.1297805309295654,
          -3.244445323944092,
          -1.363729476928711,
          -1.3747023344039917,
          -1.6325767040252686,
          -1.5863008499145508,
          -3.0535030364990234,
          -2.585718870162964,
          -2.0068624019622803,
          -1.4966871738433838,
          -1.8422764539718628,
          -2.582913875579834,
          -2.599909782409668,
          -1.9979724884033203,
          -2.61749005317688,
          -2.416843891143799,
          -1.7573726177215576,
          -2.272634506225586,
          -1.487959861755371,
          -2.2400941848754883,
          -1.3516875505447388,
          -1.5109949111938477,
          -1.804741382598877,
          -1.5556795597076416,
          -2.016531229019165,
          -1.6217918395996094,
          -2.515136957168579,
          -1.773720145225525,
          -2.0915963649749756,
          -2.058035373687744,
          -1.8339883089065552,
          -1.3761401176452637,
          -1.7416071891784668,
          -2.944830894470215,
          -1.4162184000015259,
          -1.8464372158050537,
          -1.7422257661819458,
          -1.813079833984375,
          -1.6620643138885498,
          -2.5450375080108643,
          -2.081848621368408,
          -1.5472508668899536,
          -1.9862090349197388,
          -1.7335759401321411,
          -1.7457863092422485,
          -1.9122647047042847,
          -1.4634751081466675,
          -2.8811988830566406,
          -1.9213968515396118,
          -1.511757493019104,
          -2.8563907146453857,
          -2.858677864074707,
          -2.919471263885498,
          -2.731806755065918,
          -1.663053274154663,
          -2.0383546352386475,
          -1.683827519416809,
          -2.107776641845703,
          -1.8556526899337769,
          -1.9920194149017334,
          -1.767223834991455,
          -1.359776258468628,
          -1.4520606994628906,
          -1.4832653999328613,
          -2.2366034984588623,
          -1.8753471374511719,
          -1.8026331663131714,
          -2.021907091140747,
          -1.8348610401153564,
          -1.60686457157135,
          -1.639198660850525,
          -2.927399158477783,
          -1.9638328552246094,
          -2.523392915725708,
          -1.9178401231765747,
          -1.7958110570907593,
          -1.6190335750579834,
          -2.7131640911102295,
          -1.504014253616333,
          -1.9977567195892334,
          -1.5134092569351196,
          -1.427786111831665,
          -2.4892351627349854,
          -2.2707390785217285,
          -2.7214179039001465,
          -2.920837879180908,
          -1.7081880569458008,
          -1.8056926727294922,
          -2.8909008502960205,
          -1.5808085203170776,
          -1.515760898590088,
          -2.649007797241211,
          -2.0531156063079834,
          -1.8410786390304565,
          -2.5583605766296387,
          -2.8837461471557617,
          -2.9430367946624756,
          -1.899238109588623,
          -1.4546478986740112,
          -1.4631578922271729,
          -1.5636570453643799,
          -1.8368556499481201,
          -1.6312226057052612,
          -2.5844242572784424,
          -2.508225679397583,
          -2.2278950214385986,
          -2.0663435459136963,
          -1.9893003702163696,
          -1.445141077041626,
          -2.77942156791687,
          -1.6176751852035522,
          -1.6342064142227173,
          -2.8811380863189697,
          -1.5053507089614868,
          -1.7926605939865112,
          -1.7921357154846191,
          -2.493173360824585,
          -1.7079864740371704,
          -1.5590111017227173,
          -2.6159682273864746,
          -2.7029359340667725,
          -1.740005373954773,
          -1.4687583446502686,
          -2.9188003540039062,
          -2.664949655532837,
          -1.576602578163147,
          -3.046414613723755,
          -3.0696539878845215,
          -1.8596572875976562,
          -1.7132234573364258,
          -2.3947224617004395,
          -2.0816962718963623,
          -1.8083628416061401,
          -2.741014242172241,
          -1.8694809675216675,
          -1.5063925981521606
         ],
         "yaxis": "y"
        },
        {
         "customdata": [
          [
           "Morgan Wallen"
          ],
          [
           "Luke Combs"
          ],
          [
           "Zach Bryan"
          ],
          [
           "Jason Aldean"
          ],
          [
           "Luke Bryan"
          ],
          [
           "Rascal Flatts"
          ],
          [
           "Johnny Cash"
          ],
          [
           "Chris Stapleton"
          ],
          [
           "Thomas Rhett"
          ],
          [
           "Diplo"
          ],
          [
           "Florida Georgia Line"
          ],
          [
           "Kane Brown"
          ],
          [
           "Zac Brown Band"
          ],
          [
           "Carrie Underwood"
          ],
          [
           "Blake Shelton"
          ],
          [
           "Kenny Chesney"
          ],
          [
           "Lee Brice"
          ],
          [
           "Tyler Childers"
          ],
          [
           "Sam Hunt"
          ],
          [
           "Dan + Shay"
          ],
          [
           "Toby Keith"
          ],
          [
           "Cody Johnson"
          ],
          [
           "Alan Jackson"
          ],
          [
           "HARDY"
          ],
          [
           "Tim McGraw"
          ],
          [
           "Jordan Davis"
          ],
          [
           "Chris Young"
          ],
          [
           "Darius Rucker"
          ],
          [
           "Cole Swindell"
          ],
          [
           "Old Dominion"
          ],
          [
           "Bailey Zimmerman"
          ],
          [
           "Jelly Roll"
          ],
          [
           "Brooks & Dunn"
          ],
          [
           "Eric Church"
          ],
          [
           "Lady A"
          ],
          [
           "Jon Pardi"
          ],
          [
           "George Strait"
          ],
          [
           "Shania Twain"
          ],
          [
           "Keith Urban"
          ],
          [
           "Jessie Murph"
          ],
          [
           "Brad Paisley"
          ],
          [
           "Brantley Gilbert"
          ],
          [
           "Dylan Scott"
          ],
          [
           "Dustin Lynch"
          ],
          [
           "Kid Rock"
          ],
          [
           "Lainey Wilson"
          ],
          [
           "Warren Zeiders"
          ],
          [
           "Dierks Bentley"
          ],
          [
           "Billy Currington"
          ],
          [
           "Nate Smith"
          ],
          [
           "Brett Young"
          ],
          [
           "Jake Owen"
          ],
          [
           "Miranda Lambert"
          ],
          [
           "Josh Turner"
          ],
          [
           "Kenny Rogers"
          ],
          [
           "Little Big Town"
          ],
          [
           "Russell Dickerson"
          ],
          [
           "Riley Green"
          ],
          [
           "Alabama"
          ],
          [
           "Rodney Atkins"
          ],
          [
           "Randy Travis"
          ],
          [
           "Gabby Barrett"
          ],
          [
           "Willie Nelson"
          ],
          [
           "Justin Moore"
          ],
          [
           "Scotty McCreery"
          ],
          [
           "Koe Wetzel"
          ],
          [
           "Chris Janson"
          ],
          [
           "Reba McEntire"
          ],
          [
           "Mitchell Tenpenny"
          ],
          [
           "Maren Morris"
          ],
          [
           "Maddie & Tae"
          ],
          [
           "charlieonnafriday"
          ],
          [
           "The Charlie Daniels Band"
          ],
          [
           "Megan Moroney"
          ],
          [
           "Tyler Hubbard"
          ],
          [
           "Walker Hayes"
          ],
          [
           "Trace Adkins"
          ],
          [
           "The Chicks"
          ],
          [
           "Colter Wall"
          ],
          [
           "The Red Clay Strays"
          ],
          [
           "ERNEST"
          ],
          [
           "Parker McCollum"
          ],
          [
           "Upchurch"
          ],
          [
           "Carly Pearce"
          ],
          [
           "Elle King"
          ],
          [
           "Nitty Gritty Dirt Band"
          ],
          [
           "Uncle Kracker"
          ],
          [
           "Kelsea Ballerini"
          ],
          [
           "Waylon Jennings"
          ],
          [
           "Travis Tritt"
          ],
          [
           "The Band Perry"
          ],
          [
           "Hank Williams, Jr."
          ],
          [
           "Eli Young Band"
          ],
          [
           "Sam Barber"
          ],
          [
           "Brett Eldredge"
          ],
          [
           "Tom MacDonald"
          ],
          [
           "Lonestar"
          ],
          [
           "Dylan Gossett"
          ],
          [
           "John Michael Montgomery"
          ],
          [
           "Chase Matthew"
          ],
          [
           "Wyatt Flores"
          ],
          [
           "Muscadine Bloodline"
          ],
          [
           "Sugarland"
          ],
          [
           "Lee Ann Womack"
          ],
          [
           "LeAnn Rimes"
          ],
          [
           "Trisha Yearwood"
          ],
          [
           "Keith Whitley"
          ],
          [
           "Cody Jinks"
          ],
          [
           "Whiskey Myers"
          ],
          [
           "Jimmie Allen"
          ],
          [
           "LANCO"
          ],
          [
           "Corey Kent"
          ],
          [
           "Tracy Byrd"
          ],
          [
           "Parmalee"
          ],
          [
           "Diamond Rio"
          ],
          [
           "Tucker Wetmore"
          ],
          [
           "Martina McBride"
          ],
          [
           "Ella Langley"
          ],
          [
           "Chris Lane"
          ],
          [
           "Chayce Beckham"
          ],
          [
           "Steve Earle"
          ],
          [
           "Big & Rich"
          ],
          [
           "Bryan Martin"
          ],
          [
           "Conway Twitty"
          ],
          [
           "Kip Moore"
          ],
          [
           "Oliver Anthony Music"
          ],
          [
           "Merle Haggard"
          ],
          [
           "Yelawolf"
          ],
          [
           "Easton Corbin"
          ],
          [
           "Treaty Oak Revival"
          ],
          [
           "Everlast"
          ],
          [
           "Tracy Lawrence"
          ],
          [
           "Colt Ford"
          ],
          [
           "Faith Hill"
          ],
          [
           "Hunter Hayes"
          ],
          [
           "Drew Baldridge"
          ],
          [
           "Thompson Square"
          ],
          [
           "Eddie Rabbitt"
          ],
          [
           "Craig Morgan"
          ],
          [
           "Jameson Rodgers"
          ],
          [
           "Gretchen Wilson"
          ],
          [
           "Atlus"
          ],
          [
           "Edwin McCain"
          ],
          [
           "Brothers Osborne"
          ],
          [
           "Ingrid Andress"
          ],
          [
           "Sammy Kershaw"
          ],
          [
           "Jo Dee Messina"
          ],
          [
           "The Highwaymen"
          ],
          [
           "Joe Nichols"
          ],
          [
           "Randy Houser"
          ],
          [
           "George Jones"
          ],
          [
           "Blanco Brown"
          ],
          [
           "Pecos & the Rooftops"
          ],
          [
           "Don Williams"
          ],
          [
           "Bayker Blankenship"
          ],
          [
           "Josh Meloy"
          ],
          [
           "Gavin Adcock"
          ],
          [
           "Sawyer Brown"
          ],
          [
           "Billy Ray Cyrus"
          ],
          [
           "Josh Ross"
          ],
          [
           "David Allan Coe"
          ],
          [
           "Cole Phillips"
          ],
          [
           "Jimmy Buffett"
          ],
          [
           "Uncle Lucius"
          ],
          [
           "HIXTAPE"
          ],
          [
           "Tyler Braden"
          ],
          [
           "Joe Diffie"
          ],
          [
           "Adam Calhoun"
          ],
          [
           "Dwight Yoakam"
          ],
          [
           "Frankie Ballard"
          ],
          [
           "Chase Rice"
          ],
          [
           "Jerrod Niemann"
          ],
          [
           "Charley Pride"
          ],
          [
           "Granger Smith"
          ],
          [
           "Cooper Alan"
          ],
          [
           "Gary Allan"
          ],
          [
           "Patsy Cline"
          ],
          [
           "Deana Carter"
          ],
          [
           "Jamey Johnson"
          ],
          [
           "Vince Gill"
          ],
          [
           "The Judds"
          ],
          [
           "Montgomery Gentry"
          ],
          [
           "Ian Munsick"
          ],
          [
           "BRELAND"
          ],
          [
           "David Nail"
          ],
          [
           "Mark Chesnutt"
          ],
          [
           "Alana Springsteen"
          ],
          [
           "Heartland"
          ],
          [
           "Turnpike Troubadours"
          ],
          [
           "Sara Evans"
          ],
          [
           "Alison Krauss & Union Station"
          ],
          [
           "Clay Walker"
          ],
          [
           "Ole 60"
          ],
          [
           "Cam"
          ],
          [
           "Tanner Usrey"
          ],
          [
           "Nu Breed"
          ],
          [
           "Zach Top"
          ],
          [
           "Jay Webb"
          ],
          [
           "Loretta Lynn"
          ],
          [
           "Tanya Tucker"
          ],
          [
           "Restless Heart"
          ],
          [
           "Michael Ray"
          ],
          [
           "A2M"
          ],
          [
           "Danielle Bradbery"
          ],
          [
           "Max McNown"
          ],
          [
           "Wheeler Walker Jr."
          ],
          [
           "Midland"
          ],
          [
           "Hailey Whitters"
          ],
          [
           "Ryan Hurd"
          ],
          [
           "Sturgill Simpson"
          ],
          [
           "Matt Mason"
          ],
          [
           "Conner Smith"
          ],
          [
           "Ashley Cooke"
          ],
          [
           "Alison Krauss"
          ],
          [
           "Ashley McBryde"
          ],
          [
           "O.A.R."
          ],
          [
           "Waylon Wyatt"
          ],
          [
           "Struggle Jennings"
          ],
          [
           "Vincent Mason"
          ],
          [
           "Restless Road"
          ],
          [
           "Mel McDaniel"
          ],
          [
           "Drew Green"
          ],
          [
           "Redferrin"
          ],
          [
           "Tammy Wynette"
          ],
          [
           "Trey Lewis"
          ],
          [
           "Spencer Crandall"
          ],
          [
           "Collin Raye"
          ],
          [
           "Rvshvd"
          ],
          [
           "Love and Theft"
          ],
          [
           "RaeLynn"
          ],
          [
           "Niko Moon"
          ],
          [
           "Mark Wills"
          ],
          [
           "Southall"
          ],
          [
           "Johnny Paycheck"
          ],
          [
           "Jerry Reed"
          ],
          [
           "Canaan Smith"
          ],
          [
           "Doobie"
          ],
          [
           "Travis Denning"
          ],
          [
           "LECADE"
          ],
          [
           "Kameron Marlowe"
          ],
          [
           "Phil Vassar"
          ],
          [
           "Clint Black"
          ],
          [
           "Austin Snell"
          ],
          [
           "Steven Rodriguez"
          ],
          [
           "Larry Fleet"
          ],
          [
           "LOCASH"
          ],
          [
           "Jackson Dean"
          ],
          [
           "The Oak Ridge Boys"
          ],
          [
           "Ronnie Milsap"
          ],
          [
           "Aaron Lewis"
          ],
          [
           "Chris Cagle"
          ],
          [
           "Kelsey Hart"
          ],
          [
           "Dylan Schneider"
          ],
          [
           "Morgan Wade"
          ],
          [
           "George Birge"
          ],
          [
           "Brooks Jefferson"
          ],
          [
           "Bob Carlisle"
          ],
          [
           "Kidd G"
          ],
          [
           "Brent Cobb"
          ],
          [
           "Colby Acuff"
          ],
          [
           "Flatland Cavalry"
          ],
          [
           "Hayden Coffman"
          ],
          [
           "Charles Wesley Godwin"
          ],
          [
           "Coffey Anderson"
          ],
          [
           "State of Mine"
          ],
          [
           "David Morris"
          ],
          [
           "Shenandoah"
          ],
          [
           "High Valley"
          ],
          [
           "David Lee Murphy"
          ],
          [
           "Tyler Booth"
          ],
          [
           "Merkules"
          ],
          [
           "Earl Thomas Conley"
          ],
          [
           "Patty Loveless"
          ]
         ],
         "hovertemplate": "labels=Country<br>x=%{x}<br>y=%{y}<br>names=%{customdata[0]}<extra></extra>",
         "legendgroup": "Country",
         "marker": {
          "color": "#19d3f3",
          "symbol": "circle"
         },
         "mode": "markers",
         "name": "Country",
         "showlegend": true,
         "type": "scattergl",
         "x": [
          3.0330400466918945,
          3.181575298309326,
          2.754338264465332,
          3.2602102756500244,
          3.321742296218872,
          3.316211700439453,
          3.161097526550293,
          3.085958957672119,
          3.318389415740967,
          3.085528612136841,
          3.3307113647460938,
          3.229137420654297,
          3.342597246170044,
          3.231657028198242,
          3.382368803024292,
          3.3570401668548584,
          3.223332166671753,
          2.6243841648101807,
          3.3196017742156982,
          3.261474370956421,
          3.3066627979278564,
          2.9595088958740234,
          3.3015575408935547,
          2.9091992378234863,
          3.3402366638183594,
          3.136758327484131,
          3.333463668823242,
          3.3581199645996094,
          3.2220876216888428,
          3.207075595855713,
          2.8764121532440186,
          2.940498113632202,
          3.3149311542510986,
          3.354757308959961,
          3.297104597091675,
          3.1197402477264404,
          3.2896318435668945,
          3.3096301555633545,
          3.3435277938842773,
          2.750622272491455,
          3.349668502807617,
          3.2331225872039795,
          3.105276346206665,
          3.2719979286193848,
          3.109039068222046,
          2.9231584072113037,
          2.876770496368408,
          3.3411924839019775,
          3.3803131580352783,
          2.8790199756622314,
          3.26350736618042,
          3.3523831367492676,
          3.2529423236846924,
          3.328195333480835,
          3.1990458965301514,
          3.2694733142852783,
          3.253908157348633,
          2.929021120071411,
          3.2656261920928955,
          3.384493112564087,
          3.290832042694092,
          3.138326644897461,
          3.1993911266326904,
          3.229043960571289,
          3.242671251296997,
          2.7012672424316406,
          3.290411949157715,
          3.3027102947235107,
          3.2104859352111816,
          3.2231857776641846,
          3.1524863243103027,
          2.5580086708068848,
          3.280463695526123,
          2.9130067825317383,
          3.077094554901123,
          3.2075695991516113,
          3.3286333084106445,
          3.368656635284424,
          2.6498568058013916,
          2.6532418727874756,
          3.0302791595458984,
          2.889606237411499,
          2.505322217941284,
          3.170316457748413,
          2.9063057899475098,
          3.2768445014953613,
          3.13144850730896,
          3.1557772159576416,
          3.2047905921936035,
          3.250868797302246,
          3.276010513305664,
          3.2409887313842773,
          3.365365743637085,
          2.6375601291656494,
          3.3168394565582275,
          2.222156524658203,
          3.291105031967163,
          2.7295825481414795,
          3.309965133666992,
          2.838656187057495,
          2.619357109069824,
          2.731539011001587,
          3.2851431369781494,
          3.3263297080993652,
          3.2710344791412354,
          3.325209617614746,
          3.2804605960845947,
          2.580805778503418,
          2.6412193775177,
          3.2674055099487305,
          3.2586662769317627,
          2.8869640827178955,
          3.3211119174957275,
          3.1817243099212646,
          3.3163468837738037,
          2.7408039569854736,
          3.2870686054229736,
          2.8539249897003174,
          3.347062826156616,
          2.8626744747161865,
          3.2849411964416504,
          3.288184404373169,
          2.8819847106933594,
          3.250011444091797,
          3.3619027137756348,
          2.6140456199645996,
          3.2067930698394775,
          2.3923962116241455,
          3.372804641723633,
          2.656552314758301,
          2.3831677436828613,
          3.3684327602386475,
          2.5926876068115234,
          3.3518524169921875,
          3.2477636337280273,
          2.919455051422119,
          3.3233351707458496,
          3.195667266845703,
          3.369558572769165,
          3.097546339035034,
          3.3156898021698,
          2.389624834060669,
          3.125633716583252,
          3.2641468048095703,
          3.1868133544921875,
          3.3435888290405273,
          3.3399245738983154,
          3.154024362564087,
          3.3539538383483887,
          3.3524558544158936,
          3.2116565704345703,
          2.5711138248443604,
          2.6376917362213135,
          3.2171623706817627,
          2.6040306091308594,
          2.6129298210144043,
          2.630648374557495,
          3.242421865463257,
          3.3048150539398193,
          2.879080295562744,
          3.2199389934539795,
          2.6268720626831055,
          3.1993517875671387,
          2.609375,
          2.724888563156128,
          2.8413379192352295,
          3.2846693992614746,
          2.4076931476593018,
          3.229123115539551,
          3.3524093627929688,
          3.1611037254333496,
          3.361536979675293,
          3.2386131286621094,
          3.278630018234253,
          2.773242712020874,
          3.29825758934021,
          3.1653659343719482,
          3.320547342300415,
          3.129344940185547,
          3.3445725440979004,
          3.2819013595581055,
          3.38588809967041,
          2.9936516284942627,
          3.0929291248321533,
          3.3314974308013916,
          3.2771458625793457,
          2.9892208576202393,
          3.223259687423706,
          2.6024582386016846,
          3.2802577018737793,
          3.32818865776062,
          3.3159940242767334,
          2.6101672649383545,
          3.088005304336548,
          2.612964630126953,
          2.469329595565796,
          2.623223304748535,
          2.7316465377807617,
          3.1292312145233154,
          3.2055089473724365,
          3.137279510498047,
          3.215507745742798,
          2.418705940246582,
          2.9999756813049316,
          2.6273553371429443,
          2.6365861892700195,
          3.259857654571533,
          2.8039488792419434,
          3.090970754623413,
          2.5703556537628174,
          2.5653555393218994,
          2.9910366535186768,
          2.943692684173584,
          3.353147029876709,
          3.0795745849609375,
          2.4144484996795654,
          2.6225433349609375,
          2.432832956314087,
          2.6273651123046875,
          2.910910129547119,
          3.194091558456421,
          2.7033491134643555,
          2.784170627593994,
          3.1473939418792725,
          2.6790478229522705,
          2.807582139968872,
          3.287438154220581,
          2.65291166305542,
          3.248032569885254,
          3.0965962409973145,
          3.1968986988067627,
          3.3497507572174072,
          2.637739419937134,
          3.2704017162323,
          3.20637583732605,
          3.2602627277374268,
          2.3585994243621826,
          3.0216574668884277,
          2.5562026500701904,
          2.8160107135772705,
          3.2937798500061035,
          3.2092297077178955,
          2.938804864883423,
          2.3399155139923096,
          2.8698570728302,
          3.113100528717041,
          2.6522574424743652,
          3.25081467628479,
          3.212461233139038,
          3.2185471057891846,
          3.2715699672698975,
          2.9046502113342285,
          3.0484938621520996,
          3.031114339828491,
          2.960254669189453,
          3.2822794914245605,
          3.210176706314087,
          2.5229368209838867,
          2.491842269897461,
          2.571575164794922,
          2.634888172149658,
          2.7168402671813965,
          2.666645050048828,
          2.1788341999053955,
          2.158503770828247,
          2.430457592010498,
          3.2399182319641113,
          3.256352424621582,
          3.3236536979675293,
          2.63810658454895,
          2.3420639038085938,
          3.2041409015655518,
          3.1461474895477295
         ],
         "xaxis": "x",
         "y": [
          -0.6572372913360596,
          -0.7503215670585632,
          -0.6243053078651428,
          -0.8437684774398804,
          -0.8808853626251221,
          -1.0199415683746338,
          -1.865768313407898,
          -0.6875749826431274,
          -0.8176751136779785,
          -0.6629732847213745,
          -0.877473771572113,
          -0.7634376883506775,
          -0.9739357829093933,
          -0.8544697165489197,
          -0.9410756230354309,
          -0.9374121427536011,
          -0.7591409087181091,
          -0.62216717004776,
          -0.8159939646720886,
          -0.7684916853904724,
          -1.353554129600525,
          -0.641014814376831,
          -1.5061014890670776,
          -0.6538195013999939,
          -1.1894336938858032,
          -0.7103654146194458,
          -0.8681010603904724,
          -0.9797185063362122,
          -0.7412957549095154,
          -0.7471734881401062,
          -0.6466332077980042,
          -0.6777509450912476,
          -1.4877941608428955,
          -0.9123736619949341,
          -1.0442547798156738,
          -0.6918250918388367,
          -1.618838906288147,
          -1.3384641408920288,
          -0.915706992149353,
          -0.6957838535308838,
          -1.298742413520813,
          -0.8419787287712097,
          -0.7040107250213623,
          -0.8025067448616028,
          -1.1016753911972046,
          -0.6544614434242249,
          -0.6311882734298706,
          -0.883021354675293,
          -0.9935052394866943,
          -0.6277747750282288,
          -0.7761618494987488,
          -0.8943266272544861,
          -0.855099618434906,
          -1.2898105382919312,
          -1.870784878730774,
          -1.1136094331741333,
          -0.7594949007034302,
          -0.6551285982131958,
          -1.6531219482421875,
          -0.9677872657775879,
          -1.6612199544906616,
          -0.6474930644035339,
          -1.8036060333251953,
          -0.7988717555999756,
          -0.75266432762146,
          -0.6416066288948059,
          -0.8405263423919678,
          -1.5808892250061035,
          -0.772712767124176,
          -0.7834048271179199,
          -0.7317999601364136,
          -0.8046138882637024,
          -1.6328543424606323,
          -0.6693977117538452,
          -0.6830376982688904,
          -0.7576419711112976,
          -1.2379440069198608,
          -1.471688151359558,
          -0.6737589240074158,
          -0.6289271712303162,
          -0.6214135885238647,
          -0.6461743712425232,
          -0.8745652437210083,
          -0.7429451942443848,
          -0.888892412185669,
          -1.5917478799819946,
          -1.5050100088119507,
          -0.727012038230896,
          -1.8215272426605225,
          -1.67070472240448,
          -1.1250770092010498,
          -1.7415777444839478,
          -0.8553863763809204,
          -0.6445000171661377,
          -0.8440576791763306,
          -0.9940032958984375,
          -1.375653624534607,
          -0.6199126243591309,
          -1.481053113937378,
          -0.6427387595176697,
          -0.6002314686775208,
          -0.6494268774986267,
          -1.077144980430603,
          -1.3694312572479248,
          -1.5044443607330322,
          -1.468901515007019,
          -1.7256004810333252,
          -0.6817790865898132,
          -0.6418764591217041,
          -0.7480838894844055,
          -0.7809457182884216,
          -0.6427154541015625,
          -1.4727798700332642,
          -0.7021384835243225,
          -1.5381423234939575,
          -0.6281730532646179,
          -1.4611982107162476,
          -0.6436673402786255,
          -0.8195915818214417,
          -0.6745080947875977,
          -1.5117131471633911,
          -1.2097986936569214,
          -0.608004629611969,
          -1.7389869689941406,
          -0.9229860901832581,
          -0.6762304902076721,
          -1.811883568763733,
          -0.9361109137535095,
          -1.0203198194503784,
          -0.6224099397659302,
          -0.9580227732658386,
          -1.419797420501709,
          -0.9039760231971741,
          -1.4758381843566895,
          -0.9641772508621216,
          -0.7396827340126038,
          -0.9263777136802673,
          -1.8688870668411255,
          -1.1062277555465698,
          -0.7322621941566467,
          -1.450273871421814,
          -0.9487755298614502,
          -1.3649823665618896,
          -0.7918096780776978,
          -0.69864821434021,
          -1.5230334997177124,
          -1.5241565704345703,
          -1.8770536184310913,
          -0.9716078042984009,
          -0.9505612850189209,
          -1.8118358850479126,
          -1.0245150327682495,
          -0.5850469470024109,
          -1.8133844137191772,
          -0.6404460668563843,
          -0.6011857986450195,
          -0.6201748251914978,
          -1.6147232055664062,
          -1.2352463006973267,
          -0.6556546688079834,
          -1.768478512763977,
          -0.6346485614776611,
          -1.7561715841293335,
          -0.7407379150390625,
          -0.7137537002563477,
          -0.6656801104545593,
          -1.396088719367981,
          -0.9126272797584534,
          -1.7673616409301758,
          -0.9564487338066101,
          -0.7618934512138367,
          -0.9100667238235474,
          -1.7990471124649048,
          -0.8382610082626343,
          -0.7132708430290222,
          -1.3750317096710205,
          -1.8697644472122192,
          -1.4500237703323364,
          -1.6890054941177368,
          -1.529525637626648,
          -1.656874656677246,
          -0.9392092823982239,
          -0.7321797609329224,
          -0.7506414651870728,
          -0.856113851070404,
          -1.6130082607269287,
          -0.6817768812179565,
          -1.3649566173553467,
          -0.670960009098053,
          -1.4794842004776,
          -1.5087213516235352,
          -1.447877287864685,
          -0.5989212989807129,
          -0.7340206503868103,
          -0.6343197822570801,
          -0.9083144664764404,
          -0.6359291672706604,
          -0.726351261138916,
          -1.932751178741455,
          -1.8409785032272339,
          -1.8943606615066528,
          -0.828341007232666,
          -0.9806468486785889,
          -0.7889193892478943,
          -0.589026153087616,
          -0.7677237391471863,
          -1.3049579858779907,
          -0.6699170470237732,
          -0.664819598197937,
          -0.6729484796524048,
          -0.7616017460823059,
          -0.6452873945236206,
          -0.7036481499671936,
          -1.3786520957946777,
          -0.7010290622711182,
          -0.8228622674942017,
          -0.6551296710968018,
          -0.9246378540992737,
          -0.6411423087120056,
          -0.7076090574264526,
          -1.8210340738296509,
          -0.8959751725196838,
          -0.6758989095687866,
          -1.9622132778167725,
          -0.94910728931427,
          -0.7826730608940125,
          -1.4415251016616821,
          -0.794783353805542,
          -1.010826587677002,
          -0.8581147193908691,
          -0.8125957250595093,
          -1.5332766771316528,
          -0.6301863193511963,
          -1.7163506746292114,
          -1.809097170829773,
          -0.7907870411872864,
          -0.9557253122329712,
          -0.7352925539016724,
          -0.8081760406494141,
          -0.63716721534729,
          -1.3018044233322144,
          -1.8184266090393066,
          -0.7048129439353943,
          -0.8977386951446533,
          -0.7463864088058472,
          -0.7475951910018921,
          -0.7436220049858093,
          -1.745341420173645,
          -1.81011962890625,
          -1.0525587797164917,
          -0.9794949293136597,
          -0.7456341981887817,
          -0.750270664691925,
          -0.7157360315322876,
          -0.7189471125602722,
          -1.4181681871414185,
          -1.3220986127853394,
          -0.84168541431427,
          -0.7964789867401123,
          -0.655689001083374,
          -0.6205419898033142,
          -0.702812671661377,
          -0.6353570818901062,
          -1.081723928451538,
          -1.0959346294403076,
          -0.8994032740592957,
          -1.7655473947525024,
          -0.8531838059425354,
          -1.3876887559890747,
          -0.8981483578681946,
          -0.9687829613685608,
          -1.8444749116897583,
          -1.822264313697815
         ],
         "yaxis": "y"
        },
        {
         "customdata": [
          [
           "Bad Bunny"
          ],
          [
           "KAROL G"
          ],
          [
           "J Balvin"
          ],
          [
           "Daddy Yankee"
          ],
          [
           "Eslabon Armado"
          ],
          [
           "Don Omar"
          ],
          [
           "Luis Fonsi"
          ],
          [
           "Becky G"
          ],
          [
           "Fuerza Regida"
          ],
          [
           "Peso Pluma"
          ],
          [
           "Rauw Alejandro"
          ],
          [
           "Ozuna"
          ],
          [
           "Enrique Iglesias"
          ],
          [
           "Maluma"
          ],
          [
           "Junior H"
          ],
          [
           "Myke Towers"
          ],
          [
           "ROSALÍA"
          ],
          [
           "Romeo Santos"
          ],
          [
           "Bizarrap"
          ],
          [
           "Anuel AA"
          ],
          [
           "Sebastian Yatra"
          ],
          [
           "Aventura"
          ],
          [
           "FloyyMenor"
          ],
          [
           "Xavi"
          ],
          [
           "Natanael Cano"
          ],
          [
           "Ivan Cornejo"
          ],
          [
           "Prince Royce"
          ],
          [
           "JHAYCO"
          ],
          [
           "El Alfa"
          ],
          [
           "Grupo Frontera"
          ],
          [
           "Christian Nodal"
          ],
          [
           "Nicky Jam"
          ],
          [
           "Manuel Turizo"
          ],
          [
           "Feid"
          ],
          [
           "Selena"
          ],
          [
           "Calle 24"
          ],
          [
           "Yandel"
          ],
          [
           "Carin Leon"
          ],
          [
           "Arcángel"
          ],
          [
           "Mora"
          ],
          [
           "Grupo Marca Registrada"
          ],
          [
           "Tainy"
          ],
          [
           "Anitta"
          ],
          [
           "Zion & Lennox"
          ],
          [
           "Eladio Carrion"
          ],
          [
           "Chino Pacas"
          ],
          [
           "Wisin & Yandel"
          ],
          [
           "Plan B"
          ],
          [
           "Cris Mj"
          ],
          [
           "Los Tucanes De Tijuana"
          ],
          [
           "Oscar Maydon"
          ],
          [
           "Luis R Conriquez"
          ],
          [
           "Yng Lvcas"
          ],
          [
           "Sech"
          ],
          [
           "Carlos Vives"
          ],
          [
           "Natalia Lafourcade"
          ],
          [
           "Quevedo"
          ],
          [
           "Banda MS de Sergio Lizárraga"
          ],
          [
           "Nio Garcia"
          ],
          [
           "Marc Anthony"
          ],
          [
           "NATTI NATASHA"
          ],
          [
           "Camilo"
          ],
          [
           "Yahritza Y Su Esencia"
          ],
          [
           "Morat"
          ],
          [
           "CNCO"
          ],
          [
           "Rels B"
          ],
          [
           "Marca MP"
          ],
          [
           "Alta Elegancia"
          ],
          [
           "Maná"
          ],
          [
           "Reik"
          ],
          [
           "Los Ángeles Azules"
          ],
          [
           "Julión Álvarez y su Norteño Banda"
          ],
          [
           "Ñengo Flow"
          ],
          [
           "Grupo Firme"
          ],
          [
           "Darell"
          ],
          [
           "Jay Wheeler"
          ],
          [
           "Gente De Zona"
          ],
          [
           "Elvis Crespo"
          ],
          [
           "Gabito Ballesteros"
          ],
          [
           "Chayanne"
          ],
          [
           "Rvssian"
          ],
          [
           "Mon Laferte"
          ],
          [
           "Celia Cruz"
          ],
          [
           "Kevin Kaarl"
          ],
          [
           "Wisin"
          ],
          [
           "Ryan Castro"
          ],
          [
           "Calibre 50"
          ],
          [
           "Justin Quiles"
          ],
          [
           "Morad"
          ],
          [
           "TINI"
          ],
          [
           "Danny Ocean"
          ],
          [
           "Bellakath"
          ],
          [
           "Joan Sebastian"
          ],
          [
           "Bomba Estéreo"
          ],
          [
           "Brray"
          ],
          [
           "Los Primos del Este"
          ],
          [
           "Young Miko"
          ],
          [
           "Piso 21"
          ],
          [
           "Eden Muñoz"
          ],
          [
           "Zion"
          ],
          [
           "Emilia"
          ],
          [
           "N.O.R.E."
          ],
          [
           "Los Del Limit"
          ],
          [
           "Ed Maverick"
          ],
          [
           "Tornillo"
          ],
          [
           "Pardyalone"
          ],
          [
           "Bad Gyal"
          ],
          [
           "The Chords"
          ],
          [
           "Lunay"
          ],
          [
           "Trueno"
          ],
          [
           "Julieta Venegas"
          ],
          [
           "Juan Gabriel"
          ],
          [
           "Juanes"
          ],
          [
           "Control"
          ],
          [
           "Ángela Aguilar"
          ],
          [
           "Sky Rompiendo"
          ],
          [
           "Aitana"
          ],
          [
           "Edgardo Nuñez"
          ],
          [
           "SAIKO"
          ],
          [
           "Soda Stereo"
          ],
          [
           "Los Gemelos De Sinaloa"
          ],
          [
           "Mala Fe"
          ],
          [
           "Banda El Recodo"
          ],
          [
           "Lefty Sm"
          ],
          [
           "Wolfine"
          ],
          [
           "Sofía Reyes"
          ],
          [
           "El Chachito"
          ],
          [
           "Alejandro Fernández"
          ],
          [
           "Leo Dan"
          ],
          [
           "La Maquinaria Norteña"
          ],
          [
           "Danna Paola"
          ],
          [
           "Luis Miguel"
          ],
          [
           "Polimá Westcoast"
          ],
          [
           "Santa Fe Klan"
          ],
          [
           "Lele Pons"
          ],
          [
           "A.B. Quintanilla III Y Los Kumbia Kings"
          ],
          [
           "Gipsy Kings"
          ],
          [
           "Blessd"
          ],
          [
           "Los Plebes del Rancho de Ariel Camacho"
          ],
          [
           "La Adictiva"
          ],
          [
           "emmanuellcortess_"
          ],
          [
           "Mau y Ricky"
          ],
          [
           "Hombres G"
          ],
          [
           "Jesse & Joy"
          ],
          [
           "La Oreja de Van Gogh"
          ],
          [
           "Dalex"
          ],
          [
           "León Larregui"
          ],
          [
           "Los Enanitos Verdes"
          ],
          [
           "Los Tigres Del Norte"
          ]
         ],
         "hovertemplate": "labels=Spanish<br>x=%{x}<br>y=%{y}<br>names=%{customdata[0]}<extra></extra>",
         "legendgroup": "Spanish",
         "marker": {
          "color": "#FF6692",
          "symbol": "circle"
         },
         "mode": "markers",
         "name": "Spanish",
         "showlegend": true,
         "type": "scattergl",
         "x": [
          -0.8656180500984192,
          -0.879131019115448,
          -0.8703652024269104,
          -0.8540681004524231,
          -1.170255184173584,
          -0.8578790426254272,
          -0.8807957768440247,
          -0.9303690791130066,
          -1.1940653324127197,
          -1.1754111051559448,
          -0.8508285284042358,
          -0.9064472913742065,
          -0.7904579639434814,
          -0.8701900839805603,
          -1.2162226438522339,
          -0.8460227847099304,
          -0.8533384799957275,
          -0.9863027930259705,
          -0.8939787745475769,
          -0.8552420139312744,
          -0.8980926871299744,
          -0.8908446431159973,
          -1.1631555557250977,
          -1.189461588859558,
          -1.190563678741455,
          -1.1938778162002563,
          -0.9215631484985352,
          -0.8391516208648682,
          -1.1829047203063965,
          -1.1869823932647705,
          -1.1019787788391113,
          -0.8713960647583008,
          -0.8523070812225342,
          -0.8696910738945007,
          -0.9702085256576538,
          -1.1898555755615234,
          -0.8858140707015991,
          -1.1810851097106934,
          -0.8548772931098938,
          -0.8622280955314636,
          -1.1963996887207031,
          -0.8491848111152649,
          -0.824906587600708,
          -0.9003225564956665,
          -0.8760417103767395,
          -1.1902275085449219,
          -0.8996444940567017,
          -0.8461607098579407,
          -1.1077172756195068,
          -1.0764656066894531,
          -1.1640852689743042,
          -1.1851651668548584,
          -0.9091402888298035,
          -0.8747150897979736,
          -0.8555781245231628,
          -0.9654998779296875,
          -0.8301475644111633,
          -1.0924068689346313,
          -0.8372752666473389,
          -0.8499709963798523,
          -0.8605057001113892,
          -1.0409282445907593,
          -1.1441847085952759,
          -0.8651198148727417,
          -0.9471719861030579,
          -0.9086191058158875,
          -1.1968035697937012,
          -1.1306123733520508,
          -0.8980304002761841,
          -0.9527132511138916,
          -0.9757015109062195,
          -1.1927462816238403,
          -0.8779598474502563,
          -1.1335432529449463,
          -0.8642014265060425,
          -0.875184178352356,
          -0.8208196759223938,
          -0.9728743433952332,
          -1.1914907693862915,
          -0.9069610238075256,
          -1.035245656967163,
          -0.9509396553039551,
          -0.888584554195404,
          -1.0792540311813354,
          -0.849406361579895,
          -0.874956488609314,
          -1.1578925848007202,
          -0.8728485703468323,
          -1.2272748947143555,
          -0.8198277354240417,
          -0.894709587097168,
          -0.8790348172187805,
          -1.0034161806106567,
          -0.768884539604187,
          -0.8461028933525085,
          -1.185394287109375,
          -0.8606831431388855,
          -0.8911080360412598,
          -1.1835176944732666,
          -0.8486443161964417,
          -0.8529747128486633,
          -1.0186443328857422,
          -1.2249277830123901,
          -1.1264175176620483,
          -1.2089844942092896,
          -0.9633384943008423,
          -0.8473793864250183,
          -0.9806686639785767,
          -0.9794118404388428,
          -0.8784464597702026,
          -0.8684201836585999,
          -0.9866802096366882,
          -0.8658451437950134,
          -1.0205659866333008,
          -1.2056432962417603,
          -0.8650529980659485,
          -0.8290020823478699,
          -1.19760000705719,
          -0.8465780019760132,
          -1.4960219860076904,
          -1.2165507078170776,
          -0.9323206543922424,
          -1.0361361503601074,
          -1.1665782928466797,
          -0.8404232859611511,
          -0.8980385661125183,
          -1.2008854150772095,
          -1.0608066320419312,
          -0.9486202597618103,
          -1.2199726104736328,
          -0.9832985401153564,
          -0.9722129106521606,
          -0.890657365322113,
          -1.1538649797439575,
          -0.9683002829551697,
          -0.17331179976463318,
          -0.7761569619178772,
          -0.9169436693191528,
          -1.1689587831497192,
          -1.1225985288619995,
          -1.2139004468917847,
          -0.9612817168235779,
          -0.9375600814819336,
          -0.8784695863723755,
          -0.8921870589256287,
          -0.8802677392959595,
          -0.957271933555603,
          -0.9317271709442139,
          -1.1011265516281128
         ],
         "xaxis": "x",
         "y": [
          -7.684520244598389,
          -7.753586769104004,
          -7.675869464874268,
          -7.680001735687256,
          -7.694887638092041,
          -7.607550621032715,
          -7.306318759918213,
          -7.66697359085083,
          -7.707076072692871,
          -7.701679229736328,
          -7.746128082275391,
          -7.693241596221924,
          -7.23237943649292,
          -7.708870887756348,
          -7.709829807281494,
          -7.7561774253845215,
          -7.770550727844238,
          -7.535074710845947,
          -7.741837501525879,
          -7.742674827575684,
          -7.603586196899414,
          -7.632665157318115,
          -7.635470867156982,
          -7.719558238983154,
          -7.7204909324646,
          -7.69744348526001,
          -7.512949466705322,
          -7.76332950592041,
          -7.730707168579102,
          -7.707361221313477,
          -7.61137580871582,
          -7.640902042388916,
          -7.709268093109131,
          -7.765408992767334,
          -7.380322456359863,
          -7.714054107666016,
          -7.7430100440979,
          -7.67102575302124,
          -7.783259868621826,
          -7.7613301277160645,
          -7.683696269989014,
          -7.746998310089111,
          -7.658782958984375,
          -7.59694242477417,
          -7.7342753410339355,
          -7.717433452606201,
          -7.7176289558410645,
          -7.698182582855225,
          -7.635590076446533,
          -7.4466352462768555,
          -7.69490909576416,
          -7.706872940063477,
          -7.761783599853516,
          -7.734572410583496,
          -7.273076057434082,
          -7.234591484069824,
          -7.729864597320557,
          -7.463279724121094,
          -7.7133965492248535,
          -7.212989330291748,
          -7.691743850708008,
          -7.518980026245117,
          -7.675712585449219,
          -7.606194972991943,
          -7.4561920166015625,
          -7.707668781280518,
          -7.6784868240356445,
          -7.377498149871826,
          -7.159375190734863,
          -7.407485485076904,
          -7.326546669006348,
          -7.717195510864258,
          -7.760142803192139,
          -7.624086856842041,
          -7.767566680908203,
          -7.754859924316406,
          -7.2515997886657715,
          -7.3123250007629395,
          -7.725151062011719,
          -7.337425708770752,
          -7.405114650726318,
          -7.0966081619262695,
          -7.110171318054199,
          -7.391191482543945,
          -7.725276470184326,
          -7.750819206237793,
          -7.63636589050293,
          -7.6725754737854,
          -7.085529804229736,
          -7.6702375411987305,
          -7.656233787536621,
          -7.774272918701172,
          -7.405954837799072,
          -7.107797145843506,
          -7.789653778076172,
          -7.707151412963867,
          -7.772898197174072,
          -7.683128356933594,
          -7.716583728790283,
          -7.679276943206787,
          -7.7385640144348145,
          -7.3937578201293945,
          -7.708645820617676,
          -7.547325134277344,
          -7.7037811279296875,
          -6.966978073120117,
          -7.779865741729736,
          -6.946394920349121,
          -7.737618446350098,
          -7.763083457946777,
          -7.20728063583374,
          -7.33476448059082,
          -7.203100204467773,
          -7.436288356781006,
          -7.325685977935791,
          -7.777530193328857,
          -7.659754753112793,
          -7.7153544425964355,
          -7.772183895111084,
          -1.4200520515441895,
          -7.6989264488220215,
          -7.2409868240356445,
          -7.422173023223877,
          -7.691915035247803,
          -7.691205024719238,
          -7.13165283203125,
          -7.7294487953186035,
          -7.454748630523682,
          -7.316984176635742,
          -7.671497821807861,
          -7.456172943115234,
          -7.313746929168701,
          -7.757819175720215,
          -7.7174859046936035,
          -6.951242446899414,
          -5.665249347686768,
          -7.153771877288818,
          -7.719287395477295,
          -7.707566261291504,
          -7.591145992279053,
          -7.5210280418396,
          -7.605741500854492,
          -7.122027397155762,
          -7.247915267944336,
          -7.227915287017822,
          -7.733516216278076,
          -7.022411823272705,
          -7.054286003112793,
          -7.479644775390625
         ],
         "yaxis": "y"
        },
        {
         "customdata": [
          [
           "BTS"
          ],
          [
           "NewJeans"
          ],
          [
           "BLACKPINK"
          ],
          [
           "Jung Kook"
          ],
          [
           "FIFTY FIFTY"
          ],
          [
           "Stray Kids"
          ],
          [
           "ENHYPEN"
          ],
          [
           "TWICE"
          ],
          [
           "TOMORROW X TOGETHER"
          ],
          [
           "aespa"
          ],
          [
           "LE SSERAFIM"
          ],
          [
           "(G)I-DLE"
          ],
          [
           "SEVENTEEN"
          ],
          [
           "LISA"
          ],
          [
           "IVE"
          ],
          [
           "Jimin"
          ],
          [
           "ILLIT"
          ],
          [
           "Red Velvet"
          ],
          [
           "IU"
          ],
          [
           "EXO"
          ],
          [
           "ATEEZ"
          ],
          [
           "PSY"
          ],
          [
           "LeeHi"
          ],
          [
           "ITZY"
          ],
          [
           "JENNIE"
          ],
          [
           "BABYMONSTER"
          ],
          [
           "K/DA"
          ],
          [
           "XG"
          ],
          [
           "NCT 127"
          ],
          [
           "j-hope"
          ],
          [
           "JISOO"
          ],
          [
           "TAEYEON"
          ],
          [
           "ZICO"
          ],
          [
           "NAYEON"
          ],
          [
           "BIBI"
          ],
          [
           "TAEMIN"
          ],
          [
           "V"
          ],
          [
           "Crush"
          ],
          [
           "Agust D"
          ],
          [
           "SHAUN"
          ],
          [
           "NMIXX"
          ],
          [
           "AKMU"
          ],
          [
           "Lyn"
          ],
          [
           "NCT DREAM"
          ],
          [
           "BIGBANG"
          ],
          [
           "STAYC"
          ],
          [
           "P1Harmony"
          ],
          [
           "ONE OK ROCK"
          ],
          [
           "LOONA"
          ],
          [
           "SHINee"
          ],
          [
           "RIIZE"
          ],
          [
           "TAEYANG"
          ],
          [
           "TREASURE"
          ],
          [
           "JAEHYUN"
          ],
          [
           "10CM"
          ],
          [
           "VIVIZ"
          ],
          [
           "KISS OF LIFE"
          ],
          [
           "KAI"
          ],
          [
           "NCT U"
          ],
          [
           "AILEE"
          ],
          [
           "DEAN"
          ],
          [
           "RM"
          ],
          [
           "HEIZE"
          ],
          [
           "Wonder Girls"
          ],
          [
           "WayV"
          ],
          [
           "DAY6"
          ],
          [
           "Sam Kim"
          ],
          [
           "Younha"
          ],
          [
           "CHANYEOL"
          ],
          [
           "MAMAMOO"
          ],
          [
           "ROSÉ"
          ],
          [
           "Girls' Generation"
          ],
          [
           "YOON MIRAE"
          ],
          [
           "THE BOYZ"
          ],
          [
           "NCT"
          ],
          [
           "HWASA"
          ],
          [
           "JEON SOMI"
          ],
          [
           "Jay Park"
          ],
          [
           "MONSTA X"
          ],
          [
           "Hoàng Thùy Linh"
          ],
          [
           "DAVICHI"
          ],
          [
           "CHEN"
          ],
          [
           "KARD"
          ],
          [
           "AMEE"
          ],
          [
           "GREY D"
          ],
          [
           "Sơn Tùng M-TP"
          ],
          [
           "Alaina Castillo"
          ],
          [
           "Kep1er"
          ],
          [
           "fromis_9"
          ],
          [
           "Lena"
          ],
          [
           "BAEKHYUN"
          ],
          [
           "BOL4"
          ],
          [
           "Dreamcatcher"
          ],
          [
           "Gun Boi Kaz"
          ],
          [
           "WENDY"
          ],
          [
           "JIN"
          ],
          [
           "Gummy"
          ],
          [
           "K.Will"
          ],
          [
           "D.O."
          ],
          [
           "The Rose"
          ],
          [
           "EVERGLOW"
          ],
          [
           "JEON SOYEON"
          ],
          [
           "tlinh"
          ],
          [
           "demxntia"
          ],
          [
           "f(x)"
          ],
          [
           "Weeekly"
          ],
          [
           "PENTAGON"
          ],
          [
           "IZ*ONE"
          ],
          [
           "Xdinary Heroes"
          ],
          [
           "SuperM"
          ],
          [
           "Obito"
          ],
          [
           "RPT MCK"
          ],
          [
           "Ronboogz"
          ],
          [
           "Madihu"
          ],
          [
           "Low G"
          ],
          [
           "Thịnh Suy"
          ],
          [
           "HIEUTHUHAI"
          ],
          [
           "VCHA"
          ]
         ],
         "hovertemplate": "labels=K-Pop<br>x=%{x}<br>y=%{y}<br>names=%{customdata[0]}<extra></extra>",
         "legendgroup": "K-Pop",
         "marker": {
          "color": "#B6E880",
          "symbol": "circle"
         },
         "mode": "markers",
         "name": "K-Pop",
         "showlegend": true,
         "type": "scattergl",
         "x": [
          -1.2514007091522217,
          -1.3864762783050537,
          -1.3285764455795288,
          -1.2792422771453857,
          -1.4784369468688965,
          -1.361914873123169,
          -1.3682602643966675,
          -1.4013407230377197,
          -1.3000857830047607,
          -1.3831895589828491,
          -1.3819615840911865,
          -1.3764262199401855,
          -1.3504433631896973,
          -1.3265799283981323,
          -1.3645824193954468,
          -1.320825457572937,
          -1.3783369064331055,
          -1.387447714805603,
          -1.2518041133880615,
          -1.3410005569458008,
          -1.3339749574661255,
          -1.2393138408660889,
          -1.2847261428833008,
          -1.3607507944107056,
          -1.291996717453003,
          -1.3621165752410889,
          -1.5454696416854858,
          -1.3521709442138672,
          -1.3646008968353271,
          -1.238451361656189,
          -1.313083291053772,
          -1.29599928855896,
          -1.286550521850586,
          -1.371841549873352,
          -1.383086919784546,
          -1.3608508110046387,
          -1.178369402885437,
          -1.136582374572754,
          -1.282052755355835,
          -1.0962623357772827,
          -1.3713575601577759,
          -1.3089061975479126,
          -1.1398977041244507,
          -1.3421567678451538,
          -1.2324200868606567,
          -1.4027570486068726,
          -1.3347301483154297,
          -1.5686109066009521,
          -1.3997882604599,
          -1.2957247495651245,
          -1.3573659658432007,
          -1.2713100910186768,
          -1.294379711151123,
          -1.321168303489685,
          -1.1248371601104736,
          -1.3982715606689453,
          -1.3434581756591797,
          -1.330798625946045,
          -1.3531949520111084,
          -1.1638480424880981,
          -1.3586292266845703,
          -1.2415302991867065,
          -1.1651030778884888,
          -1.5553390979766846,
          -1.3598623275756836,
          -1.3443920612335205,
          -1.1383575201034546,
          -1.2373576164245605,
          -1.1317418813705444,
          -1.4753140211105347,
          -1.3255077600479126,
          -1.3663285970687866,
          -1.1391420364379883,
          -1.3874038457870483,
          -1.3388481140136719,
          -1.4313998222351074,
          -1.3133366107940674,
          -1.2360624074935913,
          -1.2911615371704102,
          -0.7948240041732788,
          -1.1382955312728882,
          -1.1290371417999268,
          -1.3728069067001343,
          -0.7320035099983215,
          -0.7441232800483704,
          -0.7544931173324585,
          -1.0665113925933838,
          -1.3978662490844727,
          -1.4570989608764648,
          -0.7265099883079529,
          -1.2803776264190674,
          -1.253350853919983,
          -1.3966974020004272,
          -1.0287355184555054,
          -1.1254360675811768,
          -1.3002032041549683,
          -1.1380412578582764,
          -1.1608712673187256,
          -1.1959437131881714,
          -1.240952730178833,
          -1.3587548732757568,
          -1.3892689943313599,
          -0.7287893891334534,
          -0.7423639893531799,
          -1.4319652318954468,
          -1.411810040473938,
          -1.212476134300232,
          -1.4118943214416504,
          -1.3587545156478882,
          -1.3873177766799927,
          -0.7265147566795349,
          -0.7434834241867065,
          -0.7279543280601501,
          -0.7281232476234436,
          -0.7291532158851624,
          -0.7329877018928528,
          -0.7271698117256165,
          -1.3503425121307373
         ],
         "xaxis": "x",
         "y": [
          -0.07503928989171982,
          0.050087906420230865,
          -0.000643462932202965,
          -0.02136777713894844,
          -0.26449185609817505,
          0.042067766189575195,
          0.04752781614661217,
          0.0854489803314209,
          -0.006475679110735655,
          0.06571954488754272,
          0.08328147232532501,
          0.04969252273440361,
          0.024529850110411644,
          0.01206178031861782,
          0.027968604117631912,
          0.028812142089009285,
          0.022898178547620773,
          0.05947551131248474,
          -0.08440741151571274,
          0.06611274182796478,
          0.04301251843571663,
          -0.17453540861606598,
          -0.8835006952285767,
          0.0622822530567646,
          -0.02717960998415947,
          0.051862623542547226,
          -0.15479785203933716,
          0.03142965957522392,
          0.05695376917719841,
          -0.07802490144968033,
          -0.015741102397441864,
          -0.01496161799877882,
          -0.04024527966976166,
          0.05092298239469528,
          0.03004590794444084,
          0.0416993610560894,
          -0.17582064867019653,
          -0.2232109010219574,
          -0.03817196562886238,
          -0.35004639625549316,
          0.061314478516578674,
          -0.006288616918027401,
          -0.40861576795578003,
          0.026650266721844673,
          -0.11753874272108078,
          0.0421968549489975,
          0.0437479205429554,
          -0.36466655135154724,
          -0.0007826571818441153,
          -0.021428268402814865,
          -0.015004321932792664,
          -0.05989426001906395,
          -0.0532037615776062,
          -0.6148789525032043,
          -0.27223244309425354,
          0.07263807207345963,
          0.05283389613032341,
          0.09078157693147659,
          0.012734570540487766,
          -0.15552784502506256,
          0.006473966408520937,
          -0.09679683297872543,
          -0.2042648047208786,
          -0.4721872806549072,
          0.04082125797867775,
          0.01753578521311283,
          -0.28971341252326965,
          -0.08901359140872955,
          -0.24417829513549805,
          -0.031467605382204056,
          -0.0390109159052372,
          0.023572009056806564,
          -0.20241808891296387,
          0.025614960119128227,
          0.026166746392846107,
          -0.008856435306370258,
          0.016157599166035652,
          -0.08200637996196747,
          -0.026954172179102898,
          -0.413421630859375,
          -0.20164325833320618,
          -0.2322464883327484,
          0.029845766723155975,
          -0.4220694601535797,
          -0.4289981424808502,
          -0.42358335852622986,
          -0.45815590023994446,
          0.0630914717912674,
          0.09477700293064117,
          -0.44871020317077637,
          -0.015263943001627922,
          -0.07017030566930771,
          0.04084941744804382,
          -0.49076569080352783,
          -0.24807552993297577,
          -0.053037356585264206,
          -0.20913735032081604,
          -0.19584572315216064,
          -0.18952205777168274,
          -0.106746606528759,
          0.057462383061647415,
          0.039501842111349106,
          -0.42220616340637207,
          -0.4884198307991028,
          0.06251077353954315,
          -0.37566930055618286,
          -0.2004615217447281,
          -0.0017644399777054787,
          -0.2601044476032257,
          -0.022216593846678734,
          -0.4191212058067322,
          -0.42517009377479553,
          -0.4162465035915375,
          -0.433939665555954,
          -0.42345890402793884,
          -0.44314149022102356,
          -0.4122019112110138,
          0.031000694260001183
         ],
         "yaxis": "y"
        },
        {
         "customdata": [
          [
           "Pritam"
          ],
          [
           "A.R. Rahman"
          ],
          [
           "Vishal-Shekhar"
          ],
          [
           "Arijit Singh"
          ],
          [
           "Sachin-Jigar"
          ],
          [
           "Anirudh Ravichander"
          ],
          [
           "Tanishk Bagchi"
          ],
          [
           "Atif Aslam"
          ],
          [
           "Vishal Mishra"
          ],
          [
           "Darshan Raval"
          ],
          [
           "KK"
          ],
          [
           "Sonu Nigam"
          ],
          [
           "Sachet Tandon"
          ],
          [
           "Amit Trivedi"
          ],
          [
           "Armaan Malik"
          ],
          [
           "Salim–Sulaiman"
          ],
          [
           "Alka Yagnik"
          ],
          [
           "Diljit Dosanjh"
          ],
          [
           "Mithoon"
          ],
          [
           "King"
          ],
          [
           "Rahat Fateh Ali Khan"
          ],
          [
           "Shankar-Ehsaan-Loy"
          ],
          [
           "Shankar Mahadevan"
          ],
          [
           "Jasleen Royal"
          ],
          [
           "Shreya Ghoshal"
          ],
          [
           "Sid Sriram"
          ],
          [
           "Shubh"
          ],
          [
           "AP Dhillon"
          ],
          [
           "Badshah"
          ],
          [
           "Mohit Chauhan"
          ],
          [
           "Karan Aujla"
          ],
          [
           "Imran Khan"
          ],
          [
           "Udit Narayan"
          ],
          [
           "Haricharan"
          ],
          [
           "Karthik"
          ],
          [
           "Javed-Mohsin"
          ],
          [
           "Yuvan Shankar Raja"
          ],
          [
           "Yo Yo Honey Singh"
          ],
          [
           "S. P. Balasubrahmanyam"
          ],
          [
           "Rochak Kohli"
          ],
          [
           "Guru Randhawa"
          ],
          [
           "Vishal Dadlani"
          ],
          [
           "Jubin Nautiyal"
          ],
          [
           "Sohail Sen"
          ],
          [
           "Thaman S"
          ],
          [
           "Ajay-Atul"
          ],
          [
           "Devi Sri Prasad"
          ],
          [
           "G. V. Prakash"
          ],
          [
           "Jeet Gannguli"
          ],
          [
           "Amaal Mallik"
          ],
          [
           "Javed Ali"
          ],
          [
           "Ankit Tiwari"
          ],
          [
           "Mitraz"
          ],
          [
           "Sukhwinder Singh"
          ],
          [
           "Kailash Kher"
          ],
          [
           "Akhil"
          ],
          [
           "Lata Mangeshkar"
          ],
          [
           "Jatin-Lalit"
          ],
          [
           "Shaan"
          ],
          [
           "Kumar Sanu"
          ],
          [
           "Vijay Prakash"
          ],
          [
           "Akhil Sachdeva"
          ],
          [
           "Ram Sampath"
          ],
          [
           "Harrdy Sandhu"
          ],
          [
           "Abhijeet"
          ],
          [
           "Santhosh Narayanan"
          ],
          [
           "Neeraj Shridhar"
          ],
          [
           "Harris Jayaraj"
          ],
          [
           "Asha Bhosle"
          ],
          [
           "Anurag Kulkarni"
          ],
          [
           "Benny Dayal"
          ],
          [
           "Mika Singh"
          ],
          [
           "B Praak"
          ],
          [
           "Zack Knight"
          ],
          [
           "Ash King"
          ],
          [
           "Neeti Mohan"
          ],
          [
           "Himesh Reshammiya"
          ],
          [
           "Siddharth"
          ],
          [
           "Hariharan"
          ],
          [
           "Sunidhi Chauhan"
          ],
          [
           "Mustafa Zahid"
          ],
          [
           "Vijay Yesudas"
          ],
          [
           "Gajendra Verma"
          ],
          [
           "Paradox"
          ],
          [
           "DIVINE"
          ],
          [
           "Varun Jain"
          ],
          [
           "Raghav"
          ],
          [
           "Yohani"
          ],
          [
           "Dhvani Bhanushali"
          ],
          [
           "Rashid Ali"
          ],
          [
           "Sidhu Moose Wala"
          ],
          [
           "Nusrat Fateh Ali Khan"
          ]
         ],
         "hovertemplate": "labels=South Asian<br>x=%{x}<br>y=%{y}<br>names=%{customdata[0]}<extra></extra>",
         "legendgroup": "South Asian",
         "marker": {
          "color": "#FF97FF",
          "symbol": "circle"
         },
         "mode": "markers",
         "name": "South Asian",
         "showlegend": true,
         "type": "scattergl",
         "x": [
          -3.6684861183166504,
          -3.7102725505828857,
          -3.631242513656616,
          -3.649998903274536,
          -3.6597702503204346,
          -3.702719211578369,
          -3.63712477684021,
          -3.67604660987854,
          -3.6014912128448486,
          -3.658048629760742,
          -3.7958407402038574,
          -3.6826748847961426,
          -3.6501684188842773,
          -3.6832220554351807,
          -3.638352632522583,
          -3.6856467723846436,
          -3.63620662689209,
          -3.621779203414917,
          -3.6231601238250732,
          -3.6130423545837402,
          -3.60483717918396,
          -3.706094980239868,
          -3.812391757965088,
          -3.646880626678467,
          -3.684274911880493,
          -3.8298232555389404,
          -3.6141934394836426,
          -3.6029603481292725,
          -3.6400232315063477,
          -3.6466360092163086,
          -3.615302085876465,
          -3.707632064819336,
          -3.7252328395843506,
          -3.819831609725952,
          -3.834620237350464,
          -3.648646831512451,
          -3.8124308586120605,
          -3.691253423690796,
          -3.7990365028381348,
          -3.6422502994537354,
          -3.66632342338562,
          -3.687342643737793,
          -3.601459503173828,
          -3.636321544647217,
          -3.8225247859954834,
          -3.697929859161377,
          -3.8122589588165283,
          -3.819064140319824,
          -3.6531827449798584,
          -3.685204267501831,
          -3.7312610149383545,
          -3.65644907951355,
          -3.6134397983551025,
          -3.64847993850708,
          -3.6801419258117676,
          -3.693040132522583,
          -3.6639838218688965,
          -3.7299304008483887,
          -3.7116384506225586,
          -3.687563896179199,
          -3.78908634185791,
          -3.6481056213378906,
          -3.6301674842834473,
          -3.627596139907837,
          -3.7017314434051514,
          -3.8000895977020264,
          -3.6664981842041016,
          -3.8242850303649902,
          -3.677398920059204,
          -3.848961114883423,
          -3.7306878566741943,
          -3.6595523357391357,
          -3.617696523666382,
          -3.6272494792938232,
          -3.6226377487182617,
          -3.6675374507904053,
          -3.692586898803711,
          -3.8435139656066895,
          -3.82489275932312,
          -3.6874828338623047,
          -3.694136142730713,
          -3.8479020595550537,
          -3.6029677391052246,
          -3.6146836280822754,
          -3.6635377407073975,
          -3.630091905593872,
          -3.6134772300720215,
          -3.603119373321533,
          -3.5716464519500732,
          -3.6904144287109375,
          -3.607501268386841,
          -3.6585800647735596
         ],
         "xaxis": "x",
         "y": [
          2.635683536529541,
          2.6705212593078613,
          2.5965089797973633,
          2.610271453857422,
          2.6279232501983643,
          2.681816339492798,
          2.601989984512329,
          2.647596597671509,
          2.5681817531585693,
          2.6257972717285156,
          2.7861833572387695,
          2.6550142765045166,
          2.632547378540039,
          2.6568374633789062,
          2.631103754043579,
          2.65740704536438,
          2.6337640285491943,
          2.5716497898101807,
          2.5832183361053467,
          2.568803548812866,
          2.5671348571777344,
          2.680412769317627,
          2.806361675262451,
          2.612177848815918,
          2.6751654148101807,
          2.8255181312561035,
          2.519683599472046,
          2.5120136737823486,
          2.6091361045837402,
          2.5976362228393555,
          2.55790114402771,
          2.6606979370117188,
          2.713808298110962,
          2.814134120941162,
          2.830064296722412,
          2.6152195930480957,
          2.8071930408477783,
          2.655364513397217,
          2.794484853744507,
          2.60853910446167,
          2.636430025100708,
          2.6437625885009766,
          2.5698494911193848,
          2.607168197631836,
          2.8156802654266357,
          2.6720387935638428,
          2.8081986904144287,
          2.8151721954345703,
          2.620532751083374,
          2.656304359436035,
          2.7057571411132812,
          2.621204137802124,
          2.5750980377197266,
          2.6383187770843506,
          2.655470371246338,
          2.6628739833831787,
          2.7079286575317383,
          2.722649335861206,
          2.690154790878296,
          2.6758642196655273,
          2.7795956134796143,
          2.6074910163879395,
          2.5955796241760254,
          2.5780272483825684,
          2.6840262413024902,
          2.792140483856201,
          2.634336471557617,
          2.8206093311309814,
          2.6797101497650146,
          2.8443310260772705,
          2.704946279525757,
          2.622591018676758,
          2.5821423530578613,
          2.591735363006592,
          2.621215581893921,
          2.640190839767456,
          2.6679532527923584,
          2.8398642539978027,
          2.8221328258514404,
          2.6599783897399902,
          2.6544108390808105,
          2.836958646774292,
          2.5606162548065186,
          2.519289493560791,
          2.614532947540283,
          2.590987205505371,
          2.565593957901001,
          2.5632100105285645,
          2.5245420932769775,
          2.6641578674316406,
          2.519075632095337,
          2.579944133758545
         ],
         "yaxis": "y"
        },
        {
         "customdata": [
          [
           "Hillsong UNITED"
          ],
          [
           "Elevation Worship"
          ],
          [
           "Hillsong Worship"
          ],
          [
           "TobyMac"
          ],
          [
           "Lauren Daigle"
          ],
          [
           "Chris Tomlin"
          ],
          [
           "for KING & COUNTRY"
          ],
          [
           "Bethel Music"
          ],
          [
           "Brandon Lake"
          ],
          [
           "Maverick City Music"
          ],
          [
           "Phil Wickham"
          ],
          [
           "MercyMe"
          ],
          [
           "Cory Asbury"
          ],
          [
           "Casting Crowns"
          ],
          [
           "Passion"
          ],
          [
           "Matthew West"
          ],
          [
           "Kari Jobe"
          ],
          [
           "Big Daddy Weave"
          ],
          [
           "Tauren Wells"
          ],
          [
           "NEEDTOBREATHE"
          ],
          [
           "Crowder"
          ],
          [
           "Matt Redman"
          ],
          [
           "Matt Maher"
          ],
          [
           "Zach Williams"
          ],
          [
           "Danny Gokey"
          ],
          [
           "CAIN"
          ],
          [
           "Lecrae"
          ],
          [
           "Jeremy Camp"
          ],
          [
           "We The Kingdom"
          ],
          [
           "Colton Dixon"
          ],
          [
           "The Belonging Co"
          ],
          [
           "Newsboys"
          ],
          [
           "Sanctus Real"
          ],
          [
           "Cody Carnes"
          ],
          [
           "We Are Messengers"
          ],
          [
           "Hillsong Young & Free"
          ],
          [
           "Steven Curtis Chapman"
          ],
          [
           "Mosaic MSC"
          ],
          [
           "Francesca Battistelli"
          ],
          [
           "The Worship Initiative"
          ],
          [
           "Third Day"
          ],
          [
           "Jesus Culture"
          ],
          [
           "Micah Tyler"
          ],
          [
           "Forrest Frank"
          ],
          [
           "Leeland"
          ],
          [
           "Anne Wilson"
          ],
          [
           "Michael W. Smith"
          ],
          [
           "Rend Collective"
          ],
          [
           "I AM THEY"
          ],
          [
           "Hulvey"
          ],
          [
           "Brooke Ligertwood"
          ],
          [
           "Jordan Feliz"
          ],
          [
           "Brandon Heath"
          ],
          [
           "Switchfoot"
          ],
          [
           "Tenth Avenue North"
          ],
          [
           "Sidewalk Prophets"
          ],
          [
           "KB"
          ],
          [
           "Austin French"
          ],
          [
           "Ryan Stevenson"
          ],
          [
           "Katy Nichole"
          ],
          [
           "Cochren & Co."
          ],
          [
           "Ellie Holcomb"
          ],
          [
           "Building 429"
          ],
          [
           "Mandisa"
          ],
          [
           "Laura Story"
          ],
          [
           "Aaron Cole"
          ],
          [
           "Red Rocks Worship"
          ],
          [
           "All Sons & Daughters"
          ],
          [
           "North Point Worship"
          ],
          [
           "Andy Mineo"
          ],
          [
           "Housefires"
          ],
          [
           "The Afters"
          ],
          [
           "UPPERROOM"
          ],
          [
           "Pat Barrett"
          ],
          [
           "Keith & Kristyn Getty"
          ],
          [
           "Dan Bremnes"
          ],
          [
           "Grits"
          ],
          [
           "Shane & Shane"
          ],
          [
           "Blessing Offor"
          ],
          [
           "Anthem Lights"
          ],
          [
           "Josiah Queen"
          ],
          [
           "SEU Worship"
          ],
          [
           "Will Reagan"
          ],
          [
           "Josh Wilson"
          ],
          [
           "Unspoken"
          ],
          [
           "Evan Craft"
          ],
          [
           "Aaron Shust"
          ],
          [
           "FLAME"
          ],
          [
           "Jason Gray"
          ],
          [
           "Natalie Grant"
          ],
          [
           "Benjamin William Hastings"
          ],
          [
           "Steffany Gretzinger"
          ],
          [
           "CityAlight"
          ],
          [
           "Vertical Worship"
          ],
          [
           "Britt Nicole"
          ],
          [
           "Chris Rice"
          ],
          [
           "Tasha Layton"
          ],
          [
           "Kirk Franklin"
          ],
          [
           "Bryan & Katie Torwalt"
          ],
          [
           "David Crowder Band"
          ],
          [
           "Josh Baldwin"
          ],
          [
           "Blanca"
          ],
          [
           "Mac Powell"
          ],
          [
           "JJ Heller"
          ],
          [
           "Chris Renzema"
          ],
          [
           "Hawk Nelson"
          ],
          [
           "Phillips, Craig & Dean"
          ],
          [
           "Joseph O'Brien"
          ],
          [
           "Scootie Wop"
          ],
          [
           "Capital Kings"
          ],
          [
           "The Church Will Sing"
          ],
          [
           "ELEVATION RHYTHM"
          ],
          [
           "Audio Adrenaline"
          ],
          [
           "Kutless"
          ],
          [
           "Mark Schultz"
          ],
          [
           "DC Talk"
          ],
          [
           "Rhett Walker"
          ],
          [
           "DOE"
          ],
          [
           "Henrik"
          ],
          [
           "Kim Walker-Smith"
          ],
          [
           "Hope Darst"
          ],
          [
           "Charity Gayle"
          ],
          [
           "Selah"
          ],
          [
           "Influence Music"
          ],
          [
           "Nichole Nordeman"
          ],
          [
           "Andrew Peterson"
          ],
          [
           "Tedashii"
          ],
          [
           "Manic Drive"
          ],
          [
           "Sovereign Grace Music"
          ],
          [
           "Jervis Campbell"
          ],
          [
           "Gateway Worship"
          ],
          [
           "Riley Clemmons"
          ],
          [
           "Ryan Ellis"
          ],
          [
           "Shaya Zamora"
          ],
          [
           "Tasha Cobbs Leonard"
          ],
          [
           "Travis Greene"
          ],
          [
           "Koryn Hawthorne"
          ],
          [
           "Jeremy Riddle"
          ],
          [
           "Mass Anthem"
          ],
          [
           "Jordan St. Cyr"
          ]
         ],
         "hovertemplate": "labels=CCM<br>x=%{x}<br>y=%{y}<br>names=%{customdata[0]}<extra></extra>",
         "legendgroup": "CCM",
         "marker": {
          "color": "#FECB52",
          "symbol": "circle"
         },
         "mode": "markers",
         "name": "CCM",
         "showlegend": true,
         "type": "scattergl",
         "x": [
          5.857213973999023,
          5.914481163024902,
          5.912487030029297,
          5.694866180419922,
          5.758251190185547,
          5.783374786376953,
          5.737162113189697,
          5.897758483886719,
          5.874779224395752,
          5.864577293395996,
          5.848774433135986,
          5.756422519683838,
          5.874446868896484,
          5.733377933502197,
          5.8840460777282715,
          5.825042724609375,
          5.9081807136535645,
          5.7898945808410645,
          5.769472599029541,
          5.756277561187744,
          5.736169815063477,
          5.825251579284668,
          5.777799606323242,
          5.709224700927734,
          5.698039531707764,
          5.754537105560303,
          5.530101299285889,
          5.765203475952148,
          5.754312515258789,
          5.700952529907227,
          5.8971686363220215,
          5.7310357093811035,
          5.737096309661865,
          5.8839592933654785,
          5.715335845947266,
          5.917949199676514,
          5.678768634796143,
          5.882529258728027,
          5.74281644821167,
          5.877467632293701,
          5.709292888641357,
          5.902914524078369,
          5.7320170402526855,
          5.534432411193848,
          5.9063544273376465,
          5.7265706062316895,
          5.8017802238464355,
          5.792220592498779,
          5.773435592651367,
          5.496517181396484,
          5.878679275512695,
          5.669460773468018,
          5.670482635498047,
          5.629031181335449,
          5.702816486358643,
          5.739118576049805,
          5.520834922790527,
          5.713587760925293,
          5.745266437530518,
          5.7328667640686035,
          5.7388529777526855,
          5.752767086029053,
          5.698753356933594,
          5.739490509033203,
          5.718188285827637,
          5.554537296295166,
          5.8720903396606445,
          5.88743257522583,
          5.9109392166137695,
          5.44101619720459,
          5.864924907684326,
          5.7052154541015625,
          5.88020133972168,
          5.790028095245361,
          5.863525867462158,
          5.698004722595215,
          5.397399425506592,
          5.797842502593994,
          5.713207721710205,
          5.634639263153076,
          5.7682085037231445,
          5.886196136474609,
          5.817725658416748,
          5.76369047164917,
          5.706789016723633,
          5.872887134552002,
          5.713808059692383,
          5.628180980682373,
          5.683732032775879,
          5.711574077606201,
          5.699458122253418,
          5.900086402893066,
          5.86285924911499,
          5.921627521514893,
          5.629128456115723,
          5.697164535522461,
          5.743825435638428,
          5.564560890197754,
          5.8955841064453125,
          5.758912086486816,
          5.8721842765808105,
          5.675163269042969,
          5.7015461921691895,
          5.581190586090088,
          5.723054885864258,
          5.728198528289795,
          5.7013139724731445,
          5.774929523468018,
          5.487128257751465,
          5.364467144012451,
          5.89504861831665,
          5.85737943649292,
          5.692490100860596,
          5.689062595367432,
          5.640331268310547,
          5.663300037384033,
          5.749478340148926,
          5.643683433532715,
          5.471951484680176,
          5.780755043029785,
          5.819025993347168,
          5.854824542999268,
          5.727860927581787,
          5.822178363800049,
          5.566744804382324,
          5.74735164642334,
          5.487508296966553,
          5.2205891609191895,
          5.872610569000244,
          5.7372541427612305,
          5.884418487548828,
          5.770641803741455,
          5.808039665222168,
          5.364084243774414,
          5.671162128448486,
          5.5775957107543945,
          5.693386077880859,
          5.88397741317749,
          5.824618816375732,
          5.802170276641846
         ],
         "xaxis": "x",
         "y": [
          1.0173182487487793,
          1.0750728845596313,
          1.0688700675964355,
          0.8658736944198608,
          0.9209861159324646,
          0.9451372027397156,
          0.892008900642395,
          1.0546560287475586,
          1.0254409313201904,
          1.023673176765442,
          1.0093008279800415,
          0.9128850698471069,
          1.0423935651779175,
          0.8949598073959351,
          1.0428067445755005,
          0.9681357741355896,
          1.0639437437057495,
          0.9464499950408936,
          0.932103157043457,
          0.866733193397522,
          0.8996434807777405,
          0.9871669411659241,
          0.9408063292503357,
          0.8720642924308777,
          0.8639045357704163,
          0.9176962375640869,
          0.7563368082046509,
          0.9231943488121033,
          0.9152488708496094,
          0.8647212982177734,
          1.056938648223877,
          0.8950436115264893,
          0.8958759307861328,
          1.043302059173584,
          0.8805518746376038,
          1.0771428346633911,
          0.8519195914268494,
          1.0431126356124878,
          0.9051108956336975,
          1.0405304431915283,
          0.8741779327392578,
          1.0550389289855957,
          0.8738999962806702,
          0.7611783742904663,
          1.0587354898452759,
          0.8841171264648438,
          0.9635406136512756,
          0.9502423405647278,
          0.9350028038024902,
          0.7422510385513306,
          1.0383329391479492,
          0.8377295136451721,
          0.8321439623832703,
          0.8185440301895142,
          0.8684220910072327,
          0.9013479948043823,
          0.7523928880691528,
          0.8887669444084167,
          0.9056609272956848,
          0.894036591053009,
          0.9011574983596802,
          0.912816047668457,
          0.8654749393463135,
          0.8965911865234375,
          0.8810698390007019,
          0.784919261932373,
          1.030605673789978,
          1.0536201000213623,
          1.0660624504089355,
          0.707680881023407,
          1.0233242511749268,
          0.8579622507095337,
          1.0379681587219238,
          0.9487594962120056,
          1.0494204759597778,
          0.8524133563041687,
          0.6815378665924072,
          0.9622148275375366,
          0.8833083510398865,
          0.8071514964103699,
          0.9408199787139893,
          1.0443342924118042,
          0.9793030023574829,
          0.9237228035926819,
          0.8735412955284119,
          1.0386970043182373,
          0.873431921005249,
          0.8163814544677734,
          0.8477592468261719,
          0.8653755187988281,
          0.8850692510604858,
          1.0588258504867554,
          1.0225528478622437,
          1.0783928632736206,
          0.8160791397094727,
          0.8658490180969238,
          0.9001932740211487,
          0.7851406335830688,
          1.0049625635147095,
          0.9176201224327087,
          1.031907558441162,
          0.8559885025024414,
          0.8720419406890869,
          0.6724060773849487,
          0.8936185836791992,
          0.8456016182899475,
          0.887450098991394,
          0.9431449770927429,
          0.7305347919464111,
          0.6514607667922974,
          1.050451397895813,
          1.0210901498794556,
          0.8629885315895081,
          0.861240565776825,
          0.7947235107421875,
          0.8394979238510132,
          0.909251868724823,
          0.8317659497261047,
          0.7243669033050537,
          0.9433246850967407,
          0.9403749704360962,
          1.0167922973632812,
          0.9102156162261963,
          0.983916699886322,
          0.6894565224647522,
          0.6939404606819153,
          0.7322879433631897,
          0.5380613803863525,
          1.0425540208816528,
          0.9016256332397461,
          1.0380712747573853,
          0.8911827206611633,
          0.9717064499855042,
          0.6570468544960022,
          0.849741518497467,
          0.7891544699668884,
          0.8662484884262085,
          1.0429127216339111,
          0.9871160984039307,
          0.9639587998390198
         ],
         "yaxis": "y"
        }
       ],
       "layout": {
        "height": 500,
        "legend": {
         "title": {
          "text": "labels"
         },
         "tracegroupgap": 0
        },
        "margin": {
         "t": 60
        },
        "template": {
         "data": {
          "bar": [
           {
            "error_x": {
             "color": "#2a3f5f"
            },
            "error_y": {
             "color": "#2a3f5f"
            },
            "marker": {
             "line": {
              "color": "#E5ECF6",
              "width": 0.5
             },
             "pattern": {
              "fillmode": "overlay",
              "size": 10,
              "solidity": 0.2
             }
            },
            "type": "bar"
           }
          ],
          "barpolar": [
           {
            "marker": {
             "line": {
              "color": "#E5ECF6",
              "width": 0.5
             },
             "pattern": {
              "fillmode": "overlay",
              "size": 10,
              "solidity": 0.2
             }
            },
            "type": "barpolar"
           }
          ],
          "carpet": [
           {
            "aaxis": {
             "endlinecolor": "#2a3f5f",
             "gridcolor": "white",
             "linecolor": "white",
             "minorgridcolor": "white",
             "startlinecolor": "#2a3f5f"
            },
            "baxis": {
             "endlinecolor": "#2a3f5f",
             "gridcolor": "white",
             "linecolor": "white",
             "minorgridcolor": "white",
             "startlinecolor": "#2a3f5f"
            },
            "type": "carpet"
           }
          ],
          "choropleth": [
           {
            "colorbar": {
             "outlinewidth": 0,
             "ticks": ""
            },
            "type": "choropleth"
           }
          ],
          "contour": [
           {
            "colorbar": {
             "outlinewidth": 0,
             "ticks": ""
            },
            "colorscale": [
             [
              0,
              "#0d0887"
             ],
             [
              0.1111111111111111,
              "#46039f"
             ],
             [
              0.2222222222222222,
              "#7201a8"
             ],
             [
              0.3333333333333333,
              "#9c179e"
             ],
             [
              0.4444444444444444,
              "#bd3786"
             ],
             [
              0.5555555555555556,
              "#d8576b"
             ],
             [
              0.6666666666666666,
              "#ed7953"
             ],
             [
              0.7777777777777778,
              "#fb9f3a"
             ],
             [
              0.8888888888888888,
              "#fdca26"
             ],
             [
              1,
              "#f0f921"
             ]
            ],
            "type": "contour"
           }
          ],
          "contourcarpet": [
           {
            "colorbar": {
             "outlinewidth": 0,
             "ticks": ""
            },
            "type": "contourcarpet"
           }
          ],
          "heatmap": [
           {
            "colorbar": {
             "outlinewidth": 0,
             "ticks": ""
            },
            "colorscale": [
             [
              0,
              "#0d0887"
             ],
             [
              0.1111111111111111,
              "#46039f"
             ],
             [
              0.2222222222222222,
              "#7201a8"
             ],
             [
              0.3333333333333333,
              "#9c179e"
             ],
             [
              0.4444444444444444,
              "#bd3786"
             ],
             [
              0.5555555555555556,
              "#d8576b"
             ],
             [
              0.6666666666666666,
              "#ed7953"
             ],
             [
              0.7777777777777778,
              "#fb9f3a"
             ],
             [
              0.8888888888888888,
              "#fdca26"
             ],
             [
              1,
              "#f0f921"
             ]
            ],
            "type": "heatmap"
           }
          ],
          "heatmapgl": [
           {
            "colorbar": {
             "outlinewidth": 0,
             "ticks": ""
            },
            "colorscale": [
             [
              0,
              "#0d0887"
             ],
             [
              0.1111111111111111,
              "#46039f"
             ],
             [
              0.2222222222222222,
              "#7201a8"
             ],
             [
              0.3333333333333333,
              "#9c179e"
             ],
             [
              0.4444444444444444,
              "#bd3786"
             ],
             [
              0.5555555555555556,
              "#d8576b"
             ],
             [
              0.6666666666666666,
              "#ed7953"
             ],
             [
              0.7777777777777778,
              "#fb9f3a"
             ],
             [
              0.8888888888888888,
              "#fdca26"
             ],
             [
              1,
              "#f0f921"
             ]
            ],
            "type": "heatmapgl"
           }
          ],
          "histogram": [
           {
            "marker": {
             "pattern": {
              "fillmode": "overlay",
              "size": 10,
              "solidity": 0.2
             }
            },
            "type": "histogram"
           }
          ],
          "histogram2d": [
           {
            "colorbar": {
             "outlinewidth": 0,
             "ticks": ""
            },
            "colorscale": [
             [
              0,
              "#0d0887"
             ],
             [
              0.1111111111111111,
              "#46039f"
             ],
             [
              0.2222222222222222,
              "#7201a8"
             ],
             [
              0.3333333333333333,
              "#9c179e"
             ],
             [
              0.4444444444444444,
              "#bd3786"
             ],
             [
              0.5555555555555556,
              "#d8576b"
             ],
             [
              0.6666666666666666,
              "#ed7953"
             ],
             [
              0.7777777777777778,
              "#fb9f3a"
             ],
             [
              0.8888888888888888,
              "#fdca26"
             ],
             [
              1,
              "#f0f921"
             ]
            ],
            "type": "histogram2d"
           }
          ],
          "histogram2dcontour": [
           {
            "colorbar": {
             "outlinewidth": 0,
             "ticks": ""
            },
            "colorscale": [
             [
              0,
              "#0d0887"
             ],
             [
              0.1111111111111111,
              "#46039f"
             ],
             [
              0.2222222222222222,
              "#7201a8"
             ],
             [
              0.3333333333333333,
              "#9c179e"
             ],
             [
              0.4444444444444444,
              "#bd3786"
             ],
             [
              0.5555555555555556,
              "#d8576b"
             ],
             [
              0.6666666666666666,
              "#ed7953"
             ],
             [
              0.7777777777777778,
              "#fb9f3a"
             ],
             [
              0.8888888888888888,
              "#fdca26"
             ],
             [
              1,
              "#f0f921"
             ]
            ],
            "type": "histogram2dcontour"
           }
          ],
          "mesh3d": [
           {
            "colorbar": {
             "outlinewidth": 0,
             "ticks": ""
            },
            "type": "mesh3d"
           }
          ],
          "parcoords": [
           {
            "line": {
             "colorbar": {
              "outlinewidth": 0,
              "ticks": ""
             }
            },
            "type": "parcoords"
           }
          ],
          "pie": [
           {
            "automargin": true,
            "type": "pie"
           }
          ],
          "scatter": [
           {
            "fillpattern": {
             "fillmode": "overlay",
             "size": 10,
             "solidity": 0.2
            },
            "type": "scatter"
           }
          ],
          "scatter3d": [
           {
            "line": {
             "colorbar": {
              "outlinewidth": 0,
              "ticks": ""
             }
            },
            "marker": {
             "colorbar": {
              "outlinewidth": 0,
              "ticks": ""
             }
            },
            "type": "scatter3d"
           }
          ],
          "scattercarpet": [
           {
            "marker": {
             "colorbar": {
              "outlinewidth": 0,
              "ticks": ""
             }
            },
            "type": "scattercarpet"
           }
          ],
          "scattergeo": [
           {
            "marker": {
             "colorbar": {
              "outlinewidth": 0,
              "ticks": ""
             }
            },
            "type": "scattergeo"
           }
          ],
          "scattergl": [
           {
            "marker": {
             "colorbar": {
              "outlinewidth": 0,
              "ticks": ""
             }
            },
            "type": "scattergl"
           }
          ],
          "scattermapbox": [
           {
            "marker": {
             "colorbar": {
              "outlinewidth": 0,
              "ticks": ""
             }
            },
            "type": "scattermapbox"
           }
          ],
          "scatterpolar": [
           {
            "marker": {
             "colorbar": {
              "outlinewidth": 0,
              "ticks": ""
             }
            },
            "type": "scatterpolar"
           }
          ],
          "scatterpolargl": [
           {
            "marker": {
             "colorbar": {
              "outlinewidth": 0,
              "ticks": ""
             }
            },
            "type": "scatterpolargl"
           }
          ],
          "scatterternary": [
           {
            "marker": {
             "colorbar": {
              "outlinewidth": 0,
              "ticks": ""
             }
            },
            "type": "scatterternary"
           }
          ],
          "surface": [
           {
            "colorbar": {
             "outlinewidth": 0,
             "ticks": ""
            },
            "colorscale": [
             [
              0,
              "#0d0887"
             ],
             [
              0.1111111111111111,
              "#46039f"
             ],
             [
              0.2222222222222222,
              "#7201a8"
             ],
             [
              0.3333333333333333,
              "#9c179e"
             ],
             [
              0.4444444444444444,
              "#bd3786"
             ],
             [
              0.5555555555555556,
              "#d8576b"
             ],
             [
              0.6666666666666666,
              "#ed7953"
             ],
             [
              0.7777777777777778,
              "#fb9f3a"
             ],
             [
              0.8888888888888888,
              "#fdca26"
             ],
             [
              1,
              "#f0f921"
             ]
            ],
            "type": "surface"
           }
          ],
          "table": [
           {
            "cells": {
             "fill": {
              "color": "#EBF0F8"
             },
             "line": {
              "color": "white"
             }
            },
            "header": {
             "fill": {
              "color": "#C8D4E3"
             },
             "line": {
              "color": "white"
             }
            },
            "type": "table"
           }
          ]
         },
         "layout": {
          "annotationdefaults": {
           "arrowcolor": "#2a3f5f",
           "arrowhead": 0,
           "arrowwidth": 1
          },
          "autotypenumbers": "strict",
          "coloraxis": {
           "colorbar": {
            "outlinewidth": 0,
            "ticks": ""
           }
          },
          "colorscale": {
           "diverging": [
            [
             0,
             "#8e0152"
            ],
            [
             0.1,
             "#c51b7d"
            ],
            [
             0.2,
             "#de77ae"
            ],
            [
             0.3,
             "#f1b6da"
            ],
            [
             0.4,
             "#fde0ef"
            ],
            [
             0.5,
             "#f7f7f7"
            ],
            [
             0.6,
             "#e6f5d0"
            ],
            [
             0.7,
             "#b8e186"
            ],
            [
             0.8,
             "#7fbc41"
            ],
            [
             0.9,
             "#4d9221"
            ],
            [
             1,
             "#276419"
            ]
           ],
           "sequential": [
            [
             0,
             "#0d0887"
            ],
            [
             0.1111111111111111,
             "#46039f"
            ],
            [
             0.2222222222222222,
             "#7201a8"
            ],
            [
             0.3333333333333333,
             "#9c179e"
            ],
            [
             0.4444444444444444,
             "#bd3786"
            ],
            [
             0.5555555555555556,
             "#d8576b"
            ],
            [
             0.6666666666666666,
             "#ed7953"
            ],
            [
             0.7777777777777778,
             "#fb9f3a"
            ],
            [
             0.8888888888888888,
             "#fdca26"
            ],
            [
             1,
             "#f0f921"
            ]
           ],
           "sequentialminus": [
            [
             0,
             "#0d0887"
            ],
            [
             0.1111111111111111,
             "#46039f"
            ],
            [
             0.2222222222222222,
             "#7201a8"
            ],
            [
             0.3333333333333333,
             "#9c179e"
            ],
            [
             0.4444444444444444,
             "#bd3786"
            ],
            [
             0.5555555555555556,
             "#d8576b"
            ],
            [
             0.6666666666666666,
             "#ed7953"
            ],
            [
             0.7777777777777778,
             "#fb9f3a"
            ],
            [
             0.8888888888888888,
             "#fdca26"
            ],
            [
             1,
             "#f0f921"
            ]
           ]
          },
          "colorway": [
           "#636efa",
           "#EF553B",
           "#00cc96",
           "#ab63fa",
           "#FFA15A",
           "#19d3f3",
           "#FF6692",
           "#B6E880",
           "#FF97FF",
           "#FECB52"
          ],
          "font": {
           "color": "#2a3f5f"
          },
          "geo": {
           "bgcolor": "white",
           "lakecolor": "white",
           "landcolor": "#E5ECF6",
           "showlakes": true,
           "showland": true,
           "subunitcolor": "white"
          },
          "hoverlabel": {
           "align": "left"
          },
          "hovermode": "closest",
          "mapbox": {
           "style": "light"
          },
          "paper_bgcolor": "white",
          "plot_bgcolor": "#E5ECF6",
          "polar": {
           "angularaxis": {
            "gridcolor": "white",
            "linecolor": "white",
            "ticks": ""
           },
           "bgcolor": "#E5ECF6",
           "radialaxis": {
            "gridcolor": "white",
            "linecolor": "white",
            "ticks": ""
           }
          },
          "scene": {
           "xaxis": {
            "backgroundcolor": "#E5ECF6",
            "gridcolor": "white",
            "gridwidth": 2,
            "linecolor": "white",
            "showbackground": true,
            "ticks": "",
            "zerolinecolor": "white"
           },
           "yaxis": {
            "backgroundcolor": "#E5ECF6",
            "gridcolor": "white",
            "gridwidth": 2,
            "linecolor": "white",
            "showbackground": true,
            "ticks": "",
            "zerolinecolor": "white"
           },
           "zaxis": {
            "backgroundcolor": "#E5ECF6",
            "gridcolor": "white",
            "gridwidth": 2,
            "linecolor": "white",
            "showbackground": true,
            "ticks": "",
            "zerolinecolor": "white"
           }
          },
          "shapedefaults": {
           "line": {
            "color": "#2a3f5f"
           }
          },
          "ternary": {
           "aaxis": {
            "gridcolor": "white",
            "linecolor": "white",
            "ticks": ""
           },
           "baxis": {
            "gridcolor": "white",
            "linecolor": "white",
            "ticks": ""
           },
           "bgcolor": "#E5ECF6",
           "caxis": {
            "gridcolor": "white",
            "linecolor": "white",
            "ticks": ""
           }
          },
          "title": {
           "x": 0.05
          },
          "xaxis": {
           "automargin": true,
           "gridcolor": "white",
           "linecolor": "white",
           "ticks": "",
           "title": {
            "standoff": 15
           },
           "zerolinecolor": "white",
           "zerolinewidth": 2
          },
          "yaxis": {
           "automargin": true,
           "gridcolor": "white",
           "linecolor": "white",
           "ticks": "",
           "title": {
            "standoff": 15
           },
           "zerolinecolor": "white",
           "zerolinewidth": 2
          }
         }
        },
        "title": {
         "text": "Spotify Genre Mapping"
        },
        "width": 1000,
        "xaxis": {
         "anchor": "y",
         "domain": [
          0,
          1
         ],
         "title": {
          "text": "x"
         }
        },
        "yaxis": {
         "anchor": "x",
         "domain": [
          0,
          1
         ],
         "title": {
          "text": "y"
         }
        }
       }
      }
     },
     "metadata": {},
     "output_type": "display_data"
    }
   ],
   "source": [
    "df = pd.DataFrame(\n",
    "    {'x': umap_embedded[:, 0], 'y': umap_embedded[:, 1], 'names': unique_artists, \"labels\": named_genres})\n",
    "\n",
    "show_plot(df)\n",
    "\n"
   ]
  },
  {
   "cell_type": "code",
   "execution_count": 16,
   "metadata": {},
   "outputs": [
    {
     "name": "stdout",
     "output_type": "stream",
     "text": [
      "(5000,)\n",
      "(5000,)\n",
      "| Most Similar Artists to Arctic Monkeys, Dean Lewis, Gracie Abrams, Harry Styles, James Arthur, Lewis Capaldi, Louis Tomlinson, Niall Horan, One Direction, Taylor Swift, Troye Sivan, U2 | Cosine Similarity |\n",
      "| --------------- | --------------- |\n",
      "| Ed Sheeran | 1.892 |\n",
      "| Olivia Rodrigo | 1.804 |\n",
      "| Shawn Mendes | 1.722 |\n",
      "| Billie Eilish | 1.462 |\n",
      "| Conan Gray | 1.403 |\n"
     ]
    }
   ],
   "source": [
    "my_artists = sorted(list(set(\n",
    "    [\"Louis Tomlinson\", \"Taylor Swift\", \"One Direction\", \"Harry Styles\", \"Niall Horan\", \"Lewis Capaldi\", \"U2\", \"Gracie Abrams\", \"James Arthur\", \"Dean Lewis\", \"Troye Sivan\", \"Arctic Monkeys\"])))\n",
    "\n",
    "get_most_similar(my_artists, cosine_sim, artist_to_idx, unique_artists, 5)"
   ]
  }
 ],
 "metadata": {
  "kernelspec": {
   "display_name": "base",
   "language": "python",
   "name": "python3"
  },
  "language_info": {
   "codemirror_mode": {
    "name": "ipython",
    "version": 3
   },
   "file_extension": ".py",
   "mimetype": "text/x-python",
   "name": "python",
   "nbconvert_exporter": "python",
   "pygments_lexer": "ipython3",
   "version": "3.11.7"
  }
 },
 "nbformat": 4,
 "nbformat_minor": 2
}
